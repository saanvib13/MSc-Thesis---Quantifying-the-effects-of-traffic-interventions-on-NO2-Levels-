{
 "cells": [
  {
   "cell_type": "code",
   "execution_count": 1,
   "id": "2c2f0764",
   "metadata": {},
   "outputs": [],
   "source": [
    "import pandas as pd\n",
    "import matplotlib.pyplot as plt"
   ]
  },
  {
   "cell_type": "markdown",
   "id": "35939148",
   "metadata": {},
   "source": [
    "## Preparing data from Traffic Counters - CAR DATA\n",
    "same code ran for counter 1,2,3 and 4 by changing the paths\n"
   ]
  },
  {
   "cell_type": "code",
   "execution_count": null,
   "id": "d82077fd",
   "metadata": {},
   "outputs": [
    {
     "data": {
      "application/javascript": "\n        if (window._pyforest_update_imports_cell) { window._pyforest_update_imports_cell('import pandas as pd'); }\n    ",
      "text/plain": [
       "<IPython.core.display.Javascript object>"
      ]
     },
     "metadata": {},
     "output_type": "display_data"
    },
    {
     "data": {
      "application/javascript": "\n        if (window._pyforest_update_imports_cell) { window._pyforest_update_imports_cell('import pandas as pd'); }\n    ",
      "text/plain": [
       "<IPython.core.display.Javascript object>"
      ]
     },
     "metadata": {},
     "output_type": "display_data"
    },
    {
     "data": {
      "application/javascript": "\n        if (window._pyforest_update_imports_cell) { window._pyforest_update_imports_cell('import pandas as pd'); }\n    ",
      "text/plain": [
       "<IPython.core.display.Javascript object>"
      ]
     },
     "metadata": {},
     "output_type": "display_data"
    },
    {
     "data": {
      "text/html": [
       "<div>\n",
       "<style scoped>\n",
       "    .dataframe tbody tr th:only-of-type {\n",
       "        vertical-align: middle;\n",
       "    }\n",
       "\n",
       "    .dataframe tbody tr th {\n",
       "        vertical-align: top;\n",
       "    }\n",
       "\n",
       "    .dataframe thead th {\n",
       "        text-align: right;\n",
       "    }\n",
       "</style>\n",
       "<table border=\"1\" class=\"dataframe\">\n",
       "  <thead>\n",
       "    <tr style=\"text-align: right;\">\n",
       "      <th></th>\n",
       "      <th>datetime</th>\n",
       "      <th>value</th>\n",
       "    </tr>\n",
       "  </thead>\n",
       "  <tbody>\n",
       "    <tr>\n",
       "      <th>0</th>\n",
       "      <td>2024-06-01 00:00:00</td>\n",
       "      <td>226</td>\n",
       "    </tr>\n",
       "    <tr>\n",
       "      <th>1</th>\n",
       "      <td>2024-06-01 01:00:00</td>\n",
       "      <td>129</td>\n",
       "    </tr>\n",
       "    <tr>\n",
       "      <th>2</th>\n",
       "      <td>2024-06-01 02:00:00</td>\n",
       "      <td>80</td>\n",
       "    </tr>\n",
       "    <tr>\n",
       "      <th>3</th>\n",
       "      <td>2024-06-01 03:00:00</td>\n",
       "      <td>87</td>\n",
       "    </tr>\n",
       "    <tr>\n",
       "      <th>4</th>\n",
       "      <td>2024-06-01 04:00:00</td>\n",
       "      <td>58</td>\n",
       "    </tr>\n",
       "  </tbody>\n",
       "</table>\n",
       "</div>"
      ],
      "text/plain": [
       "             datetime  value\n",
       "0 2024-06-01 00:00:00    226\n",
       "1 2024-06-01 01:00:00    129\n",
       "2 2024-06-01 02:00:00     80\n",
       "3 2024-06-01 03:00:00     87\n",
       "4 2024-06-01 04:00:00     58"
      ]
     },
     "execution_count": 1,
     "metadata": {},
     "output_type": "execute_result"
    }
   ],
   "source": [
    "jun24_df = pd.read_csv(\"./mydata/traffic/counter 4/car-data/jun-24-car.csv\")\n",
    "jun24_df=jun24_df.drop(['Count','Workday','7 Day'], axis=1)\n",
    "jun24_df = jun24_df.rename(columns={jun24_df.columns[0]: 'hour'})  # rename first column to 'hour'\n",
    "jun24_df_long = pd.melt(jun24_df, id_vars='hour', var_name='date', value_name='value')\n",
    "jun24_df_long['datetime'] = pd.to_datetime(jun24_df_long['date'].astype(str) + ' ' + jun24_df_long['hour'].astype(str))\n",
    "jun24_df_long = jun24_df_long[['datetime', 'value']].sort_values('datetime').reset_index(drop=True)\n",
    "jun24_df_long.head()"
   ]
  },
  {
   "cell_type": "code",
   "execution_count": 2,
   "id": "22f216ff",
   "metadata": {},
   "outputs": [
    {
     "data": {
      "application/javascript": "\n        if (window._pyforest_update_imports_cell) { window._pyforest_update_imports_cell('import pandas as pd'); }\n    ",
      "text/plain": [
       "<IPython.core.display.Javascript object>"
      ]
     },
     "metadata": {},
     "output_type": "display_data"
    },
    {
     "data": {
      "application/javascript": "\n        if (window._pyforest_update_imports_cell) { window._pyforest_update_imports_cell('import pandas as pd'); }\n    ",
      "text/plain": [
       "<IPython.core.display.Javascript object>"
      ]
     },
     "metadata": {},
     "output_type": "display_data"
    },
    {
     "data": {
      "application/javascript": "\n        if (window._pyforest_update_imports_cell) { window._pyforest_update_imports_cell('import pandas as pd'); }\n    ",
      "text/plain": [
       "<IPython.core.display.Javascript object>"
      ]
     },
     "metadata": {},
     "output_type": "display_data"
    },
    {
     "data": {
      "text/html": [
       "<div>\n",
       "<style scoped>\n",
       "    .dataframe tbody tr th:only-of-type {\n",
       "        vertical-align: middle;\n",
       "    }\n",
       "\n",
       "    .dataframe tbody tr th {\n",
       "        vertical-align: top;\n",
       "    }\n",
       "\n",
       "    .dataframe thead th {\n",
       "        text-align: right;\n",
       "    }\n",
       "</style>\n",
       "<table border=\"1\" class=\"dataframe\">\n",
       "  <thead>\n",
       "    <tr style=\"text-align: right;\">\n",
       "      <th></th>\n",
       "      <th>datetime</th>\n",
       "      <th>value</th>\n",
       "    </tr>\n",
       "  </thead>\n",
       "  <tbody>\n",
       "    <tr>\n",
       "      <th>0</th>\n",
       "      <td>2023-06-01 00:00:00</td>\n",
       "      <td>97</td>\n",
       "    </tr>\n",
       "    <tr>\n",
       "      <th>1</th>\n",
       "      <td>2023-06-01 01:00:00</td>\n",
       "      <td>64</td>\n",
       "    </tr>\n",
       "    <tr>\n",
       "      <th>2</th>\n",
       "      <td>2023-06-01 02:00:00</td>\n",
       "      <td>66</td>\n",
       "    </tr>\n",
       "    <tr>\n",
       "      <th>3</th>\n",
       "      <td>2023-06-01 03:00:00</td>\n",
       "      <td>50</td>\n",
       "    </tr>\n",
       "    <tr>\n",
       "      <th>4</th>\n",
       "      <td>2023-06-01 04:00:00</td>\n",
       "      <td>64</td>\n",
       "    </tr>\n",
       "  </tbody>\n",
       "</table>\n",
       "</div>"
      ],
      "text/plain": [
       "             datetime  value\n",
       "0 2023-06-01 00:00:00     97\n",
       "1 2023-06-01 01:00:00     64\n",
       "2 2023-06-01 02:00:00     66\n",
       "3 2023-06-01 03:00:00     50\n",
       "4 2023-06-01 04:00:00     64"
      ]
     },
     "execution_count": 2,
     "metadata": {},
     "output_type": "execute_result"
    }
   ],
   "source": [
    "jun23_df = pd.read_csv(\"./mydata/traffic/counter 4/car-data/jun-23-car.csv\")\n",
    "jun23_df=jun23_df.drop(['Count','Workday','7 Day'], axis=1)\n",
    "jun23_df = jun23_df.rename(columns={jun23_df.columns[0]: 'hour'})  # rename first column to 'hour'\n",
    "jun23_df_long = pd.melt(jun23_df, id_vars='hour', var_name='date', value_name='value')\n",
    "jun23_df_long['datetime'] = pd.to_datetime(jun23_df_long['date'].astype(str) + ' ' + jun23_df_long['hour'].astype(str))\n",
    "jun23_df_long = jun23_df_long[['datetime', 'value']].sort_values('datetime').reset_index(drop=True)\n",
    "jun23_df_long.head()"
   ]
  },
  {
   "cell_type": "code",
   "execution_count": 3,
   "id": "3bec1b8a",
   "metadata": {},
   "outputs": [
    {
     "data": {
      "application/javascript": "\n        if (window._pyforest_update_imports_cell) { window._pyforest_update_imports_cell('import pandas as pd'); }\n    ",
      "text/plain": [
       "<IPython.core.display.Javascript object>"
      ]
     },
     "metadata": {},
     "output_type": "display_data"
    },
    {
     "data": {
      "application/javascript": "\n        if (window._pyforest_update_imports_cell) { window._pyforest_update_imports_cell('import pandas as pd'); }\n    ",
      "text/plain": [
       "<IPython.core.display.Javascript object>"
      ]
     },
     "metadata": {},
     "output_type": "display_data"
    },
    {
     "data": {
      "application/javascript": "\n        if (window._pyforest_update_imports_cell) { window._pyforest_update_imports_cell('import pandas as pd'); }\n    ",
      "text/plain": [
       "<IPython.core.display.Javascript object>"
      ]
     },
     "metadata": {},
     "output_type": "display_data"
    },
    {
     "data": {
      "text/html": [
       "<div>\n",
       "<style scoped>\n",
       "    .dataframe tbody tr th:only-of-type {\n",
       "        vertical-align: middle;\n",
       "    }\n",
       "\n",
       "    .dataframe tbody tr th {\n",
       "        vertical-align: top;\n",
       "    }\n",
       "\n",
       "    .dataframe thead th {\n",
       "        text-align: right;\n",
       "    }\n",
       "</style>\n",
       "<table border=\"1\" class=\"dataframe\">\n",
       "  <thead>\n",
       "    <tr style=\"text-align: right;\">\n",
       "      <th></th>\n",
       "      <th>datetime</th>\n",
       "      <th>value</th>\n",
       "    </tr>\n",
       "  </thead>\n",
       "  <tbody>\n",
       "    <tr>\n",
       "      <th>0</th>\n",
       "      <td>2024-05-01 00:00:00</td>\n",
       "      <td>99</td>\n",
       "    </tr>\n",
       "    <tr>\n",
       "      <th>1</th>\n",
       "      <td>2024-05-01 01:00:00</td>\n",
       "      <td>38</td>\n",
       "    </tr>\n",
       "    <tr>\n",
       "      <th>2</th>\n",
       "      <td>2024-05-01 02:00:00</td>\n",
       "      <td>59</td>\n",
       "    </tr>\n",
       "    <tr>\n",
       "      <th>3</th>\n",
       "      <td>2024-05-01 03:00:00</td>\n",
       "      <td>50</td>\n",
       "    </tr>\n",
       "    <tr>\n",
       "      <th>4</th>\n",
       "      <td>2024-05-01 04:00:00</td>\n",
       "      <td>58</td>\n",
       "    </tr>\n",
       "  </tbody>\n",
       "</table>\n",
       "</div>"
      ],
      "text/plain": [
       "             datetime  value\n",
       "0 2024-05-01 00:00:00     99\n",
       "1 2024-05-01 01:00:00     38\n",
       "2 2024-05-01 02:00:00     59\n",
       "3 2024-05-01 03:00:00     50\n",
       "4 2024-05-01 04:00:00     58"
      ]
     },
     "execution_count": 3,
     "metadata": {},
     "output_type": "execute_result"
    }
   ],
   "source": [
    "may24_df = pd.read_csv(\"./mydata/traffic/counter 4/car-data/may-24-car.csv\")\n",
    "may24_df=may24_df.drop(['Count','Workday','7 Day'], axis=1)\n",
    "may24_df = may24_df.rename(columns={may24_df.columns[0]: 'hour'})  # rename first column to 'hour'\n",
    "may24_df_long = pd.melt(may24_df, id_vars='hour', var_name='date', value_name='value')\n",
    "may24_df_long['datetime'] = pd.to_datetime(may24_df_long['date'].astype(str) + ' ' + may24_df_long['hour'].astype(str))\n",
    "may24_df_long = may24_df_long[['datetime', 'value']].sort_values('datetime').reset_index(drop=True)\n",
    "may24_df_long.head()"
   ]
  },
  {
   "cell_type": "code",
   "execution_count": 4,
   "id": "5189a865",
   "metadata": {},
   "outputs": [
    {
     "data": {
      "application/javascript": "\n        if (window._pyforest_update_imports_cell) { window._pyforest_update_imports_cell('import pandas as pd'); }\n    ",
      "text/plain": [
       "<IPython.core.display.Javascript object>"
      ]
     },
     "metadata": {},
     "output_type": "display_data"
    },
    {
     "data": {
      "application/javascript": "\n        if (window._pyforest_update_imports_cell) { window._pyforest_update_imports_cell('import pandas as pd'); }\n    ",
      "text/plain": [
       "<IPython.core.display.Javascript object>"
      ]
     },
     "metadata": {},
     "output_type": "display_data"
    },
    {
     "data": {
      "application/javascript": "\n        if (window._pyforest_update_imports_cell) { window._pyforest_update_imports_cell('import pandas as pd'); }\n    ",
      "text/plain": [
       "<IPython.core.display.Javascript object>"
      ]
     },
     "metadata": {},
     "output_type": "display_data"
    },
    {
     "data": {
      "text/html": [
       "<div>\n",
       "<style scoped>\n",
       "    .dataframe tbody tr th:only-of-type {\n",
       "        vertical-align: middle;\n",
       "    }\n",
       "\n",
       "    .dataframe tbody tr th {\n",
       "        vertical-align: top;\n",
       "    }\n",
       "\n",
       "    .dataframe thead th {\n",
       "        text-align: right;\n",
       "    }\n",
       "</style>\n",
       "<table border=\"1\" class=\"dataframe\">\n",
       "  <thead>\n",
       "    <tr style=\"text-align: right;\">\n",
       "      <th></th>\n",
       "      <th>datetime</th>\n",
       "      <th>value</th>\n",
       "    </tr>\n",
       "  </thead>\n",
       "  <tbody>\n",
       "    <tr>\n",
       "      <th>0</th>\n",
       "      <td>2023-05-01 00:00:00</td>\n",
       "      <td>174</td>\n",
       "    </tr>\n",
       "    <tr>\n",
       "      <th>1</th>\n",
       "      <td>2023-05-01 01:00:00</td>\n",
       "      <td>109</td>\n",
       "    </tr>\n",
       "    <tr>\n",
       "      <th>2</th>\n",
       "      <td>2023-05-01 02:00:00</td>\n",
       "      <td>95</td>\n",
       "    </tr>\n",
       "    <tr>\n",
       "      <th>3</th>\n",
       "      <td>2023-05-01 03:00:00</td>\n",
       "      <td>103</td>\n",
       "    </tr>\n",
       "    <tr>\n",
       "      <th>4</th>\n",
       "      <td>2023-05-01 04:00:00</td>\n",
       "      <td>67</td>\n",
       "    </tr>\n",
       "  </tbody>\n",
       "</table>\n",
       "</div>"
      ],
      "text/plain": [
       "             datetime  value\n",
       "0 2023-05-01 00:00:00    174\n",
       "1 2023-05-01 01:00:00    109\n",
       "2 2023-05-01 02:00:00     95\n",
       "3 2023-05-01 03:00:00    103\n",
       "4 2023-05-01 04:00:00     67"
      ]
     },
     "execution_count": 4,
     "metadata": {},
     "output_type": "execute_result"
    }
   ],
   "source": [
    "may23_df = pd.read_csv(\"./mydata/traffic/counter 4/car-data/may-23-car.csv\")\n",
    "may23_df=may23_df.drop(['Count','Workday','7 Day'], axis=1)\n",
    "may23_df = may23_df.rename(columns={may23_df.columns[0]: 'hour'})  # rename first column to 'hour'\n",
    "may23_df_long = pd.melt(may23_df, id_vars='hour', var_name='date', value_name='value')\n",
    "may23_df_long['datetime'] = pd.to_datetime(may23_df_long['date'].astype(str) + ' ' + may23_df_long['hour'].astype(str))\n",
    "may23_df_long = may23_df_long[['datetime', 'value']].sort_values('datetime').reset_index(drop=True)\n",
    "may23_df_long.head()"
   ]
  },
  {
   "cell_type": "code",
   "execution_count": 5,
   "id": "781f03bb",
   "metadata": {},
   "outputs": [
    {
     "data": {
      "application/javascript": "\n        if (window._pyforest_update_imports_cell) { window._pyforest_update_imports_cell('import pandas as pd'); }\n    ",
      "text/plain": [
       "<IPython.core.display.Javascript object>"
      ]
     },
     "metadata": {},
     "output_type": "display_data"
    },
    {
     "data": {
      "application/javascript": "\n        if (window._pyforest_update_imports_cell) { window._pyforest_update_imports_cell('import pandas as pd'); }\n    ",
      "text/plain": [
       "<IPython.core.display.Javascript object>"
      ]
     },
     "metadata": {},
     "output_type": "display_data"
    },
    {
     "data": {
      "application/javascript": "\n        if (window._pyforest_update_imports_cell) { window._pyforest_update_imports_cell('import pandas as pd'); }\n    ",
      "text/plain": [
       "<IPython.core.display.Javascript object>"
      ]
     },
     "metadata": {},
     "output_type": "display_data"
    },
    {
     "data": {
      "text/html": [
       "<div>\n",
       "<style scoped>\n",
       "    .dataframe tbody tr th:only-of-type {\n",
       "        vertical-align: middle;\n",
       "    }\n",
       "\n",
       "    .dataframe tbody tr th {\n",
       "        vertical-align: top;\n",
       "    }\n",
       "\n",
       "    .dataframe thead th {\n",
       "        text-align: right;\n",
       "    }\n",
       "</style>\n",
       "<table border=\"1\" class=\"dataframe\">\n",
       "  <thead>\n",
       "    <tr style=\"text-align: right;\">\n",
       "      <th></th>\n",
       "      <th>datetime</th>\n",
       "      <th>value</th>\n",
       "    </tr>\n",
       "  </thead>\n",
       "  <tbody>\n",
       "    <tr>\n",
       "      <th>0</th>\n",
       "      <td>2024-04-01 00:00:00</td>\n",
       "      <td>148</td>\n",
       "    </tr>\n",
       "    <tr>\n",
       "      <th>1</th>\n",
       "      <td>2024-04-01 01:00:00</td>\n",
       "      <td>117</td>\n",
       "    </tr>\n",
       "    <tr>\n",
       "      <th>2</th>\n",
       "      <td>2024-04-01 02:00:00</td>\n",
       "      <td>104</td>\n",
       "    </tr>\n",
       "    <tr>\n",
       "      <th>3</th>\n",
       "      <td>2024-04-01 03:00:00</td>\n",
       "      <td>105</td>\n",
       "    </tr>\n",
       "    <tr>\n",
       "      <th>4</th>\n",
       "      <td>2024-04-01 04:00:00</td>\n",
       "      <td>51</td>\n",
       "    </tr>\n",
       "  </tbody>\n",
       "</table>\n",
       "</div>"
      ],
      "text/plain": [
       "             datetime  value\n",
       "0 2024-04-01 00:00:00    148\n",
       "1 2024-04-01 01:00:00    117\n",
       "2 2024-04-01 02:00:00    104\n",
       "3 2024-04-01 03:00:00    105\n",
       "4 2024-04-01 04:00:00     51"
      ]
     },
     "execution_count": 5,
     "metadata": {},
     "output_type": "execute_result"
    }
   ],
   "source": [
    "apr24_df = pd.read_csv(\"./mydata/traffic/counter 4/car-data/apr-24-car.csv\")\n",
    "apr24_df=apr24_df.drop(['Count','Workday','7 Day'], axis=1)\n",
    "apr24_df = apr24_df.rename(columns={apr24_df.columns[0]: 'hour'})  # rename first column to 'hour'\n",
    "apr24_df_long = pd.melt(apr24_df, id_vars='hour', var_name='date', value_name='value')\n",
    "apr24_df_long['datetime'] = pd.to_datetime(apr24_df_long['date'].astype(str) + ' ' + apr24_df_long['hour'].astype(str))\n",
    "apr24_df_long = apr24_df_long[['datetime', 'value']].sort_values('datetime').reset_index(drop=True)\n",
    "apr24_df_long.head()"
   ]
  },
  {
   "cell_type": "code",
   "execution_count": 6,
   "id": "ebbd6295",
   "metadata": {},
   "outputs": [
    {
     "data": {
      "application/javascript": "\n        if (window._pyforest_update_imports_cell) { window._pyforest_update_imports_cell('import pandas as pd'); }\n    ",
      "text/plain": [
       "<IPython.core.display.Javascript object>"
      ]
     },
     "metadata": {},
     "output_type": "display_data"
    },
    {
     "data": {
      "application/javascript": "\n        if (window._pyforest_update_imports_cell) { window._pyforest_update_imports_cell('import pandas as pd'); }\n    ",
      "text/plain": [
       "<IPython.core.display.Javascript object>"
      ]
     },
     "metadata": {},
     "output_type": "display_data"
    },
    {
     "data": {
      "application/javascript": "\n        if (window._pyforest_update_imports_cell) { window._pyforest_update_imports_cell('import pandas as pd'); }\n    ",
      "text/plain": [
       "<IPython.core.display.Javascript object>"
      ]
     },
     "metadata": {},
     "output_type": "display_data"
    },
    {
     "data": {
      "text/html": [
       "<div>\n",
       "<style scoped>\n",
       "    .dataframe tbody tr th:only-of-type {\n",
       "        vertical-align: middle;\n",
       "    }\n",
       "\n",
       "    .dataframe tbody tr th {\n",
       "        vertical-align: top;\n",
       "    }\n",
       "\n",
       "    .dataframe thead th {\n",
       "        text-align: right;\n",
       "    }\n",
       "</style>\n",
       "<table border=\"1\" class=\"dataframe\">\n",
       "  <thead>\n",
       "    <tr style=\"text-align: right;\">\n",
       "      <th></th>\n",
       "      <th>datetime</th>\n",
       "      <th>value</th>\n",
       "    </tr>\n",
       "  </thead>\n",
       "  <tbody>\n",
       "    <tr>\n",
       "      <th>0</th>\n",
       "      <td>2023-04-01 00:00:00</td>\n",
       "      <td>170</td>\n",
       "    </tr>\n",
       "    <tr>\n",
       "      <th>1</th>\n",
       "      <td>2023-04-01 01:00:00</td>\n",
       "      <td>115</td>\n",
       "    </tr>\n",
       "    <tr>\n",
       "      <th>2</th>\n",
       "      <td>2023-04-01 02:00:00</td>\n",
       "      <td>80</td>\n",
       "    </tr>\n",
       "    <tr>\n",
       "      <th>3</th>\n",
       "      <td>2023-04-01 03:00:00</td>\n",
       "      <td>75</td>\n",
       "    </tr>\n",
       "    <tr>\n",
       "      <th>4</th>\n",
       "      <td>2023-04-01 04:00:00</td>\n",
       "      <td>73</td>\n",
       "    </tr>\n",
       "  </tbody>\n",
       "</table>\n",
       "</div>"
      ],
      "text/plain": [
       "             datetime  value\n",
       "0 2023-04-01 00:00:00    170\n",
       "1 2023-04-01 01:00:00    115\n",
       "2 2023-04-01 02:00:00     80\n",
       "3 2023-04-01 03:00:00     75\n",
       "4 2023-04-01 04:00:00     73"
      ]
     },
     "execution_count": 6,
     "metadata": {},
     "output_type": "execute_result"
    }
   ],
   "source": [
    "apr23_df = pd.read_csv(\"./mydata/traffic/counter 4/car-data/apr-23-car.csv\")\n",
    "apr23_df=apr23_df.drop(['Count','Workday','7 Day'], axis=1)\n",
    "apr23_df = apr23_df.rename(columns={apr23_df.columns[0]: 'hour'})  # rename first column to 'hour'\n",
    "apr23_df_long = pd.melt(apr23_df, id_vars='hour', var_name='date', value_name='value')\n",
    "apr23_df_long['datetime'] = pd.to_datetime(apr23_df_long['date'].astype(str) + ' ' + apr23_df_long['hour'].astype(str))\n",
    "apr23_df_long = apr23_df_long[['datetime', 'value']].sort_values('datetime').reset_index(drop=True)\n",
    "apr23_df_long.head()"
   ]
  },
  {
   "cell_type": "code",
   "execution_count": 7,
   "id": "be96ad88",
   "metadata": {},
   "outputs": [
    {
     "data": {
      "application/javascript": "\n        if (window._pyforest_update_imports_cell) { window._pyforest_update_imports_cell('import pandas as pd'); }\n    ",
      "text/plain": [
       "<IPython.core.display.Javascript object>"
      ]
     },
     "metadata": {},
     "output_type": "display_data"
    },
    {
     "data": {
      "application/javascript": "\n        if (window._pyforest_update_imports_cell) { window._pyforest_update_imports_cell('import pandas as pd'); }\n    ",
      "text/plain": [
       "<IPython.core.display.Javascript object>"
      ]
     },
     "metadata": {},
     "output_type": "display_data"
    },
    {
     "data": {
      "application/javascript": "\n        if (window._pyforest_update_imports_cell) { window._pyforest_update_imports_cell('import pandas as pd'); }\n    ",
      "text/plain": [
       "<IPython.core.display.Javascript object>"
      ]
     },
     "metadata": {},
     "output_type": "display_data"
    },
    {
     "data": {
      "text/html": [
       "<div>\n",
       "<style scoped>\n",
       "    .dataframe tbody tr th:only-of-type {\n",
       "        vertical-align: middle;\n",
       "    }\n",
       "\n",
       "    .dataframe tbody tr th {\n",
       "        vertical-align: top;\n",
       "    }\n",
       "\n",
       "    .dataframe thead th {\n",
       "        text-align: right;\n",
       "    }\n",
       "</style>\n",
       "<table border=\"1\" class=\"dataframe\">\n",
       "  <thead>\n",
       "    <tr style=\"text-align: right;\">\n",
       "      <th></th>\n",
       "      <th>datetime</th>\n",
       "      <th>value</th>\n",
       "    </tr>\n",
       "  </thead>\n",
       "  <tbody>\n",
       "    <tr>\n",
       "      <th>0</th>\n",
       "      <td>2024-03-01 00:00:00</td>\n",
       "      <td>115</td>\n",
       "    </tr>\n",
       "    <tr>\n",
       "      <th>1</th>\n",
       "      <td>2024-03-01 01:00:00</td>\n",
       "      <td>55</td>\n",
       "    </tr>\n",
       "    <tr>\n",
       "      <th>2</th>\n",
       "      <td>2024-03-01 02:00:00</td>\n",
       "      <td>43</td>\n",
       "    </tr>\n",
       "    <tr>\n",
       "      <th>3</th>\n",
       "      <td>2024-03-01 03:00:00</td>\n",
       "      <td>68</td>\n",
       "    </tr>\n",
       "    <tr>\n",
       "      <th>4</th>\n",
       "      <td>2024-03-01 04:00:00</td>\n",
       "      <td>63</td>\n",
       "    </tr>\n",
       "  </tbody>\n",
       "</table>\n",
       "</div>"
      ],
      "text/plain": [
       "             datetime  value\n",
       "0 2024-03-01 00:00:00    115\n",
       "1 2024-03-01 01:00:00     55\n",
       "2 2024-03-01 02:00:00     43\n",
       "3 2024-03-01 03:00:00     68\n",
       "4 2024-03-01 04:00:00     63"
      ]
     },
     "execution_count": 7,
     "metadata": {},
     "output_type": "execute_result"
    }
   ],
   "source": [
    "mar24_df = pd.read_csv(\"./mydata/traffic/counter 4/car-data/mar-24-car.csv\")\n",
    "mar24_df=mar24_df.drop(['Count','Workday','7 Day'], axis=1)\n",
    "mar24_df =mar24_df.rename(columns={mar24_df.columns[0]: 'hour'})  # rename first column to 'hour'\n",
    "mar24_df_long = pd.melt(mar24_df, id_vars='hour', var_name='date', value_name='value')\n",
    "mar24_df_long['datetime'] = pd.to_datetime(mar24_df_long['date'].astype(str) + ' ' + mar24_df_long['hour'].astype(str))\n",
    "mar24_df_long = mar24_df_long[['datetime', 'value']].sort_values('datetime').reset_index(drop=True)\n",
    "mar24_df_long.head()"
   ]
  },
  {
   "cell_type": "code",
   "execution_count": 8,
   "id": "d96b5f66",
   "metadata": {},
   "outputs": [
    {
     "data": {
      "application/javascript": "\n        if (window._pyforest_update_imports_cell) { window._pyforest_update_imports_cell('import pandas as pd'); }\n    ",
      "text/plain": [
       "<IPython.core.display.Javascript object>"
      ]
     },
     "metadata": {},
     "output_type": "display_data"
    },
    {
     "data": {
      "application/javascript": "\n        if (window._pyforest_update_imports_cell) { window._pyforest_update_imports_cell('import pandas as pd'); }\n    ",
      "text/plain": [
       "<IPython.core.display.Javascript object>"
      ]
     },
     "metadata": {},
     "output_type": "display_data"
    },
    {
     "data": {
      "application/javascript": "\n        if (window._pyforest_update_imports_cell) { window._pyforest_update_imports_cell('import pandas as pd'); }\n    ",
      "text/plain": [
       "<IPython.core.display.Javascript object>"
      ]
     },
     "metadata": {},
     "output_type": "display_data"
    },
    {
     "data": {
      "text/html": [
       "<div>\n",
       "<style scoped>\n",
       "    .dataframe tbody tr th:only-of-type {\n",
       "        vertical-align: middle;\n",
       "    }\n",
       "\n",
       "    .dataframe tbody tr th {\n",
       "        vertical-align: top;\n",
       "    }\n",
       "\n",
       "    .dataframe thead th {\n",
       "        text-align: right;\n",
       "    }\n",
       "</style>\n",
       "<table border=\"1\" class=\"dataframe\">\n",
       "  <thead>\n",
       "    <tr style=\"text-align: right;\">\n",
       "      <th></th>\n",
       "      <th>datetime</th>\n",
       "      <th>value</th>\n",
       "    </tr>\n",
       "  </thead>\n",
       "  <tbody>\n",
       "    <tr>\n",
       "      <th>0</th>\n",
       "      <td>2023-03-01 00:00:00</td>\n",
       "      <td>66</td>\n",
       "    </tr>\n",
       "    <tr>\n",
       "      <th>1</th>\n",
       "      <td>2023-03-01 01:00:00</td>\n",
       "      <td>56</td>\n",
       "    </tr>\n",
       "    <tr>\n",
       "      <th>2</th>\n",
       "      <td>2023-03-01 02:00:00</td>\n",
       "      <td>50</td>\n",
       "    </tr>\n",
       "    <tr>\n",
       "      <th>3</th>\n",
       "      <td>2023-03-01 03:00:00</td>\n",
       "      <td>33</td>\n",
       "    </tr>\n",
       "    <tr>\n",
       "      <th>4</th>\n",
       "      <td>2023-03-01 04:00:00</td>\n",
       "      <td>69</td>\n",
       "    </tr>\n",
       "  </tbody>\n",
       "</table>\n",
       "</div>"
      ],
      "text/plain": [
       "             datetime  value\n",
       "0 2023-03-01 00:00:00     66\n",
       "1 2023-03-01 01:00:00     56\n",
       "2 2023-03-01 02:00:00     50\n",
       "3 2023-03-01 03:00:00     33\n",
       "4 2023-03-01 04:00:00     69"
      ]
     },
     "execution_count": 8,
     "metadata": {},
     "output_type": "execute_result"
    }
   ],
   "source": [
    "mar23_df = pd.read_csv(\"./mydata/traffic/counter 4/car-data/mar-23-car.csv\")\n",
    "mar23_df=mar23_df.drop(['Count','Workday','7 Day'], axis=1)\n",
    "mar23_df =mar23_df.rename(columns={mar23_df.columns[0]: 'hour'})  # rename first column to 'hour'\n",
    "mar23_df_long = pd.melt(mar23_df, id_vars='hour', var_name='date', value_name='value')\n",
    "mar23_df_long['datetime'] = pd.to_datetime(mar23_df_long['date'].astype(str) + ' ' + mar23_df_long['hour'].astype(str))\n",
    "mar23_df_long = mar23_df_long[['datetime', 'value']].sort_values('datetime').reset_index(drop=True)\n",
    "mar23_df_long.head()"
   ]
  },
  {
   "cell_type": "code",
   "execution_count": 9,
   "id": "341d69d5",
   "metadata": {},
   "outputs": [
    {
     "data": {
      "application/javascript": "\n        if (window._pyforest_update_imports_cell) { window._pyforest_update_imports_cell('import pandas as pd'); }\n    ",
      "text/plain": [
       "<IPython.core.display.Javascript object>"
      ]
     },
     "metadata": {},
     "output_type": "display_data"
    },
    {
     "data": {
      "application/javascript": "\n        if (window._pyforest_update_imports_cell) { window._pyforest_update_imports_cell('import pandas as pd'); }\n    ",
      "text/plain": [
       "<IPython.core.display.Javascript object>"
      ]
     },
     "metadata": {},
     "output_type": "display_data"
    },
    {
     "data": {
      "application/javascript": "\n        if (window._pyforest_update_imports_cell) { window._pyforest_update_imports_cell('import pandas as pd'); }\n    ",
      "text/plain": [
       "<IPython.core.display.Javascript object>"
      ]
     },
     "metadata": {},
     "output_type": "display_data"
    },
    {
     "data": {
      "text/html": [
       "<div>\n",
       "<style scoped>\n",
       "    .dataframe tbody tr th:only-of-type {\n",
       "        vertical-align: middle;\n",
       "    }\n",
       "\n",
       "    .dataframe tbody tr th {\n",
       "        vertical-align: top;\n",
       "    }\n",
       "\n",
       "    .dataframe thead th {\n",
       "        text-align: right;\n",
       "    }\n",
       "</style>\n",
       "<table border=\"1\" class=\"dataframe\">\n",
       "  <thead>\n",
       "    <tr style=\"text-align: right;\">\n",
       "      <th></th>\n",
       "      <th>datetime</th>\n",
       "      <th>value</th>\n",
       "    </tr>\n",
       "  </thead>\n",
       "  <tbody>\n",
       "    <tr>\n",
       "      <th>0</th>\n",
       "      <td>2024-02-01 00:00:00</td>\n",
       "      <td>60</td>\n",
       "    </tr>\n",
       "    <tr>\n",
       "      <th>1</th>\n",
       "      <td>2024-02-01 01:00:00</td>\n",
       "      <td>50</td>\n",
       "    </tr>\n",
       "    <tr>\n",
       "      <th>2</th>\n",
       "      <td>2024-02-01 02:00:00</td>\n",
       "      <td>28</td>\n",
       "    </tr>\n",
       "    <tr>\n",
       "      <th>3</th>\n",
       "      <td>2024-02-01 03:00:00</td>\n",
       "      <td>48</td>\n",
       "    </tr>\n",
       "    <tr>\n",
       "      <th>4</th>\n",
       "      <td>2024-02-01 04:00:00</td>\n",
       "      <td>52</td>\n",
       "    </tr>\n",
       "  </tbody>\n",
       "</table>\n",
       "</div>"
      ],
      "text/plain": [
       "             datetime  value\n",
       "0 2024-02-01 00:00:00     60\n",
       "1 2024-02-01 01:00:00     50\n",
       "2 2024-02-01 02:00:00     28\n",
       "3 2024-02-01 03:00:00     48\n",
       "4 2024-02-01 04:00:00     52"
      ]
     },
     "execution_count": 9,
     "metadata": {},
     "output_type": "execute_result"
    }
   ],
   "source": [
    "feb24_df = pd.read_csv(\"./mydata/traffic/counter 4/car-data/feb-24-car.csv\")\n",
    "feb24_df=feb24_df.drop(['Count','Workday','7 Day'], axis=1)\n",
    "feb24_df =feb24_df.rename(columns={feb24_df.columns[0]: 'hour'})  # rename first column to 'hour'\n",
    "feb24_df_long = pd.melt(feb24_df, id_vars='hour', var_name='date', value_name='value')\n",
    "feb24_df_long['datetime'] = pd.to_datetime(feb24_df_long['date'].astype(str) + ' ' + feb24_df_long['hour'].astype(str))\n",
    "feb24_df_long = feb24_df_long[['datetime', 'value']].sort_values('datetime').reset_index(drop=True)\n",
    "feb24_df_long.head()"
   ]
  },
  {
   "cell_type": "code",
   "execution_count": 10,
   "id": "5d15bb15",
   "metadata": {},
   "outputs": [
    {
     "data": {
      "application/javascript": "\n        if (window._pyforest_update_imports_cell) { window._pyforest_update_imports_cell('import pandas as pd'); }\n    ",
      "text/plain": [
       "<IPython.core.display.Javascript object>"
      ]
     },
     "metadata": {},
     "output_type": "display_data"
    },
    {
     "data": {
      "application/javascript": "\n        if (window._pyforest_update_imports_cell) { window._pyforest_update_imports_cell('import pandas as pd'); }\n    ",
      "text/plain": [
       "<IPython.core.display.Javascript object>"
      ]
     },
     "metadata": {},
     "output_type": "display_data"
    },
    {
     "data": {
      "application/javascript": "\n        if (window._pyforest_update_imports_cell) { window._pyforest_update_imports_cell('import pandas as pd'); }\n    ",
      "text/plain": [
       "<IPython.core.display.Javascript object>"
      ]
     },
     "metadata": {},
     "output_type": "display_data"
    },
    {
     "data": {
      "text/html": [
       "<div>\n",
       "<style scoped>\n",
       "    .dataframe tbody tr th:only-of-type {\n",
       "        vertical-align: middle;\n",
       "    }\n",
       "\n",
       "    .dataframe tbody tr th {\n",
       "        vertical-align: top;\n",
       "    }\n",
       "\n",
       "    .dataframe thead th {\n",
       "        text-align: right;\n",
       "    }\n",
       "</style>\n",
       "<table border=\"1\" class=\"dataframe\">\n",
       "  <thead>\n",
       "    <tr style=\"text-align: right;\">\n",
       "      <th></th>\n",
       "      <th>datetime</th>\n",
       "      <th>value</th>\n",
       "    </tr>\n",
       "  </thead>\n",
       "  <tbody>\n",
       "    <tr>\n",
       "      <th>0</th>\n",
       "      <td>2023-02-01 00:00:00</td>\n",
       "      <td>74</td>\n",
       "    </tr>\n",
       "    <tr>\n",
       "      <th>1</th>\n",
       "      <td>2023-02-01 01:00:00</td>\n",
       "      <td>50</td>\n",
       "    </tr>\n",
       "    <tr>\n",
       "      <th>2</th>\n",
       "      <td>2023-02-01 02:00:00</td>\n",
       "      <td>47</td>\n",
       "    </tr>\n",
       "    <tr>\n",
       "      <th>3</th>\n",
       "      <td>2023-02-01 03:00:00</td>\n",
       "      <td>34</td>\n",
       "    </tr>\n",
       "    <tr>\n",
       "      <th>4</th>\n",
       "      <td>2023-02-01 04:00:00</td>\n",
       "      <td>56</td>\n",
       "    </tr>\n",
       "  </tbody>\n",
       "</table>\n",
       "</div>"
      ],
      "text/plain": [
       "             datetime  value\n",
       "0 2023-02-01 00:00:00     74\n",
       "1 2023-02-01 01:00:00     50\n",
       "2 2023-02-01 02:00:00     47\n",
       "3 2023-02-01 03:00:00     34\n",
       "4 2023-02-01 04:00:00     56"
      ]
     },
     "execution_count": 10,
     "metadata": {},
     "output_type": "execute_result"
    }
   ],
   "source": [
    "feb23_df = pd.read_csv(\"./mydata/traffic/counter 4/car-data/feb-23-car.csv\")\n",
    "feb23_df=feb23_df.drop(['Count','Workday','7 Day'], axis=1)\n",
    "feb23_df =feb23_df.rename(columns={feb23_df.columns[0]: 'hour'})  # rename first column to 'hour'\n",
    "feb23_df_long = pd.melt(feb23_df, id_vars='hour', var_name='date', value_name='value')\n",
    "feb23_df_long['datetime'] = pd.to_datetime(feb23_df_long['date'].astype(str) + ' ' + feb23_df_long['hour'].astype(str))\n",
    "feb23_df_long = feb23_df_long[['datetime', 'value']].sort_values('datetime').reset_index(drop=True)\n",
    "feb23_df_long.head()"
   ]
  },
  {
   "cell_type": "code",
   "execution_count": 11,
   "id": "a7ddd7a2",
   "metadata": {},
   "outputs": [
    {
     "data": {
      "application/javascript": "\n        if (window._pyforest_update_imports_cell) { window._pyforest_update_imports_cell('import pandas as pd'); }\n    ",
      "text/plain": [
       "<IPython.core.display.Javascript object>"
      ]
     },
     "metadata": {},
     "output_type": "display_data"
    },
    {
     "data": {
      "application/javascript": "\n        if (window._pyforest_update_imports_cell) { window._pyforest_update_imports_cell('import pandas as pd'); }\n    ",
      "text/plain": [
       "<IPython.core.display.Javascript object>"
      ]
     },
     "metadata": {},
     "output_type": "display_data"
    },
    {
     "data": {
      "application/javascript": "\n        if (window._pyforest_update_imports_cell) { window._pyforest_update_imports_cell('import pandas as pd'); }\n    ",
      "text/plain": [
       "<IPython.core.display.Javascript object>"
      ]
     },
     "metadata": {},
     "output_type": "display_data"
    },
    {
     "data": {
      "text/html": [
       "<div>\n",
       "<style scoped>\n",
       "    .dataframe tbody tr th:only-of-type {\n",
       "        vertical-align: middle;\n",
       "    }\n",
       "\n",
       "    .dataframe tbody tr th {\n",
       "        vertical-align: top;\n",
       "    }\n",
       "\n",
       "    .dataframe thead th {\n",
       "        text-align: right;\n",
       "    }\n",
       "</style>\n",
       "<table border=\"1\" class=\"dataframe\">\n",
       "  <thead>\n",
       "    <tr style=\"text-align: right;\">\n",
       "      <th></th>\n",
       "      <th>datetime</th>\n",
       "      <th>value</th>\n",
       "    </tr>\n",
       "  </thead>\n",
       "  <tbody>\n",
       "    <tr>\n",
       "      <th>0</th>\n",
       "      <td>2024-01-01 00:00:00</td>\n",
       "      <td>175</td>\n",
       "    </tr>\n",
       "    <tr>\n",
       "      <th>1</th>\n",
       "      <td>2024-01-01 01:00:00</td>\n",
       "      <td>212</td>\n",
       "    </tr>\n",
       "    <tr>\n",
       "      <th>2</th>\n",
       "      <td>2024-01-01 02:00:00</td>\n",
       "      <td>155</td>\n",
       "    </tr>\n",
       "    <tr>\n",
       "      <th>3</th>\n",
       "      <td>2024-01-01 03:00:00</td>\n",
       "      <td>76</td>\n",
       "    </tr>\n",
       "    <tr>\n",
       "      <th>4</th>\n",
       "      <td>2024-01-01 04:00:00</td>\n",
       "      <td>74</td>\n",
       "    </tr>\n",
       "  </tbody>\n",
       "</table>\n",
       "</div>"
      ],
      "text/plain": [
       "             datetime  value\n",
       "0 2024-01-01 00:00:00    175\n",
       "1 2024-01-01 01:00:00    212\n",
       "2 2024-01-01 02:00:00    155\n",
       "3 2024-01-01 03:00:00     76\n",
       "4 2024-01-01 04:00:00     74"
      ]
     },
     "execution_count": 11,
     "metadata": {},
     "output_type": "execute_result"
    }
   ],
   "source": [
    "jan24_df = pd.read_csv(\"./mydata/traffic/counter 4/car-data/jan-24-car.csv\")\n",
    "jan24_df=jan24_df.drop(['Count','Workday','7 Day'], axis=1)\n",
    "jan24_df =jan24_df.rename(columns={jan24_df.columns[0]: 'hour'})  # rename first column to 'hour'\n",
    "jan24_df_long = pd.melt(jan24_df, id_vars='hour', var_name='date', value_name='value')\n",
    "jan24_df_long['datetime'] = pd.to_datetime(jan24_df_long['date'].astype(str) + ' ' + jan24_df_long['hour'].astype(str))\n",
    "jan24_df_long = jan24_df_long[['datetime', 'value']].sort_values('datetime').reset_index(drop=True)\n",
    "jan24_df_long.head()"
   ]
  },
  {
   "cell_type": "code",
   "execution_count": 12,
   "id": "913bc5d2",
   "metadata": {},
   "outputs": [
    {
     "data": {
      "application/javascript": "\n        if (window._pyforest_update_imports_cell) { window._pyforest_update_imports_cell('import pandas as pd'); }\n    ",
      "text/plain": [
       "<IPython.core.display.Javascript object>"
      ]
     },
     "metadata": {},
     "output_type": "display_data"
    },
    {
     "data": {
      "application/javascript": "\n        if (window._pyforest_update_imports_cell) { window._pyforest_update_imports_cell('import pandas as pd'); }\n    ",
      "text/plain": [
       "<IPython.core.display.Javascript object>"
      ]
     },
     "metadata": {},
     "output_type": "display_data"
    },
    {
     "data": {
      "application/javascript": "\n        if (window._pyforest_update_imports_cell) { window._pyforest_update_imports_cell('import pandas as pd'); }\n    ",
      "text/plain": [
       "<IPython.core.display.Javascript object>"
      ]
     },
     "metadata": {},
     "output_type": "display_data"
    },
    {
     "data": {
      "text/html": [
       "<div>\n",
       "<style scoped>\n",
       "    .dataframe tbody tr th:only-of-type {\n",
       "        vertical-align: middle;\n",
       "    }\n",
       "\n",
       "    .dataframe tbody tr th {\n",
       "        vertical-align: top;\n",
       "    }\n",
       "\n",
       "    .dataframe thead th {\n",
       "        text-align: right;\n",
       "    }\n",
       "</style>\n",
       "<table border=\"1\" class=\"dataframe\">\n",
       "  <thead>\n",
       "    <tr style=\"text-align: right;\">\n",
       "      <th></th>\n",
       "      <th>datetime</th>\n",
       "      <th>value</th>\n",
       "    </tr>\n",
       "  </thead>\n",
       "  <tbody>\n",
       "    <tr>\n",
       "      <th>0</th>\n",
       "      <td>2023-01-01 00:00:00</td>\n",
       "      <td>176</td>\n",
       "    </tr>\n",
       "    <tr>\n",
       "      <th>1</th>\n",
       "      <td>2023-01-01 01:00:00</td>\n",
       "      <td>214</td>\n",
       "    </tr>\n",
       "    <tr>\n",
       "      <th>2</th>\n",
       "      <td>2023-01-01 02:00:00</td>\n",
       "      <td>114</td>\n",
       "    </tr>\n",
       "    <tr>\n",
       "      <th>3</th>\n",
       "      <td>2023-01-01 03:00:00</td>\n",
       "      <td>84</td>\n",
       "    </tr>\n",
       "    <tr>\n",
       "      <th>4</th>\n",
       "      <td>2023-01-01 04:00:00</td>\n",
       "      <td>45</td>\n",
       "    </tr>\n",
       "  </tbody>\n",
       "</table>\n",
       "</div>"
      ],
      "text/plain": [
       "             datetime  value\n",
       "0 2023-01-01 00:00:00    176\n",
       "1 2023-01-01 01:00:00    214\n",
       "2 2023-01-01 02:00:00    114\n",
       "3 2023-01-01 03:00:00     84\n",
       "4 2023-01-01 04:00:00     45"
      ]
     },
     "execution_count": 12,
     "metadata": {},
     "output_type": "execute_result"
    }
   ],
   "source": [
    "jan23_df = pd.read_csv(\"./mydata/traffic/counter 4/car-data/jan-23-car.csv\")\n",
    "jan23_df=jan23_df.drop(['Count','Workday','7 Day'], axis=1)\n",
    "jan23_df =jan23_df.rename(columns={jan23_df.columns[0]: 'hour'})  # rename first column to 'hour'\n",
    "jan23_df_long = pd.melt(jan23_df, id_vars='hour', var_name='date', value_name='value')\n",
    "jan23_df_long['datetime'] = pd.to_datetime(jan23_df_long['date'].astype(str) + ' ' + jan23_df_long['hour'].astype(str))\n",
    "jan23_df_long = jan23_df_long[['datetime', 'value']].sort_values('datetime').reset_index(drop=True)\n",
    "jan23_df_long.head()"
   ]
  },
  {
   "cell_type": "code",
   "execution_count": 13,
   "id": "cc40cded",
   "metadata": {},
   "outputs": [
    {
     "data": {
      "application/javascript": "\n        if (window._pyforest_update_imports_cell) { window._pyforest_update_imports_cell('import pandas as pd'); }\n    ",
      "text/plain": [
       "<IPython.core.display.Javascript object>"
      ]
     },
     "metadata": {},
     "output_type": "display_data"
    },
    {
     "data": {
      "application/javascript": "\n        if (window._pyforest_update_imports_cell) { window._pyforest_update_imports_cell('import pandas as pd'); }\n    ",
      "text/plain": [
       "<IPython.core.display.Javascript object>"
      ]
     },
     "metadata": {},
     "output_type": "display_data"
    },
    {
     "data": {
      "application/javascript": "\n        if (window._pyforest_update_imports_cell) { window._pyforest_update_imports_cell('import pandas as pd'); }\n    ",
      "text/plain": [
       "<IPython.core.display.Javascript object>"
      ]
     },
     "metadata": {},
     "output_type": "display_data"
    },
    {
     "data": {
      "text/html": [
       "<div>\n",
       "<style scoped>\n",
       "    .dataframe tbody tr th:only-of-type {\n",
       "        vertical-align: middle;\n",
       "    }\n",
       "\n",
       "    .dataframe tbody tr th {\n",
       "        vertical-align: top;\n",
       "    }\n",
       "\n",
       "    .dataframe thead th {\n",
       "        text-align: right;\n",
       "    }\n",
       "</style>\n",
       "<table border=\"1\" class=\"dataframe\">\n",
       "  <thead>\n",
       "    <tr style=\"text-align: right;\">\n",
       "      <th></th>\n",
       "      <th>datetime</th>\n",
       "      <th>value</th>\n",
       "    </tr>\n",
       "  </thead>\n",
       "  <tbody>\n",
       "    <tr>\n",
       "      <th>0</th>\n",
       "      <td>2023-12-01 00:00:00</td>\n",
       "      <td>137</td>\n",
       "    </tr>\n",
       "    <tr>\n",
       "      <th>1</th>\n",
       "      <td>2023-12-01 01:00:00</td>\n",
       "      <td>110</td>\n",
       "    </tr>\n",
       "    <tr>\n",
       "      <th>2</th>\n",
       "      <td>2023-12-01 02:00:00</td>\n",
       "      <td>54</td>\n",
       "    </tr>\n",
       "    <tr>\n",
       "      <th>3</th>\n",
       "      <td>2023-12-01 03:00:00</td>\n",
       "      <td>57</td>\n",
       "    </tr>\n",
       "    <tr>\n",
       "      <th>4</th>\n",
       "      <td>2023-12-01 04:00:00</td>\n",
       "      <td>68</td>\n",
       "    </tr>\n",
       "  </tbody>\n",
       "</table>\n",
       "</div>"
      ],
      "text/plain": [
       "             datetime  value\n",
       "0 2023-12-01 00:00:00    137\n",
       "1 2023-12-01 01:00:00    110\n",
       "2 2023-12-01 02:00:00     54\n",
       "3 2023-12-01 03:00:00     57\n",
       "4 2023-12-01 04:00:00     68"
      ]
     },
     "execution_count": 13,
     "metadata": {},
     "output_type": "execute_result"
    }
   ],
   "source": [
    "dec23_df = pd.read_csv(\"./mydata/traffic/counter 4/car-data/dec-23-car.csv\")\n",
    "dec23_df=dec23_df.drop(['Count','Workday','7 Day'], axis=1)\n",
    "dec23_df =dec23_df.rename(columns={dec23_df.columns[0]: 'hour'})  # rename first column to 'hour'\n",
    "dec23_df_long = pd.melt(dec23_df, id_vars='hour', var_name='date', value_name='value')\n",
    "dec23_df_long['datetime'] = pd.to_datetime(dec23_df_long['date'].astype(str) + ' ' + dec23_df_long['hour'].astype(str))\n",
    "dec23_df_long = dec23_df_long[['datetime', 'value']].sort_values('datetime').reset_index(drop=True)\n",
    "dec23_df_long.head()"
   ]
  },
  {
   "cell_type": "code",
   "execution_count": 14,
   "id": "bd429d3a",
   "metadata": {},
   "outputs": [
    {
     "data": {
      "application/javascript": "\n        if (window._pyforest_update_imports_cell) { window._pyforest_update_imports_cell('import pandas as pd'); }\n    ",
      "text/plain": [
       "<IPython.core.display.Javascript object>"
      ]
     },
     "metadata": {},
     "output_type": "display_data"
    },
    {
     "data": {
      "application/javascript": "\n        if (window._pyforest_update_imports_cell) { window._pyforest_update_imports_cell('import pandas as pd'); }\n    ",
      "text/plain": [
       "<IPython.core.display.Javascript object>"
      ]
     },
     "metadata": {},
     "output_type": "display_data"
    },
    {
     "data": {
      "application/javascript": "\n        if (window._pyforest_update_imports_cell) { window._pyforest_update_imports_cell('import pandas as pd'); }\n    ",
      "text/plain": [
       "<IPython.core.display.Javascript object>"
      ]
     },
     "metadata": {},
     "output_type": "display_data"
    },
    {
     "data": {
      "text/html": [
       "<div>\n",
       "<style scoped>\n",
       "    .dataframe tbody tr th:only-of-type {\n",
       "        vertical-align: middle;\n",
       "    }\n",
       "\n",
       "    .dataframe tbody tr th {\n",
       "        vertical-align: top;\n",
       "    }\n",
       "\n",
       "    .dataframe thead th {\n",
       "        text-align: right;\n",
       "    }\n",
       "</style>\n",
       "<table border=\"1\" class=\"dataframe\">\n",
       "  <thead>\n",
       "    <tr style=\"text-align: right;\">\n",
       "      <th></th>\n",
       "      <th>datetime</th>\n",
       "      <th>value</th>\n",
       "    </tr>\n",
       "  </thead>\n",
       "  <tbody>\n",
       "    <tr>\n",
       "      <th>0</th>\n",
       "      <td>2023-11-01 00:00:00</td>\n",
       "      <td>100</td>\n",
       "    </tr>\n",
       "    <tr>\n",
       "      <th>1</th>\n",
       "      <td>2023-11-01 01:00:00</td>\n",
       "      <td>78</td>\n",
       "    </tr>\n",
       "    <tr>\n",
       "      <th>2</th>\n",
       "      <td>2023-11-01 02:00:00</td>\n",
       "      <td>86</td>\n",
       "    </tr>\n",
       "    <tr>\n",
       "      <th>3</th>\n",
       "      <td>2023-11-01 03:00:00</td>\n",
       "      <td>82</td>\n",
       "    </tr>\n",
       "    <tr>\n",
       "      <th>4</th>\n",
       "      <td>2023-11-01 04:00:00</td>\n",
       "      <td>62</td>\n",
       "    </tr>\n",
       "  </tbody>\n",
       "</table>\n",
       "</div>"
      ],
      "text/plain": [
       "             datetime  value\n",
       "0 2023-11-01 00:00:00    100\n",
       "1 2023-11-01 01:00:00     78\n",
       "2 2023-11-01 02:00:00     86\n",
       "3 2023-11-01 03:00:00     82\n",
       "4 2023-11-01 04:00:00     62"
      ]
     },
     "execution_count": 14,
     "metadata": {},
     "output_type": "execute_result"
    }
   ],
   "source": [
    "nov23_df = pd.read_csv(\"./mydata/traffic/counter 4/car-data/nov-23-car.csv\")\n",
    "nov23_df=nov23_df.drop(['Count','Workday','7 Day'], axis=1)\n",
    "nov23_df =nov23_df.rename(columns={nov23_df.columns[0]: 'hour'})  # rename first column to 'hour'\n",
    "nov23_df_long = pd.melt(nov23_df, id_vars='hour', var_name='date', value_name='value')\n",
    "nov23_df_long['datetime'] = pd.to_datetime(nov23_df_long['date'].astype(str) + ' ' + nov23_df_long['hour'].astype(str))\n",
    "nov23_df_long = nov23_df_long[['datetime', 'value']].sort_values('datetime').reset_index(drop=True)\n",
    "nov23_df_long.head()"
   ]
  },
  {
   "cell_type": "code",
   "execution_count": 15,
   "id": "161bcd45",
   "metadata": {},
   "outputs": [
    {
     "data": {
      "application/javascript": "\n        if (window._pyforest_update_imports_cell) { window._pyforest_update_imports_cell('import pandas as pd'); }\n    ",
      "text/plain": [
       "<IPython.core.display.Javascript object>"
      ]
     },
     "metadata": {},
     "output_type": "display_data"
    },
    {
     "data": {
      "application/javascript": "\n        if (window._pyforest_update_imports_cell) { window._pyforest_update_imports_cell('import pandas as pd'); }\n    ",
      "text/plain": [
       "<IPython.core.display.Javascript object>"
      ]
     },
     "metadata": {},
     "output_type": "display_data"
    },
    {
     "data": {
      "application/javascript": "\n        if (window._pyforest_update_imports_cell) { window._pyforest_update_imports_cell('import pandas as pd'); }\n    ",
      "text/plain": [
       "<IPython.core.display.Javascript object>"
      ]
     },
     "metadata": {},
     "output_type": "display_data"
    },
    {
     "data": {
      "text/html": [
       "<div>\n",
       "<style scoped>\n",
       "    .dataframe tbody tr th:only-of-type {\n",
       "        vertical-align: middle;\n",
       "    }\n",
       "\n",
       "    .dataframe tbody tr th {\n",
       "        vertical-align: top;\n",
       "    }\n",
       "\n",
       "    .dataframe thead th {\n",
       "        text-align: right;\n",
       "    }\n",
       "</style>\n",
       "<table border=\"1\" class=\"dataframe\">\n",
       "  <thead>\n",
       "    <tr style=\"text-align: right;\">\n",
       "      <th></th>\n",
       "      <th>datetime</th>\n",
       "      <th>value</th>\n",
       "    </tr>\n",
       "  </thead>\n",
       "  <tbody>\n",
       "    <tr>\n",
       "      <th>0</th>\n",
       "      <td>2023-10-01 00:00:00</td>\n",
       "      <td>177</td>\n",
       "    </tr>\n",
       "    <tr>\n",
       "      <th>1</th>\n",
       "      <td>2023-10-01 01:00:00</td>\n",
       "      <td>144</td>\n",
       "    </tr>\n",
       "    <tr>\n",
       "      <th>2</th>\n",
       "      <td>2023-10-01 02:00:00</td>\n",
       "      <td>99</td>\n",
       "    </tr>\n",
       "    <tr>\n",
       "      <th>3</th>\n",
       "      <td>2023-10-01 03:00:00</td>\n",
       "      <td>110</td>\n",
       "    </tr>\n",
       "    <tr>\n",
       "      <th>4</th>\n",
       "      <td>2023-10-01 04:00:00</td>\n",
       "      <td>61</td>\n",
       "    </tr>\n",
       "  </tbody>\n",
       "</table>\n",
       "</div>"
      ],
      "text/plain": [
       "             datetime  value\n",
       "0 2023-10-01 00:00:00    177\n",
       "1 2023-10-01 01:00:00    144\n",
       "2 2023-10-01 02:00:00     99\n",
       "3 2023-10-01 03:00:00    110\n",
       "4 2023-10-01 04:00:00     61"
      ]
     },
     "execution_count": 15,
     "metadata": {},
     "output_type": "execute_result"
    }
   ],
   "source": [
    "oct23_df = pd.read_csv(\"./mydata/traffic/counter 4/car-data/oct-23-car.csv\")\n",
    "oct23_df=oct23_df.drop(['Count','Workday','7 Day'], axis=1)\n",
    "oct23_df =oct23_df.rename(columns={oct23_df.columns[0]: 'hour'})  # rename first column to 'hour'\n",
    "oct23_df_long = pd.melt(oct23_df, id_vars='hour', var_name='date', value_name='value')\n",
    "oct23_df_long['datetime'] = pd.to_datetime(oct23_df_long['date'].astype(str) + ' ' + oct23_df_long['hour'].astype(str))\n",
    "oct23_df_long = oct23_df_long[['datetime', 'value']].sort_values('datetime').reset_index(drop=True)\n",
    "oct23_df_long.head()"
   ]
  },
  {
   "cell_type": "code",
   "execution_count": 16,
   "id": "53607f2e",
   "metadata": {},
   "outputs": [
    {
     "data": {
      "application/javascript": "\n        if (window._pyforest_update_imports_cell) { window._pyforest_update_imports_cell('import pandas as pd'); }\n    ",
      "text/plain": [
       "<IPython.core.display.Javascript object>"
      ]
     },
     "metadata": {},
     "output_type": "display_data"
    },
    {
     "data": {
      "application/javascript": "\n        if (window._pyforest_update_imports_cell) { window._pyforest_update_imports_cell('import pandas as pd'); }\n    ",
      "text/plain": [
       "<IPython.core.display.Javascript object>"
      ]
     },
     "metadata": {},
     "output_type": "display_data"
    },
    {
     "data": {
      "application/javascript": "\n        if (window._pyforest_update_imports_cell) { window._pyforest_update_imports_cell('import pandas as pd'); }\n    ",
      "text/plain": [
       "<IPython.core.display.Javascript object>"
      ]
     },
     "metadata": {},
     "output_type": "display_data"
    },
    {
     "data": {
      "text/html": [
       "<div>\n",
       "<style scoped>\n",
       "    .dataframe tbody tr th:only-of-type {\n",
       "        vertical-align: middle;\n",
       "    }\n",
       "\n",
       "    .dataframe tbody tr th {\n",
       "        vertical-align: top;\n",
       "    }\n",
       "\n",
       "    .dataframe thead th {\n",
       "        text-align: right;\n",
       "    }\n",
       "</style>\n",
       "<table border=\"1\" class=\"dataframe\">\n",
       "  <thead>\n",
       "    <tr style=\"text-align: right;\">\n",
       "      <th></th>\n",
       "      <th>datetime</th>\n",
       "      <th>value</th>\n",
       "    </tr>\n",
       "  </thead>\n",
       "  <tbody>\n",
       "    <tr>\n",
       "      <th>0</th>\n",
       "      <td>2023-09-01 00:00:00</td>\n",
       "      <td>119</td>\n",
       "    </tr>\n",
       "    <tr>\n",
       "      <th>1</th>\n",
       "      <td>2023-09-01 01:00:00</td>\n",
       "      <td>65</td>\n",
       "    </tr>\n",
       "    <tr>\n",
       "      <th>2</th>\n",
       "      <td>2023-09-01 02:00:00</td>\n",
       "      <td>67</td>\n",
       "    </tr>\n",
       "    <tr>\n",
       "      <th>3</th>\n",
       "      <td>2023-09-01 03:00:00</td>\n",
       "      <td>46</td>\n",
       "    </tr>\n",
       "    <tr>\n",
       "      <th>4</th>\n",
       "      <td>2023-09-01 04:00:00</td>\n",
       "      <td>76</td>\n",
       "    </tr>\n",
       "  </tbody>\n",
       "</table>\n",
       "</div>"
      ],
      "text/plain": [
       "             datetime  value\n",
       "0 2023-09-01 00:00:00    119\n",
       "1 2023-09-01 01:00:00     65\n",
       "2 2023-09-01 02:00:00     67\n",
       "3 2023-09-01 03:00:00     46\n",
       "4 2023-09-01 04:00:00     76"
      ]
     },
     "execution_count": 16,
     "metadata": {},
     "output_type": "execute_result"
    }
   ],
   "source": [
    "sep23_df = pd.read_csv(\"./mydata/traffic/counter 4/car-data/sep-23-car.csv\")\n",
    "sep23_df=sep23_df.drop(['Count','Workday','7 Day'], axis=1)\n",
    "sep23_df =sep23_df.rename(columns={sep23_df.columns[0]: 'hour'})  # rename first column to 'hour'\n",
    "sep23_df_long = pd.melt(sep23_df, id_vars='hour', var_name='date', value_name='value')\n",
    "sep23_df_long['datetime'] = pd.to_datetime(sep23_df_long['date'].astype(str) + ' ' + sep23_df_long['hour'].astype(str))\n",
    "sep23_df_long = sep23_df_long[['datetime', 'value']].sort_values('datetime').reset_index(drop=True)\n",
    "sep23_df_long.head()"
   ]
  },
  {
   "cell_type": "code",
   "execution_count": 17,
   "id": "b12ee5aa",
   "metadata": {},
   "outputs": [
    {
     "data": {
      "application/javascript": "\n        if (window._pyforest_update_imports_cell) { window._pyforest_update_imports_cell('import pandas as pd'); }\n    ",
      "text/plain": [
       "<IPython.core.display.Javascript object>"
      ]
     },
     "metadata": {},
     "output_type": "display_data"
    },
    {
     "data": {
      "application/javascript": "\n        if (window._pyforest_update_imports_cell) { window._pyforest_update_imports_cell('import pandas as pd'); }\n    ",
      "text/plain": [
       "<IPython.core.display.Javascript object>"
      ]
     },
     "metadata": {},
     "output_type": "display_data"
    },
    {
     "data": {
      "application/javascript": "\n        if (window._pyforest_update_imports_cell) { window._pyforest_update_imports_cell('import pandas as pd'); }\n    ",
      "text/plain": [
       "<IPython.core.display.Javascript object>"
      ]
     },
     "metadata": {},
     "output_type": "display_data"
    },
    {
     "data": {
      "text/html": [
       "<div>\n",
       "<style scoped>\n",
       "    .dataframe tbody tr th:only-of-type {\n",
       "        vertical-align: middle;\n",
       "    }\n",
       "\n",
       "    .dataframe tbody tr th {\n",
       "        vertical-align: top;\n",
       "    }\n",
       "\n",
       "    .dataframe thead th {\n",
       "        text-align: right;\n",
       "    }\n",
       "</style>\n",
       "<table border=\"1\" class=\"dataframe\">\n",
       "  <thead>\n",
       "    <tr style=\"text-align: right;\">\n",
       "      <th></th>\n",
       "      <th>datetime</th>\n",
       "      <th>value</th>\n",
       "    </tr>\n",
       "  </thead>\n",
       "  <tbody>\n",
       "    <tr>\n",
       "      <th>0</th>\n",
       "      <td>2023-08-01 00:00:00</td>\n",
       "      <td>119</td>\n",
       "    </tr>\n",
       "    <tr>\n",
       "      <th>1</th>\n",
       "      <td>2023-08-01 01:00:00</td>\n",
       "      <td>58</td>\n",
       "    </tr>\n",
       "    <tr>\n",
       "      <th>2</th>\n",
       "      <td>2023-08-01 02:00:00</td>\n",
       "      <td>74</td>\n",
       "    </tr>\n",
       "    <tr>\n",
       "      <th>3</th>\n",
       "      <td>2023-08-01 03:00:00</td>\n",
       "      <td>49</td>\n",
       "    </tr>\n",
       "    <tr>\n",
       "      <th>4</th>\n",
       "      <td>2023-08-01 04:00:00</td>\n",
       "      <td>71</td>\n",
       "    </tr>\n",
       "  </tbody>\n",
       "</table>\n",
       "</div>"
      ],
      "text/plain": [
       "             datetime  value\n",
       "0 2023-08-01 00:00:00    119\n",
       "1 2023-08-01 01:00:00     58\n",
       "2 2023-08-01 02:00:00     74\n",
       "3 2023-08-01 03:00:00     49\n",
       "4 2023-08-01 04:00:00     71"
      ]
     },
     "execution_count": 17,
     "metadata": {},
     "output_type": "execute_result"
    }
   ],
   "source": [
    "aug23_df = pd.read_csv(\"./mydata/traffic/counter 4/car-data/aug-23-car.csv\")\n",
    "aug23_df=aug23_df.drop(['Count','Workday','7 Day'], axis=1)\n",
    "aug23_df =aug23_df.rename(columns={aug23_df.columns[0]: 'hour'})  # rename first column to 'hour'\n",
    "aug23_df_long = pd.melt(aug23_df, id_vars='hour', var_name='date', value_name='value')\n",
    "aug23_df_long['datetime'] = pd.to_datetime(aug23_df_long['date'].astype(str) + ' ' + aug23_df_long['hour'].astype(str))\n",
    "aug23_df_long = aug23_df_long[['datetime', 'value']].sort_values('datetime').reset_index(drop=True)\n",
    "aug23_df_long.head()"
   ]
  },
  {
   "cell_type": "code",
   "execution_count": 18,
   "id": "33bf9cc9",
   "metadata": {},
   "outputs": [
    {
     "data": {
      "application/javascript": "\n        if (window._pyforest_update_imports_cell) { window._pyforest_update_imports_cell('import pandas as pd'); }\n    ",
      "text/plain": [
       "<IPython.core.display.Javascript object>"
      ]
     },
     "metadata": {},
     "output_type": "display_data"
    },
    {
     "data": {
      "application/javascript": "\n        if (window._pyforest_update_imports_cell) { window._pyforest_update_imports_cell('import pandas as pd'); }\n    ",
      "text/plain": [
       "<IPython.core.display.Javascript object>"
      ]
     },
     "metadata": {},
     "output_type": "display_data"
    },
    {
     "data": {
      "application/javascript": "\n        if (window._pyforest_update_imports_cell) { window._pyforest_update_imports_cell('import pandas as pd'); }\n    ",
      "text/plain": [
       "<IPython.core.display.Javascript object>"
      ]
     },
     "metadata": {},
     "output_type": "display_data"
    },
    {
     "data": {
      "text/html": [
       "<div>\n",
       "<style scoped>\n",
       "    .dataframe tbody tr th:only-of-type {\n",
       "        vertical-align: middle;\n",
       "    }\n",
       "\n",
       "    .dataframe tbody tr th {\n",
       "        vertical-align: top;\n",
       "    }\n",
       "\n",
       "    .dataframe thead th {\n",
       "        text-align: right;\n",
       "    }\n",
       "</style>\n",
       "<table border=\"1\" class=\"dataframe\">\n",
       "  <thead>\n",
       "    <tr style=\"text-align: right;\">\n",
       "      <th></th>\n",
       "      <th>datetime</th>\n",
       "      <th>value</th>\n",
       "    </tr>\n",
       "  </thead>\n",
       "  <tbody>\n",
       "    <tr>\n",
       "      <th>0</th>\n",
       "      <td>2024-08-01 00:00:00</td>\n",
       "      <td>121</td>\n",
       "    </tr>\n",
       "    <tr>\n",
       "      <th>1</th>\n",
       "      <td>2024-08-01 01:00:00</td>\n",
       "      <td>48</td>\n",
       "    </tr>\n",
       "    <tr>\n",
       "      <th>2</th>\n",
       "      <td>2024-08-01 02:00:00</td>\n",
       "      <td>54</td>\n",
       "    </tr>\n",
       "    <tr>\n",
       "      <th>3</th>\n",
       "      <td>2024-08-01 03:00:00</td>\n",
       "      <td>66</td>\n",
       "    </tr>\n",
       "    <tr>\n",
       "      <th>4</th>\n",
       "      <td>2024-08-01 04:00:00</td>\n",
       "      <td>77</td>\n",
       "    </tr>\n",
       "  </tbody>\n",
       "</table>\n",
       "</div>"
      ],
      "text/plain": [
       "             datetime  value\n",
       "0 2024-08-01 00:00:00    121\n",
       "1 2024-08-01 01:00:00     48\n",
       "2 2024-08-01 02:00:00     54\n",
       "3 2024-08-01 03:00:00     66\n",
       "4 2024-08-01 04:00:00     77"
      ]
     },
     "execution_count": 18,
     "metadata": {},
     "output_type": "execute_result"
    }
   ],
   "source": [
    "aug24_df = pd.read_csv(\"./mydata/traffic/counter 4/car-data/aug-24-car.csv\")\n",
    "aug24_df=aug24_df.drop(['Count','Workday','7 Day'], axis=1)\n",
    "aug24_df =aug24_df.rename(columns={aug24_df.columns[0]: 'hour'})  # rename first column to 'hour'\n",
    "aug24_df_long = pd.melt(aug24_df, id_vars='hour', var_name='date', value_name='value')\n",
    "aug24_df_long['datetime'] = pd.to_datetime(aug24_df_long['date'].astype(str) + ' ' + aug24_df_long['hour'].astype(str))\n",
    "aug24_df_long = aug24_df_long[['datetime', 'value']].sort_values('datetime').reset_index(drop=True)\n",
    "aug24_df_long.head()"
   ]
  },
  {
   "cell_type": "code",
   "execution_count": 19,
   "id": "72d6fe1a",
   "metadata": {},
   "outputs": [
    {
     "data": {
      "application/javascript": "\n        if (window._pyforest_update_imports_cell) { window._pyforest_update_imports_cell('import pandas as pd'); }\n    ",
      "text/plain": [
       "<IPython.core.display.Javascript object>"
      ]
     },
     "metadata": {},
     "output_type": "display_data"
    },
    {
     "data": {
      "application/javascript": "\n        if (window._pyforest_update_imports_cell) { window._pyforest_update_imports_cell('import pandas as pd'); }\n    ",
      "text/plain": [
       "<IPython.core.display.Javascript object>"
      ]
     },
     "metadata": {},
     "output_type": "display_data"
    },
    {
     "data": {
      "application/javascript": "\n        if (window._pyforest_update_imports_cell) { window._pyforest_update_imports_cell('import pandas as pd'); }\n    ",
      "text/plain": [
       "<IPython.core.display.Javascript object>"
      ]
     },
     "metadata": {},
     "output_type": "display_data"
    },
    {
     "data": {
      "text/html": [
       "<div>\n",
       "<style scoped>\n",
       "    .dataframe tbody tr th:only-of-type {\n",
       "        vertical-align: middle;\n",
       "    }\n",
       "\n",
       "    .dataframe tbody tr th {\n",
       "        vertical-align: top;\n",
       "    }\n",
       "\n",
       "    .dataframe thead th {\n",
       "        text-align: right;\n",
       "    }\n",
       "</style>\n",
       "<table border=\"1\" class=\"dataframe\">\n",
       "  <thead>\n",
       "    <tr style=\"text-align: right;\">\n",
       "      <th></th>\n",
       "      <th>datetime</th>\n",
       "      <th>value</th>\n",
       "    </tr>\n",
       "  </thead>\n",
       "  <tbody>\n",
       "    <tr>\n",
       "      <th>0</th>\n",
       "      <td>2023-07-01 00:00:00</td>\n",
       "      <td>208</td>\n",
       "    </tr>\n",
       "    <tr>\n",
       "      <th>1</th>\n",
       "      <td>2023-07-01 01:00:00</td>\n",
       "      <td>136</td>\n",
       "    </tr>\n",
       "    <tr>\n",
       "      <th>2</th>\n",
       "      <td>2023-07-01 02:00:00</td>\n",
       "      <td>79</td>\n",
       "    </tr>\n",
       "    <tr>\n",
       "      <th>3</th>\n",
       "      <td>2023-07-01 03:00:00</td>\n",
       "      <td>76</td>\n",
       "    </tr>\n",
       "    <tr>\n",
       "      <th>4</th>\n",
       "      <td>2023-07-01 04:00:00</td>\n",
       "      <td>75</td>\n",
       "    </tr>\n",
       "  </tbody>\n",
       "</table>\n",
       "</div>"
      ],
      "text/plain": [
       "             datetime  value\n",
       "0 2023-07-01 00:00:00    208\n",
       "1 2023-07-01 01:00:00    136\n",
       "2 2023-07-01 02:00:00     79\n",
       "3 2023-07-01 03:00:00     76\n",
       "4 2023-07-01 04:00:00     75"
      ]
     },
     "execution_count": 19,
     "metadata": {},
     "output_type": "execute_result"
    }
   ],
   "source": [
    "jul23_df = pd.read_csv(\"./mydata/traffic/counter 4/car-data/jul-23-car.csv\")\n",
    "jul23_df=jul23_df.drop(['Count','Workday','7 Day'], axis=1)\n",
    "jul23_df =jul23_df.rename(columns={jul23_df.columns[0]: 'hour'})  # rename first column to 'hour'\n",
    "jul23_df_long = pd.melt(jul23_df, id_vars='hour', var_name='date', value_name='value')\n",
    "jul23_df_long['datetime'] = pd.to_datetime(jul23_df_long['date'].astype(str) + ' ' + jul23_df_long['hour'].astype(str))\n",
    "jul23_df_long = jul23_df_long[['datetime', 'value']].sort_values('datetime').reset_index(drop=True)\n",
    "jul23_df_long.head()"
   ]
  },
  {
   "cell_type": "code",
   "execution_count": 20,
   "id": "573955f1",
   "metadata": {},
   "outputs": [
    {
     "data": {
      "application/javascript": "\n        if (window._pyforest_update_imports_cell) { window._pyforest_update_imports_cell('import pandas as pd'); }\n    ",
      "text/plain": [
       "<IPython.core.display.Javascript object>"
      ]
     },
     "metadata": {},
     "output_type": "display_data"
    },
    {
     "data": {
      "application/javascript": "\n        if (window._pyforest_update_imports_cell) { window._pyforest_update_imports_cell('import pandas as pd'); }\n    ",
      "text/plain": [
       "<IPython.core.display.Javascript object>"
      ]
     },
     "metadata": {},
     "output_type": "display_data"
    },
    {
     "data": {
      "application/javascript": "\n        if (window._pyforest_update_imports_cell) { window._pyforest_update_imports_cell('import pandas as pd'); }\n    ",
      "text/plain": [
       "<IPython.core.display.Javascript object>"
      ]
     },
     "metadata": {},
     "output_type": "display_data"
    },
    {
     "data": {
      "text/html": [
       "<div>\n",
       "<style scoped>\n",
       "    .dataframe tbody tr th:only-of-type {\n",
       "        vertical-align: middle;\n",
       "    }\n",
       "\n",
       "    .dataframe tbody tr th {\n",
       "        vertical-align: top;\n",
       "    }\n",
       "\n",
       "    .dataframe thead th {\n",
       "        text-align: right;\n",
       "    }\n",
       "</style>\n",
       "<table border=\"1\" class=\"dataframe\">\n",
       "  <thead>\n",
       "    <tr style=\"text-align: right;\">\n",
       "      <th></th>\n",
       "      <th>datetime</th>\n",
       "      <th>value</th>\n",
       "    </tr>\n",
       "  </thead>\n",
       "  <tbody>\n",
       "    <tr>\n",
       "      <th>0</th>\n",
       "      <td>2024-07-01 00:00:00</td>\n",
       "      <td>104</td>\n",
       "    </tr>\n",
       "    <tr>\n",
       "      <th>1</th>\n",
       "      <td>2024-07-01 01:00:00</td>\n",
       "      <td>59</td>\n",
       "    </tr>\n",
       "    <tr>\n",
       "      <th>2</th>\n",
       "      <td>2024-07-01 02:00:00</td>\n",
       "      <td>58</td>\n",
       "    </tr>\n",
       "    <tr>\n",
       "      <th>3</th>\n",
       "      <td>2024-07-01 03:00:00</td>\n",
       "      <td>76</td>\n",
       "    </tr>\n",
       "    <tr>\n",
       "      <th>4</th>\n",
       "      <td>2024-07-01 04:00:00</td>\n",
       "      <td>64</td>\n",
       "    </tr>\n",
       "  </tbody>\n",
       "</table>\n",
       "</div>"
      ],
      "text/plain": [
       "             datetime  value\n",
       "0 2024-07-01 00:00:00    104\n",
       "1 2024-07-01 01:00:00     59\n",
       "2 2024-07-01 02:00:00     58\n",
       "3 2024-07-01 03:00:00     76\n",
       "4 2024-07-01 04:00:00     64"
      ]
     },
     "execution_count": 20,
     "metadata": {},
     "output_type": "execute_result"
    }
   ],
   "source": [
    "jul24_df = pd.read_csv(\"./mydata/traffic/counter 4/car-data/jul-24-car.csv\")\n",
    "jul24_df=jul24_df.drop(['Count','Workday','7 Day'], axis=1)\n",
    "jul24_df =jul24_df.rename(columns={jul24_df.columns[0]: 'hour'})  # rename first column to 'hour'\n",
    "jul24_df_long = pd.melt(jul24_df, id_vars='hour', var_name='date', value_name='value')\n",
    "jul24_df_long['datetime'] = pd.to_datetime(jul24_df_long['date'].astype(str) + ' ' + jul24_df_long['hour'].astype(str))\n",
    "jul24_df_long = jul24_df_long[['datetime', 'value']].sort_values('datetime').reset_index(drop=True)\n",
    "jul24_df_long.head()"
   ]
  },
  {
   "cell_type": "code",
   "execution_count": 21,
   "id": "3807ba0d",
   "metadata": {},
   "outputs": [
    {
     "data": {
      "application/javascript": "\n        if (window._pyforest_update_imports_cell) { window._pyforest_update_imports_cell('import pandas as pd'); }\n    ",
      "text/plain": [
       "<IPython.core.display.Javascript object>"
      ]
     },
     "metadata": {},
     "output_type": "display_data"
    },
    {
     "data": {
      "application/javascript": "\n        if (window._pyforest_update_imports_cell) { window._pyforest_update_imports_cell('import pandas as pd'); }\n    ",
      "text/plain": [
       "<IPython.core.display.Javascript object>"
      ]
     },
     "metadata": {},
     "output_type": "display_data"
    },
    {
     "data": {
      "application/javascript": "\n        if (window._pyforest_update_imports_cell) { window._pyforest_update_imports_cell('import pandas as pd'); }\n    ",
      "text/plain": [
       "<IPython.core.display.Javascript object>"
      ]
     },
     "metadata": {},
     "output_type": "display_data"
    },
    {
     "data": {
      "application/javascript": "\n        if (window._pyforest_update_imports_cell) { window._pyforest_update_imports_cell('import pandas as pd'); }\n    ",
      "text/plain": [
       "<IPython.core.display.Javascript object>"
      ]
     },
     "metadata": {},
     "output_type": "display_data"
    },
    {
     "data": {
      "application/javascript": "\n        if (window._pyforest_update_imports_cell) { window._pyforest_update_imports_cell('import pandas as pd'); }\n    ",
      "text/plain": [
       "<IPython.core.display.Javascript object>"
      ]
     },
     "metadata": {},
     "output_type": "display_data"
    },
    {
     "data": {
      "application/javascript": "\n        if (window._pyforest_update_imports_cell) { window._pyforest_update_imports_cell('import pandas as pd'); }\n    ",
      "text/plain": [
       "<IPython.core.display.Javascript object>"
      ]
     },
     "metadata": {},
     "output_type": "display_data"
    },
    {
     "data": {
      "application/javascript": "\n        if (window._pyforest_update_imports_cell) { window._pyforest_update_imports_cell('import pandas as pd'); }\n    ",
      "text/plain": [
       "<IPython.core.display.Javascript object>"
      ]
     },
     "metadata": {},
     "output_type": "display_data"
    },
    {
     "data": {
      "application/javascript": "\n        if (window._pyforest_update_imports_cell) { window._pyforest_update_imports_cell('import pandas as pd'); }\n    ",
      "text/plain": [
       "<IPython.core.display.Javascript object>"
      ]
     },
     "metadata": {},
     "output_type": "display_data"
    },
    {
     "data": {
      "application/javascript": "\n        if (window._pyforest_update_imports_cell) { window._pyforest_update_imports_cell('import pandas as pd'); }\n    ",
      "text/plain": [
       "<IPython.core.display.Javascript object>"
      ]
     },
     "metadata": {},
     "output_type": "display_data"
    },
    {
     "data": {
      "application/javascript": "\n        if (window._pyforest_update_imports_cell) { window._pyforest_update_imports_cell('import pandas as pd'); }\n    ",
      "text/plain": [
       "<IPython.core.display.Javascript object>"
      ]
     },
     "metadata": {},
     "output_type": "display_data"
    },
    {
     "data": {
      "application/javascript": "\n        if (window._pyforest_update_imports_cell) { window._pyforest_update_imports_cell('import pandas as pd'); }\n    ",
      "text/plain": [
       "<IPython.core.display.Javascript object>"
      ]
     },
     "metadata": {},
     "output_type": "display_data"
    },
    {
     "data": {
      "application/javascript": "\n        if (window._pyforest_update_imports_cell) { window._pyforest_update_imports_cell('import pandas as pd'); }\n    ",
      "text/plain": [
       "<IPython.core.display.Javascript object>"
      ]
     },
     "metadata": {},
     "output_type": "display_data"
    },
    {
     "data": {
      "application/javascript": "\n        if (window._pyforest_update_imports_cell) { window._pyforest_update_imports_cell('import pandas as pd'); }\n    ",
      "text/plain": [
       "<IPython.core.display.Javascript object>"
      ]
     },
     "metadata": {},
     "output_type": "display_data"
    },
    {
     "data": {
      "application/javascript": "\n        if (window._pyforest_update_imports_cell) { window._pyforest_update_imports_cell('import pandas as pd'); }\n    ",
      "text/plain": [
       "<IPython.core.display.Javascript object>"
      ]
     },
     "metadata": {},
     "output_type": "display_data"
    },
    {
     "data": {
      "application/javascript": "\n        if (window._pyforest_update_imports_cell) { window._pyforest_update_imports_cell('import pandas as pd'); }\n    ",
      "text/plain": [
       "<IPython.core.display.Javascript object>"
      ]
     },
     "metadata": {},
     "output_type": "display_data"
    },
    {
     "data": {
      "application/javascript": "\n        if (window._pyforest_update_imports_cell) { window._pyforest_update_imports_cell('import pandas as pd'); }\n    ",
      "text/plain": [
       "<IPython.core.display.Javascript object>"
      ]
     },
     "metadata": {},
     "output_type": "display_data"
    },
    {
     "data": {
      "application/javascript": "\n        if (window._pyforest_update_imports_cell) { window._pyforest_update_imports_cell('import pandas as pd'); }\n    ",
      "text/plain": [
       "<IPython.core.display.Javascript object>"
      ]
     },
     "metadata": {},
     "output_type": "display_data"
    },
    {
     "data": {
      "application/javascript": "\n        if (window._pyforest_update_imports_cell) { window._pyforest_update_imports_cell('import pandas as pd'); }\n    ",
      "text/plain": [
       "<IPython.core.display.Javascript object>"
      ]
     },
     "metadata": {},
     "output_type": "display_data"
    },
    {
     "data": {
      "application/javascript": "\n        if (window._pyforest_update_imports_cell) { window._pyforest_update_imports_cell('import pandas as pd'); }\n    ",
      "text/plain": [
       "<IPython.core.display.Javascript object>"
      ]
     },
     "metadata": {},
     "output_type": "display_data"
    },
    {
     "data": {
      "text/html": [
       "<div>\n",
       "<style scoped>\n",
       "    .dataframe tbody tr th:only-of-type {\n",
       "        vertical-align: middle;\n",
       "    }\n",
       "\n",
       "    .dataframe tbody tr th {\n",
       "        vertical-align: top;\n",
       "    }\n",
       "\n",
       "    .dataframe thead th {\n",
       "        text-align: right;\n",
       "    }\n",
       "</style>\n",
       "<table border=\"1\" class=\"dataframe\">\n",
       "  <thead>\n",
       "    <tr style=\"text-align: right;\">\n",
       "      <th></th>\n",
       "      <th>datetime</th>\n",
       "      <th>value</th>\n",
       "    </tr>\n",
       "  </thead>\n",
       "  <tbody>\n",
       "    <tr>\n",
       "      <th>0</th>\n",
       "      <td>2023-01-01 00:00:00</td>\n",
       "      <td>176</td>\n",
       "    </tr>\n",
       "    <tr>\n",
       "      <th>1</th>\n",
       "      <td>2023-01-01 01:00:00</td>\n",
       "      <td>214</td>\n",
       "    </tr>\n",
       "    <tr>\n",
       "      <th>2</th>\n",
       "      <td>2023-01-01 02:00:00</td>\n",
       "      <td>114</td>\n",
       "    </tr>\n",
       "    <tr>\n",
       "      <th>3</th>\n",
       "      <td>2023-01-01 03:00:00</td>\n",
       "      <td>84</td>\n",
       "    </tr>\n",
       "    <tr>\n",
       "      <th>4</th>\n",
       "      <td>2023-01-01 04:00:00</td>\n",
       "      <td>45</td>\n",
       "    </tr>\n",
       "  </tbody>\n",
       "</table>\n",
       "</div>"
      ],
      "text/plain": [
       "             datetime  value\n",
       "0 2023-01-01 00:00:00    176\n",
       "1 2023-01-01 01:00:00    214\n",
       "2 2023-01-01 02:00:00    114\n",
       "3 2023-01-01 03:00:00     84\n",
       "4 2023-01-01 04:00:00     45"
      ]
     },
     "execution_count": 21,
     "metadata": {},
     "output_type": "execute_result"
    }
   ],
   "source": [
    "combined_df = pd.concat([jul24_df_long, aug24_df_long], ignore_index=True)\n",
    "combined_df = pd.concat([jun24_df_long, combined_df], ignore_index=True)\n",
    "combined_df = pd.concat([may24_df_long, combined_df], ignore_index=True)\n",
    "combined_df = pd.concat([apr24_df_long, combined_df], ignore_index=True)\n",
    "combined_df = pd.concat([mar24_df_long, combined_df], ignore_index=True)\n",
    "combined_df = pd.concat([feb24_df_long, combined_df], ignore_index=True)\n",
    "combined_df = pd.concat([jan24_df_long, combined_df], ignore_index=True)\n",
    "combined_df = pd.concat([dec23_df_long, combined_df], ignore_index=True)\n",
    "combined_df = pd.concat([nov23_df_long, combined_df], ignore_index=True)\n",
    "combined_df = pd.concat([oct23_df_long, combined_df], ignore_index=True)\n",
    "combined_df = pd.concat([sep23_df_long, combined_df], ignore_index=True)\n",
    "combined_df = pd.concat([aug23_df_long, combined_df], ignore_index=True)\n",
    "combined_df = pd.concat([jul23_df_long, combined_df], ignore_index=True)\n",
    "combined_df = pd.concat([jun23_df_long, combined_df], ignore_index=True)\n",
    "combined_df = pd.concat([may23_df_long, combined_df], ignore_index=True)\n",
    "combined_df = pd.concat([apr23_df_long, combined_df], ignore_index=True)\n",
    "combined_df = pd.concat([mar23_df_long, combined_df], ignore_index=True)\n",
    "combined_df = pd.concat([feb23_df_long, combined_df], ignore_index=True)\n",
    "combined_df1_1 = pd.concat([jan23_df_long, combined_df], ignore_index=True)\n",
    "combined_df1_1.head()"
   ]
  },
  {
   "cell_type": "code",
   "execution_count": 22,
   "id": "98936b82",
   "metadata": {},
   "outputs": [
    {
     "data": {
      "text/html": [
       "<div>\n",
       "<style scoped>\n",
       "    .dataframe tbody tr th:only-of-type {\n",
       "        vertical-align: middle;\n",
       "    }\n",
       "\n",
       "    .dataframe tbody tr th {\n",
       "        vertical-align: top;\n",
       "    }\n",
       "\n",
       "    .dataframe thead th {\n",
       "        text-align: right;\n",
       "    }\n",
       "</style>\n",
       "<table border=\"1\" class=\"dataframe\">\n",
       "  <thead>\n",
       "    <tr style=\"text-align: right;\">\n",
       "      <th></th>\n",
       "      <th>datetime</th>\n",
       "      <th>value</th>\n",
       "    </tr>\n",
       "  </thead>\n",
       "  <tbody>\n",
       "    <tr>\n",
       "      <th>0</th>\n",
       "      <td>2023-01-01 00:00:00</td>\n",
       "      <td>176</td>\n",
       "    </tr>\n",
       "    <tr>\n",
       "      <th>1</th>\n",
       "      <td>2023-01-01 01:00:00</td>\n",
       "      <td>214</td>\n",
       "    </tr>\n",
       "    <tr>\n",
       "      <th>2</th>\n",
       "      <td>2023-01-01 02:00:00</td>\n",
       "      <td>114</td>\n",
       "    </tr>\n",
       "    <tr>\n",
       "      <th>3</th>\n",
       "      <td>2023-01-01 03:00:00</td>\n",
       "      <td>84</td>\n",
       "    </tr>\n",
       "    <tr>\n",
       "      <th>4</th>\n",
       "      <td>2023-01-01 04:00:00</td>\n",
       "      <td>45</td>\n",
       "    </tr>\n",
       "  </tbody>\n",
       "</table>\n",
       "</div>"
      ],
      "text/plain": [
       "             datetime  value\n",
       "0 2023-01-01 00:00:00    176\n",
       "1 2023-01-01 01:00:00    214\n",
       "2 2023-01-01 02:00:00    114\n",
       "3 2023-01-01 03:00:00     84\n",
       "4 2023-01-01 04:00:00     45"
      ]
     },
     "execution_count": 22,
     "metadata": {},
     "output_type": "execute_result"
    }
   ],
   "source": [
    "combined_df1_1.head()"
   ]
  },
  {
   "cell_type": "code",
   "execution_count": 23,
   "id": "9ea4283d",
   "metadata": {},
   "outputs": [
    {
     "data": {
      "text/html": [
       "<div>\n",
       "<style scoped>\n",
       "    .dataframe tbody tr th:only-of-type {\n",
       "        vertical-align: middle;\n",
       "    }\n",
       "\n",
       "    .dataframe tbody tr th {\n",
       "        vertical-align: top;\n",
       "    }\n",
       "\n",
       "    .dataframe thead th {\n",
       "        text-align: right;\n",
       "    }\n",
       "</style>\n",
       "<table border=\"1\" class=\"dataframe\">\n",
       "  <thead>\n",
       "    <tr style=\"text-align: right;\">\n",
       "      <th></th>\n",
       "      <th>datetime</th>\n",
       "      <th>value</th>\n",
       "    </tr>\n",
       "  </thead>\n",
       "  <tbody>\n",
       "    <tr>\n",
       "      <th>14611</th>\n",
       "      <td>2024-08-31 19:00:00</td>\n",
       "      <td>978</td>\n",
       "    </tr>\n",
       "    <tr>\n",
       "      <th>14612</th>\n",
       "      <td>2024-08-31 20:00:00</td>\n",
       "      <td>859</td>\n",
       "    </tr>\n",
       "    <tr>\n",
       "      <th>14613</th>\n",
       "      <td>2024-08-31 21:00:00</td>\n",
       "      <td>531</td>\n",
       "    </tr>\n",
       "    <tr>\n",
       "      <th>14614</th>\n",
       "      <td>2024-08-31 22:00:00</td>\n",
       "      <td>361</td>\n",
       "    </tr>\n",
       "    <tr>\n",
       "      <th>14615</th>\n",
       "      <td>2024-08-31 23:00:00</td>\n",
       "      <td>335</td>\n",
       "    </tr>\n",
       "  </tbody>\n",
       "</table>\n",
       "</div>"
      ],
      "text/plain": [
       "                 datetime  value\n",
       "14611 2024-08-31 19:00:00    978\n",
       "14612 2024-08-31 20:00:00    859\n",
       "14613 2024-08-31 21:00:00    531\n",
       "14614 2024-08-31 22:00:00    361\n",
       "14615 2024-08-31 23:00:00    335"
      ]
     },
     "execution_count": 23,
     "metadata": {},
     "output_type": "execute_result"
    }
   ],
   "source": [
    "combined_df1_1.tail()"
   ]
  },
  {
   "cell_type": "code",
   "execution_count": 24,
   "id": "53aae8cc",
   "metadata": {},
   "outputs": [],
   "source": [
    "combined_df1_1.to_csv('./mydata/traffic/counter 4/car-data/personal_veh_cnt.csv')"
   ]
  },
  {
   "cell_type": "code",
   "execution_count": 25,
   "id": "77d4c1fc",
   "metadata": {},
   "outputs": [
    {
     "data": {
      "application/javascript": "\n        if (window._pyforest_update_imports_cell) { window._pyforest_update_imports_cell('import pandas as pd'); }\n    ",
      "text/plain": [
       "<IPython.core.display.Javascript object>"
      ]
     },
     "metadata": {},
     "output_type": "display_data"
    },
    {
     "data": {
      "text/html": [
       "<div>\n",
       "<style scoped>\n",
       "    .dataframe tbody tr th:only-of-type {\n",
       "        vertical-align: middle;\n",
       "    }\n",
       "\n",
       "    .dataframe tbody tr th {\n",
       "        vertical-align: top;\n",
       "    }\n",
       "\n",
       "    .dataframe thead th {\n",
       "        text-align: right;\n",
       "    }\n",
       "</style>\n",
       "<table border=\"1\" class=\"dataframe\">\n",
       "  <thead>\n",
       "    <tr style=\"text-align: right;\">\n",
       "      <th></th>\n",
       "      <th>Unnamed: 0</th>\n",
       "      <th>datetime</th>\n",
       "      <th>value</th>\n",
       "    </tr>\n",
       "  </thead>\n",
       "  <tbody>\n",
       "    <tr>\n",
       "      <th>0</th>\n",
       "      <td>0</td>\n",
       "      <td>2023-01-01 00:00:00</td>\n",
       "      <td>176</td>\n",
       "    </tr>\n",
       "    <tr>\n",
       "      <th>1</th>\n",
       "      <td>1</td>\n",
       "      <td>2023-01-01 01:00:00</td>\n",
       "      <td>214</td>\n",
       "    </tr>\n",
       "    <tr>\n",
       "      <th>2</th>\n",
       "      <td>2</td>\n",
       "      <td>2023-01-01 02:00:00</td>\n",
       "      <td>114</td>\n",
       "    </tr>\n",
       "    <tr>\n",
       "      <th>3</th>\n",
       "      <td>3</td>\n",
       "      <td>2023-01-01 03:00:00</td>\n",
       "      <td>84</td>\n",
       "    </tr>\n",
       "    <tr>\n",
       "      <th>4</th>\n",
       "      <td>4</td>\n",
       "      <td>2023-01-01 04:00:00</td>\n",
       "      <td>45</td>\n",
       "    </tr>\n",
       "  </tbody>\n",
       "</table>\n",
       "</div>"
      ],
      "text/plain": [
       "   Unnamed: 0             datetime  value\n",
       "0           0  2023-01-01 00:00:00    176\n",
       "1           1  2023-01-01 01:00:00    214\n",
       "2           2  2023-01-01 02:00:00    114\n",
       "3           3  2023-01-01 03:00:00     84\n",
       "4           4  2023-01-01 04:00:00     45"
      ]
     },
     "execution_count": 25,
     "metadata": {},
     "output_type": "execute_result"
    }
   ],
   "source": [
    "r4_personal=pd.read_csv('./mydata/traffic/counter 4/car-data/personal_veh_cnt.csv')\n",
    "r4_personal.head()"
   ]
  },
  {
   "cell_type": "markdown",
   "id": "bf10ba41",
   "metadata": {},
   "source": [
    "## Preparing data from Traffic Counters- LGV DATA\n",
    "same code ran for counter 1,2,3 and 4 by changing the paths"
   ]
  },
  {
   "cell_type": "code",
   "execution_count": 26,
   "id": "d3e212ca",
   "metadata": {},
   "outputs": [
    {
     "data": {
      "application/javascript": "\n        if (window._pyforest_update_imports_cell) { window._pyforest_update_imports_cell('import pandas as pd'); }\n    ",
      "text/plain": [
       "<IPython.core.display.Javascript object>"
      ]
     },
     "metadata": {},
     "output_type": "display_data"
    },
    {
     "data": {
      "application/javascript": "\n        if (window._pyforest_update_imports_cell) { window._pyforest_update_imports_cell('import pandas as pd'); }\n    ",
      "text/plain": [
       "<IPython.core.display.Javascript object>"
      ]
     },
     "metadata": {},
     "output_type": "display_data"
    },
    {
     "data": {
      "application/javascript": "\n        if (window._pyforest_update_imports_cell) { window._pyforest_update_imports_cell('import pandas as pd'); }\n    ",
      "text/plain": [
       "<IPython.core.display.Javascript object>"
      ]
     },
     "metadata": {},
     "output_type": "display_data"
    },
    {
     "data": {
      "application/javascript": "\n        if (window._pyforest_update_imports_cell) { window._pyforest_update_imports_cell('import pandas as pd'); }\n    ",
      "text/plain": [
       "<IPython.core.display.Javascript object>"
      ]
     },
     "metadata": {},
     "output_type": "display_data"
    },
    {
     "data": {
      "application/javascript": "\n        if (window._pyforest_update_imports_cell) { window._pyforest_update_imports_cell('import pandas as pd'); }\n    ",
      "text/plain": [
       "<IPython.core.display.Javascript object>"
      ]
     },
     "metadata": {},
     "output_type": "display_data"
    },
    {
     "data": {
      "application/javascript": "\n        if (window._pyforest_update_imports_cell) { window._pyforest_update_imports_cell('import pandas as pd'); }\n    ",
      "text/plain": [
       "<IPython.core.display.Javascript object>"
      ]
     },
     "metadata": {},
     "output_type": "display_data"
    },
    {
     "data": {
      "application/javascript": "\n        if (window._pyforest_update_imports_cell) { window._pyforest_update_imports_cell('import pandas as pd'); }\n    ",
      "text/plain": [
       "<IPython.core.display.Javascript object>"
      ]
     },
     "metadata": {},
     "output_type": "display_data"
    },
    {
     "data": {
      "application/javascript": "\n        if (window._pyforest_update_imports_cell) { window._pyforest_update_imports_cell('import pandas as pd'); }\n    ",
      "text/plain": [
       "<IPython.core.display.Javascript object>"
      ]
     },
     "metadata": {},
     "output_type": "display_data"
    },
    {
     "data": {
      "application/javascript": "\n        if (window._pyforest_update_imports_cell) { window._pyforest_update_imports_cell('import pandas as pd'); }\n    ",
      "text/plain": [
       "<IPython.core.display.Javascript object>"
      ]
     },
     "metadata": {},
     "output_type": "display_data"
    },
    {
     "data": {
      "application/javascript": "\n        if (window._pyforest_update_imports_cell) { window._pyforest_update_imports_cell('import pandas as pd'); }\n    ",
      "text/plain": [
       "<IPython.core.display.Javascript object>"
      ]
     },
     "metadata": {},
     "output_type": "display_data"
    },
    {
     "data": {
      "application/javascript": "\n        if (window._pyforest_update_imports_cell) { window._pyforest_update_imports_cell('import pandas as pd'); }\n    ",
      "text/plain": [
       "<IPython.core.display.Javascript object>"
      ]
     },
     "metadata": {},
     "output_type": "display_data"
    },
    {
     "data": {
      "application/javascript": "\n        if (window._pyforest_update_imports_cell) { window._pyforest_update_imports_cell('import pandas as pd'); }\n    ",
      "text/plain": [
       "<IPython.core.display.Javascript object>"
      ]
     },
     "metadata": {},
     "output_type": "display_data"
    },
    {
     "data": {
      "application/javascript": "\n        if (window._pyforest_update_imports_cell) { window._pyforest_update_imports_cell('import pandas as pd'); }\n    ",
      "text/plain": [
       "<IPython.core.display.Javascript object>"
      ]
     },
     "metadata": {},
     "output_type": "display_data"
    },
    {
     "data": {
      "application/javascript": "\n        if (window._pyforest_update_imports_cell) { window._pyforest_update_imports_cell('import pandas as pd'); }\n    ",
      "text/plain": [
       "<IPython.core.display.Javascript object>"
      ]
     },
     "metadata": {},
     "output_type": "display_data"
    },
    {
     "data": {
      "application/javascript": "\n        if (window._pyforest_update_imports_cell) { window._pyforest_update_imports_cell('import pandas as pd'); }\n    ",
      "text/plain": [
       "<IPython.core.display.Javascript object>"
      ]
     },
     "metadata": {},
     "output_type": "display_data"
    },
    {
     "data": {
      "application/javascript": "\n        if (window._pyforest_update_imports_cell) { window._pyforest_update_imports_cell('import pandas as pd'); }\n    ",
      "text/plain": [
       "<IPython.core.display.Javascript object>"
      ]
     },
     "metadata": {},
     "output_type": "display_data"
    },
    {
     "data": {
      "application/javascript": "\n        if (window._pyforest_update_imports_cell) { window._pyforest_update_imports_cell('import pandas as pd'); }\n    ",
      "text/plain": [
       "<IPython.core.display.Javascript object>"
      ]
     },
     "metadata": {},
     "output_type": "display_data"
    },
    {
     "data": {
      "application/javascript": "\n        if (window._pyforest_update_imports_cell) { window._pyforest_update_imports_cell('import pandas as pd'); }\n    ",
      "text/plain": [
       "<IPython.core.display.Javascript object>"
      ]
     },
     "metadata": {},
     "output_type": "display_data"
    },
    {
     "data": {
      "application/javascript": "\n        if (window._pyforest_update_imports_cell) { window._pyforest_update_imports_cell('import pandas as pd'); }\n    ",
      "text/plain": [
       "<IPython.core.display.Javascript object>"
      ]
     },
     "metadata": {},
     "output_type": "display_data"
    },
    {
     "data": {
      "application/javascript": "\n        if (window._pyforest_update_imports_cell) { window._pyforest_update_imports_cell('import pandas as pd'); }\n    ",
      "text/plain": [
       "<IPython.core.display.Javascript object>"
      ]
     },
     "metadata": {},
     "output_type": "display_data"
    },
    {
     "data": {
      "application/javascript": "\n        if (window._pyforest_update_imports_cell) { window._pyforest_update_imports_cell('import pandas as pd'); }\n    ",
      "text/plain": [
       "<IPython.core.display.Javascript object>"
      ]
     },
     "metadata": {},
     "output_type": "display_data"
    },
    {
     "data": {
      "application/javascript": "\n        if (window._pyforest_update_imports_cell) { window._pyforest_update_imports_cell('import pandas as pd'); }\n    ",
      "text/plain": [
       "<IPython.core.display.Javascript object>"
      ]
     },
     "metadata": {},
     "output_type": "display_data"
    },
    {
     "data": {
      "application/javascript": "\n        if (window._pyforest_update_imports_cell) { window._pyforest_update_imports_cell('import pandas as pd'); }\n    ",
      "text/plain": [
       "<IPython.core.display.Javascript object>"
      ]
     },
     "metadata": {},
     "output_type": "display_data"
    },
    {
     "data": {
      "application/javascript": "\n        if (window._pyforest_update_imports_cell) { window._pyforest_update_imports_cell('import pandas as pd'); }\n    ",
      "text/plain": [
       "<IPython.core.display.Javascript object>"
      ]
     },
     "metadata": {},
     "output_type": "display_data"
    },
    {
     "data": {
      "application/javascript": "\n        if (window._pyforest_update_imports_cell) { window._pyforest_update_imports_cell('import pandas as pd'); }\n    ",
      "text/plain": [
       "<IPython.core.display.Javascript object>"
      ]
     },
     "metadata": {},
     "output_type": "display_data"
    },
    {
     "data": {
      "application/javascript": "\n        if (window._pyforest_update_imports_cell) { window._pyforest_update_imports_cell('import pandas as pd'); }\n    ",
      "text/plain": [
       "<IPython.core.display.Javascript object>"
      ]
     },
     "metadata": {},
     "output_type": "display_data"
    },
    {
     "data": {
      "application/javascript": "\n        if (window._pyforest_update_imports_cell) { window._pyforest_update_imports_cell('import pandas as pd'); }\n    ",
      "text/plain": [
       "<IPython.core.display.Javascript object>"
      ]
     },
     "metadata": {},
     "output_type": "display_data"
    },
    {
     "data": {
      "application/javascript": "\n        if (window._pyforest_update_imports_cell) { window._pyforest_update_imports_cell('import pandas as pd'); }\n    ",
      "text/plain": [
       "<IPython.core.display.Javascript object>"
      ]
     },
     "metadata": {},
     "output_type": "display_data"
    },
    {
     "data": {
      "application/javascript": "\n        if (window._pyforest_update_imports_cell) { window._pyforest_update_imports_cell('import pandas as pd'); }\n    ",
      "text/plain": [
       "<IPython.core.display.Javascript object>"
      ]
     },
     "metadata": {},
     "output_type": "display_data"
    },
    {
     "data": {
      "application/javascript": "\n        if (window._pyforest_update_imports_cell) { window._pyforest_update_imports_cell('import pandas as pd'); }\n    ",
      "text/plain": [
       "<IPython.core.display.Javascript object>"
      ]
     },
     "metadata": {},
     "output_type": "display_data"
    },
    {
     "data": {
      "application/javascript": "\n        if (window._pyforest_update_imports_cell) { window._pyforest_update_imports_cell('import pandas as pd'); }\n    ",
      "text/plain": [
       "<IPython.core.display.Javascript object>"
      ]
     },
     "metadata": {},
     "output_type": "display_data"
    },
    {
     "data": {
      "application/javascript": "\n        if (window._pyforest_update_imports_cell) { window._pyforest_update_imports_cell('import pandas as pd'); }\n    ",
      "text/plain": [
       "<IPython.core.display.Javascript object>"
      ]
     },
     "metadata": {},
     "output_type": "display_data"
    },
    {
     "data": {
      "application/javascript": "\n        if (window._pyforest_update_imports_cell) { window._pyforest_update_imports_cell('import pandas as pd'); }\n    ",
      "text/plain": [
       "<IPython.core.display.Javascript object>"
      ]
     },
     "metadata": {},
     "output_type": "display_data"
    },
    {
     "data": {
      "application/javascript": "\n        if (window._pyforest_update_imports_cell) { window._pyforest_update_imports_cell('import pandas as pd'); }\n    ",
      "text/plain": [
       "<IPython.core.display.Javascript object>"
      ]
     },
     "metadata": {},
     "output_type": "display_data"
    },
    {
     "data": {
      "application/javascript": "\n        if (window._pyforest_update_imports_cell) { window._pyforest_update_imports_cell('import pandas as pd'); }\n    ",
      "text/plain": [
       "<IPython.core.display.Javascript object>"
      ]
     },
     "metadata": {},
     "output_type": "display_data"
    },
    {
     "data": {
      "application/javascript": "\n        if (window._pyforest_update_imports_cell) { window._pyforest_update_imports_cell('import pandas as pd'); }\n    ",
      "text/plain": [
       "<IPython.core.display.Javascript object>"
      ]
     },
     "metadata": {},
     "output_type": "display_data"
    },
    {
     "data": {
      "application/javascript": "\n        if (window._pyforest_update_imports_cell) { window._pyforest_update_imports_cell('import pandas as pd'); }\n    ",
      "text/plain": [
       "<IPython.core.display.Javascript object>"
      ]
     },
     "metadata": {},
     "output_type": "display_data"
    },
    {
     "data": {
      "application/javascript": "\n        if (window._pyforest_update_imports_cell) { window._pyforest_update_imports_cell('import pandas as pd'); }\n    ",
      "text/plain": [
       "<IPython.core.display.Javascript object>"
      ]
     },
     "metadata": {},
     "output_type": "display_data"
    },
    {
     "data": {
      "application/javascript": "\n        if (window._pyforest_update_imports_cell) { window._pyforest_update_imports_cell('import pandas as pd'); }\n    ",
      "text/plain": [
       "<IPython.core.display.Javascript object>"
      ]
     },
     "metadata": {},
     "output_type": "display_data"
    },
    {
     "data": {
      "application/javascript": "\n        if (window._pyforest_update_imports_cell) { window._pyforest_update_imports_cell('import pandas as pd'); }\n    ",
      "text/plain": [
       "<IPython.core.display.Javascript object>"
      ]
     },
     "metadata": {},
     "output_type": "display_data"
    },
    {
     "data": {
      "application/javascript": "\n        if (window._pyforest_update_imports_cell) { window._pyforest_update_imports_cell('import pandas as pd'); }\n    ",
      "text/plain": [
       "<IPython.core.display.Javascript object>"
      ]
     },
     "metadata": {},
     "output_type": "display_data"
    },
    {
     "data": {
      "application/javascript": "\n        if (window._pyforest_update_imports_cell) { window._pyforest_update_imports_cell('import pandas as pd'); }\n    ",
      "text/plain": [
       "<IPython.core.display.Javascript object>"
      ]
     },
     "metadata": {},
     "output_type": "display_data"
    },
    {
     "data": {
      "application/javascript": "\n        if (window._pyforest_update_imports_cell) { window._pyforest_update_imports_cell('import pandas as pd'); }\n    ",
      "text/plain": [
       "<IPython.core.display.Javascript object>"
      ]
     },
     "metadata": {},
     "output_type": "display_data"
    },
    {
     "data": {
      "application/javascript": "\n        if (window._pyforest_update_imports_cell) { window._pyforest_update_imports_cell('import pandas as pd'); }\n    ",
      "text/plain": [
       "<IPython.core.display.Javascript object>"
      ]
     },
     "metadata": {},
     "output_type": "display_data"
    },
    {
     "data": {
      "application/javascript": "\n        if (window._pyforest_update_imports_cell) { window._pyforest_update_imports_cell('import pandas as pd'); }\n    ",
      "text/plain": [
       "<IPython.core.display.Javascript object>"
      ]
     },
     "metadata": {},
     "output_type": "display_data"
    },
    {
     "data": {
      "application/javascript": "\n        if (window._pyforest_update_imports_cell) { window._pyforest_update_imports_cell('import pandas as pd'); }\n    ",
      "text/plain": [
       "<IPython.core.display.Javascript object>"
      ]
     },
     "metadata": {},
     "output_type": "display_data"
    },
    {
     "data": {
      "application/javascript": "\n        if (window._pyforest_update_imports_cell) { window._pyforest_update_imports_cell('import pandas as pd'); }\n    ",
      "text/plain": [
       "<IPython.core.display.Javascript object>"
      ]
     },
     "metadata": {},
     "output_type": "display_data"
    },
    {
     "data": {
      "application/javascript": "\n        if (window._pyforest_update_imports_cell) { window._pyforest_update_imports_cell('import pandas as pd'); }\n    ",
      "text/plain": [
       "<IPython.core.display.Javascript object>"
      ]
     },
     "metadata": {},
     "output_type": "display_data"
    },
    {
     "data": {
      "application/javascript": "\n        if (window._pyforest_update_imports_cell) { window._pyforest_update_imports_cell('import pandas as pd'); }\n    ",
      "text/plain": [
       "<IPython.core.display.Javascript object>"
      ]
     },
     "metadata": {},
     "output_type": "display_data"
    },
    {
     "data": {
      "application/javascript": "\n        if (window._pyforest_update_imports_cell) { window._pyforest_update_imports_cell('import pandas as pd'); }\n    ",
      "text/plain": [
       "<IPython.core.display.Javascript object>"
      ]
     },
     "metadata": {},
     "output_type": "display_data"
    },
    {
     "data": {
      "application/javascript": "\n        if (window._pyforest_update_imports_cell) { window._pyforest_update_imports_cell('import pandas as pd'); }\n    ",
      "text/plain": [
       "<IPython.core.display.Javascript object>"
      ]
     },
     "metadata": {},
     "output_type": "display_data"
    },
    {
     "data": {
      "application/javascript": "\n        if (window._pyforest_update_imports_cell) { window._pyforest_update_imports_cell('import pandas as pd'); }\n    ",
      "text/plain": [
       "<IPython.core.display.Javascript object>"
      ]
     },
     "metadata": {},
     "output_type": "display_data"
    },
    {
     "data": {
      "application/javascript": "\n        if (window._pyforest_update_imports_cell) { window._pyforest_update_imports_cell('import pandas as pd'); }\n    ",
      "text/plain": [
       "<IPython.core.display.Javascript object>"
      ]
     },
     "metadata": {},
     "output_type": "display_data"
    },
    {
     "data": {
      "application/javascript": "\n        if (window._pyforest_update_imports_cell) { window._pyforest_update_imports_cell('import pandas as pd'); }\n    ",
      "text/plain": [
       "<IPython.core.display.Javascript object>"
      ]
     },
     "metadata": {},
     "output_type": "display_data"
    },
    {
     "data": {
      "application/javascript": "\n        if (window._pyforest_update_imports_cell) { window._pyforest_update_imports_cell('import pandas as pd'); }\n    ",
      "text/plain": [
       "<IPython.core.display.Javascript object>"
      ]
     },
     "metadata": {},
     "output_type": "display_data"
    },
    {
     "data": {
      "application/javascript": "\n        if (window._pyforest_update_imports_cell) { window._pyforest_update_imports_cell('import pandas as pd'); }\n    ",
      "text/plain": [
       "<IPython.core.display.Javascript object>"
      ]
     },
     "metadata": {},
     "output_type": "display_data"
    },
    {
     "data": {
      "application/javascript": "\n        if (window._pyforest_update_imports_cell) { window._pyforest_update_imports_cell('import pandas as pd'); }\n    ",
      "text/plain": [
       "<IPython.core.display.Javascript object>"
      ]
     },
     "metadata": {},
     "output_type": "display_data"
    },
    {
     "data": {
      "application/javascript": "\n        if (window._pyforest_update_imports_cell) { window._pyforest_update_imports_cell('import pandas as pd'); }\n    ",
      "text/plain": [
       "<IPython.core.display.Javascript object>"
      ]
     },
     "metadata": {},
     "output_type": "display_data"
    },
    {
     "data": {
      "application/javascript": "\n        if (window._pyforest_update_imports_cell) { window._pyforest_update_imports_cell('import pandas as pd'); }\n    ",
      "text/plain": [
       "<IPython.core.display.Javascript object>"
      ]
     },
     "metadata": {},
     "output_type": "display_data"
    },
    {
     "data": {
      "application/javascript": "\n        if (window._pyforest_update_imports_cell) { window._pyforest_update_imports_cell('import pandas as pd'); }\n    ",
      "text/plain": [
       "<IPython.core.display.Javascript object>"
      ]
     },
     "metadata": {},
     "output_type": "display_data"
    },
    {
     "data": {
      "application/javascript": "\n        if (window._pyforest_update_imports_cell) { window._pyforest_update_imports_cell('import pandas as pd'); }\n    ",
      "text/plain": [
       "<IPython.core.display.Javascript object>"
      ]
     },
     "metadata": {},
     "output_type": "display_data"
    },
    {
     "data": {
      "application/javascript": "\n        if (window._pyforest_update_imports_cell) { window._pyforest_update_imports_cell('import pandas as pd'); }\n    ",
      "text/plain": [
       "<IPython.core.display.Javascript object>"
      ]
     },
     "metadata": {},
     "output_type": "display_data"
    },
    {
     "data": {
      "application/javascript": "\n        if (window._pyforest_update_imports_cell) { window._pyforest_update_imports_cell('import pandas as pd'); }\n    ",
      "text/plain": [
       "<IPython.core.display.Javascript object>"
      ]
     },
     "metadata": {},
     "output_type": "display_data"
    },
    {
     "data": {
      "application/javascript": "\n        if (window._pyforest_update_imports_cell) { window._pyforest_update_imports_cell('import pandas as pd'); }\n    ",
      "text/plain": [
       "<IPython.core.display.Javascript object>"
      ]
     },
     "metadata": {},
     "output_type": "display_data"
    },
    {
     "data": {
      "application/javascript": "\n        if (window._pyforest_update_imports_cell) { window._pyforest_update_imports_cell('import pandas as pd'); }\n    ",
      "text/plain": [
       "<IPython.core.display.Javascript object>"
      ]
     },
     "metadata": {},
     "output_type": "display_data"
    },
    {
     "data": {
      "application/javascript": "\n        if (window._pyforest_update_imports_cell) { window._pyforest_update_imports_cell('import pandas as pd'); }\n    ",
      "text/plain": [
       "<IPython.core.display.Javascript object>"
      ]
     },
     "metadata": {},
     "output_type": "display_data"
    },
    {
     "data": {
      "application/javascript": "\n        if (window._pyforest_update_imports_cell) { window._pyforest_update_imports_cell('import pandas as pd'); }\n    ",
      "text/plain": [
       "<IPython.core.display.Javascript object>"
      ]
     },
     "metadata": {},
     "output_type": "display_data"
    },
    {
     "data": {
      "application/javascript": "\n        if (window._pyforest_update_imports_cell) { window._pyforest_update_imports_cell('import pandas as pd'); }\n    ",
      "text/plain": [
       "<IPython.core.display.Javascript object>"
      ]
     },
     "metadata": {},
     "output_type": "display_data"
    },
    {
     "data": {
      "application/javascript": "\n        if (window._pyforest_update_imports_cell) { window._pyforest_update_imports_cell('import pandas as pd'); }\n    ",
      "text/plain": [
       "<IPython.core.display.Javascript object>"
      ]
     },
     "metadata": {},
     "output_type": "display_data"
    },
    {
     "data": {
      "application/javascript": "\n        if (window._pyforest_update_imports_cell) { window._pyforest_update_imports_cell('import pandas as pd'); }\n    ",
      "text/plain": [
       "<IPython.core.display.Javascript object>"
      ]
     },
     "metadata": {},
     "output_type": "display_data"
    },
    {
     "data": {
      "application/javascript": "\n        if (window._pyforest_update_imports_cell) { window._pyforest_update_imports_cell('import pandas as pd'); }\n    ",
      "text/plain": [
       "<IPython.core.display.Javascript object>"
      ]
     },
     "metadata": {},
     "output_type": "display_data"
    },
    {
     "data": {
      "application/javascript": "\n        if (window._pyforest_update_imports_cell) { window._pyforest_update_imports_cell('import pandas as pd'); }\n    ",
      "text/plain": [
       "<IPython.core.display.Javascript object>"
      ]
     },
     "metadata": {},
     "output_type": "display_data"
    },
    {
     "data": {
      "application/javascript": "\n        if (window._pyforest_update_imports_cell) { window._pyforest_update_imports_cell('import pandas as pd'); }\n    ",
      "text/plain": [
       "<IPython.core.display.Javascript object>"
      ]
     },
     "metadata": {},
     "output_type": "display_data"
    },
    {
     "data": {
      "application/javascript": "\n        if (window._pyforest_update_imports_cell) { window._pyforest_update_imports_cell('import pandas as pd'); }\n    ",
      "text/plain": [
       "<IPython.core.display.Javascript object>"
      ]
     },
     "metadata": {},
     "output_type": "display_data"
    },
    {
     "data": {
      "application/javascript": "\n        if (window._pyforest_update_imports_cell) { window._pyforest_update_imports_cell('import pandas as pd'); }\n    ",
      "text/plain": [
       "<IPython.core.display.Javascript object>"
      ]
     },
     "metadata": {},
     "output_type": "display_data"
    },
    {
     "data": {
      "application/javascript": "\n        if (window._pyforest_update_imports_cell) { window._pyforest_update_imports_cell('import pandas as pd'); }\n    ",
      "text/plain": [
       "<IPython.core.display.Javascript object>"
      ]
     },
     "metadata": {},
     "output_type": "display_data"
    },
    {
     "data": {
      "application/javascript": "\n        if (window._pyforest_update_imports_cell) { window._pyforest_update_imports_cell('import pandas as pd'); }\n    ",
      "text/plain": [
       "<IPython.core.display.Javascript object>"
      ]
     },
     "metadata": {},
     "output_type": "display_data"
    },
    {
     "data": {
      "application/javascript": "\n        if (window._pyforest_update_imports_cell) { window._pyforest_update_imports_cell('import pandas as pd'); }\n    ",
      "text/plain": [
       "<IPython.core.display.Javascript object>"
      ]
     },
     "metadata": {},
     "output_type": "display_data"
    },
    {
     "data": {
      "application/javascript": "\n        if (window._pyforest_update_imports_cell) { window._pyforest_update_imports_cell('import pandas as pd'); }\n    ",
      "text/plain": [
       "<IPython.core.display.Javascript object>"
      ]
     },
     "metadata": {},
     "output_type": "display_data"
    },
    {
     "data": {
      "text/html": [
       "<div>\n",
       "<style scoped>\n",
       "    .dataframe tbody tr th:only-of-type {\n",
       "        vertical-align: middle;\n",
       "    }\n",
       "\n",
       "    .dataframe tbody tr th {\n",
       "        vertical-align: top;\n",
       "    }\n",
       "\n",
       "    .dataframe thead th {\n",
       "        text-align: right;\n",
       "    }\n",
       "</style>\n",
       "<table border=\"1\" class=\"dataframe\">\n",
       "  <thead>\n",
       "    <tr style=\"text-align: right;\">\n",
       "      <th></th>\n",
       "      <th>datetime</th>\n",
       "      <th>value</th>\n",
       "    </tr>\n",
       "  </thead>\n",
       "  <tbody>\n",
       "    <tr>\n",
       "      <th>0</th>\n",
       "      <td>2023-01-01 00:00:00</td>\n",
       "      <td>5</td>\n",
       "    </tr>\n",
       "    <tr>\n",
       "      <th>1</th>\n",
       "      <td>2023-01-01 01:00:00</td>\n",
       "      <td>12</td>\n",
       "    </tr>\n",
       "    <tr>\n",
       "      <th>2</th>\n",
       "      <td>2023-01-01 02:00:00</td>\n",
       "      <td>12</td>\n",
       "    </tr>\n",
       "    <tr>\n",
       "      <th>3</th>\n",
       "      <td>2023-01-01 03:00:00</td>\n",
       "      <td>2</td>\n",
       "    </tr>\n",
       "    <tr>\n",
       "      <th>4</th>\n",
       "      <td>2023-01-01 04:00:00</td>\n",
       "      <td>7</td>\n",
       "    </tr>\n",
       "  </tbody>\n",
       "</table>\n",
       "</div>"
      ],
      "text/plain": [
       "             datetime  value\n",
       "0 2023-01-01 00:00:00      5\n",
       "1 2023-01-01 01:00:00     12\n",
       "2 2023-01-01 02:00:00     12\n",
       "3 2023-01-01 03:00:00      2\n",
       "4 2023-01-01 04:00:00      7"
      ]
     },
     "execution_count": 26,
     "metadata": {},
     "output_type": "execute_result"
    }
   ],
   "source": [
    "jun24_df = pd.read_csv(\"./mydata/traffic/counter 4/r4-lgv-data/jun-24.csv\")\n",
    "jun24_df=jun24_df.drop(['Count','Workday','7 Day'], axis=1)\n",
    "jun24_df = jun24_df.rename(columns={jun24_df.columns[0]: 'hour'})  # rename first column to 'hour'\n",
    "jun24_df_long = pd.melt(jun24_df, id_vars='hour', var_name='date', value_name='value')\n",
    "jun24_df_long['datetime'] = pd.to_datetime(jun24_df_long['date'].astype(str) + ' ' + jun24_df_long['hour'].astype(str))\n",
    "jun24_df_long = jun24_df_long[['datetime', 'value']].sort_values('datetime').reset_index(drop=True)\n",
    "jun24_df_long.head()\n",
    "\n",
    "jun23_df = pd.read_csv(\"./mydata/traffic/counter 4/r4-lgv-data/jun-23.csv\")\n",
    "jun23_df=jun23_df.drop(['Count','Workday','7 Day'], axis=1)\n",
    "jun23_df = jun23_df.rename(columns={jun23_df.columns[0]: 'hour'})  # rename first column to 'hour'\n",
    "jun23_df_long = pd.melt(jun23_df, id_vars='hour', var_name='date', value_name='value')\n",
    "jun23_df_long['datetime'] = pd.to_datetime(jun23_df_long['date'].astype(str) + ' ' + jun23_df_long['hour'].astype(str))\n",
    "jun23_df_long = jun23_df_long[['datetime', 'value']].sort_values('datetime').reset_index(drop=True)\n",
    "jun23_df_long.head()\n",
    "\n",
    "may24_df = pd.read_csv(\"./mydata/traffic/counter 4/r4-lgv-data/may-24.csv\")\n",
    "may24_df=may24_df.drop(['Count','Workday','7 Day'], axis=1)\n",
    "may24_df = may24_df.rename(columns={may24_df.columns[0]: 'hour'})  # rename first column to 'hour'\n",
    "may24_df_long = pd.melt(may24_df, id_vars='hour', var_name='date', value_name='value')\n",
    "may24_df_long['datetime'] = pd.to_datetime(may24_df_long['date'].astype(str) + ' ' + may24_df_long['hour'].astype(str))\n",
    "may24_df_long = may24_df_long[['datetime', 'value']].sort_values('datetime').reset_index(drop=True)\n",
    "may24_df_long.head()\n",
    "\n",
    "may23_df = pd.read_csv(\"./mydata/traffic/counter 4/r4-lgv-data/may-23.csv\")\n",
    "may23_df=may23_df.drop(['Count','Workday','7 Day'], axis=1)\n",
    "may23_df = may23_df.rename(columns={may23_df.columns[0]: 'hour'})  # rename first column to 'hour'\n",
    "may23_df_long = pd.melt(may23_df, id_vars='hour', var_name='date', value_name='value')\n",
    "may23_df_long['datetime'] = pd.to_datetime(may23_df_long['date'].astype(str) + ' ' + may23_df_long['hour'].astype(str))\n",
    "may23_df_long = may23_df_long[['datetime', 'value']].sort_values('datetime').reset_index(drop=True)\n",
    "may23_df_long.head()\n",
    "\n",
    "apr24_df = pd.read_csv(\"./mydata/traffic/counter 4/r4-lgv-data/apr-24.csv\")\n",
    "apr24_df=apr24_df.drop(['Count','Workday','7 Day'], axis=1)\n",
    "apr24_df = apr24_df.rename(columns={apr24_df.columns[0]: 'hour'})  # rename first column to 'hour'\n",
    "apr24_df_long = pd.melt(apr24_df, id_vars='hour', var_name='date', value_name='value')\n",
    "apr24_df_long['datetime'] = pd.to_datetime(apr24_df_long['date'].astype(str) + ' ' + apr24_df_long['hour'].astype(str))\n",
    "apr24_df_long = apr24_df_long[['datetime', 'value']].sort_values('datetime').reset_index(drop=True)\n",
    "apr24_df_long.head()\n",
    "\n",
    "apr23_df = pd.read_csv(\"./mydata/traffic/counter 4/r4-lgv-data/apr-23.csv\")\n",
    "apr23_df=apr23_df.drop(['Count','Workday','7 Day'], axis=1)\n",
    "apr23_df = apr23_df.rename(columns={apr23_df.columns[0]: 'hour'})  # rename first column to 'hour'\n",
    "apr23_df_long = pd.melt(apr23_df, id_vars='hour', var_name='date', value_name='value')\n",
    "apr23_df_long['datetime'] = pd.to_datetime(apr23_df_long['date'].astype(str) + ' ' + apr23_df_long['hour'].astype(str))\n",
    "apr23_df_long = apr23_df_long[['datetime', 'value']].sort_values('datetime').reset_index(drop=True)\n",
    "apr23_df_long.head()\n",
    "\n",
    "mar24_df = pd.read_csv(\"./mydata/traffic/counter 4/r4-lgv-data/mar-24.csv\")\n",
    "mar24_df=mar24_df.drop(['Count','Workday','7 Day'], axis=1)\n",
    "mar24_df =mar24_df.rename(columns={mar24_df.columns[0]: 'hour'})  # rename first column to 'hour'\n",
    "mar24_df_long = pd.melt(mar24_df, id_vars='hour', var_name='date', value_name='value')\n",
    "mar24_df_long['datetime'] = pd.to_datetime(mar24_df_long['date'].astype(str) + ' ' + mar24_df_long['hour'].astype(str))\n",
    "mar24_df_long = mar24_df_long[['datetime', 'value']].sort_values('datetime').reset_index(drop=True)\n",
    "mar24_df_long.head()\n",
    "\n",
    "mar23_df = pd.read_csv(\"./mydata/traffic/counter 4/r4-lgv-data/mar-23.csv\")\n",
    "mar23_df=mar23_df.drop(['Count','Workday','7 Day'], axis=1)\n",
    "mar23_df =mar23_df.rename(columns={mar23_df.columns[0]: 'hour'})  # rename first column to 'hour'\n",
    "mar23_df_long = pd.melt(mar23_df, id_vars='hour', var_name='date', value_name='value')\n",
    "mar23_df_long['datetime'] = pd.to_datetime(mar23_df_long['date'].astype(str) + ' ' + mar23_df_long['hour'].astype(str))\n",
    "mar23_df_long = mar23_df_long[['datetime', 'value']].sort_values('datetime').reset_index(drop=True)\n",
    "mar23_df_long.head()\n",
    "\n",
    "feb24_df = pd.read_csv(\"./mydata/traffic/counter 4/r4-lgv-data/feb-24.csv\")\n",
    "feb24_df=feb24_df.drop(['Count','Workday','7 Day'], axis=1)\n",
    "feb24_df =feb24_df.rename(columns={feb24_df.columns[0]: 'hour'})  # rename first column to 'hour'\n",
    "feb24_df_long = pd.melt(feb24_df, id_vars='hour', var_name='date', value_name='value')\n",
    "feb24_df_long['datetime'] = pd.to_datetime(feb24_df_long['date'].astype(str) + ' ' + feb24_df_long['hour'].astype(str))\n",
    "feb24_df_long = feb24_df_long[['datetime', 'value']].sort_values('datetime').reset_index(drop=True)\n",
    "feb24_df_long.head()\n",
    "\n",
    "feb23_df = pd.read_csv(\"./mydata/traffic/counter 4/r4-lgv-data/feb-23.csv\")\n",
    "feb23_df=feb23_df.drop(['Count','Workday','7 Day'], axis=1)\n",
    "feb23_df =feb23_df.rename(columns={feb23_df.columns[0]: 'hour'})  # rename first column to 'hour'\n",
    "feb23_df_long = pd.melt(feb23_df, id_vars='hour', var_name='date', value_name='value')\n",
    "feb23_df_long['datetime'] = pd.to_datetime(feb23_df_long['date'].astype(str) + ' ' + feb23_df_long['hour'].astype(str))\n",
    "feb23_df_long = feb23_df_long[['datetime', 'value']].sort_values('datetime').reset_index(drop=True)\n",
    "feb23_df_long.head()\n",
    "\n",
    "jan24_df = pd.read_csv(\"./mydata/traffic/counter 4/r4-lgv-data/jan-24.csv\")\n",
    "jan24_df=jan24_df.drop(['Count','Workday','7 Day'], axis=1)\n",
    "jan24_df =jan24_df.rename(columns={jan24_df.columns[0]: 'hour'})  # rename first column to 'hour'\n",
    "jan24_df_long = pd.melt(jan24_df, id_vars='hour', var_name='date', value_name='value')\n",
    "jan24_df_long['datetime'] = pd.to_datetime(jan24_df_long['date'].astype(str) + ' ' + jan24_df_long['hour'].astype(str))\n",
    "jan24_df_long = jan24_df_long[['datetime', 'value']].sort_values('datetime').reset_index(drop=True)\n",
    "jan24_df_long.head()\n",
    "\n",
    "jan23_df = pd.read_csv(\"./mydata/traffic/counter 4/r4-lgv-data/jan-23.csv\")\n",
    "jan23_df=jan23_df.drop(['Count','Workday','7 Day'], axis=1)\n",
    "jan23_df =jan23_df.rename(columns={jan23_df.columns[0]: 'hour'})  # rename first column to 'hour'\n",
    "jan23_df_long = pd.melt(jan23_df, id_vars='hour', var_name='date', value_name='value')\n",
    "jan23_df_long['datetime'] = pd.to_datetime(jan23_df_long['date'].astype(str) + ' ' + jan23_df_long['hour'].astype(str))\n",
    "jan23_df_long = jan23_df_long[['datetime', 'value']].sort_values('datetime').reset_index(drop=True)\n",
    "jan23_df_long.head()\n",
    "\n",
    "dec23_df = pd.read_csv(\"./mydata/traffic/counter 4/r4-lgv-data/dec-23.csv\")\n",
    "dec23_df=dec23_df.drop(['Count','Workday','7 Day'], axis=1)\n",
    "dec23_df =dec23_df.rename(columns={dec23_df.columns[0]: 'hour'})  # rename first column to 'hour'\n",
    "dec23_df_long = pd.melt(dec23_df, id_vars='hour', var_name='date', value_name='value')\n",
    "dec23_df_long['datetime'] = pd.to_datetime(dec23_df_long['date'].astype(str) + ' ' + dec23_df_long['hour'].astype(str))\n",
    "dec23_df_long = dec23_df_long[['datetime', 'value']].sort_values('datetime').reset_index(drop=True)\n",
    "dec23_df_long.head()\n",
    "\n",
    "nov23_df = pd.read_csv(\"./mydata/traffic/counter 4/r4-lgv-data/nov-23.csv\")\n",
    "nov23_df=nov23_df.drop(['Count','Workday','7 Day'], axis=1)\n",
    "nov23_df =nov23_df.rename(columns={nov23_df.columns[0]: 'hour'})  # rename first column to 'hour'\n",
    "nov23_df_long = pd.melt(nov23_df, id_vars='hour', var_name='date', value_name='value')\n",
    "nov23_df_long['datetime'] = pd.to_datetime(nov23_df_long['date'].astype(str) + ' ' + nov23_df_long['hour'].astype(str))\n",
    "nov23_df_long = nov23_df_long[['datetime', 'value']].sort_values('datetime').reset_index(drop=True)\n",
    "nov23_df_long.head()\n",
    "\n",
    "oct23_df = pd.read_csv(\"./mydata/traffic/counter 4/r4-lgv-data/oct-23.csv\")\n",
    "oct23_df=oct23_df.drop(['Count','Workday','7 Day'], axis=1)\n",
    "oct23_df =oct23_df.rename(columns={oct23_df.columns[0]: 'hour'})  # rename first column to 'hour'\n",
    "oct23_df_long = pd.melt(oct23_df, id_vars='hour', var_name='date', value_name='value')\n",
    "oct23_df_long['datetime'] = pd.to_datetime(oct23_df_long['date'].astype(str) + ' ' + oct23_df_long['hour'].astype(str))\n",
    "oct23_df_long = oct23_df_long[['datetime', 'value']].sort_values('datetime').reset_index(drop=True)\n",
    "oct23_df_long.head()\n",
    "\n",
    "sep23_df = pd.read_csv(\"./mydata/traffic/counter 4/r4-lgv-data/sep-23.csv\")\n",
    "sep23_df=sep23_df.drop(['Count','Workday','7 Day'], axis=1)\n",
    "sep23_df =sep23_df.rename(columns={sep23_df.columns[0]: 'hour'})  # rename first column to 'hour'\n",
    "sep23_df_long = pd.melt(sep23_df, id_vars='hour', var_name='date', value_name='value')\n",
    "sep23_df_long['datetime'] = pd.to_datetime(sep23_df_long['date'].astype(str) + ' ' + sep23_df_long['hour'].astype(str))\n",
    "sep23_df_long = sep23_df_long[['datetime', 'value']].sort_values('datetime').reset_index(drop=True)\n",
    "sep23_df_long.head()\n",
    "\n",
    "aug23_df = pd.read_csv(\"./mydata/traffic/counter 4/r4-lgv-data/aug-23.csv\")\n",
    "aug23_df=aug23_df.drop(['Count','Workday','7 Day'], axis=1)\n",
    "aug23_df =aug23_df.rename(columns={aug23_df.columns[0]: 'hour'})  # rename first column to 'hour'\n",
    "aug23_df_long = pd.melt(aug23_df, id_vars='hour', var_name='date', value_name='value')\n",
    "aug23_df_long['datetime'] = pd.to_datetime(aug23_df_long['date'].astype(str) + ' ' + aug23_df_long['hour'].astype(str))\n",
    "aug23_df_long = aug23_df_long[['datetime', 'value']].sort_values('datetime').reset_index(drop=True)\n",
    "aug23_df_long.head()\n",
    "\n",
    "aug24_df = pd.read_csv(\"./mydata/traffic/counter 4/r4-lgv-data/aug-24.csv\")\n",
    "aug24_df=aug24_df.drop(['Count','Workday','7 Day'], axis=1)\n",
    "aug24_df =aug24_df.rename(columns={aug24_df.columns[0]: 'hour'})  # rename first column to 'hour'\n",
    "aug24_df_long = pd.melt(aug24_df, id_vars='hour', var_name='date', value_name='value')\n",
    "aug24_df_long['datetime'] = pd.to_datetime(aug24_df_long['date'].astype(str) + ' ' + aug24_df_long['hour'].astype(str))\n",
    "aug24_df_long = aug24_df_long[['datetime', 'value']].sort_values('datetime').reset_index(drop=True)\n",
    "aug24_df_long.head()\n",
    "\n",
    "jul23_df = pd.read_csv(\"./mydata/traffic/counter 4/r4-lgv-data/jul-23.csv\")\n",
    "jul23_df=jul23_df.drop(['Count','Workday','7 Day'], axis=1)\n",
    "jul23_df =jul23_df.rename(columns={jul23_df.columns[0]: 'hour'})  # rename first column to 'hour'\n",
    "jul23_df_long = pd.melt(jul23_df, id_vars='hour', var_name='date', value_name='value')\n",
    "jul23_df_long['datetime'] = pd.to_datetime(jul23_df_long['date'].astype(str) + ' ' + jul23_df_long['hour'].astype(str))\n",
    "jul23_df_long = jul23_df_long[['datetime', 'value']].sort_values('datetime').reset_index(drop=True)\n",
    "jul23_df_long.head()\n",
    "\n",
    "jul24_df = pd.read_csv(\"./mydata/traffic/counter 4/r4-lgv-data/jul-24.csv\")\n",
    "jul24_df=jul24_df.drop(['Count','Workday','7 Day'], axis=1)\n",
    "jul24_df =jul24_df.rename(columns={jul24_df.columns[0]: 'hour'})  # rename first column to 'hour'\n",
    "jul24_df_long = pd.melt(jul24_df, id_vars='hour', var_name='date', value_name='value')\n",
    "jul24_df_long['datetime'] = pd.to_datetime(jul24_df_long['date'].astype(str) + ' ' + jul24_df_long['hour'].astype(str))\n",
    "jul24_df_long = jul24_df_long[['datetime', 'value']].sort_values('datetime').reset_index(drop=True)\n",
    "jul24_df_long.head()\n",
    "\n",
    "combined_df = pd.concat([jul24_df_long, aug24_df_long], ignore_index=True)\n",
    "combined_df = pd.concat([jun24_df_long, combined_df], ignore_index=True)\n",
    "combined_df = pd.concat([may24_df_long, combined_df], ignore_index=True)\n",
    "combined_df = pd.concat([apr24_df_long, combined_df], ignore_index=True)\n",
    "combined_df = pd.concat([mar24_df_long, combined_df], ignore_index=True)\n",
    "combined_df = pd.concat([feb24_df_long, combined_df], ignore_index=True)\n",
    "combined_df = pd.concat([jan24_df_long, combined_df], ignore_index=True)\n",
    "combined_df = pd.concat([dec23_df_long, combined_df], ignore_index=True)\n",
    "combined_df = pd.concat([nov23_df_long, combined_df], ignore_index=True)\n",
    "combined_df = pd.concat([oct23_df_long, combined_df], ignore_index=True)\n",
    "combined_df = pd.concat([sep23_df_long, combined_df], ignore_index=True)\n",
    "combined_df = pd.concat([aug23_df_long, combined_df], ignore_index=True)\n",
    "combined_df = pd.concat([jul23_df_long, combined_df], ignore_index=True)\n",
    "combined_df = pd.concat([jun23_df_long, combined_df], ignore_index=True)\n",
    "combined_df = pd.concat([may23_df_long, combined_df], ignore_index=True)\n",
    "combined_df = pd.concat([apr23_df_long, combined_df], ignore_index=True)\n",
    "combined_df = pd.concat([mar23_df_long, combined_df], ignore_index=True)\n",
    "combined_df = pd.concat([feb23_df_long, combined_df], ignore_index=True)\n",
    "combined_df2_1 = pd.concat([jan23_df_long, combined_df], ignore_index=True)\n",
    "combined_df2_1.head()"
   ]
  },
  {
   "cell_type": "code",
   "execution_count": 27,
   "id": "d7fa49bb",
   "metadata": {},
   "outputs": [
    {
     "data": {
      "text/html": [
       "<div>\n",
       "<style scoped>\n",
       "    .dataframe tbody tr th:only-of-type {\n",
       "        vertical-align: middle;\n",
       "    }\n",
       "\n",
       "    .dataframe tbody tr th {\n",
       "        vertical-align: top;\n",
       "    }\n",
       "\n",
       "    .dataframe thead th {\n",
       "        text-align: right;\n",
       "    }\n",
       "</style>\n",
       "<table border=\"1\" class=\"dataframe\">\n",
       "  <thead>\n",
       "    <tr style=\"text-align: right;\">\n",
       "      <th></th>\n",
       "      <th>datetime</th>\n",
       "      <th>value</th>\n",
       "    </tr>\n",
       "  </thead>\n",
       "  <tbody>\n",
       "    <tr>\n",
       "      <th>14611</th>\n",
       "      <td>2024-08-31 19:00:00</td>\n",
       "      <td>52</td>\n",
       "    </tr>\n",
       "    <tr>\n",
       "      <th>14612</th>\n",
       "      <td>2024-08-31 20:00:00</td>\n",
       "      <td>51</td>\n",
       "    </tr>\n",
       "    <tr>\n",
       "      <th>14613</th>\n",
       "      <td>2024-08-31 21:00:00</td>\n",
       "      <td>36</td>\n",
       "    </tr>\n",
       "    <tr>\n",
       "      <th>14614</th>\n",
       "      <td>2024-08-31 22:00:00</td>\n",
       "      <td>29</td>\n",
       "    </tr>\n",
       "    <tr>\n",
       "      <th>14615</th>\n",
       "      <td>2024-08-31 23:00:00</td>\n",
       "      <td>17</td>\n",
       "    </tr>\n",
       "  </tbody>\n",
       "</table>\n",
       "</div>"
      ],
      "text/plain": [
       "                 datetime  value\n",
       "14611 2024-08-31 19:00:00     52\n",
       "14612 2024-08-31 20:00:00     51\n",
       "14613 2024-08-31 21:00:00     36\n",
       "14614 2024-08-31 22:00:00     29\n",
       "14615 2024-08-31 23:00:00     17"
      ]
     },
     "execution_count": 27,
     "metadata": {},
     "output_type": "execute_result"
    }
   ],
   "source": [
    "combined_df2_1.tail()\n"
   ]
  },
  {
   "cell_type": "code",
   "execution_count": 29,
   "id": "7e95b4cf",
   "metadata": {},
   "outputs": [],
   "source": [
    "combined_df2_1.to_csv('./mydata/traffic/counter 4/r4-lgv-data/2023-24_lgv_cnt.csv')"
   ]
  },
  {
   "cell_type": "code",
   "execution_count": 34,
   "id": "48173a44",
   "metadata": {},
   "outputs": [
    {
     "data": {
      "application/javascript": "\n        if (window._pyforest_update_imports_cell) { window._pyforest_update_imports_cell('import pandas as pd'); }\n    ",
      "text/plain": [
       "<IPython.core.display.Javascript object>"
      ]
     },
     "metadata": {},
     "output_type": "display_data"
    },
    {
     "data": {
      "text/html": [
       "<div>\n",
       "<style scoped>\n",
       "    .dataframe tbody tr th:only-of-type {\n",
       "        vertical-align: middle;\n",
       "    }\n",
       "\n",
       "    .dataframe tbody tr th {\n",
       "        vertical-align: top;\n",
       "    }\n",
       "\n",
       "    .dataframe thead th {\n",
       "        text-align: right;\n",
       "    }\n",
       "</style>\n",
       "<table border=\"1\" class=\"dataframe\">\n",
       "  <thead>\n",
       "    <tr style=\"text-align: right;\">\n",
       "      <th></th>\n",
       "      <th>Unnamed: 0</th>\n",
       "      <th>datetime</th>\n",
       "      <th>value</th>\n",
       "    </tr>\n",
       "  </thead>\n",
       "  <tbody>\n",
       "    <tr>\n",
       "      <th>0</th>\n",
       "      <td>0</td>\n",
       "      <td>2023-01-01 00:00:00</td>\n",
       "      <td>5</td>\n",
       "    </tr>\n",
       "    <tr>\n",
       "      <th>1</th>\n",
       "      <td>1</td>\n",
       "      <td>2023-01-01 01:00:00</td>\n",
       "      <td>12</td>\n",
       "    </tr>\n",
       "    <tr>\n",
       "      <th>2</th>\n",
       "      <td>2</td>\n",
       "      <td>2023-01-01 02:00:00</td>\n",
       "      <td>12</td>\n",
       "    </tr>\n",
       "    <tr>\n",
       "      <th>3</th>\n",
       "      <td>3</td>\n",
       "      <td>2023-01-01 03:00:00</td>\n",
       "      <td>2</td>\n",
       "    </tr>\n",
       "    <tr>\n",
       "      <th>4</th>\n",
       "      <td>4</td>\n",
       "      <td>2023-01-01 04:00:00</td>\n",
       "      <td>7</td>\n",
       "    </tr>\n",
       "  </tbody>\n",
       "</table>\n",
       "</div>"
      ],
      "text/plain": [
       "   Unnamed: 0             datetime  value\n",
       "0           0  2023-01-01 00:00:00      5\n",
       "1           1  2023-01-01 01:00:00     12\n",
       "2           2  2023-01-01 02:00:00     12\n",
       "3           3  2023-01-01 03:00:00      2\n",
       "4           4  2023-01-01 04:00:00      7"
      ]
     },
     "execution_count": 34,
     "metadata": {},
     "output_type": "execute_result"
    }
   ],
   "source": [
    "r4_lgv=pd.read_csv('./mydata/traffic/counter 4/r4-lgv-data/2023-24_lgv_cnt.csv')\n",
    "r4_lgv.head()"
   ]
  },
  {
   "cell_type": "markdown",
   "id": "8c7cf0bc",
   "metadata": {},
   "source": [
    "## Preparing data from Traffic Counters - HGV DATA\n",
    "same code ran for counter 1,2,3 and 4 by changing the paths"
   ]
  },
  {
   "cell_type": "code",
   "execution_count": 30,
   "id": "2aba4fdc",
   "metadata": {},
   "outputs": [
    {
     "data": {
      "application/javascript": "\n        if (window._pyforest_update_imports_cell) { window._pyforest_update_imports_cell('import pandas as pd'); }\n    ",
      "text/plain": [
       "<IPython.core.display.Javascript object>"
      ]
     },
     "metadata": {},
     "output_type": "display_data"
    },
    {
     "data": {
      "application/javascript": "\n        if (window._pyforest_update_imports_cell) { window._pyforest_update_imports_cell('import pandas as pd'); }\n    ",
      "text/plain": [
       "<IPython.core.display.Javascript object>"
      ]
     },
     "metadata": {},
     "output_type": "display_data"
    },
    {
     "data": {
      "application/javascript": "\n        if (window._pyforest_update_imports_cell) { window._pyforest_update_imports_cell('import pandas as pd'); }\n    ",
      "text/plain": [
       "<IPython.core.display.Javascript object>"
      ]
     },
     "metadata": {},
     "output_type": "display_data"
    },
    {
     "data": {
      "application/javascript": "\n        if (window._pyforest_update_imports_cell) { window._pyforest_update_imports_cell('import pandas as pd'); }\n    ",
      "text/plain": [
       "<IPython.core.display.Javascript object>"
      ]
     },
     "metadata": {},
     "output_type": "display_data"
    },
    {
     "data": {
      "application/javascript": "\n        if (window._pyforest_update_imports_cell) { window._pyforest_update_imports_cell('import pandas as pd'); }\n    ",
      "text/plain": [
       "<IPython.core.display.Javascript object>"
      ]
     },
     "metadata": {},
     "output_type": "display_data"
    },
    {
     "data": {
      "application/javascript": "\n        if (window._pyforest_update_imports_cell) { window._pyforest_update_imports_cell('import pandas as pd'); }\n    ",
      "text/plain": [
       "<IPython.core.display.Javascript object>"
      ]
     },
     "metadata": {},
     "output_type": "display_data"
    },
    {
     "data": {
      "application/javascript": "\n        if (window._pyforest_update_imports_cell) { window._pyforest_update_imports_cell('import pandas as pd'); }\n    ",
      "text/plain": [
       "<IPython.core.display.Javascript object>"
      ]
     },
     "metadata": {},
     "output_type": "display_data"
    },
    {
     "data": {
      "application/javascript": "\n        if (window._pyforest_update_imports_cell) { window._pyforest_update_imports_cell('import pandas as pd'); }\n    ",
      "text/plain": [
       "<IPython.core.display.Javascript object>"
      ]
     },
     "metadata": {},
     "output_type": "display_data"
    },
    {
     "data": {
      "application/javascript": "\n        if (window._pyforest_update_imports_cell) { window._pyforest_update_imports_cell('import pandas as pd'); }\n    ",
      "text/plain": [
       "<IPython.core.display.Javascript object>"
      ]
     },
     "metadata": {},
     "output_type": "display_data"
    },
    {
     "data": {
      "application/javascript": "\n        if (window._pyforest_update_imports_cell) { window._pyforest_update_imports_cell('import pandas as pd'); }\n    ",
      "text/plain": [
       "<IPython.core.display.Javascript object>"
      ]
     },
     "metadata": {},
     "output_type": "display_data"
    },
    {
     "data": {
      "application/javascript": "\n        if (window._pyforest_update_imports_cell) { window._pyforest_update_imports_cell('import pandas as pd'); }\n    ",
      "text/plain": [
       "<IPython.core.display.Javascript object>"
      ]
     },
     "metadata": {},
     "output_type": "display_data"
    },
    {
     "data": {
      "application/javascript": "\n        if (window._pyforest_update_imports_cell) { window._pyforest_update_imports_cell('import pandas as pd'); }\n    ",
      "text/plain": [
       "<IPython.core.display.Javascript object>"
      ]
     },
     "metadata": {},
     "output_type": "display_data"
    },
    {
     "data": {
      "application/javascript": "\n        if (window._pyforest_update_imports_cell) { window._pyforest_update_imports_cell('import pandas as pd'); }\n    ",
      "text/plain": [
       "<IPython.core.display.Javascript object>"
      ]
     },
     "metadata": {},
     "output_type": "display_data"
    },
    {
     "data": {
      "application/javascript": "\n        if (window._pyforest_update_imports_cell) { window._pyforest_update_imports_cell('import pandas as pd'); }\n    ",
      "text/plain": [
       "<IPython.core.display.Javascript object>"
      ]
     },
     "metadata": {},
     "output_type": "display_data"
    },
    {
     "data": {
      "application/javascript": "\n        if (window._pyforest_update_imports_cell) { window._pyforest_update_imports_cell('import pandas as pd'); }\n    ",
      "text/plain": [
       "<IPython.core.display.Javascript object>"
      ]
     },
     "metadata": {},
     "output_type": "display_data"
    },
    {
     "data": {
      "application/javascript": "\n        if (window._pyforest_update_imports_cell) { window._pyforest_update_imports_cell('import pandas as pd'); }\n    ",
      "text/plain": [
       "<IPython.core.display.Javascript object>"
      ]
     },
     "metadata": {},
     "output_type": "display_data"
    },
    {
     "data": {
      "application/javascript": "\n        if (window._pyforest_update_imports_cell) { window._pyforest_update_imports_cell('import pandas as pd'); }\n    ",
      "text/plain": [
       "<IPython.core.display.Javascript object>"
      ]
     },
     "metadata": {},
     "output_type": "display_data"
    },
    {
     "data": {
      "application/javascript": "\n        if (window._pyforest_update_imports_cell) { window._pyforest_update_imports_cell('import pandas as pd'); }\n    ",
      "text/plain": [
       "<IPython.core.display.Javascript object>"
      ]
     },
     "metadata": {},
     "output_type": "display_data"
    },
    {
     "data": {
      "application/javascript": "\n        if (window._pyforest_update_imports_cell) { window._pyforest_update_imports_cell('import pandas as pd'); }\n    ",
      "text/plain": [
       "<IPython.core.display.Javascript object>"
      ]
     },
     "metadata": {},
     "output_type": "display_data"
    },
    {
     "data": {
      "application/javascript": "\n        if (window._pyforest_update_imports_cell) { window._pyforest_update_imports_cell('import pandas as pd'); }\n    ",
      "text/plain": [
       "<IPython.core.display.Javascript object>"
      ]
     },
     "metadata": {},
     "output_type": "display_data"
    },
    {
     "data": {
      "application/javascript": "\n        if (window._pyforest_update_imports_cell) { window._pyforest_update_imports_cell('import pandas as pd'); }\n    ",
      "text/plain": [
       "<IPython.core.display.Javascript object>"
      ]
     },
     "metadata": {},
     "output_type": "display_data"
    },
    {
     "data": {
      "application/javascript": "\n        if (window._pyforest_update_imports_cell) { window._pyforest_update_imports_cell('import pandas as pd'); }\n    ",
      "text/plain": [
       "<IPython.core.display.Javascript object>"
      ]
     },
     "metadata": {},
     "output_type": "display_data"
    },
    {
     "data": {
      "application/javascript": "\n        if (window._pyforest_update_imports_cell) { window._pyforest_update_imports_cell('import pandas as pd'); }\n    ",
      "text/plain": [
       "<IPython.core.display.Javascript object>"
      ]
     },
     "metadata": {},
     "output_type": "display_data"
    },
    {
     "data": {
      "application/javascript": "\n        if (window._pyforest_update_imports_cell) { window._pyforest_update_imports_cell('import pandas as pd'); }\n    ",
      "text/plain": [
       "<IPython.core.display.Javascript object>"
      ]
     },
     "metadata": {},
     "output_type": "display_data"
    },
    {
     "data": {
      "application/javascript": "\n        if (window._pyforest_update_imports_cell) { window._pyforest_update_imports_cell('import pandas as pd'); }\n    ",
      "text/plain": [
       "<IPython.core.display.Javascript object>"
      ]
     },
     "metadata": {},
     "output_type": "display_data"
    },
    {
     "data": {
      "application/javascript": "\n        if (window._pyforest_update_imports_cell) { window._pyforest_update_imports_cell('import pandas as pd'); }\n    ",
      "text/plain": [
       "<IPython.core.display.Javascript object>"
      ]
     },
     "metadata": {},
     "output_type": "display_data"
    },
    {
     "data": {
      "application/javascript": "\n        if (window._pyforest_update_imports_cell) { window._pyforest_update_imports_cell('import pandas as pd'); }\n    ",
      "text/plain": [
       "<IPython.core.display.Javascript object>"
      ]
     },
     "metadata": {},
     "output_type": "display_data"
    },
    {
     "data": {
      "application/javascript": "\n        if (window._pyforest_update_imports_cell) { window._pyforest_update_imports_cell('import pandas as pd'); }\n    ",
      "text/plain": [
       "<IPython.core.display.Javascript object>"
      ]
     },
     "metadata": {},
     "output_type": "display_data"
    },
    {
     "data": {
      "application/javascript": "\n        if (window._pyforest_update_imports_cell) { window._pyforest_update_imports_cell('import pandas as pd'); }\n    ",
      "text/plain": [
       "<IPython.core.display.Javascript object>"
      ]
     },
     "metadata": {},
     "output_type": "display_data"
    },
    {
     "data": {
      "application/javascript": "\n        if (window._pyforest_update_imports_cell) { window._pyforest_update_imports_cell('import pandas as pd'); }\n    ",
      "text/plain": [
       "<IPython.core.display.Javascript object>"
      ]
     },
     "metadata": {},
     "output_type": "display_data"
    },
    {
     "data": {
      "application/javascript": "\n        if (window._pyforest_update_imports_cell) { window._pyforest_update_imports_cell('import pandas as pd'); }\n    ",
      "text/plain": [
       "<IPython.core.display.Javascript object>"
      ]
     },
     "metadata": {},
     "output_type": "display_data"
    },
    {
     "data": {
      "application/javascript": "\n        if (window._pyforest_update_imports_cell) { window._pyforest_update_imports_cell('import pandas as pd'); }\n    ",
      "text/plain": [
       "<IPython.core.display.Javascript object>"
      ]
     },
     "metadata": {},
     "output_type": "display_data"
    },
    {
     "data": {
      "application/javascript": "\n        if (window._pyforest_update_imports_cell) { window._pyforest_update_imports_cell('import pandas as pd'); }\n    ",
      "text/plain": [
       "<IPython.core.display.Javascript object>"
      ]
     },
     "metadata": {},
     "output_type": "display_data"
    },
    {
     "data": {
      "application/javascript": "\n        if (window._pyforest_update_imports_cell) { window._pyforest_update_imports_cell('import pandas as pd'); }\n    ",
      "text/plain": [
       "<IPython.core.display.Javascript object>"
      ]
     },
     "metadata": {},
     "output_type": "display_data"
    },
    {
     "data": {
      "application/javascript": "\n        if (window._pyforest_update_imports_cell) { window._pyforest_update_imports_cell('import pandas as pd'); }\n    ",
      "text/plain": [
       "<IPython.core.display.Javascript object>"
      ]
     },
     "metadata": {},
     "output_type": "display_data"
    },
    {
     "data": {
      "application/javascript": "\n        if (window._pyforest_update_imports_cell) { window._pyforest_update_imports_cell('import pandas as pd'); }\n    ",
      "text/plain": [
       "<IPython.core.display.Javascript object>"
      ]
     },
     "metadata": {},
     "output_type": "display_data"
    },
    {
     "data": {
      "application/javascript": "\n        if (window._pyforest_update_imports_cell) { window._pyforest_update_imports_cell('import pandas as pd'); }\n    ",
      "text/plain": [
       "<IPython.core.display.Javascript object>"
      ]
     },
     "metadata": {},
     "output_type": "display_data"
    },
    {
     "data": {
      "application/javascript": "\n        if (window._pyforest_update_imports_cell) { window._pyforest_update_imports_cell('import pandas as pd'); }\n    ",
      "text/plain": [
       "<IPython.core.display.Javascript object>"
      ]
     },
     "metadata": {},
     "output_type": "display_data"
    },
    {
     "data": {
      "application/javascript": "\n        if (window._pyforest_update_imports_cell) { window._pyforest_update_imports_cell('import pandas as pd'); }\n    ",
      "text/plain": [
       "<IPython.core.display.Javascript object>"
      ]
     },
     "metadata": {},
     "output_type": "display_data"
    },
    {
     "data": {
      "application/javascript": "\n        if (window._pyforest_update_imports_cell) { window._pyforest_update_imports_cell('import pandas as pd'); }\n    ",
      "text/plain": [
       "<IPython.core.display.Javascript object>"
      ]
     },
     "metadata": {},
     "output_type": "display_data"
    },
    {
     "data": {
      "application/javascript": "\n        if (window._pyforest_update_imports_cell) { window._pyforest_update_imports_cell('import pandas as pd'); }\n    ",
      "text/plain": [
       "<IPython.core.display.Javascript object>"
      ]
     },
     "metadata": {},
     "output_type": "display_data"
    },
    {
     "data": {
      "application/javascript": "\n        if (window._pyforest_update_imports_cell) { window._pyforest_update_imports_cell('import pandas as pd'); }\n    ",
      "text/plain": [
       "<IPython.core.display.Javascript object>"
      ]
     },
     "metadata": {},
     "output_type": "display_data"
    },
    {
     "data": {
      "application/javascript": "\n        if (window._pyforest_update_imports_cell) { window._pyforest_update_imports_cell('import pandas as pd'); }\n    ",
      "text/plain": [
       "<IPython.core.display.Javascript object>"
      ]
     },
     "metadata": {},
     "output_type": "display_data"
    },
    {
     "data": {
      "application/javascript": "\n        if (window._pyforest_update_imports_cell) { window._pyforest_update_imports_cell('import pandas as pd'); }\n    ",
      "text/plain": [
       "<IPython.core.display.Javascript object>"
      ]
     },
     "metadata": {},
     "output_type": "display_data"
    },
    {
     "data": {
      "application/javascript": "\n        if (window._pyforest_update_imports_cell) { window._pyforest_update_imports_cell('import pandas as pd'); }\n    ",
      "text/plain": [
       "<IPython.core.display.Javascript object>"
      ]
     },
     "metadata": {},
     "output_type": "display_data"
    },
    {
     "data": {
      "application/javascript": "\n        if (window._pyforest_update_imports_cell) { window._pyforest_update_imports_cell('import pandas as pd'); }\n    ",
      "text/plain": [
       "<IPython.core.display.Javascript object>"
      ]
     },
     "metadata": {},
     "output_type": "display_data"
    },
    {
     "data": {
      "application/javascript": "\n        if (window._pyforest_update_imports_cell) { window._pyforest_update_imports_cell('import pandas as pd'); }\n    ",
      "text/plain": [
       "<IPython.core.display.Javascript object>"
      ]
     },
     "metadata": {},
     "output_type": "display_data"
    },
    {
     "data": {
      "application/javascript": "\n        if (window._pyforest_update_imports_cell) { window._pyforest_update_imports_cell('import pandas as pd'); }\n    ",
      "text/plain": [
       "<IPython.core.display.Javascript object>"
      ]
     },
     "metadata": {},
     "output_type": "display_data"
    },
    {
     "data": {
      "application/javascript": "\n        if (window._pyforest_update_imports_cell) { window._pyforest_update_imports_cell('import pandas as pd'); }\n    ",
      "text/plain": [
       "<IPython.core.display.Javascript object>"
      ]
     },
     "metadata": {},
     "output_type": "display_data"
    },
    {
     "data": {
      "application/javascript": "\n        if (window._pyforest_update_imports_cell) { window._pyforest_update_imports_cell('import pandas as pd'); }\n    ",
      "text/plain": [
       "<IPython.core.display.Javascript object>"
      ]
     },
     "metadata": {},
     "output_type": "display_data"
    },
    {
     "data": {
      "application/javascript": "\n        if (window._pyforest_update_imports_cell) { window._pyforest_update_imports_cell('import pandas as pd'); }\n    ",
      "text/plain": [
       "<IPython.core.display.Javascript object>"
      ]
     },
     "metadata": {},
     "output_type": "display_data"
    },
    {
     "data": {
      "application/javascript": "\n        if (window._pyforest_update_imports_cell) { window._pyforest_update_imports_cell('import pandas as pd'); }\n    ",
      "text/plain": [
       "<IPython.core.display.Javascript object>"
      ]
     },
     "metadata": {},
     "output_type": "display_data"
    },
    {
     "data": {
      "application/javascript": "\n        if (window._pyforest_update_imports_cell) { window._pyforest_update_imports_cell('import pandas as pd'); }\n    ",
      "text/plain": [
       "<IPython.core.display.Javascript object>"
      ]
     },
     "metadata": {},
     "output_type": "display_data"
    },
    {
     "data": {
      "application/javascript": "\n        if (window._pyforest_update_imports_cell) { window._pyforest_update_imports_cell('import pandas as pd'); }\n    ",
      "text/plain": [
       "<IPython.core.display.Javascript object>"
      ]
     },
     "metadata": {},
     "output_type": "display_data"
    },
    {
     "data": {
      "application/javascript": "\n        if (window._pyforest_update_imports_cell) { window._pyforest_update_imports_cell('import pandas as pd'); }\n    ",
      "text/plain": [
       "<IPython.core.display.Javascript object>"
      ]
     },
     "metadata": {},
     "output_type": "display_data"
    },
    {
     "data": {
      "application/javascript": "\n        if (window._pyforest_update_imports_cell) { window._pyforest_update_imports_cell('import pandas as pd'); }\n    ",
      "text/plain": [
       "<IPython.core.display.Javascript object>"
      ]
     },
     "metadata": {},
     "output_type": "display_data"
    },
    {
     "data": {
      "application/javascript": "\n        if (window._pyforest_update_imports_cell) { window._pyforest_update_imports_cell('import pandas as pd'); }\n    ",
      "text/plain": [
       "<IPython.core.display.Javascript object>"
      ]
     },
     "metadata": {},
     "output_type": "display_data"
    },
    {
     "data": {
      "application/javascript": "\n        if (window._pyforest_update_imports_cell) { window._pyforest_update_imports_cell('import pandas as pd'); }\n    ",
      "text/plain": [
       "<IPython.core.display.Javascript object>"
      ]
     },
     "metadata": {},
     "output_type": "display_data"
    },
    {
     "data": {
      "application/javascript": "\n        if (window._pyforest_update_imports_cell) { window._pyforest_update_imports_cell('import pandas as pd'); }\n    ",
      "text/plain": [
       "<IPython.core.display.Javascript object>"
      ]
     },
     "metadata": {},
     "output_type": "display_data"
    },
    {
     "data": {
      "application/javascript": "\n        if (window._pyforest_update_imports_cell) { window._pyforest_update_imports_cell('import pandas as pd'); }\n    ",
      "text/plain": [
       "<IPython.core.display.Javascript object>"
      ]
     },
     "metadata": {},
     "output_type": "display_data"
    },
    {
     "data": {
      "application/javascript": "\n        if (window._pyforest_update_imports_cell) { window._pyforest_update_imports_cell('import pandas as pd'); }\n    ",
      "text/plain": [
       "<IPython.core.display.Javascript object>"
      ]
     },
     "metadata": {},
     "output_type": "display_data"
    },
    {
     "data": {
      "application/javascript": "\n        if (window._pyforest_update_imports_cell) { window._pyforest_update_imports_cell('import pandas as pd'); }\n    ",
      "text/plain": [
       "<IPython.core.display.Javascript object>"
      ]
     },
     "metadata": {},
     "output_type": "display_data"
    },
    {
     "data": {
      "application/javascript": "\n        if (window._pyforest_update_imports_cell) { window._pyforest_update_imports_cell('import pandas as pd'); }\n    ",
      "text/plain": [
       "<IPython.core.display.Javascript object>"
      ]
     },
     "metadata": {},
     "output_type": "display_data"
    },
    {
     "data": {
      "application/javascript": "\n        if (window._pyforest_update_imports_cell) { window._pyforest_update_imports_cell('import pandas as pd'); }\n    ",
      "text/plain": [
       "<IPython.core.display.Javascript object>"
      ]
     },
     "metadata": {},
     "output_type": "display_data"
    },
    {
     "data": {
      "application/javascript": "\n        if (window._pyforest_update_imports_cell) { window._pyforest_update_imports_cell('import pandas as pd'); }\n    ",
      "text/plain": [
       "<IPython.core.display.Javascript object>"
      ]
     },
     "metadata": {},
     "output_type": "display_data"
    },
    {
     "data": {
      "application/javascript": "\n        if (window._pyforest_update_imports_cell) { window._pyforest_update_imports_cell('import pandas as pd'); }\n    ",
      "text/plain": [
       "<IPython.core.display.Javascript object>"
      ]
     },
     "metadata": {},
     "output_type": "display_data"
    },
    {
     "data": {
      "application/javascript": "\n        if (window._pyforest_update_imports_cell) { window._pyforest_update_imports_cell('import pandas as pd'); }\n    ",
      "text/plain": [
       "<IPython.core.display.Javascript object>"
      ]
     },
     "metadata": {},
     "output_type": "display_data"
    },
    {
     "data": {
      "application/javascript": "\n        if (window._pyforest_update_imports_cell) { window._pyforest_update_imports_cell('import pandas as pd'); }\n    ",
      "text/plain": [
       "<IPython.core.display.Javascript object>"
      ]
     },
     "metadata": {},
     "output_type": "display_data"
    },
    {
     "data": {
      "application/javascript": "\n        if (window._pyforest_update_imports_cell) { window._pyforest_update_imports_cell('import pandas as pd'); }\n    ",
      "text/plain": [
       "<IPython.core.display.Javascript object>"
      ]
     },
     "metadata": {},
     "output_type": "display_data"
    },
    {
     "data": {
      "application/javascript": "\n        if (window._pyforest_update_imports_cell) { window._pyforest_update_imports_cell('import pandas as pd'); }\n    ",
      "text/plain": [
       "<IPython.core.display.Javascript object>"
      ]
     },
     "metadata": {},
     "output_type": "display_data"
    },
    {
     "data": {
      "application/javascript": "\n        if (window._pyforest_update_imports_cell) { window._pyforest_update_imports_cell('import pandas as pd'); }\n    ",
      "text/plain": [
       "<IPython.core.display.Javascript object>"
      ]
     },
     "metadata": {},
     "output_type": "display_data"
    },
    {
     "data": {
      "application/javascript": "\n        if (window._pyforest_update_imports_cell) { window._pyforest_update_imports_cell('import pandas as pd'); }\n    ",
      "text/plain": [
       "<IPython.core.display.Javascript object>"
      ]
     },
     "metadata": {},
     "output_type": "display_data"
    },
    {
     "data": {
      "application/javascript": "\n        if (window._pyforest_update_imports_cell) { window._pyforest_update_imports_cell('import pandas as pd'); }\n    ",
      "text/plain": [
       "<IPython.core.display.Javascript object>"
      ]
     },
     "metadata": {},
     "output_type": "display_data"
    },
    {
     "data": {
      "application/javascript": "\n        if (window._pyforest_update_imports_cell) { window._pyforest_update_imports_cell('import pandas as pd'); }\n    ",
      "text/plain": [
       "<IPython.core.display.Javascript object>"
      ]
     },
     "metadata": {},
     "output_type": "display_data"
    },
    {
     "data": {
      "application/javascript": "\n        if (window._pyforest_update_imports_cell) { window._pyforest_update_imports_cell('import pandas as pd'); }\n    ",
      "text/plain": [
       "<IPython.core.display.Javascript object>"
      ]
     },
     "metadata": {},
     "output_type": "display_data"
    },
    {
     "data": {
      "application/javascript": "\n        if (window._pyforest_update_imports_cell) { window._pyforest_update_imports_cell('import pandas as pd'); }\n    ",
      "text/plain": [
       "<IPython.core.display.Javascript object>"
      ]
     },
     "metadata": {},
     "output_type": "display_data"
    },
    {
     "data": {
      "application/javascript": "\n        if (window._pyforest_update_imports_cell) { window._pyforest_update_imports_cell('import pandas as pd'); }\n    ",
      "text/plain": [
       "<IPython.core.display.Javascript object>"
      ]
     },
     "metadata": {},
     "output_type": "display_data"
    },
    {
     "data": {
      "application/javascript": "\n        if (window._pyforest_update_imports_cell) { window._pyforest_update_imports_cell('import pandas as pd'); }\n    ",
      "text/plain": [
       "<IPython.core.display.Javascript object>"
      ]
     },
     "metadata": {},
     "output_type": "display_data"
    },
    {
     "data": {
      "application/javascript": "\n        if (window._pyforest_update_imports_cell) { window._pyforest_update_imports_cell('import pandas as pd'); }\n    ",
      "text/plain": [
       "<IPython.core.display.Javascript object>"
      ]
     },
     "metadata": {},
     "output_type": "display_data"
    },
    {
     "data": {
      "text/html": [
       "<div>\n",
       "<style scoped>\n",
       "    .dataframe tbody tr th:only-of-type {\n",
       "        vertical-align: middle;\n",
       "    }\n",
       "\n",
       "    .dataframe tbody tr th {\n",
       "        vertical-align: top;\n",
       "    }\n",
       "\n",
       "    .dataframe thead th {\n",
       "        text-align: right;\n",
       "    }\n",
       "</style>\n",
       "<table border=\"1\" class=\"dataframe\">\n",
       "  <thead>\n",
       "    <tr style=\"text-align: right;\">\n",
       "      <th></th>\n",
       "      <th>datetime</th>\n",
       "      <th>value</th>\n",
       "    </tr>\n",
       "  </thead>\n",
       "  <tbody>\n",
       "    <tr>\n",
       "      <th>0</th>\n",
       "      <td>2023-01-01 00:00:00</td>\n",
       "      <td>2</td>\n",
       "    </tr>\n",
       "    <tr>\n",
       "      <th>1</th>\n",
       "      <td>2023-01-01 01:00:00</td>\n",
       "      <td>1</td>\n",
       "    </tr>\n",
       "    <tr>\n",
       "      <th>2</th>\n",
       "      <td>2023-01-01 02:00:00</td>\n",
       "      <td>2</td>\n",
       "    </tr>\n",
       "    <tr>\n",
       "      <th>3</th>\n",
       "      <td>2023-01-01 03:00:00</td>\n",
       "      <td>0</td>\n",
       "    </tr>\n",
       "    <tr>\n",
       "      <th>4</th>\n",
       "      <td>2023-01-01 04:00:00</td>\n",
       "      <td>3</td>\n",
       "    </tr>\n",
       "  </tbody>\n",
       "</table>\n",
       "</div>"
      ],
      "text/plain": [
       "             datetime  value\n",
       "0 2023-01-01 00:00:00      2\n",
       "1 2023-01-01 01:00:00      1\n",
       "2 2023-01-01 02:00:00      2\n",
       "3 2023-01-01 03:00:00      0\n",
       "4 2023-01-01 04:00:00      3"
      ]
     },
     "execution_count": 30,
     "metadata": {},
     "output_type": "execute_result"
    }
   ],
   "source": [
    "jun24_df = pd.read_csv(\"./mydata/traffic/counter 4/r4-hgv-rig/jun-24.csv\")\n",
    "jun24_df=jun24_df.drop(['Count','Workday','7 Day'], axis=1)\n",
    "jun24_df = jun24_df.rename(columns={jun24_df.columns[0]: 'hour'})  # rename first column to 'hour'\n",
    "jun24_df_long = pd.melt(jun24_df, id_vars='hour', var_name='date', value_name='value')\n",
    "jun24_df_long['datetime'] = pd.to_datetime(jun24_df_long['date'].astype(str) + ' ' + jun24_df_long['hour'].astype(str))\n",
    "jun24_df_long = jun24_df_long[['datetime', 'value']].sort_values('datetime').reset_index(drop=True)\n",
    "jun24_df_long.head()\n",
    "\n",
    "jun23_df = pd.read_csv(\"./mydata/traffic/counter 4/r4-hgv-rig/jun-23.csv\")\n",
    "jun23_df=jun23_df.drop(['Count','Workday','7 Day'], axis=1)\n",
    "jun23_df = jun23_df.rename(columns={jun23_df.columns[0]: 'hour'})  # rename first column to 'hour'\n",
    "jun23_df_long = pd.melt(jun23_df, id_vars='hour', var_name='date', value_name='value')\n",
    "jun23_df_long['datetime'] = pd.to_datetime(jun23_df_long['date'].astype(str) + ' ' + jun23_df_long['hour'].astype(str))\n",
    "jun23_df_long = jun23_df_long[['datetime', 'value']].sort_values('datetime').reset_index(drop=True)\n",
    "jun23_df_long.head()\n",
    "\n",
    "may23_df = pd.read_csv(\"./mydata/traffic/counter 4/r4-hgv-rig/may-23.csv\")\n",
    "may23_df=may23_df.drop(['Count','Workday','7 Day'], axis=1)\n",
    "may23_df = may23_df.rename(columns={may23_df.columns[0]: 'hour'})  # rename first column to 'hour'\n",
    "may23_df_long = pd.melt(may23_df, id_vars='hour', var_name='date', value_name='value')\n",
    "may23_df_long['datetime'] = pd.to_datetime(may23_df_long['date'].astype(str) + ' ' + may23_df_long['hour'].astype(str))\n",
    "may23_df_long = may23_df_long[['datetime', 'value']].sort_values('datetime').reset_index(drop=True)\n",
    "may23_df_long.head()\n",
    "\n",
    "may24_df = pd.read_csv(\"./mydata/traffic/counter 4/r4-hgv-rig/may-24.csv\")\n",
    "may24_df=may24_df.drop(['Count','Workday','7 Day'], axis=1)\n",
    "may24_df = may24_df.rename(columns={may24_df.columns[0]: 'hour'})  # rename first column to 'hour'\n",
    "may24_df_long = pd.melt(may24_df, id_vars='hour', var_name='date', value_name='value')\n",
    "may24_df_long['datetime'] = pd.to_datetime(may24_df_long['date'].astype(str) + ' ' + may24_df_long['hour'].astype(str))\n",
    "may24_df_long = may24_df_long[['datetime', 'value']].sort_values('datetime').reset_index(drop=True)\n",
    "may24_df_long.head()\n",
    "\n",
    "apr24_df = pd.read_csv(\"./mydata/traffic/counter 4/r4-hgv-rig/apr-24.csv\")\n",
    "apr24_df=apr24_df.drop(['Count','Workday','7 Day'], axis=1)\n",
    "apr24_df = apr24_df.rename(columns={apr24_df.columns[0]: 'hour'})  # rename first column to 'hour'\n",
    "apr24_df_long = pd.melt(apr24_df, id_vars='hour', var_name='date', value_name='value')\n",
    "apr24_df_long['datetime'] = pd.to_datetime(apr24_df_long['date'].astype(str) + ' ' + apr24_df_long['hour'].astype(str))\n",
    "apr24_df_long = apr24_df_long[['datetime', 'value']].sort_values('datetime').reset_index(drop=True)\n",
    "apr24_df_long.head()\n",
    "\n",
    "apr23_df = pd.read_csv(\"./mydata/traffic/counter 4/r4-hgv-rig/apr-23.csv\")\n",
    "apr23_df=apr23_df.drop(['Count','Workday','7 Day'], axis=1)\n",
    "apr23_df = apr23_df.rename(columns={apr23_df.columns[0]: 'hour'})  # rename first column to 'hour'\n",
    "apr23_df_long = pd.melt(apr23_df, id_vars='hour', var_name='date', value_name='value')\n",
    "apr23_df_long['datetime'] = pd.to_datetime(apr23_df_long['date'].astype(str) + ' ' + apr23_df_long['hour'].astype(str))\n",
    "apr23_df_long = apr23_df_long[['datetime', 'value']].sort_values('datetime').reset_index(drop=True)\n",
    "apr23_df_long.head()\n",
    "\n",
    "mar24_df = pd.read_csv(\"./mydata/traffic/counter 4/r4-hgv-rig/mar-24.csv\")\n",
    "mar24_df=mar24_df.drop(['Count','Workday','7 Day'], axis=1)\n",
    "mar24_df =mar24_df.rename(columns={mar24_df.columns[0]: 'hour'})  # rename first column to 'hour'\n",
    "mar24_df_long = pd.melt(mar24_df, id_vars='hour', var_name='date', value_name='value')\n",
    "mar24_df_long['datetime'] = pd.to_datetime(mar24_df_long['date'].astype(str) + ' ' + mar24_df_long['hour'].astype(str))\n",
    "mar24_df_long = mar24_df_long[['datetime', 'value']].sort_values('datetime').reset_index(drop=True)\n",
    "mar24_df_long.head()\n",
    "\n",
    "mar23_df = pd.read_csv(\"./mydata/traffic/counter 4/r4-hgv-rig/mar-23.csv\")\n",
    "mar23_df=mar23_df.drop(['Count','Workday','7 Day'], axis=1)\n",
    "mar23_df =mar23_df.rename(columns={mar23_df.columns[0]: 'hour'})  # rename first column to 'hour'\n",
    "mar23_df_long = pd.melt(mar23_df, id_vars='hour', var_name='date', value_name='value')\n",
    "mar23_df_long['datetime'] = pd.to_datetime(mar23_df_long['date'].astype(str) + ' ' + mar23_df_long['hour'].astype(str))\n",
    "mar23_df_long = mar23_df_long[['datetime', 'value']].sort_values('datetime').reset_index(drop=True)\n",
    "mar23_df_long.head()\n",
    "\n",
    "feb24_df = pd.read_csv(\"./mydata/traffic/counter 4/r4-hgv-rig/feb-24.csv\")\n",
    "feb24_df=feb24_df.drop(['Count','Workday','7 Day'], axis=1)\n",
    "feb24_df =feb24_df.rename(columns={feb24_df.columns[0]: 'hour'})  # rename first column to 'hour'\n",
    "feb24_df_long = pd.melt(feb24_df, id_vars='hour', var_name='date', value_name='value')\n",
    "feb24_df_long['datetime'] = pd.to_datetime(feb24_df_long['date'].astype(str) + ' ' + feb24_df_long['hour'].astype(str))\n",
    "feb24_df_long = feb24_df_long[['datetime', 'value']].sort_values('datetime').reset_index(drop=True)\n",
    "feb24_df_long.head()\n",
    "\n",
    "feb23_df = pd.read_csv(\"./mydata/traffic/counter 4/r4-hgv-rig/feb-23.csv\")\n",
    "feb23_df=feb23_df.drop(['Count','Workday','7 Day'], axis=1)\n",
    "feb23_df =feb23_df.rename(columns={feb23_df.columns[0]: 'hour'})  # rename first column to 'hour'\n",
    "feb23_df_long = pd.melt(feb23_df, id_vars='hour', var_name='date', value_name='value')\n",
    "feb23_df_long['datetime'] = pd.to_datetime(feb23_df_long['date'].astype(str) + ' ' + feb23_df_long['hour'].astype(str))\n",
    "feb23_df_long = feb23_df_long[['datetime', 'value']].sort_values('datetime').reset_index(drop=True)\n",
    "feb23_df_long.head()\n",
    "\n",
    "jan24_df = pd.read_csv(\"./mydata/traffic/counter 4/r4-hgv-rig/jan-24.csv\")\n",
    "jan24_df=jan24_df.drop(['Count','Workday','7 Day'], axis=1)\n",
    "jan24_df =jan24_df.rename(columns={jan24_df.columns[0]: 'hour'})  # rename first column to 'hour'\n",
    "jan24_df_long = pd.melt(jan24_df, id_vars='hour', var_name='date', value_name='value')\n",
    "jan24_df_long['datetime'] = pd.to_datetime(jan24_df_long['date'].astype(str) + ' ' + jan24_df_long['hour'].astype(str))\n",
    "jan24_df_long = jan24_df_long[['datetime', 'value']].sort_values('datetime').reset_index(drop=True)\n",
    "jan24_df_long.head()\n",
    "\n",
    "jan23_df = pd.read_csv(\"./mydata/traffic/counter 4/r4-hgv-rig/jan-23.csv\")\n",
    "jan23_df=jan23_df.drop(['Count','Workday','7 Day'], axis=1)\n",
    "jan23_df =jan23_df.rename(columns={jan23_df.columns[0]: 'hour'})  # rename first column to 'hour'\n",
    "jan23_df_long = pd.melt(jan23_df, id_vars='hour', var_name='date', value_name='value')\n",
    "jan23_df_long['datetime'] = pd.to_datetime(jan23_df_long['date'].astype(str) + ' ' + jan23_df_long['hour'].astype(str))\n",
    "jan23_df_long = jan23_df_long[['datetime', 'value']].sort_values('datetime').reset_index(drop=True)\n",
    "jan23_df_long.head()\n",
    "\n",
    "dec23_df = pd.read_csv(\"./mydata/traffic/counter 4/r4-hgv-rig/dec-23.csv\")\n",
    "dec23_df=dec23_df.drop(['Count','Workday','7 Day'], axis=1)\n",
    "dec23_df =dec23_df.rename(columns={dec23_df.columns[0]: 'hour'})  # rename first column to 'hour'\n",
    "dec23_df_long = pd.melt(dec23_df, id_vars='hour', var_name='date', value_name='value')\n",
    "dec23_df_long['datetime'] = pd.to_datetime(dec23_df_long['date'].astype(str) + ' ' + dec23_df_long['hour'].astype(str))\n",
    "dec23_df_long = dec23_df_long[['datetime', 'value']].sort_values('datetime').reset_index(drop=True)\n",
    "dec23_df_long.head()\n",
    "\n",
    "nov23_df = pd.read_csv(\"./mydata/traffic/counter 4/r4-hgv-rig/nov-23.csv\")\n",
    "nov23_df=nov23_df.drop(['Count','Workday','7 Day'], axis=1)\n",
    "nov23_df =nov23_df.rename(columns={nov23_df.columns[0]: 'hour'})  # rename first column to 'hour'\n",
    "nov23_df_long = pd.melt(nov23_df, id_vars='hour', var_name='date', value_name='value')\n",
    "nov23_df_long['datetime'] = pd.to_datetime(nov23_df_long['date'].astype(str) + ' ' + nov23_df_long['hour'].astype(str))\n",
    "nov23_df_long = nov23_df_long[['datetime', 'value']].sort_values('datetime').reset_index(drop=True)\n",
    "nov23_df_long.head()\n",
    "\n",
    "oct23_df = pd.read_csv(\"./mydata/traffic/counter 4/r4-hgv-rig/oct-23.csv\")\n",
    "oct23_df=oct23_df.drop(['Count','Workday','7 Day'], axis=1)\n",
    "oct23_df =oct23_df.rename(columns={oct23_df.columns[0]: 'hour'})  # rename first column to 'hour'\n",
    "oct23_df_long = pd.melt(oct23_df, id_vars='hour', var_name='date', value_name='value')\n",
    "oct23_df_long['datetime'] = pd.to_datetime(oct23_df_long['date'].astype(str) + ' ' + oct23_df_long['hour'].astype(str))\n",
    "oct23_df_long = oct23_df_long[['datetime', 'value']].sort_values('datetime').reset_index(drop=True)\n",
    "oct23_df_long.head()\n",
    "\n",
    "sep23_df = pd.read_csv(\"./mydata/traffic/counter 4/r4-hgv-rig/sep-23.csv\")\n",
    "sep23_df=sep23_df.drop(['Count','Workday','7 Day'], axis=1)\n",
    "sep23_df =sep23_df.rename(columns={sep23_df.columns[0]: 'hour'})  # rename first column to 'hour'\n",
    "sep23_df_long = pd.melt(sep23_df, id_vars='hour', var_name='date', value_name='value')\n",
    "sep23_df_long['datetime'] = pd.to_datetime(sep23_df_long['date'].astype(str) + ' ' + sep23_df_long['hour'].astype(str))\n",
    "sep23_df_long = sep23_df_long[['datetime', 'value']].sort_values('datetime').reset_index(drop=True)\n",
    "sep23_df_long.head()\n",
    "\n",
    "aug23_df = pd.read_csv(\"./mydata/traffic/counter 4/r4-hgv-rig/aug-23.csv\")\n",
    "aug23_df=aug23_df.drop(['Count','Workday','7 Day'], axis=1)\n",
    "aug23_df =aug23_df.rename(columns={aug23_df.columns[0]: 'hour'})  # rename first column to 'hour'\n",
    "aug23_df_long = pd.melt(aug23_df, id_vars='hour', var_name='date', value_name='value')\n",
    "aug23_df_long['datetime'] = pd.to_datetime(aug23_df_long['date'].astype(str) + ' ' + aug23_df_long['hour'].astype(str))\n",
    "aug23_df_long = aug23_df_long[['datetime', 'value']].sort_values('datetime').reset_index(drop=True)\n",
    "aug23_df_long.head()\n",
    "\n",
    "\n",
    "aug24_df = pd.read_csv(\"./mydata/traffic/counter 4/r4-hgv-rig/aug-24.csv\")\n",
    "aug24_df=aug24_df.drop(['Count','Workday','7 Day'], axis=1)\n",
    "aug24_df =aug24_df.rename(columns={aug24_df.columns[0]: 'hour'})  # rename first column to 'hour'\n",
    "aug24_df_long = pd.melt(aug24_df, id_vars='hour', var_name='date', value_name='value')\n",
    "aug24_df_long['datetime'] = pd.to_datetime(aug24_df_long['date'].astype(str) + ' ' + aug24_df_long['hour'].astype(str))\n",
    "aug24_df_long = aug24_df_long[['datetime', 'value']].sort_values('datetime').reset_index(drop=True)\n",
    "aug24_df_long.head()\n",
    "\n",
    "\n",
    "jul24_df = pd.read_csv(\"./mydata/traffic/counter 4/r4-hgv-rig/jul-24.csv\")\n",
    "jul24_df=jul24_df.drop(['Count','Workday','7 Day'], axis=1)\n",
    "jul24_df =jul24_df.rename(columns={jul24_df.columns[0]: 'hour'})  # rename first column to 'hour'\n",
    "jul24_df_long = pd.melt(jul24_df, id_vars='hour', var_name='date', value_name='value')\n",
    "jul24_df_long['datetime'] = pd.to_datetime(jul24_df_long['date'].astype(str) + ' ' + jul24_df_long['hour'].astype(str))\n",
    "jul24_df_long = jul24_df_long[['datetime', 'value']].sort_values('datetime').reset_index(drop=True)\n",
    "jul24_df_long.head()\n",
    "\n",
    "jul23_df = pd.read_csv(\"./mydata/traffic/counter 4/r4-hgv-rig/jul-23.csv\")\n",
    "jul23_df=jul23_df.drop(['Count','Workday','7 Day'], axis=1)\n",
    "jul23_df =jul23_df.rename(columns={jul23_df.columns[0]: 'hour'})  # rename first column to 'hour'\n",
    "jul23_df_long = pd.melt(jul23_df, id_vars='hour', var_name='date', value_name='value')\n",
    "jul23_df_long['datetime'] = pd.to_datetime(jul23_df_long['date'].astype(str) + ' ' + jul23_df_long['hour'].astype(str))\n",
    "jul23_df_long = jul23_df_long[['datetime', 'value']].sort_values('datetime').reset_index(drop=True)\n",
    "jul23_df_long.head()\n",
    "\n",
    "combined_df = pd.concat([jul24_df_long, aug24_df_long], ignore_index=True)\n",
    "combined_df = pd.concat([jun24_df_long, combined_df], ignore_index=True)\n",
    "combined_df = pd.concat([may24_df_long, combined_df], ignore_index=True)\n",
    "combined_df = pd.concat([apr24_df_long, combined_df], ignore_index=True)\n",
    "combined_df = pd.concat([mar24_df_long, combined_df], ignore_index=True)\n",
    "combined_df = pd.concat([feb24_df_long, combined_df], ignore_index=True)\n",
    "combined_df = pd.concat([jan24_df_long, combined_df], ignore_index=True)\n",
    "combined_df = pd.concat([dec23_df_long, combined_df], ignore_index=True)\n",
    "combined_df = pd.concat([nov23_df_long, combined_df], ignore_index=True)\n",
    "combined_df = pd.concat([oct23_df_long, combined_df], ignore_index=True)\n",
    "combined_df = pd.concat([sep23_df_long, combined_df], ignore_index=True)\n",
    "combined_df = pd.concat([aug23_df_long, combined_df], ignore_index=True)\n",
    "combined_df = pd.concat([jul23_df_long, combined_df], ignore_index=True)\n",
    "combined_df = pd.concat([jun23_df_long, combined_df], ignore_index=True)\n",
    "combined_df = pd.concat([may23_df_long, combined_df], ignore_index=True)\n",
    "combined_df = pd.concat([apr23_df_long, combined_df], ignore_index=True)\n",
    "combined_df = pd.concat([mar23_df_long, combined_df], ignore_index=True)\n",
    "combined_df = pd.concat([feb23_df_long, combined_df], ignore_index=True)\n",
    "combined_df2_2 = pd.concat([jan23_df_long, combined_df], ignore_index=True)\n",
    "combined_df2_2.head()"
   ]
  },
  {
   "cell_type": "code",
   "execution_count": 31,
   "id": "90870f39",
   "metadata": {},
   "outputs": [
    {
     "data": {
      "text/html": [
       "<div>\n",
       "<style scoped>\n",
       "    .dataframe tbody tr th:only-of-type {\n",
       "        vertical-align: middle;\n",
       "    }\n",
       "\n",
       "    .dataframe tbody tr th {\n",
       "        vertical-align: top;\n",
       "    }\n",
       "\n",
       "    .dataframe thead th {\n",
       "        text-align: right;\n",
       "    }\n",
       "</style>\n",
       "<table border=\"1\" class=\"dataframe\">\n",
       "  <thead>\n",
       "    <tr style=\"text-align: right;\">\n",
       "      <th></th>\n",
       "      <th>datetime</th>\n",
       "      <th>value</th>\n",
       "    </tr>\n",
       "  </thead>\n",
       "  <tbody>\n",
       "    <tr>\n",
       "      <th>14611</th>\n",
       "      <td>2024-08-31 19:00:00</td>\n",
       "      <td>2</td>\n",
       "    </tr>\n",
       "    <tr>\n",
       "      <th>14612</th>\n",
       "      <td>2024-08-31 20:00:00</td>\n",
       "      <td>3</td>\n",
       "    </tr>\n",
       "    <tr>\n",
       "      <th>14613</th>\n",
       "      <td>2024-08-31 21:00:00</td>\n",
       "      <td>5</td>\n",
       "    </tr>\n",
       "    <tr>\n",
       "      <th>14614</th>\n",
       "      <td>2024-08-31 22:00:00</td>\n",
       "      <td>2</td>\n",
       "    </tr>\n",
       "    <tr>\n",
       "      <th>14615</th>\n",
       "      <td>2024-08-31 23:00:00</td>\n",
       "      <td>2</td>\n",
       "    </tr>\n",
       "  </tbody>\n",
       "</table>\n",
       "</div>"
      ],
      "text/plain": [
       "                 datetime  value\n",
       "14611 2024-08-31 19:00:00      2\n",
       "14612 2024-08-31 20:00:00      3\n",
       "14613 2024-08-31 21:00:00      5\n",
       "14614 2024-08-31 22:00:00      2\n",
       "14615 2024-08-31 23:00:00      2"
      ]
     },
     "execution_count": 31,
     "metadata": {},
     "output_type": "execute_result"
    }
   ],
   "source": [
    "combined_df2_2.tail()"
   ]
  },
  {
   "cell_type": "code",
   "execution_count": 32,
   "id": "59af31be",
   "metadata": {},
   "outputs": [],
   "source": [
    "combined_df2_2.to_csv('./mydata/traffic/counter 4/r4-hgv-rig/2023-24_hgv_rig_cnt.csv')\n"
   ]
  },
  {
   "cell_type": "code",
   "execution_count": 35,
   "id": "1a82add4",
   "metadata": {},
   "outputs": [
    {
     "data": {
      "application/javascript": "\n        if (window._pyforest_update_imports_cell) { window._pyforest_update_imports_cell('import pandas as pd'); }\n    ",
      "text/plain": [
       "<IPython.core.display.Javascript object>"
      ]
     },
     "metadata": {},
     "output_type": "display_data"
    },
    {
     "data": {
      "text/html": [
       "<div>\n",
       "<style scoped>\n",
       "    .dataframe tbody tr th:only-of-type {\n",
       "        vertical-align: middle;\n",
       "    }\n",
       "\n",
       "    .dataframe tbody tr th {\n",
       "        vertical-align: top;\n",
       "    }\n",
       "\n",
       "    .dataframe thead th {\n",
       "        text-align: right;\n",
       "    }\n",
       "</style>\n",
       "<table border=\"1\" class=\"dataframe\">\n",
       "  <thead>\n",
       "    <tr style=\"text-align: right;\">\n",
       "      <th></th>\n",
       "      <th>Unnamed: 0</th>\n",
       "      <th>datetime</th>\n",
       "      <th>value</th>\n",
       "    </tr>\n",
       "  </thead>\n",
       "  <tbody>\n",
       "    <tr>\n",
       "      <th>0</th>\n",
       "      <td>0</td>\n",
       "      <td>2023-01-01 00:00:00</td>\n",
       "      <td>2</td>\n",
       "    </tr>\n",
       "    <tr>\n",
       "      <th>1</th>\n",
       "      <td>1</td>\n",
       "      <td>2023-01-01 01:00:00</td>\n",
       "      <td>1</td>\n",
       "    </tr>\n",
       "    <tr>\n",
       "      <th>2</th>\n",
       "      <td>2</td>\n",
       "      <td>2023-01-01 02:00:00</td>\n",
       "      <td>2</td>\n",
       "    </tr>\n",
       "    <tr>\n",
       "      <th>3</th>\n",
       "      <td>3</td>\n",
       "      <td>2023-01-01 03:00:00</td>\n",
       "      <td>0</td>\n",
       "    </tr>\n",
       "    <tr>\n",
       "      <th>4</th>\n",
       "      <td>4</td>\n",
       "      <td>2023-01-01 04:00:00</td>\n",
       "      <td>3</td>\n",
       "    </tr>\n",
       "  </tbody>\n",
       "</table>\n",
       "</div>"
      ],
      "text/plain": [
       "   Unnamed: 0             datetime  value\n",
       "0           0  2023-01-01 00:00:00      2\n",
       "1           1  2023-01-01 01:00:00      1\n",
       "2           2  2023-01-01 02:00:00      2\n",
       "3           3  2023-01-01 03:00:00      0\n",
       "4           4  2023-01-01 04:00:00      3"
      ]
     },
     "execution_count": 35,
     "metadata": {},
     "output_type": "execute_result"
    }
   ],
   "source": [
    "r4_hgv_rig=pd.read_csv('./mydata/traffic/counter 4/r4-hgv-rig/2023-24_hgv_rig_cnt.csv')\n",
    "r4_hgv_rig.head()"
   ]
  },
  {
   "cell_type": "markdown",
   "id": "7371b904",
   "metadata": {},
   "source": [
    "## Preparing data from Traffic Counters - HGV-ART DATA\n",
    "same code ran for counter 1,2,3 and 4 by changing the paths"
   ]
  },
  {
   "cell_type": "code",
   "execution_count": 36,
   "id": "f4a44d22",
   "metadata": {},
   "outputs": [
    {
     "data": {
      "application/javascript": "\n        if (window._pyforest_update_imports_cell) { window._pyforest_update_imports_cell('import pandas as pd'); }\n    ",
      "text/plain": [
       "<IPython.core.display.Javascript object>"
      ]
     },
     "metadata": {},
     "output_type": "display_data"
    },
    {
     "data": {
      "application/javascript": "\n        if (window._pyforest_update_imports_cell) { window._pyforest_update_imports_cell('import pandas as pd'); }\n    ",
      "text/plain": [
       "<IPython.core.display.Javascript object>"
      ]
     },
     "metadata": {},
     "output_type": "display_data"
    },
    {
     "data": {
      "application/javascript": "\n        if (window._pyforest_update_imports_cell) { window._pyforest_update_imports_cell('import pandas as pd'); }\n    ",
      "text/plain": [
       "<IPython.core.display.Javascript object>"
      ]
     },
     "metadata": {},
     "output_type": "display_data"
    },
    {
     "data": {
      "application/javascript": "\n        if (window._pyforest_update_imports_cell) { window._pyforest_update_imports_cell('import pandas as pd'); }\n    ",
      "text/plain": [
       "<IPython.core.display.Javascript object>"
      ]
     },
     "metadata": {},
     "output_type": "display_data"
    },
    {
     "data": {
      "application/javascript": "\n        if (window._pyforest_update_imports_cell) { window._pyforest_update_imports_cell('import pandas as pd'); }\n    ",
      "text/plain": [
       "<IPython.core.display.Javascript object>"
      ]
     },
     "metadata": {},
     "output_type": "display_data"
    },
    {
     "data": {
      "application/javascript": "\n        if (window._pyforest_update_imports_cell) { window._pyforest_update_imports_cell('import pandas as pd'); }\n    ",
      "text/plain": [
       "<IPython.core.display.Javascript object>"
      ]
     },
     "metadata": {},
     "output_type": "display_data"
    },
    {
     "data": {
      "application/javascript": "\n        if (window._pyforest_update_imports_cell) { window._pyforest_update_imports_cell('import pandas as pd'); }\n    ",
      "text/plain": [
       "<IPython.core.display.Javascript object>"
      ]
     },
     "metadata": {},
     "output_type": "display_data"
    },
    {
     "data": {
      "application/javascript": "\n        if (window._pyforest_update_imports_cell) { window._pyforest_update_imports_cell('import pandas as pd'); }\n    ",
      "text/plain": [
       "<IPython.core.display.Javascript object>"
      ]
     },
     "metadata": {},
     "output_type": "display_data"
    },
    {
     "data": {
      "application/javascript": "\n        if (window._pyforest_update_imports_cell) { window._pyforest_update_imports_cell('import pandas as pd'); }\n    ",
      "text/plain": [
       "<IPython.core.display.Javascript object>"
      ]
     },
     "metadata": {},
     "output_type": "display_data"
    },
    {
     "data": {
      "application/javascript": "\n        if (window._pyforest_update_imports_cell) { window._pyforest_update_imports_cell('import pandas as pd'); }\n    ",
      "text/plain": [
       "<IPython.core.display.Javascript object>"
      ]
     },
     "metadata": {},
     "output_type": "display_data"
    },
    {
     "data": {
      "application/javascript": "\n        if (window._pyforest_update_imports_cell) { window._pyforest_update_imports_cell('import pandas as pd'); }\n    ",
      "text/plain": [
       "<IPython.core.display.Javascript object>"
      ]
     },
     "metadata": {},
     "output_type": "display_data"
    },
    {
     "data": {
      "application/javascript": "\n        if (window._pyforest_update_imports_cell) { window._pyforest_update_imports_cell('import pandas as pd'); }\n    ",
      "text/plain": [
       "<IPython.core.display.Javascript object>"
      ]
     },
     "metadata": {},
     "output_type": "display_data"
    },
    {
     "data": {
      "application/javascript": "\n        if (window._pyforest_update_imports_cell) { window._pyforest_update_imports_cell('import pandas as pd'); }\n    ",
      "text/plain": [
       "<IPython.core.display.Javascript object>"
      ]
     },
     "metadata": {},
     "output_type": "display_data"
    },
    {
     "data": {
      "application/javascript": "\n        if (window._pyforest_update_imports_cell) { window._pyforest_update_imports_cell('import pandas as pd'); }\n    ",
      "text/plain": [
       "<IPython.core.display.Javascript object>"
      ]
     },
     "metadata": {},
     "output_type": "display_data"
    },
    {
     "data": {
      "application/javascript": "\n        if (window._pyforest_update_imports_cell) { window._pyforest_update_imports_cell('import pandas as pd'); }\n    ",
      "text/plain": [
       "<IPython.core.display.Javascript object>"
      ]
     },
     "metadata": {},
     "output_type": "display_data"
    },
    {
     "data": {
      "application/javascript": "\n        if (window._pyforest_update_imports_cell) { window._pyforest_update_imports_cell('import pandas as pd'); }\n    ",
      "text/plain": [
       "<IPython.core.display.Javascript object>"
      ]
     },
     "metadata": {},
     "output_type": "display_data"
    },
    {
     "data": {
      "application/javascript": "\n        if (window._pyforest_update_imports_cell) { window._pyforest_update_imports_cell('import pandas as pd'); }\n    ",
      "text/plain": [
       "<IPython.core.display.Javascript object>"
      ]
     },
     "metadata": {},
     "output_type": "display_data"
    },
    {
     "data": {
      "application/javascript": "\n        if (window._pyforest_update_imports_cell) { window._pyforest_update_imports_cell('import pandas as pd'); }\n    ",
      "text/plain": [
       "<IPython.core.display.Javascript object>"
      ]
     },
     "metadata": {},
     "output_type": "display_data"
    },
    {
     "data": {
      "application/javascript": "\n        if (window._pyforest_update_imports_cell) { window._pyforest_update_imports_cell('import pandas as pd'); }\n    ",
      "text/plain": [
       "<IPython.core.display.Javascript object>"
      ]
     },
     "metadata": {},
     "output_type": "display_data"
    },
    {
     "data": {
      "application/javascript": "\n        if (window._pyforest_update_imports_cell) { window._pyforest_update_imports_cell('import pandas as pd'); }\n    ",
      "text/plain": [
       "<IPython.core.display.Javascript object>"
      ]
     },
     "metadata": {},
     "output_type": "display_data"
    },
    {
     "data": {
      "application/javascript": "\n        if (window._pyforest_update_imports_cell) { window._pyforest_update_imports_cell('import pandas as pd'); }\n    ",
      "text/plain": [
       "<IPython.core.display.Javascript object>"
      ]
     },
     "metadata": {},
     "output_type": "display_data"
    },
    {
     "data": {
      "application/javascript": "\n        if (window._pyforest_update_imports_cell) { window._pyforest_update_imports_cell('import pandas as pd'); }\n    ",
      "text/plain": [
       "<IPython.core.display.Javascript object>"
      ]
     },
     "metadata": {},
     "output_type": "display_data"
    },
    {
     "data": {
      "application/javascript": "\n        if (window._pyforest_update_imports_cell) { window._pyforest_update_imports_cell('import pandas as pd'); }\n    ",
      "text/plain": [
       "<IPython.core.display.Javascript object>"
      ]
     },
     "metadata": {},
     "output_type": "display_data"
    },
    {
     "data": {
      "application/javascript": "\n        if (window._pyforest_update_imports_cell) { window._pyforest_update_imports_cell('import pandas as pd'); }\n    ",
      "text/plain": [
       "<IPython.core.display.Javascript object>"
      ]
     },
     "metadata": {},
     "output_type": "display_data"
    },
    {
     "data": {
      "application/javascript": "\n        if (window._pyforest_update_imports_cell) { window._pyforest_update_imports_cell('import pandas as pd'); }\n    ",
      "text/plain": [
       "<IPython.core.display.Javascript object>"
      ]
     },
     "metadata": {},
     "output_type": "display_data"
    },
    {
     "data": {
      "application/javascript": "\n        if (window._pyforest_update_imports_cell) { window._pyforest_update_imports_cell('import pandas as pd'); }\n    ",
      "text/plain": [
       "<IPython.core.display.Javascript object>"
      ]
     },
     "metadata": {},
     "output_type": "display_data"
    },
    {
     "data": {
      "application/javascript": "\n        if (window._pyforest_update_imports_cell) { window._pyforest_update_imports_cell('import pandas as pd'); }\n    ",
      "text/plain": [
       "<IPython.core.display.Javascript object>"
      ]
     },
     "metadata": {},
     "output_type": "display_data"
    },
    {
     "data": {
      "application/javascript": "\n        if (window._pyforest_update_imports_cell) { window._pyforest_update_imports_cell('import pandas as pd'); }\n    ",
      "text/plain": [
       "<IPython.core.display.Javascript object>"
      ]
     },
     "metadata": {},
     "output_type": "display_data"
    },
    {
     "data": {
      "application/javascript": "\n        if (window._pyforest_update_imports_cell) { window._pyforest_update_imports_cell('import pandas as pd'); }\n    ",
      "text/plain": [
       "<IPython.core.display.Javascript object>"
      ]
     },
     "metadata": {},
     "output_type": "display_data"
    },
    {
     "data": {
      "application/javascript": "\n        if (window._pyforest_update_imports_cell) { window._pyforest_update_imports_cell('import pandas as pd'); }\n    ",
      "text/plain": [
       "<IPython.core.display.Javascript object>"
      ]
     },
     "metadata": {},
     "output_type": "display_data"
    },
    {
     "data": {
      "application/javascript": "\n        if (window._pyforest_update_imports_cell) { window._pyforest_update_imports_cell('import pandas as pd'); }\n    ",
      "text/plain": [
       "<IPython.core.display.Javascript object>"
      ]
     },
     "metadata": {},
     "output_type": "display_data"
    },
    {
     "data": {
      "application/javascript": "\n        if (window._pyforest_update_imports_cell) { window._pyforest_update_imports_cell('import pandas as pd'); }\n    ",
      "text/plain": [
       "<IPython.core.display.Javascript object>"
      ]
     },
     "metadata": {},
     "output_type": "display_data"
    },
    {
     "data": {
      "application/javascript": "\n        if (window._pyforest_update_imports_cell) { window._pyforest_update_imports_cell('import pandas as pd'); }\n    ",
      "text/plain": [
       "<IPython.core.display.Javascript object>"
      ]
     },
     "metadata": {},
     "output_type": "display_data"
    },
    {
     "data": {
      "application/javascript": "\n        if (window._pyforest_update_imports_cell) { window._pyforest_update_imports_cell('import pandas as pd'); }\n    ",
      "text/plain": [
       "<IPython.core.display.Javascript object>"
      ]
     },
     "metadata": {},
     "output_type": "display_data"
    },
    {
     "data": {
      "application/javascript": "\n        if (window._pyforest_update_imports_cell) { window._pyforest_update_imports_cell('import pandas as pd'); }\n    ",
      "text/plain": [
       "<IPython.core.display.Javascript object>"
      ]
     },
     "metadata": {},
     "output_type": "display_data"
    },
    {
     "data": {
      "application/javascript": "\n        if (window._pyforest_update_imports_cell) { window._pyforest_update_imports_cell('import pandas as pd'); }\n    ",
      "text/plain": [
       "<IPython.core.display.Javascript object>"
      ]
     },
     "metadata": {},
     "output_type": "display_data"
    },
    {
     "data": {
      "application/javascript": "\n        if (window._pyforest_update_imports_cell) { window._pyforest_update_imports_cell('import pandas as pd'); }\n    ",
      "text/plain": [
       "<IPython.core.display.Javascript object>"
      ]
     },
     "metadata": {},
     "output_type": "display_data"
    },
    {
     "data": {
      "application/javascript": "\n        if (window._pyforest_update_imports_cell) { window._pyforest_update_imports_cell('import pandas as pd'); }\n    ",
      "text/plain": [
       "<IPython.core.display.Javascript object>"
      ]
     },
     "metadata": {},
     "output_type": "display_data"
    },
    {
     "data": {
      "application/javascript": "\n        if (window._pyforest_update_imports_cell) { window._pyforest_update_imports_cell('import pandas as pd'); }\n    ",
      "text/plain": [
       "<IPython.core.display.Javascript object>"
      ]
     },
     "metadata": {},
     "output_type": "display_data"
    },
    {
     "data": {
      "application/javascript": "\n        if (window._pyforest_update_imports_cell) { window._pyforest_update_imports_cell('import pandas as pd'); }\n    ",
      "text/plain": [
       "<IPython.core.display.Javascript object>"
      ]
     },
     "metadata": {},
     "output_type": "display_data"
    },
    {
     "data": {
      "application/javascript": "\n        if (window._pyforest_update_imports_cell) { window._pyforest_update_imports_cell('import pandas as pd'); }\n    ",
      "text/plain": [
       "<IPython.core.display.Javascript object>"
      ]
     },
     "metadata": {},
     "output_type": "display_data"
    },
    {
     "data": {
      "application/javascript": "\n        if (window._pyforest_update_imports_cell) { window._pyforest_update_imports_cell('import pandas as pd'); }\n    ",
      "text/plain": [
       "<IPython.core.display.Javascript object>"
      ]
     },
     "metadata": {},
     "output_type": "display_data"
    },
    {
     "data": {
      "application/javascript": "\n        if (window._pyforest_update_imports_cell) { window._pyforest_update_imports_cell('import pandas as pd'); }\n    ",
      "text/plain": [
       "<IPython.core.display.Javascript object>"
      ]
     },
     "metadata": {},
     "output_type": "display_data"
    },
    {
     "data": {
      "application/javascript": "\n        if (window._pyforest_update_imports_cell) { window._pyforest_update_imports_cell('import pandas as pd'); }\n    ",
      "text/plain": [
       "<IPython.core.display.Javascript object>"
      ]
     },
     "metadata": {},
     "output_type": "display_data"
    },
    {
     "data": {
      "application/javascript": "\n        if (window._pyforest_update_imports_cell) { window._pyforest_update_imports_cell('import pandas as pd'); }\n    ",
      "text/plain": [
       "<IPython.core.display.Javascript object>"
      ]
     },
     "metadata": {},
     "output_type": "display_data"
    },
    {
     "data": {
      "application/javascript": "\n        if (window._pyforest_update_imports_cell) { window._pyforest_update_imports_cell('import pandas as pd'); }\n    ",
      "text/plain": [
       "<IPython.core.display.Javascript object>"
      ]
     },
     "metadata": {},
     "output_type": "display_data"
    },
    {
     "data": {
      "application/javascript": "\n        if (window._pyforest_update_imports_cell) { window._pyforest_update_imports_cell('import pandas as pd'); }\n    ",
      "text/plain": [
       "<IPython.core.display.Javascript object>"
      ]
     },
     "metadata": {},
     "output_type": "display_data"
    },
    {
     "data": {
      "application/javascript": "\n        if (window._pyforest_update_imports_cell) { window._pyforest_update_imports_cell('import pandas as pd'); }\n    ",
      "text/plain": [
       "<IPython.core.display.Javascript object>"
      ]
     },
     "metadata": {},
     "output_type": "display_data"
    },
    {
     "data": {
      "application/javascript": "\n        if (window._pyforest_update_imports_cell) { window._pyforest_update_imports_cell('import pandas as pd'); }\n    ",
      "text/plain": [
       "<IPython.core.display.Javascript object>"
      ]
     },
     "metadata": {},
     "output_type": "display_data"
    },
    {
     "data": {
      "application/javascript": "\n        if (window._pyforest_update_imports_cell) { window._pyforest_update_imports_cell('import pandas as pd'); }\n    ",
      "text/plain": [
       "<IPython.core.display.Javascript object>"
      ]
     },
     "metadata": {},
     "output_type": "display_data"
    },
    {
     "data": {
      "application/javascript": "\n        if (window._pyforest_update_imports_cell) { window._pyforest_update_imports_cell('import pandas as pd'); }\n    ",
      "text/plain": [
       "<IPython.core.display.Javascript object>"
      ]
     },
     "metadata": {},
     "output_type": "display_data"
    },
    {
     "data": {
      "application/javascript": "\n        if (window._pyforest_update_imports_cell) { window._pyforest_update_imports_cell('import pandas as pd'); }\n    ",
      "text/plain": [
       "<IPython.core.display.Javascript object>"
      ]
     },
     "metadata": {},
     "output_type": "display_data"
    },
    {
     "data": {
      "application/javascript": "\n        if (window._pyforest_update_imports_cell) { window._pyforest_update_imports_cell('import pandas as pd'); }\n    ",
      "text/plain": [
       "<IPython.core.display.Javascript object>"
      ]
     },
     "metadata": {},
     "output_type": "display_data"
    },
    {
     "data": {
      "application/javascript": "\n        if (window._pyforest_update_imports_cell) { window._pyforest_update_imports_cell('import pandas as pd'); }\n    ",
      "text/plain": [
       "<IPython.core.display.Javascript object>"
      ]
     },
     "metadata": {},
     "output_type": "display_data"
    },
    {
     "data": {
      "application/javascript": "\n        if (window._pyforest_update_imports_cell) { window._pyforest_update_imports_cell('import pandas as pd'); }\n    ",
      "text/plain": [
       "<IPython.core.display.Javascript object>"
      ]
     },
     "metadata": {},
     "output_type": "display_data"
    },
    {
     "data": {
      "application/javascript": "\n        if (window._pyforest_update_imports_cell) { window._pyforest_update_imports_cell('import pandas as pd'); }\n    ",
      "text/plain": [
       "<IPython.core.display.Javascript object>"
      ]
     },
     "metadata": {},
     "output_type": "display_data"
    },
    {
     "data": {
      "application/javascript": "\n        if (window._pyforest_update_imports_cell) { window._pyforest_update_imports_cell('import pandas as pd'); }\n    ",
      "text/plain": [
       "<IPython.core.display.Javascript object>"
      ]
     },
     "metadata": {},
     "output_type": "display_data"
    },
    {
     "data": {
      "application/javascript": "\n        if (window._pyforest_update_imports_cell) { window._pyforest_update_imports_cell('import pandas as pd'); }\n    ",
      "text/plain": [
       "<IPython.core.display.Javascript object>"
      ]
     },
     "metadata": {},
     "output_type": "display_data"
    },
    {
     "data": {
      "application/javascript": "\n        if (window._pyforest_update_imports_cell) { window._pyforest_update_imports_cell('import pandas as pd'); }\n    ",
      "text/plain": [
       "<IPython.core.display.Javascript object>"
      ]
     },
     "metadata": {},
     "output_type": "display_data"
    },
    {
     "data": {
      "application/javascript": "\n        if (window._pyforest_update_imports_cell) { window._pyforest_update_imports_cell('import pandas as pd'); }\n    ",
      "text/plain": [
       "<IPython.core.display.Javascript object>"
      ]
     },
     "metadata": {},
     "output_type": "display_data"
    },
    {
     "data": {
      "application/javascript": "\n        if (window._pyforest_update_imports_cell) { window._pyforest_update_imports_cell('import pandas as pd'); }\n    ",
      "text/plain": [
       "<IPython.core.display.Javascript object>"
      ]
     },
     "metadata": {},
     "output_type": "display_data"
    },
    {
     "data": {
      "application/javascript": "\n        if (window._pyforest_update_imports_cell) { window._pyforest_update_imports_cell('import pandas as pd'); }\n    ",
      "text/plain": [
       "<IPython.core.display.Javascript object>"
      ]
     },
     "metadata": {},
     "output_type": "display_data"
    },
    {
     "data": {
      "application/javascript": "\n        if (window._pyforest_update_imports_cell) { window._pyforest_update_imports_cell('import pandas as pd'); }\n    ",
      "text/plain": [
       "<IPython.core.display.Javascript object>"
      ]
     },
     "metadata": {},
     "output_type": "display_data"
    },
    {
     "data": {
      "application/javascript": "\n        if (window._pyforest_update_imports_cell) { window._pyforest_update_imports_cell('import pandas as pd'); }\n    ",
      "text/plain": [
       "<IPython.core.display.Javascript object>"
      ]
     },
     "metadata": {},
     "output_type": "display_data"
    },
    {
     "data": {
      "application/javascript": "\n        if (window._pyforest_update_imports_cell) { window._pyforest_update_imports_cell('import pandas as pd'); }\n    ",
      "text/plain": [
       "<IPython.core.display.Javascript object>"
      ]
     },
     "metadata": {},
     "output_type": "display_data"
    },
    {
     "data": {
      "application/javascript": "\n        if (window._pyforest_update_imports_cell) { window._pyforest_update_imports_cell('import pandas as pd'); }\n    ",
      "text/plain": [
       "<IPython.core.display.Javascript object>"
      ]
     },
     "metadata": {},
     "output_type": "display_data"
    },
    {
     "data": {
      "application/javascript": "\n        if (window._pyforest_update_imports_cell) { window._pyforest_update_imports_cell('import pandas as pd'); }\n    ",
      "text/plain": [
       "<IPython.core.display.Javascript object>"
      ]
     },
     "metadata": {},
     "output_type": "display_data"
    },
    {
     "data": {
      "application/javascript": "\n        if (window._pyforest_update_imports_cell) { window._pyforest_update_imports_cell('import pandas as pd'); }\n    ",
      "text/plain": [
       "<IPython.core.display.Javascript object>"
      ]
     },
     "metadata": {},
     "output_type": "display_data"
    },
    {
     "data": {
      "application/javascript": "\n        if (window._pyforest_update_imports_cell) { window._pyforest_update_imports_cell('import pandas as pd'); }\n    ",
      "text/plain": [
       "<IPython.core.display.Javascript object>"
      ]
     },
     "metadata": {},
     "output_type": "display_data"
    },
    {
     "data": {
      "application/javascript": "\n        if (window._pyforest_update_imports_cell) { window._pyforest_update_imports_cell('import pandas as pd'); }\n    ",
      "text/plain": [
       "<IPython.core.display.Javascript object>"
      ]
     },
     "metadata": {},
     "output_type": "display_data"
    },
    {
     "data": {
      "application/javascript": "\n        if (window._pyforest_update_imports_cell) { window._pyforest_update_imports_cell('import pandas as pd'); }\n    ",
      "text/plain": [
       "<IPython.core.display.Javascript object>"
      ]
     },
     "metadata": {},
     "output_type": "display_data"
    },
    {
     "data": {
      "application/javascript": "\n        if (window._pyforest_update_imports_cell) { window._pyforest_update_imports_cell('import pandas as pd'); }\n    ",
      "text/plain": [
       "<IPython.core.display.Javascript object>"
      ]
     },
     "metadata": {},
     "output_type": "display_data"
    },
    {
     "data": {
      "application/javascript": "\n        if (window._pyforest_update_imports_cell) { window._pyforest_update_imports_cell('import pandas as pd'); }\n    ",
      "text/plain": [
       "<IPython.core.display.Javascript object>"
      ]
     },
     "metadata": {},
     "output_type": "display_data"
    },
    {
     "data": {
      "application/javascript": "\n        if (window._pyforest_update_imports_cell) { window._pyforest_update_imports_cell('import pandas as pd'); }\n    ",
      "text/plain": [
       "<IPython.core.display.Javascript object>"
      ]
     },
     "metadata": {},
     "output_type": "display_data"
    },
    {
     "data": {
      "application/javascript": "\n        if (window._pyforest_update_imports_cell) { window._pyforest_update_imports_cell('import pandas as pd'); }\n    ",
      "text/plain": [
       "<IPython.core.display.Javascript object>"
      ]
     },
     "metadata": {},
     "output_type": "display_data"
    },
    {
     "data": {
      "application/javascript": "\n        if (window._pyforest_update_imports_cell) { window._pyforest_update_imports_cell('import pandas as pd'); }\n    ",
      "text/plain": [
       "<IPython.core.display.Javascript object>"
      ]
     },
     "metadata": {},
     "output_type": "display_data"
    },
    {
     "data": {
      "application/javascript": "\n        if (window._pyforest_update_imports_cell) { window._pyforest_update_imports_cell('import pandas as pd'); }\n    ",
      "text/plain": [
       "<IPython.core.display.Javascript object>"
      ]
     },
     "metadata": {},
     "output_type": "display_data"
    },
    {
     "data": {
      "application/javascript": "\n        if (window._pyforest_update_imports_cell) { window._pyforest_update_imports_cell('import pandas as pd'); }\n    ",
      "text/plain": [
       "<IPython.core.display.Javascript object>"
      ]
     },
     "metadata": {},
     "output_type": "display_data"
    },
    {
     "data": {
      "application/javascript": "\n        if (window._pyforest_update_imports_cell) { window._pyforest_update_imports_cell('import pandas as pd'); }\n    ",
      "text/plain": [
       "<IPython.core.display.Javascript object>"
      ]
     },
     "metadata": {},
     "output_type": "display_data"
    },
    {
     "data": {
      "text/html": [
       "<div>\n",
       "<style scoped>\n",
       "    .dataframe tbody tr th:only-of-type {\n",
       "        vertical-align: middle;\n",
       "    }\n",
       "\n",
       "    .dataframe tbody tr th {\n",
       "        vertical-align: top;\n",
       "    }\n",
       "\n",
       "    .dataframe thead th {\n",
       "        text-align: right;\n",
       "    }\n",
       "</style>\n",
       "<table border=\"1\" class=\"dataframe\">\n",
       "  <thead>\n",
       "    <tr style=\"text-align: right;\">\n",
       "      <th></th>\n",
       "      <th>datetime</th>\n",
       "      <th>value</th>\n",
       "    </tr>\n",
       "  </thead>\n",
       "  <tbody>\n",
       "    <tr>\n",
       "      <th>0</th>\n",
       "      <td>2023-01-01 00:00:00</td>\n",
       "      <td>0</td>\n",
       "    </tr>\n",
       "    <tr>\n",
       "      <th>1</th>\n",
       "      <td>2023-01-01 01:00:00</td>\n",
       "      <td>0</td>\n",
       "    </tr>\n",
       "    <tr>\n",
       "      <th>2</th>\n",
       "      <td>2023-01-01 02:00:00</td>\n",
       "      <td>0</td>\n",
       "    </tr>\n",
       "    <tr>\n",
       "      <th>3</th>\n",
       "      <td>2023-01-01 03:00:00</td>\n",
       "      <td>1</td>\n",
       "    </tr>\n",
       "    <tr>\n",
       "      <th>4</th>\n",
       "      <td>2023-01-01 04:00:00</td>\n",
       "      <td>0</td>\n",
       "    </tr>\n",
       "  </tbody>\n",
       "</table>\n",
       "</div>"
      ],
      "text/plain": [
       "             datetime  value\n",
       "0 2023-01-01 00:00:00      0\n",
       "1 2023-01-01 01:00:00      0\n",
       "2 2023-01-01 02:00:00      0\n",
       "3 2023-01-01 03:00:00      1\n",
       "4 2023-01-01 04:00:00      0"
      ]
     },
     "execution_count": 36,
     "metadata": {},
     "output_type": "execute_result"
    }
   ],
   "source": [
    "jun24_df = pd.read_csv(\"./mydata/traffic/counter 4/r4-hgv-art/jun-24.csv\")\n",
    "jun24_df=jun24_df.drop(['Count','Workday','7 Day'], axis=1)\n",
    "jun24_df = jun24_df.rename(columns={jun24_df.columns[0]: 'hour'})  # rename first column to 'hour'\n",
    "jun24_df_long = pd.melt(jun24_df, id_vars='hour', var_name='date', value_name='value')\n",
    "jun24_df_long['datetime'] = pd.to_datetime(jun24_df_long['date'].astype(str) + ' ' + jun24_df_long['hour'].astype(str))\n",
    "jun24_df_long = jun24_df_long[['datetime', 'value']].sort_values('datetime').reset_index(drop=True)\n",
    "jun24_df_long.head()\n",
    "\n",
    "\n",
    "jun23_df = pd.read_csv(\"./mydata/traffic/counter 4/r4-hgv-art/jun-23.csv\")\n",
    "jun23_df=jun23_df.drop(['Count','Workday','7 Day'], axis=1)\n",
    "jun23_df = jun23_df.rename(columns={jun23_df.columns[0]: 'hour'})  # rename first column to 'hour'\n",
    "jun23_df_long = pd.melt(jun23_df, id_vars='hour', var_name='date', value_name='value')\n",
    "jun23_df_long['datetime'] = pd.to_datetime(jun23_df_long['date'].astype(str) + ' ' + jun23_df_long['hour'].astype(str))\n",
    "jun23_df_long = jun23_df_long[['datetime', 'value']].sort_values('datetime').reset_index(drop=True)\n",
    "jun23_df_long.head()\n",
    "\n",
    "may23_df = pd.read_csv(\"./mydata/traffic/counter 4/r4-hgv-art/may-23.csv\")\n",
    "may23_df=may23_df.drop(['Count','Workday','7 Day'], axis=1)\n",
    "may23_df = may23_df.rename(columns={may23_df.columns[0]: 'hour'})  # rename first column to 'hour'\n",
    "may23_df_long = pd.melt(may23_df, id_vars='hour', var_name='date', value_name='value')\n",
    "may23_df_long['datetime'] = pd.to_datetime(may23_df_long['date'].astype(str) + ' ' + may23_df_long['hour'].astype(str))\n",
    "may23_df_long = may23_df_long[['datetime', 'value']].sort_values('datetime').reset_index(drop=True)\n",
    "may23_df_long.head()\n",
    "\n",
    "apr23_df = pd.read_csv(\"./mydata/traffic/counter 4/r4-hgv-art/apr-23.csv\")\n",
    "apr23_df=apr23_df.drop(['Count','Workday','7 Day'], axis=1)\n",
    "apr23_df = apr23_df.rename(columns={apr23_df.columns[0]: 'hour'})  # rename first column to 'hour'\n",
    "apr23_df_long = pd.melt(apr23_df, id_vars='hour', var_name='date', value_name='value')\n",
    "apr23_df_long['datetime'] = pd.to_datetime(apr23_df_long['date'].astype(str) + ' ' + apr23_df_long['hour'].astype(str))\n",
    "apr23_df_long = apr23_df_long[['datetime', 'value']].sort_values('datetime').reset_index(drop=True)\n",
    "apr23_df_long.head()\n",
    "\n",
    "mar23_df = pd.read_csv(\"./mydata/traffic/counter 4/r4-hgv-art/mar-23.csv\")\n",
    "mar23_df=mar23_df.drop(['Count','Workday','7 Day'], axis=1)\n",
    "mar23_df =mar23_df.rename(columns={mar23_df.columns[0]: 'hour'})  # rename first column to 'hour'\n",
    "mar23_df_long = pd.melt(mar23_df, id_vars='hour', var_name='date', value_name='value')\n",
    "mar23_df_long['datetime'] = pd.to_datetime(mar23_df_long['date'].astype(str) + ' ' + mar23_df_long['hour'].astype(str))\n",
    "mar23_df_long = mar23_df_long[['datetime', 'value']].sort_values('datetime').reset_index(drop=True)\n",
    "mar23_df_long.head()\n",
    "\n",
    "feb23_df = pd.read_csv(\"./mydata/traffic/counter 4/r4-hgv-art/feb-23.csv\")\n",
    "feb23_df=feb23_df.drop(['Count','Workday','7 Day'], axis=1)\n",
    "feb23_df =feb23_df.rename(columns={feb23_df.columns[0]: 'hour'})  # rename first column to 'hour'\n",
    "feb23_df_long = pd.melt(feb23_df, id_vars='hour', var_name='date', value_name='value')\n",
    "feb23_df_long['datetime'] = pd.to_datetime(feb23_df_long['date'].astype(str) + ' ' + feb23_df_long['hour'].astype(str))\n",
    "feb23_df_long = feb23_df_long[['datetime', 'value']].sort_values('datetime').reset_index(drop=True)\n",
    "feb23_df_long.head()\n",
    "\n",
    "jan23_df = pd.read_csv(\"./mydata/traffic/counter 4/r4-hgv-art/jan-23.csv\")\n",
    "jan23_df=jan23_df.drop(['Count','Workday','7 Day'], axis=1)\n",
    "jan23_df =jan23_df.rename(columns={jan23_df.columns[0]: 'hour'})  # rename first column to 'hour'\n",
    "jan23_df_long = pd.melt(jan23_df, id_vars='hour', var_name='date', value_name='value')\n",
    "jan23_df_long['datetime'] = pd.to_datetime(jan23_df_long['date'].astype(str) + ' ' + jan23_df_long['hour'].astype(str))\n",
    "jan23_df_long = jan23_df_long[['datetime', 'value']].sort_values('datetime').reset_index(drop=True)\n",
    "jan23_df_long.head()\n",
    "\n",
    "aug24_df = pd.read_csv(\"./mydata/traffic/counter 4/r4-hgv-art/aug-24.csv\")\n",
    "aug24_df=aug24_df.drop(['Count','Workday','7 Day'], axis=1)\n",
    "aug24_df =aug24_df.rename(columns={aug24_df.columns[0]: 'hour'})  # rename first column to 'hour'\n",
    "aug24_df_long = pd.melt(aug24_df, id_vars='hour', var_name='date', value_name='value')\n",
    "aug24_df_long['datetime'] = pd.to_datetime(aug24_df_long['date'].astype(str) + ' ' + aug24_df_long['hour'].astype(str))\n",
    "aug24_df_long = aug24_df_long[['datetime', 'value']].sort_values('datetime').reset_index(drop=True)\n",
    "aug24_df_long.head()\n",
    "\n",
    "jul24_df = pd.read_csv(\"./mydata/traffic/counter 4/r4-hgv-art/jul-24.csv\")\n",
    "jul24_df=jul24_df.drop(['Count','Workday','7 Day'], axis=1)\n",
    "jul24_df =jul24_df.rename(columns={jul24_df.columns[0]: 'hour'})  # rename first column to 'hour'\n",
    "jul24_df_long = pd.melt(jul24_df, id_vars='hour', var_name='date', value_name='value')\n",
    "jul24_df_long['datetime'] = pd.to_datetime(jul24_df_long['date'].astype(str) + ' ' + jul24_df_long['hour'].astype(str))\n",
    "jul24_df_long = jul24_df_long[['datetime', 'value']].sort_values('datetime').reset_index(drop=True)\n",
    "jul24_df_long.head()\n",
    "\n",
    "\n",
    "may24_df = pd.read_csv(\"./mydata/traffic/counter 4/r4-hgv-art/may-24.csv\")\n",
    "may24_df=may24_df.drop(['Count','Workday','7 Day'], axis=1)\n",
    "may24_df = may24_df.rename(columns={may24_df.columns[0]: 'hour'})  # rename first column to 'hour'\n",
    "may24_df_long = pd.melt(may24_df, id_vars='hour', var_name='date', value_name='value')\n",
    "may24_df_long['datetime'] = pd.to_datetime(may24_df_long['date'].astype(str) + ' ' + may24_df_long['hour'].astype(str))\n",
    "may24_df_long = may24_df_long[['datetime', 'value']].sort_values('datetime').reset_index(drop=True)\n",
    "may24_df_long.head()\n",
    "\n",
    "apr24_df = pd.read_csv(\"./mydata/traffic/counter 4/r4-hgv-art/apr-24.csv\")\n",
    "apr24_df=apr24_df.drop(['Count','Workday','7 Day'], axis=1)\n",
    "apr24_df = apr24_df.rename(columns={apr24_df.columns[0]: 'hour'})  # rename first column to 'hour'\n",
    "apr24_df_long = pd.melt(apr24_df, id_vars='hour', var_name='date', value_name='value')\n",
    "apr24_df_long['datetime'] = pd.to_datetime(apr24_df_long['date'].astype(str) + ' ' + apr24_df_long['hour'].astype(str))\n",
    "apr24_df_long = apr24_df_long[['datetime', 'value']].sort_values('datetime').reset_index(drop=True)\n",
    "apr24_df_long.head()\n",
    "\n",
    "mar24_df = pd.read_csv(\"./mydata/traffic/counter 4/r4-hgv-art/mar-24.csv\")\n",
    "mar24_df=mar24_df.drop(['Count','Workday','7 Day'], axis=1)\n",
    "mar24_df =mar24_df.rename(columns={mar24_df.columns[0]: 'hour'})  # rename first column to 'hour'\n",
    "mar24_df_long = pd.melt(mar24_df, id_vars='hour', var_name='date', value_name='value')\n",
    "mar24_df_long['datetime'] = pd.to_datetime(mar24_df_long['date'].astype(str) + ' ' + mar24_df_long['hour'].astype(str))\n",
    "mar24_df_long = mar24_df_long[['datetime', 'value']].sort_values('datetime').reset_index(drop=True)\n",
    "mar24_df_long.head()\n",
    "\n",
    "feb24_df = pd.read_csv(\"./mydata/traffic/counter 4/r4-hgv-art/feb-24.csv\")\n",
    "feb24_df=feb24_df.drop(['Count','Workday','7 Day'], axis=1)\n",
    "feb24_df =feb24_df.rename(columns={feb24_df.columns[0]: 'hour'})  # rename first column to 'hour'\n",
    "feb24_df_long = pd.melt(feb24_df, id_vars='hour', var_name='date', value_name='value')\n",
    "feb24_df_long['datetime'] = pd.to_datetime(feb24_df_long['date'].astype(str) + ' ' + feb24_df_long['hour'].astype(str))\n",
    "feb24_df_long = feb24_df_long[['datetime', 'value']].sort_values('datetime').reset_index(drop=True)\n",
    "feb24_df_long.head()\n",
    "\n",
    "jan24_df = pd.read_csv(\"./mydata/traffic/counter 4/r4-hgv-art/jan-24.csv\")\n",
    "jan24_df=jan24_df.drop(['Count','Workday','7 Day'], axis=1)\n",
    "jan24_df =jan24_df.rename(columns={jan24_df.columns[0]: 'hour'})  # rename first column to 'hour'\n",
    "jan24_df_long = pd.melt(jan24_df, id_vars='hour', var_name='date', value_name='value')\n",
    "jan24_df_long['datetime'] = pd.to_datetime(jan24_df_long['date'].astype(str) + ' ' + jan24_df_long['hour'].astype(str))\n",
    "jan24_df_long = jan24_df_long[['datetime', 'value']].sort_values('datetime').reset_index(drop=True)\n",
    "jan24_df_long.head()\n",
    "\n",
    "dec23_df = pd.read_csv(\"./mydata/traffic/counter 4/r4-hgv-art/dec-23.csv\")\n",
    "dec23_df=dec23_df.drop(['Count','Workday','7 Day'], axis=1)\n",
    "dec23_df =dec23_df.rename(columns={dec23_df.columns[0]: 'hour'})  # rename first column to 'hour'\n",
    "dec23_df_long = pd.melt(dec23_df, id_vars='hour', var_name='date', value_name='value')\n",
    "dec23_df_long['datetime'] = pd.to_datetime(dec23_df_long['date'].astype(str) + ' ' + dec23_df_long['hour'].astype(str))\n",
    "dec23_df_long = dec23_df_long[['datetime', 'value']].sort_values('datetime').reset_index(drop=True)\n",
    "dec23_df_long.head()\n",
    "\n",
    "nov23_df = pd.read_csv(\"./mydata/traffic/counter 4/r4-hgv-art/nov-23.csv\")\n",
    "nov23_df=nov23_df.drop(['Count','Workday','7 Day'], axis=1)\n",
    "nov23_df =nov23_df.rename(columns={nov23_df.columns[0]: 'hour'})  # rename first column to 'hour'\n",
    "nov23_df_long = pd.melt(nov23_df, id_vars='hour', var_name='date', value_name='value')\n",
    "nov23_df_long['datetime'] = pd.to_datetime(nov23_df_long['date'].astype(str) + ' ' + nov23_df_long['hour'].astype(str))\n",
    "nov23_df_long = nov23_df_long[['datetime', 'value']].sort_values('datetime').reset_index(drop=True)\n",
    "nov23_df_long.head()\n",
    "\n",
    "oct23_df = pd.read_csv(\"./mydata/traffic/counter 4/r4-hgv-art/oct-23.csv\")\n",
    "oct23_df=oct23_df.drop(['Count','Workday','7 Day'], axis=1)\n",
    "oct23_df =oct23_df.rename(columns={oct23_df.columns[0]: 'hour'})  # rename first column to 'hour'\n",
    "oct23_df_long = pd.melt(oct23_df, id_vars='hour', var_name='date', value_name='value')\n",
    "oct23_df_long['datetime'] = pd.to_datetime(oct23_df_long['date'].astype(str) + ' ' + oct23_df_long['hour'].astype(str))\n",
    "oct23_df_long = oct23_df_long[['datetime', 'value']].sort_values('datetime').reset_index(drop=True)\n",
    "oct23_df_long.head()\n",
    "\n",
    "sep23_df = pd.read_csv(\"./mydata/traffic/counter 4/r4-hgv-art/sep-23.csv\")\n",
    "sep23_df=sep23_df.drop(['Count','Workday','7 Day'], axis=1)\n",
    "sep23_df =sep23_df.rename(columns={sep23_df.columns[0]: 'hour'})  # rename first column to 'hour'\n",
    "sep23_df_long = pd.melt(sep23_df, id_vars='hour', var_name='date', value_name='value')\n",
    "sep23_df_long['datetime'] = pd.to_datetime(sep23_df_long['date'].astype(str) + ' ' + sep23_df_long['hour'].astype(str))\n",
    "sep23_df_long = sep23_df_long[['datetime', 'value']].sort_values('datetime').reset_index(drop=True)\n",
    "sep23_df_long.head()\n",
    "\n",
    "aug23_df = pd.read_csv(\"./mydata/traffic/counter 4/r4-hgv-art/aug-23.csv\")\n",
    "aug23_df=aug23_df.drop(['Count','Workday','7 Day'], axis=1)\n",
    "aug23_df =aug23_df.rename(columns={aug23_df.columns[0]: 'hour'})  # rename first column to 'hour'\n",
    "aug23_df_long = pd.melt(aug23_df, id_vars='hour', var_name='date', value_name='value')\n",
    "aug23_df_long['datetime'] = pd.to_datetime(aug23_df_long['date'].astype(str) + ' ' + aug23_df_long['hour'].astype(str))\n",
    "aug23_df_long = aug23_df_long[['datetime', 'value']].sort_values('datetime').reset_index(drop=True)\n",
    "aug23_df_long.head()\n",
    "\n",
    "jul23_df = pd.read_csv(\"./mydata/traffic/counter 4/r4-hgv-art/jul-23.csv\")\n",
    "jul23_df=jul23_df.drop(['Count','Workday','7 Day'], axis=1)\n",
    "jul23_df =jul23_df.rename(columns={jul23_df.columns[0]: 'hour'})  # rename first column to 'hour'\n",
    "jul23_df_long = pd.melt(jul23_df, id_vars='hour', var_name='date', value_name='value')\n",
    "jul23_df_long['datetime'] = pd.to_datetime(jul23_df_long['date'].astype(str) + ' ' + jul23_df_long['hour'].astype(str))\n",
    "jul23_df_long = jul23_df_long[['datetime', 'value']].sort_values('datetime').reset_index(drop=True)\n",
    "jul23_df_long.head()\n",
    "\n",
    "combined_df = pd.concat([jul24_df_long, aug24_df_long], ignore_index=True)\n",
    "combined_df = pd.concat([jun24_df_long, combined_df], ignore_index=True)\n",
    "combined_df = pd.concat([may24_df_long, combined_df], ignore_index=True)\n",
    "combined_df = pd.concat([apr24_df_long, combined_df], ignore_index=True)\n",
    "combined_df = pd.concat([mar24_df_long, combined_df], ignore_index=True)\n",
    "combined_df = pd.concat([feb24_df_long, combined_df], ignore_index=True)\n",
    "combined_df = pd.concat([jan24_df_long, combined_df], ignore_index=True)\n",
    "combined_df = pd.concat([dec23_df_long, combined_df], ignore_index=True)\n",
    "combined_df = pd.concat([nov23_df_long, combined_df], ignore_index=True)\n",
    "combined_df = pd.concat([oct23_df_long, combined_df], ignore_index=True)\n",
    "combined_df = pd.concat([sep23_df_long, combined_df], ignore_index=True)\n",
    "combined_df = pd.concat([aug23_df_long, combined_df], ignore_index=True)\n",
    "combined_df = pd.concat([jul23_df_long, combined_df], ignore_index=True)\n",
    "combined_df = pd.concat([jun23_df_long, combined_df], ignore_index=True)\n",
    "combined_df = pd.concat([may23_df_long, combined_df], ignore_index=True)\n",
    "combined_df = pd.concat([apr23_df_long, combined_df], ignore_index=True)\n",
    "combined_df = pd.concat([mar23_df_long, combined_df], ignore_index=True)\n",
    "combined_df = pd.concat([feb23_df_long, combined_df], ignore_index=True)\n",
    "combined_df2_3 = pd.concat([jan23_df_long, combined_df], ignore_index=True)\n",
    "combined_df2_3.head()"
   ]
  },
  {
   "cell_type": "code",
   "execution_count": 37,
   "id": "57f81f9e",
   "metadata": {},
   "outputs": [],
   "source": [
    "combined_df2_3.to_csv('./mydata/traffic/counter 4/r4-hgv-art/2023-24_hgv_art_cnt.csv')"
   ]
  },
  {
   "cell_type": "code",
   "execution_count": 39,
   "id": "7cf6e791",
   "metadata": {},
   "outputs": [
    {
     "data": {
      "application/javascript": "\n        if (window._pyforest_update_imports_cell) { window._pyforest_update_imports_cell('import pandas as pd'); }\n    ",
      "text/plain": [
       "<IPython.core.display.Javascript object>"
      ]
     },
     "metadata": {},
     "output_type": "display_data"
    },
    {
     "data": {
      "text/html": [
       "<div>\n",
       "<style scoped>\n",
       "    .dataframe tbody tr th:only-of-type {\n",
       "        vertical-align: middle;\n",
       "    }\n",
       "\n",
       "    .dataframe tbody tr th {\n",
       "        vertical-align: top;\n",
       "    }\n",
       "\n",
       "    .dataframe thead th {\n",
       "        text-align: right;\n",
       "    }\n",
       "</style>\n",
       "<table border=\"1\" class=\"dataframe\">\n",
       "  <thead>\n",
       "    <tr style=\"text-align: right;\">\n",
       "      <th></th>\n",
       "      <th>Unnamed: 0</th>\n",
       "      <th>datetime</th>\n",
       "      <th>value</th>\n",
       "    </tr>\n",
       "  </thead>\n",
       "  <tbody>\n",
       "    <tr>\n",
       "      <th>0</th>\n",
       "      <td>0</td>\n",
       "      <td>2023-01-01 00:00:00</td>\n",
       "      <td>0</td>\n",
       "    </tr>\n",
       "    <tr>\n",
       "      <th>1</th>\n",
       "      <td>1</td>\n",
       "      <td>2023-01-01 01:00:00</td>\n",
       "      <td>0</td>\n",
       "    </tr>\n",
       "    <tr>\n",
       "      <th>2</th>\n",
       "      <td>2</td>\n",
       "      <td>2023-01-01 02:00:00</td>\n",
       "      <td>0</td>\n",
       "    </tr>\n",
       "    <tr>\n",
       "      <th>3</th>\n",
       "      <td>3</td>\n",
       "      <td>2023-01-01 03:00:00</td>\n",
       "      <td>1</td>\n",
       "    </tr>\n",
       "    <tr>\n",
       "      <th>4</th>\n",
       "      <td>4</td>\n",
       "      <td>2023-01-01 04:00:00</td>\n",
       "      <td>0</td>\n",
       "    </tr>\n",
       "  </tbody>\n",
       "</table>\n",
       "</div>"
      ],
      "text/plain": [
       "   Unnamed: 0             datetime  value\n",
       "0           0  2023-01-01 00:00:00      0\n",
       "1           1  2023-01-01 01:00:00      0\n",
       "2           2  2023-01-01 02:00:00      0\n",
       "3           3  2023-01-01 03:00:00      1\n",
       "4           4  2023-01-01 04:00:00      0"
      ]
     },
     "execution_count": 39,
     "metadata": {},
     "output_type": "execute_result"
    }
   ],
   "source": [
    "r4_hgv_art=pd.read_csv('./mydata/traffic/counter 4/r4-hgv-art/2023-24_hgv_art_cnt.csv')\n",
    "r4_hgv_art.head()"
   ]
  },
  {
   "cell_type": "code",
   "execution_count": 40,
   "id": "6bc35767",
   "metadata": {},
   "outputs": [
    {
     "name": "stdout",
     "output_type": "stream",
     "text": [
      "0\n",
      "0\n",
      "0\n",
      "0\n"
     ]
    }
   ],
   "source": [
    "print(r4_personal['value'].isna().sum())\n",
    "print(r4_lgv['value'].isna().sum())\n",
    "print(r4_hgv_rig['value'].isna().sum())\n",
    "print(r4_hgv_art['value'].isna().sum())"
   ]
  },
  {
   "cell_type": "code",
   "execution_count": 42,
   "id": "a9328500",
   "metadata": {},
   "outputs": [
    {
     "name": "stdout",
     "output_type": "stream",
     "text": [
      "14616\n",
      "14616\n",
      "14616\n",
      "14616\n"
     ]
    }
   ],
   "source": [
    "print(len(r4_personal))\n",
    "print(len(r4_lgv))\n",
    "print(len(r4_hgv_rig))\n",
    "print(len(r4_hgv_art))\n"
   ]
  },
  {
   "cell_type": "code",
   "execution_count": 43,
   "id": "5b3a6fb2",
   "metadata": {},
   "outputs": [
    {
     "data": {
      "text/plain": [
       "Series([], Name: datetime, dtype: object)"
      ]
     },
     "execution_count": 43,
     "metadata": {},
     "output_type": "execute_result"
    }
   ],
   "source": [
    "r4_personal[r4_personal['value'].isna()]['datetime']\n"
   ]
  },
  {
   "cell_type": "code",
   "execution_count": 44,
   "id": "448fd859",
   "metadata": {},
   "outputs": [
    {
     "data": {
      "text/plain": [
       "Series([], Name: datetime, dtype: object)"
      ]
     },
     "execution_count": 44,
     "metadata": {},
     "output_type": "execute_result"
    }
   ],
   "source": [
    "r4_hgv_art[r4_hgv_art['value'].isna()]['datetime']"
   ]
  },
  {
   "cell_type": "code",
   "execution_count": 45,
   "id": "e1db0d01",
   "metadata": {},
   "outputs": [],
   "source": [
    "r4_personal = r4_personal.rename(columns={r4_personal.columns[2]: \"personal\"})\n",
    "r4_lgv = r4_lgv.rename(columns={r4_lgv.columns[2]: \"lgv\"})\n",
    "r4_hgv_rig = r4_hgv_rig.rename(columns={r4_hgv_rig.columns[2]: \"hgv_rig\"})\n",
    "r4_hgv_art = r4_hgv_art.rename(columns={r4_hgv_art.columns[2]: \"hgv_art\"})"
   ]
  },
  {
   "cell_type": "code",
   "execution_count": 46,
   "id": "737b4d64",
   "metadata": {},
   "outputs": [
    {
     "data": {
      "text/html": [
       "<div>\n",
       "<style scoped>\n",
       "    .dataframe tbody tr th:only-of-type {\n",
       "        vertical-align: middle;\n",
       "    }\n",
       "\n",
       "    .dataframe tbody tr th {\n",
       "        vertical-align: top;\n",
       "    }\n",
       "\n",
       "    .dataframe thead th {\n",
       "        text-align: right;\n",
       "    }\n",
       "</style>\n",
       "<table border=\"1\" class=\"dataframe\">\n",
       "  <thead>\n",
       "    <tr style=\"text-align: right;\">\n",
       "      <th></th>\n",
       "      <th>Unnamed: 0</th>\n",
       "      <th>datetime</th>\n",
       "      <th>personal</th>\n",
       "    </tr>\n",
       "  </thead>\n",
       "  <tbody>\n",
       "    <tr>\n",
       "      <th>0</th>\n",
       "      <td>0</td>\n",
       "      <td>2023-01-01 00:00:00</td>\n",
       "      <td>176</td>\n",
       "    </tr>\n",
       "    <tr>\n",
       "      <th>1</th>\n",
       "      <td>1</td>\n",
       "      <td>2023-01-01 01:00:00</td>\n",
       "      <td>214</td>\n",
       "    </tr>\n",
       "    <tr>\n",
       "      <th>2</th>\n",
       "      <td>2</td>\n",
       "      <td>2023-01-01 02:00:00</td>\n",
       "      <td>114</td>\n",
       "    </tr>\n",
       "    <tr>\n",
       "      <th>3</th>\n",
       "      <td>3</td>\n",
       "      <td>2023-01-01 03:00:00</td>\n",
       "      <td>84</td>\n",
       "    </tr>\n",
       "    <tr>\n",
       "      <th>4</th>\n",
       "      <td>4</td>\n",
       "      <td>2023-01-01 04:00:00</td>\n",
       "      <td>45</td>\n",
       "    </tr>\n",
       "  </tbody>\n",
       "</table>\n",
       "</div>"
      ],
      "text/plain": [
       "   Unnamed: 0             datetime  personal\n",
       "0           0  2023-01-01 00:00:00       176\n",
       "1           1  2023-01-01 01:00:00       214\n",
       "2           2  2023-01-01 02:00:00       114\n",
       "3           3  2023-01-01 03:00:00        84\n",
       "4           4  2023-01-01 04:00:00        45"
      ]
     },
     "execution_count": 46,
     "metadata": {},
     "output_type": "execute_result"
    }
   ],
   "source": [
    "r4_personal.head()\n"
   ]
  },
  {
   "cell_type": "code",
   "execution_count": 47,
   "id": "6c6f902f",
   "metadata": {},
   "outputs": [],
   "source": [
    "r4_personal.drop(columns=['Unnamed: 0'], axis=1, inplace=True)\n",
    "r4_lgv.drop(columns=['Unnamed: 0'], axis=1, inplace=True)\n",
    "r4_hgv_rig.drop(columns=['Unnamed: 0'], axis=1, inplace=True)\n",
    "r4_hgv_art.drop(columns=['Unnamed: 0'], axis=1, inplace=True)"
   ]
  },
  {
   "cell_type": "code",
   "execution_count": 48,
   "id": "990ffa7e",
   "metadata": {},
   "outputs": [
    {
     "data": {
      "text/html": [
       "<div>\n",
       "<style scoped>\n",
       "    .dataframe tbody tr th:only-of-type {\n",
       "        vertical-align: middle;\n",
       "    }\n",
       "\n",
       "    .dataframe tbody tr th {\n",
       "        vertical-align: top;\n",
       "    }\n",
       "\n",
       "    .dataframe thead th {\n",
       "        text-align: right;\n",
       "    }\n",
       "</style>\n",
       "<table border=\"1\" class=\"dataframe\">\n",
       "  <thead>\n",
       "    <tr style=\"text-align: right;\">\n",
       "      <th></th>\n",
       "      <th>datetime</th>\n",
       "      <th>personal</th>\n",
       "      <th>lgv</th>\n",
       "      <th>hgv_rig</th>\n",
       "      <th>hgv_art</th>\n",
       "    </tr>\n",
       "  </thead>\n",
       "  <tbody>\n",
       "    <tr>\n",
       "      <th>0</th>\n",
       "      <td>2023-01-01 00:00:00</td>\n",
       "      <td>176</td>\n",
       "      <td>5</td>\n",
       "      <td>2</td>\n",
       "      <td>0</td>\n",
       "    </tr>\n",
       "    <tr>\n",
       "      <th>1</th>\n",
       "      <td>2023-01-01 01:00:00</td>\n",
       "      <td>214</td>\n",
       "      <td>12</td>\n",
       "      <td>1</td>\n",
       "      <td>0</td>\n",
       "    </tr>\n",
       "    <tr>\n",
       "      <th>2</th>\n",
       "      <td>2023-01-01 02:00:00</td>\n",
       "      <td>114</td>\n",
       "      <td>12</td>\n",
       "      <td>2</td>\n",
       "      <td>0</td>\n",
       "    </tr>\n",
       "    <tr>\n",
       "      <th>3</th>\n",
       "      <td>2023-01-01 03:00:00</td>\n",
       "      <td>84</td>\n",
       "      <td>2</td>\n",
       "      <td>0</td>\n",
       "      <td>1</td>\n",
       "    </tr>\n",
       "    <tr>\n",
       "      <th>4</th>\n",
       "      <td>2023-01-01 04:00:00</td>\n",
       "      <td>45</td>\n",
       "      <td>7</td>\n",
       "      <td>3</td>\n",
       "      <td>0</td>\n",
       "    </tr>\n",
       "  </tbody>\n",
       "</table>\n",
       "</div>"
      ],
      "text/plain": [
       "              datetime  personal  lgv  hgv_rig  hgv_art\n",
       "0  2023-01-01 00:00:00       176    5        2        0\n",
       "1  2023-01-01 01:00:00       214   12        1        0\n",
       "2  2023-01-01 02:00:00       114   12        2        0\n",
       "3  2023-01-01 03:00:00        84    2        0        1\n",
       "4  2023-01-01 04:00:00        45    7        3        0"
      ]
     },
     "execution_count": 48,
     "metadata": {},
     "output_type": "execute_result"
    }
   ],
   "source": [
    "merged_df = r4_personal.merge(r4_lgv, on=\"datetime\") \\\n",
    "               .merge(r4_hgv_rig, on=\"datetime\") \\\n",
    "               .merge(r4_hgv_art, on=\"datetime\")\n",
    "\n",
    "merged_df.head()"
   ]
  },
  {
   "cell_type": "code",
   "execution_count": 49,
   "id": "30122d9c",
   "metadata": {},
   "outputs": [
    {
     "data": {
      "text/html": [
       "<div>\n",
       "<style scoped>\n",
       "    .dataframe tbody tr th:only-of-type {\n",
       "        vertical-align: middle;\n",
       "    }\n",
       "\n",
       "    .dataframe tbody tr th {\n",
       "        vertical-align: top;\n",
       "    }\n",
       "\n",
       "    .dataframe thead th {\n",
       "        text-align: right;\n",
       "    }\n",
       "</style>\n",
       "<table border=\"1\" class=\"dataframe\">\n",
       "  <thead>\n",
       "    <tr style=\"text-align: right;\">\n",
       "      <th></th>\n",
       "      <th>datetime</th>\n",
       "      <th>personal</th>\n",
       "      <th>lgv</th>\n",
       "      <th>hgv_rig</th>\n",
       "      <th>hgv_art</th>\n",
       "    </tr>\n",
       "  </thead>\n",
       "  <tbody>\n",
       "  </tbody>\n",
       "</table>\n",
       "</div>"
      ],
      "text/plain": [
       "Empty DataFrame\n",
       "Columns: [datetime, personal, lgv, hgv_rig, hgv_art]\n",
       "Index: []"
      ]
     },
     "execution_count": 49,
     "metadata": {},
     "output_type": "execute_result"
    }
   ],
   "source": [
    "merged_df[merged_df['personal'].isna()]"
   ]
  },
  {
   "cell_type": "code",
   "execution_count": 50,
   "id": "bb8352da",
   "metadata": {},
   "outputs": [
    {
     "data": {
      "text/html": [
       "<div>\n",
       "<style scoped>\n",
       "    .dataframe tbody tr th:only-of-type {\n",
       "        vertical-align: middle;\n",
       "    }\n",
       "\n",
       "    .dataframe tbody tr th {\n",
       "        vertical-align: top;\n",
       "    }\n",
       "\n",
       "    .dataframe thead th {\n",
       "        text-align: right;\n",
       "    }\n",
       "</style>\n",
       "<table border=\"1\" class=\"dataframe\">\n",
       "  <thead>\n",
       "    <tr style=\"text-align: right;\">\n",
       "      <th></th>\n",
       "      <th>datetime</th>\n",
       "      <th>personal</th>\n",
       "      <th>lgv</th>\n",
       "      <th>hgv_rig</th>\n",
       "      <th>hgv_art</th>\n",
       "    </tr>\n",
       "  </thead>\n",
       "  <tbody>\n",
       "    <tr>\n",
       "      <th>0</th>\n",
       "      <td>2023-01-01 00:00:00</td>\n",
       "      <td>176</td>\n",
       "      <td>5</td>\n",
       "      <td>2</td>\n",
       "      <td>0</td>\n",
       "    </tr>\n",
       "    <tr>\n",
       "      <th>1</th>\n",
       "      <td>2023-01-01 01:00:00</td>\n",
       "      <td>214</td>\n",
       "      <td>12</td>\n",
       "      <td>1</td>\n",
       "      <td>0</td>\n",
       "    </tr>\n",
       "    <tr>\n",
       "      <th>2</th>\n",
       "      <td>2023-01-01 02:00:00</td>\n",
       "      <td>114</td>\n",
       "      <td>12</td>\n",
       "      <td>2</td>\n",
       "      <td>0</td>\n",
       "    </tr>\n",
       "    <tr>\n",
       "      <th>3</th>\n",
       "      <td>2023-01-01 03:00:00</td>\n",
       "      <td>84</td>\n",
       "      <td>2</td>\n",
       "      <td>0</td>\n",
       "      <td>1</td>\n",
       "    </tr>\n",
       "    <tr>\n",
       "      <th>4</th>\n",
       "      <td>2023-01-01 04:00:00</td>\n",
       "      <td>45</td>\n",
       "      <td>7</td>\n",
       "      <td>3</td>\n",
       "      <td>0</td>\n",
       "    </tr>\n",
       "  </tbody>\n",
       "</table>\n",
       "</div>"
      ],
      "text/plain": [
       "              datetime  personal  lgv  hgv_rig  hgv_art\n",
       "0  2023-01-01 00:00:00       176    5        2        0\n",
       "1  2023-01-01 01:00:00       214   12        1        0\n",
       "2  2023-01-01 02:00:00       114   12        2        0\n",
       "3  2023-01-01 03:00:00        84    2        0        1\n",
       "4  2023-01-01 04:00:00        45    7        3        0"
      ]
     },
     "execution_count": 50,
     "metadata": {},
     "output_type": "execute_result"
    }
   ],
   "source": [
    "merged_df.head()"
   ]
  },
  {
   "cell_type": "code",
   "execution_count": 51,
   "id": "2171a912",
   "metadata": {},
   "outputs": [
    {
     "data": {
      "application/javascript": "\n        if (window._pyforest_update_imports_cell) { window._pyforest_update_imports_cell('import pandas as pd'); }\n    ",
      "text/plain": [
       "<IPython.core.display.Javascript object>"
      ]
     },
     "metadata": {},
     "output_type": "display_data"
    },
    {
     "name": "stdout",
     "output_type": "stream",
     "text": [
      "14615\n"
     ]
    }
   ],
   "source": [
    "# Generate full hourly range in Europe/Dublin timezone\n",
    "full_range = pd.date_range(\n",
    "    start='2023-01-01 00:00:00',\n",
    "    end='2024-08-31 23:00:00',\n",
    "    freq='H',\n",
    "    tz='Europe/Dublin'\n",
    ")\n",
    "\n",
    "# Check length (should be 17542 if both DST skips applied)\n",
    "print(len(full_range))  # Expected: 17542"
   ]
  },
  {
   "cell_type": "code",
   "execution_count": 52,
   "id": "88804cd5",
   "metadata": {},
   "outputs": [
    {
     "data": {
      "application/javascript": "\n        if (window._pyforest_update_imports_cell) { window._pyforest_update_imports_cell('import pandas as pd'); }\n    ",
      "text/plain": [
       "<IPython.core.display.Javascript object>"
      ]
     },
     "metadata": {},
     "output_type": "display_data"
    },
    {
     "data": {
      "application/javascript": "\n        if (window._pyforest_update_imports_cell) { window._pyforest_update_imports_cell('import pandas as pd'); }\n    ",
      "text/plain": [
       "<IPython.core.display.Javascript object>"
      ]
     },
     "metadata": {},
     "output_type": "display_data"
    },
    {
     "data": {
      "text/html": [
       "<div>\n",
       "<style scoped>\n",
       "    .dataframe tbody tr th:only-of-type {\n",
       "        vertical-align: middle;\n",
       "    }\n",
       "\n",
       "    .dataframe tbody tr th {\n",
       "        vertical-align: top;\n",
       "    }\n",
       "\n",
       "    .dataframe thead th {\n",
       "        text-align: right;\n",
       "    }\n",
       "</style>\n",
       "<table border=\"1\" class=\"dataframe\">\n",
       "  <thead>\n",
       "    <tr style=\"text-align: right;\">\n",
       "      <th></th>\n",
       "      <th>datetime</th>\n",
       "      <th>personal</th>\n",
       "      <th>lgv</th>\n",
       "      <th>hgv_rig</th>\n",
       "      <th>hgv_art</th>\n",
       "      <th>irish_datetime</th>\n",
       "    </tr>\n",
       "  </thead>\n",
       "  <tbody>\n",
       "    <tr>\n",
       "      <th>0</th>\n",
       "      <td>2023-01-01 00:00:00</td>\n",
       "      <td>176</td>\n",
       "      <td>5</td>\n",
       "      <td>2</td>\n",
       "      <td>0</td>\n",
       "      <td>2023-01-01 00:00:00+00:00</td>\n",
       "    </tr>\n",
       "    <tr>\n",
       "      <th>1</th>\n",
       "      <td>2023-01-01 01:00:00</td>\n",
       "      <td>214</td>\n",
       "      <td>12</td>\n",
       "      <td>1</td>\n",
       "      <td>0</td>\n",
       "      <td>2023-01-01 01:00:00+00:00</td>\n",
       "    </tr>\n",
       "    <tr>\n",
       "      <th>2</th>\n",
       "      <td>2023-01-01 02:00:00</td>\n",
       "      <td>114</td>\n",
       "      <td>12</td>\n",
       "      <td>2</td>\n",
       "      <td>0</td>\n",
       "      <td>2023-01-01 02:00:00+00:00</td>\n",
       "    </tr>\n",
       "    <tr>\n",
       "      <th>3</th>\n",
       "      <td>2023-01-01 03:00:00</td>\n",
       "      <td>84</td>\n",
       "      <td>2</td>\n",
       "      <td>0</td>\n",
       "      <td>1</td>\n",
       "      <td>2023-01-01 03:00:00+00:00</td>\n",
       "    </tr>\n",
       "    <tr>\n",
       "      <th>4</th>\n",
       "      <td>2023-01-01 04:00:00</td>\n",
       "      <td>45</td>\n",
       "      <td>7</td>\n",
       "      <td>3</td>\n",
       "      <td>0</td>\n",
       "      <td>2023-01-01 04:00:00+00:00</td>\n",
       "    </tr>\n",
       "  </tbody>\n",
       "</table>\n",
       "</div>"
      ],
      "text/plain": [
       "              datetime  personal  lgv  hgv_rig  hgv_art  \\\n",
       "0  2023-01-01 00:00:00       176    5        2        0   \n",
       "1  2023-01-01 01:00:00       214   12        1        0   \n",
       "2  2023-01-01 02:00:00       114   12        2        0   \n",
       "3  2023-01-01 03:00:00        84    2        0        1   \n",
       "4  2023-01-01 04:00:00        45    7        3        0   \n",
       "\n",
       "             irish_datetime  \n",
       "0 2023-01-01 00:00:00+00:00  \n",
       "1 2023-01-01 01:00:00+00:00  \n",
       "2 2023-01-01 02:00:00+00:00  \n",
       "3 2023-01-01 03:00:00+00:00  \n",
       "4 2023-01-01 04:00:00+00:00  "
      ]
     },
     "execution_count": 52,
     "metadata": {},
     "output_type": "execute_result"
    }
   ],
   "source": [
    "full_df = pd.DataFrame({'datetime': full_range})\n",
    "\n",
    "merged_df['irish_datetime'] = pd.to_datetime(merged_df['datetime']).dt.tz_localize('Europe/Dublin', ambiguous='NaT', nonexistent='NaT')\n",
    "merged_df.head()"
   ]
  },
  {
   "cell_type": "code",
   "execution_count": 53,
   "id": "7ab67cfb",
   "metadata": {},
   "outputs": [
    {
     "data": {
      "text/html": [
       "<div>\n",
       "<style scoped>\n",
       "    .dataframe tbody tr th:only-of-type {\n",
       "        vertical-align: middle;\n",
       "    }\n",
       "\n",
       "    .dataframe tbody tr th {\n",
       "        vertical-align: top;\n",
       "    }\n",
       "\n",
       "    .dataframe thead th {\n",
       "        text-align: right;\n",
       "    }\n",
       "</style>\n",
       "<table border=\"1\" class=\"dataframe\">\n",
       "  <thead>\n",
       "    <tr style=\"text-align: right;\">\n",
       "      <th></th>\n",
       "      <th>datetime</th>\n",
       "      <th>personal</th>\n",
       "      <th>lgv</th>\n",
       "      <th>hgv_rig</th>\n",
       "      <th>hgv_art</th>\n",
       "      <th>irish_datetime</th>\n",
       "    </tr>\n",
       "  </thead>\n",
       "  <tbody>\n",
       "    <tr>\n",
       "      <th>8595</th>\n",
       "      <td>2023-12-25 03:00:00</td>\n",
       "      <td>20</td>\n",
       "      <td>0</td>\n",
       "      <td>0</td>\n",
       "      <td>0</td>\n",
       "      <td>2023-12-25 03:00:00+00:00</td>\n",
       "    </tr>\n",
       "  </tbody>\n",
       "</table>\n",
       "</div>"
      ],
      "text/plain": [
       "                 datetime  personal  lgv  hgv_rig  hgv_art  \\\n",
       "8595  2023-12-25 03:00:00        20    0        0        0   \n",
       "\n",
       "                irish_datetime  \n",
       "8595 2023-12-25 03:00:00+00:00  "
      ]
     },
     "execution_count": 53,
     "metadata": {},
     "output_type": "execute_result"
    }
   ],
   "source": [
    "merged_df[((merged_df['lgv']==0) & (merged_df['hgv_rig']==0) & (merged_df['hgv_art']==0))]"
   ]
  },
  {
   "cell_type": "code",
   "execution_count": 54,
   "id": "f18af3e1",
   "metadata": {},
   "outputs": [],
   "source": [
    "merged_df[\"date\"] = merged_df[\"irish_datetime\"].dt.date\n",
    "merged_df[\"month\"] = merged_df[\"irish_datetime\"].dt.month\n",
    "merged_df[\"hour\"] = merged_df[\"irish_datetime\"].dt.hour\n",
    "merged_df[\"year\"] = merged_df[\"irish_datetime\"].dt.year"
   ]
  },
  {
   "cell_type": "code",
   "execution_count": 55,
   "id": "b8ec96fc",
   "metadata": {},
   "outputs": [
    {
     "data": {
      "text/html": [
       "<div>\n",
       "<style scoped>\n",
       "    .dataframe tbody tr th:only-of-type {\n",
       "        vertical-align: middle;\n",
       "    }\n",
       "\n",
       "    .dataframe tbody tr th {\n",
       "        vertical-align: top;\n",
       "    }\n",
       "\n",
       "    .dataframe thead th {\n",
       "        text-align: right;\n",
       "    }\n",
       "</style>\n",
       "<table border=\"1\" class=\"dataframe\">\n",
       "  <thead>\n",
       "    <tr style=\"text-align: right;\">\n",
       "      <th></th>\n",
       "      <th>datetime</th>\n",
       "      <th>personal</th>\n",
       "      <th>lgv</th>\n",
       "      <th>hgv_rig</th>\n",
       "      <th>hgv_art</th>\n",
       "      <th>irish_datetime</th>\n",
       "      <th>date</th>\n",
       "      <th>month</th>\n",
       "      <th>hour</th>\n",
       "      <th>year</th>\n",
       "    </tr>\n",
       "  </thead>\n",
       "  <tbody>\n",
       "    <tr>\n",
       "      <th>10917</th>\n",
       "      <td>2024-03-30 21:00:00</td>\n",
       "      <td>414</td>\n",
       "      <td>37</td>\n",
       "      <td>0</td>\n",
       "      <td>1</td>\n",
       "      <td>2024-03-30 21:00:00+00:00</td>\n",
       "      <td>2024-03-30</td>\n",
       "      <td>3.0</td>\n",
       "      <td>21.0</td>\n",
       "      <td>2024.0</td>\n",
       "    </tr>\n",
       "    <tr>\n",
       "      <th>10918</th>\n",
       "      <td>2024-03-30 22:00:00</td>\n",
       "      <td>375</td>\n",
       "      <td>14</td>\n",
       "      <td>1</td>\n",
       "      <td>3</td>\n",
       "      <td>2024-03-30 22:00:00+00:00</td>\n",
       "      <td>2024-03-30</td>\n",
       "      <td>3.0</td>\n",
       "      <td>22.0</td>\n",
       "      <td>2024.0</td>\n",
       "    </tr>\n",
       "    <tr>\n",
       "      <th>10919</th>\n",
       "      <td>2024-03-30 23:00:00</td>\n",
       "      <td>358</td>\n",
       "      <td>18</td>\n",
       "      <td>3</td>\n",
       "      <td>1</td>\n",
       "      <td>2024-03-30 23:00:00+00:00</td>\n",
       "      <td>2024-03-30</td>\n",
       "      <td>3.0</td>\n",
       "      <td>23.0</td>\n",
       "      <td>2024.0</td>\n",
       "    </tr>\n",
       "    <tr>\n",
       "      <th>10920</th>\n",
       "      <td>2024-03-31 00:00:00</td>\n",
       "      <td>145</td>\n",
       "      <td>12</td>\n",
       "      <td>1</td>\n",
       "      <td>2</td>\n",
       "      <td>2024-03-31 00:00:00+00:00</td>\n",
       "      <td>2024-03-31</td>\n",
       "      <td>3.0</td>\n",
       "      <td>0.0</td>\n",
       "      <td>2024.0</td>\n",
       "    </tr>\n",
       "    <tr>\n",
       "      <th>10922</th>\n",
       "      <td>2024-03-31 02:00:00</td>\n",
       "      <td>146</td>\n",
       "      <td>18</td>\n",
       "      <td>0</td>\n",
       "      <td>3</td>\n",
       "      <td>2024-03-31 02:00:00+01:00</td>\n",
       "      <td>2024-03-31</td>\n",
       "      <td>3.0</td>\n",
       "      <td>2.0</td>\n",
       "      <td>2024.0</td>\n",
       "    </tr>\n",
       "    <tr>\n",
       "      <th>10923</th>\n",
       "      <td>2024-03-31 03:00:00</td>\n",
       "      <td>109</td>\n",
       "      <td>8</td>\n",
       "      <td>1</td>\n",
       "      <td>4</td>\n",
       "      <td>2024-03-31 03:00:00+01:00</td>\n",
       "      <td>2024-03-31</td>\n",
       "      <td>3.0</td>\n",
       "      <td>3.0</td>\n",
       "      <td>2024.0</td>\n",
       "    </tr>\n",
       "    <tr>\n",
       "      <th>10924</th>\n",
       "      <td>2024-03-31 04:00:00</td>\n",
       "      <td>75</td>\n",
       "      <td>4</td>\n",
       "      <td>1</td>\n",
       "      <td>0</td>\n",
       "      <td>2024-03-31 04:00:00+01:00</td>\n",
       "      <td>2024-03-31</td>\n",
       "      <td>3.0</td>\n",
       "      <td>4.0</td>\n",
       "      <td>2024.0</td>\n",
       "    </tr>\n",
       "    <tr>\n",
       "      <th>10925</th>\n",
       "      <td>2024-03-31 05:00:00</td>\n",
       "      <td>74</td>\n",
       "      <td>3</td>\n",
       "      <td>0</td>\n",
       "      <td>2</td>\n",
       "      <td>2024-03-31 05:00:00+01:00</td>\n",
       "      <td>2024-03-31</td>\n",
       "      <td>3.0</td>\n",
       "      <td>5.0</td>\n",
       "      <td>2024.0</td>\n",
       "    </tr>\n",
       "    <tr>\n",
       "      <th>10926</th>\n",
       "      <td>2024-03-31 06:00:00</td>\n",
       "      <td>140</td>\n",
       "      <td>8</td>\n",
       "      <td>1</td>\n",
       "      <td>4</td>\n",
       "      <td>2024-03-31 06:00:00+01:00</td>\n",
       "      <td>2024-03-31</td>\n",
       "      <td>3.0</td>\n",
       "      <td>6.0</td>\n",
       "      <td>2024.0</td>\n",
       "    </tr>\n",
       "    <tr>\n",
       "      <th>10927</th>\n",
       "      <td>2024-03-31 07:00:00</td>\n",
       "      <td>209</td>\n",
       "      <td>10</td>\n",
       "      <td>2</td>\n",
       "      <td>4</td>\n",
       "      <td>2024-03-31 07:00:00+01:00</td>\n",
       "      <td>2024-03-31</td>\n",
       "      <td>3.0</td>\n",
       "      <td>7.0</td>\n",
       "      <td>2024.0</td>\n",
       "    </tr>\n",
       "  </tbody>\n",
       "</table>\n",
       "</div>"
      ],
      "text/plain": [
       "                  datetime  personal  lgv  hgv_rig  hgv_art  \\\n",
       "10917  2024-03-30 21:00:00       414   37        0        1   \n",
       "10918  2024-03-30 22:00:00       375   14        1        3   \n",
       "10919  2024-03-30 23:00:00       358   18        3        1   \n",
       "10920  2024-03-31 00:00:00       145   12        1        2   \n",
       "10922  2024-03-31 02:00:00       146   18        0        3   \n",
       "10923  2024-03-31 03:00:00       109    8        1        4   \n",
       "10924  2024-03-31 04:00:00        75    4        1        0   \n",
       "10925  2024-03-31 05:00:00        74    3        0        2   \n",
       "10926  2024-03-31 06:00:00       140    8        1        4   \n",
       "10927  2024-03-31 07:00:00       209   10        2        4   \n",
       "\n",
       "                 irish_datetime        date  month  hour    year  \n",
       "10917 2024-03-30 21:00:00+00:00  2024-03-30    3.0  21.0  2024.0  \n",
       "10918 2024-03-30 22:00:00+00:00  2024-03-30    3.0  22.0  2024.0  \n",
       "10919 2024-03-30 23:00:00+00:00  2024-03-30    3.0  23.0  2024.0  \n",
       "10920 2024-03-31 00:00:00+00:00  2024-03-31    3.0   0.0  2024.0  \n",
       "10922 2024-03-31 02:00:00+01:00  2024-03-31    3.0   2.0  2024.0  \n",
       "10923 2024-03-31 03:00:00+01:00  2024-03-31    3.0   3.0  2024.0  \n",
       "10924 2024-03-31 04:00:00+01:00  2024-03-31    3.0   4.0  2024.0  \n",
       "10925 2024-03-31 05:00:00+01:00  2024-03-31    3.0   5.0  2024.0  \n",
       "10926 2024-03-31 06:00:00+01:00  2024-03-31    3.0   6.0  2024.0  \n",
       "10927 2024-03-31 07:00:00+01:00  2024-03-31    3.0   7.0  2024.0  "
      ]
     },
     "execution_count": 55,
     "metadata": {},
     "output_type": "execute_result"
    }
   ],
   "source": [
    "merged_df.head()\n",
    "test=merged_df[merged_df['month']==3]\n",
    "test.iloc[1460:1470,]"
   ]
  },
  {
   "cell_type": "code",
   "execution_count": 156,
   "id": "80da0930",
   "metadata": {},
   "outputs": [],
   "source": [
    "hourly_means = merged_df.groupby([\"month\", \"hour\"])[[\"personal\", \"lgv\", \"hgv_rig\", \"hgv_art\"]].transform(\"mean\")\n",
    "\n",
    "# Fill NaNs with these hourly means\n",
    "merged_df[[\"personal\", \"lgv\", \"hgv_rig\", \"hgv_art\"]] = merged_df[[\"personal\", \"lgv\", \"hgv_rig\", \"hgv_art\"]].fillna(hourly_means)"
   ]
  },
  {
   "cell_type": "code",
   "execution_count": 29,
   "id": "1f350231",
   "metadata": {},
   "outputs": [
    {
     "data": {
      "text/html": [
       "<div>\n",
       "<style scoped>\n",
       "    .dataframe tbody tr th:only-of-type {\n",
       "        vertical-align: middle;\n",
       "    }\n",
       "\n",
       "    .dataframe tbody tr th {\n",
       "        vertical-align: top;\n",
       "    }\n",
       "\n",
       "    .dataframe thead th {\n",
       "        text-align: right;\n",
       "    }\n",
       "</style>\n",
       "<table border=\"1\" class=\"dataframe\">\n",
       "  <thead>\n",
       "    <tr style=\"text-align: right;\">\n",
       "      <th></th>\n",
       "      <th>datetime</th>\n",
       "      <th>personal_vehicle_count</th>\n",
       "    </tr>\n",
       "  </thead>\n",
       "  <tbody>\n",
       "    <tr>\n",
       "      <th>0</th>\n",
       "      <td>2023-07-01 00:00:00</td>\n",
       "      <td>121.0</td>\n",
       "    </tr>\n",
       "    <tr>\n",
       "      <th>1</th>\n",
       "      <td>2023-07-01 01:00:00</td>\n",
       "      <td>100.0</td>\n",
       "    </tr>\n",
       "    <tr>\n",
       "      <th>2</th>\n",
       "      <td>2023-07-01 02:00:00</td>\n",
       "      <td>90.0</td>\n",
       "    </tr>\n",
       "    <tr>\n",
       "      <th>3</th>\n",
       "      <td>2023-07-01 03:00:00</td>\n",
       "      <td>46.0</td>\n",
       "    </tr>\n",
       "    <tr>\n",
       "      <th>4</th>\n",
       "      <td>2023-07-01 04:00:00</td>\n",
       "      <td>33.0</td>\n",
       "    </tr>\n",
       "  </tbody>\n",
       "</table>\n",
       "</div>"
      ],
      "text/plain": [
       "             datetime  personal_vehicle_count\n",
       "0 2023-07-01 00:00:00                   121.0\n",
       "1 2023-07-01 01:00:00                   100.0\n",
       "2 2023-07-01 02:00:00                    90.0\n",
       "3 2023-07-01 03:00:00                    46.0\n",
       "4 2023-07-01 04:00:00                    33.0"
      ]
     },
     "execution_count": 29,
     "metadata": {},
     "output_type": "execute_result"
    }
   ],
   "source": [
    "road1=pd.DataFrame({'datetime':combined_df1['datetime'], 'personal_vehicle_count':(combined_df1['value']+combined_df1_1['value'])})\n",
    "\n",
    "road1.head()"
   ]
  },
  {
   "cell_type": "code",
   "execution_count": 157,
   "id": "02fd0dfc",
   "metadata": {},
   "outputs": [
    {
     "data": {
      "text/html": [
       "<div>\n",
       "<style scoped>\n",
       "    .dataframe tbody tr th:only-of-type {\n",
       "        vertical-align: middle;\n",
       "    }\n",
       "\n",
       "    .dataframe tbody tr th {\n",
       "        vertical-align: top;\n",
       "    }\n",
       "\n",
       "    .dataframe thead th {\n",
       "        text-align: right;\n",
       "    }\n",
       "</style>\n",
       "<table border=\"1\" class=\"dataframe\">\n",
       "  <thead>\n",
       "    <tr style=\"text-align: right;\">\n",
       "      <th></th>\n",
       "      <th>datetime</th>\n",
       "      <th>personal</th>\n",
       "      <th>lgv</th>\n",
       "      <th>hgv_rig</th>\n",
       "      <th>hgv_art</th>\n",
       "      <th>irish_datetime</th>\n",
       "      <th>date</th>\n",
       "      <th>month</th>\n",
       "      <th>hour</th>\n",
       "      <th>year</th>\n",
       "    </tr>\n",
       "  </thead>\n",
       "  <tbody>\n",
       "    <tr>\n",
       "      <th>10921</th>\n",
       "      <td>2024-03-31 01:00:00</td>\n",
       "      <td>NaN</td>\n",
       "      <td>NaN</td>\n",
       "      <td>NaN</td>\n",
       "      <td>NaN</td>\n",
       "      <td>NaT</td>\n",
       "      <td>NaT</td>\n",
       "      <td>NaN</td>\n",
       "      <td>NaN</td>\n",
       "      <td>NaN</td>\n",
       "    </tr>\n",
       "  </tbody>\n",
       "</table>\n",
       "</div>"
      ],
      "text/plain": [
       "                  datetime  personal  lgv  hgv_rig  hgv_art irish_datetime  \\\n",
       "10921  2024-03-31 01:00:00       NaN  NaN      NaN      NaN            NaT   \n",
       "\n",
       "      date  month  hour  year  \n",
       "10921  NaT    NaN   NaN   NaN  "
      ]
     },
     "execution_count": 157,
     "metadata": {},
     "output_type": "execute_result"
    }
   ],
   "source": [
    "merged_df[merged_df['personal'].isna()]"
   ]
  },
  {
   "cell_type": "code",
   "execution_count": 56,
   "id": "0b815f36",
   "metadata": {},
   "outputs": [
    {
     "data": {
      "text/html": [
       "<div>\n",
       "<style scoped>\n",
       "    .dataframe tbody tr th:only-of-type {\n",
       "        vertical-align: middle;\n",
       "    }\n",
       "\n",
       "    .dataframe tbody tr th {\n",
       "        vertical-align: top;\n",
       "    }\n",
       "\n",
       "    .dataframe thead th {\n",
       "        text-align: right;\n",
       "    }\n",
       "</style>\n",
       "<table border=\"1\" class=\"dataframe\">\n",
       "  <thead>\n",
       "    <tr style=\"text-align: right;\">\n",
       "      <th></th>\n",
       "      <th>personal</th>\n",
       "      <th>lgv</th>\n",
       "      <th>hgv_rig</th>\n",
       "      <th>hgv_art</th>\n",
       "      <th>datetime</th>\n",
       "      <th>date</th>\n",
       "      <th>month</th>\n",
       "      <th>hour</th>\n",
       "      <th>year</th>\n",
       "    </tr>\n",
       "  </thead>\n",
       "  <tbody>\n",
       "    <tr>\n",
       "      <th>0</th>\n",
       "      <td>176</td>\n",
       "      <td>5</td>\n",
       "      <td>2</td>\n",
       "      <td>0</td>\n",
       "      <td>2023-01-01 00:00:00+00:00</td>\n",
       "      <td>2023-01-01</td>\n",
       "      <td>1.0</td>\n",
       "      <td>0.0</td>\n",
       "      <td>2023.0</td>\n",
       "    </tr>\n",
       "    <tr>\n",
       "      <th>1</th>\n",
       "      <td>214</td>\n",
       "      <td>12</td>\n",
       "      <td>1</td>\n",
       "      <td>0</td>\n",
       "      <td>2023-01-01 01:00:00+00:00</td>\n",
       "      <td>2023-01-01</td>\n",
       "      <td>1.0</td>\n",
       "      <td>1.0</td>\n",
       "      <td>2023.0</td>\n",
       "    </tr>\n",
       "    <tr>\n",
       "      <th>2</th>\n",
       "      <td>114</td>\n",
       "      <td>12</td>\n",
       "      <td>2</td>\n",
       "      <td>0</td>\n",
       "      <td>2023-01-01 02:00:00+00:00</td>\n",
       "      <td>2023-01-01</td>\n",
       "      <td>1.0</td>\n",
       "      <td>2.0</td>\n",
       "      <td>2023.0</td>\n",
       "    </tr>\n",
       "    <tr>\n",
       "      <th>3</th>\n",
       "      <td>84</td>\n",
       "      <td>2</td>\n",
       "      <td>0</td>\n",
       "      <td>1</td>\n",
       "      <td>2023-01-01 03:00:00+00:00</td>\n",
       "      <td>2023-01-01</td>\n",
       "      <td>1.0</td>\n",
       "      <td>3.0</td>\n",
       "      <td>2023.0</td>\n",
       "    </tr>\n",
       "    <tr>\n",
       "      <th>4</th>\n",
       "      <td>45</td>\n",
       "      <td>7</td>\n",
       "      <td>3</td>\n",
       "      <td>0</td>\n",
       "      <td>2023-01-01 04:00:00+00:00</td>\n",
       "      <td>2023-01-01</td>\n",
       "      <td>1.0</td>\n",
       "      <td>4.0</td>\n",
       "      <td>2023.0</td>\n",
       "    </tr>\n",
       "  </tbody>\n",
       "</table>\n",
       "</div>"
      ],
      "text/plain": [
       "   personal  lgv  hgv_rig  hgv_art                  datetime        date  \\\n",
       "0       176    5        2        0 2023-01-01 00:00:00+00:00  2023-01-01   \n",
       "1       214   12        1        0 2023-01-01 01:00:00+00:00  2023-01-01   \n",
       "2       114   12        2        0 2023-01-01 02:00:00+00:00  2023-01-01   \n",
       "3        84    2        0        1 2023-01-01 03:00:00+00:00  2023-01-01   \n",
       "4        45    7        3        0 2023-01-01 04:00:00+00:00  2023-01-01   \n",
       "\n",
       "   month  hour    year  \n",
       "0    1.0   0.0  2023.0  \n",
       "1    1.0   1.0  2023.0  \n",
       "2    1.0   2.0  2023.0  \n",
       "3    1.0   3.0  2023.0  \n",
       "4    1.0   4.0  2023.0  "
      ]
     },
     "execution_count": 56,
     "metadata": {},
     "output_type": "execute_result"
    }
   ],
   "source": [
    "merged_df=merged_df.dropna(subset=[\"irish_datetime\"])\n",
    "merged_df.drop(columns=['datetime'],axis=1, inplace=True)\n",
    "merged_df.rename(columns={'irish_datetime':'datetime'}, inplace=True)\n",
    "merged_df.head()"
   ]
  },
  {
   "cell_type": "code",
   "execution_count": 57,
   "id": "74cfd66b",
   "metadata": {},
   "outputs": [
    {
     "data": {
      "text/html": [
       "<div>\n",
       "<style scoped>\n",
       "    .dataframe tbody tr th:only-of-type {\n",
       "        vertical-align: middle;\n",
       "    }\n",
       "\n",
       "    .dataframe tbody tr th {\n",
       "        vertical-align: top;\n",
       "    }\n",
       "\n",
       "    .dataframe thead th {\n",
       "        text-align: right;\n",
       "    }\n",
       "</style>\n",
       "<table border=\"1\" class=\"dataframe\">\n",
       "  <thead>\n",
       "    <tr style=\"text-align: right;\">\n",
       "      <th></th>\n",
       "      <th>personal</th>\n",
       "      <th>lgv</th>\n",
       "      <th>hgv_rig</th>\n",
       "      <th>hgv_art</th>\n",
       "      <th>datetime</th>\n",
       "      <th>date</th>\n",
       "      <th>month</th>\n",
       "      <th>hour</th>\n",
       "      <th>year</th>\n",
       "      <th>heavy_goods</th>\n",
       "    </tr>\n",
       "  </thead>\n",
       "  <tbody>\n",
       "    <tr>\n",
       "      <th>0</th>\n",
       "      <td>176</td>\n",
       "      <td>5</td>\n",
       "      <td>2</td>\n",
       "      <td>0</td>\n",
       "      <td>2023-01-01 00:00:00+00:00</td>\n",
       "      <td>2023-01-01</td>\n",
       "      <td>1.0</td>\n",
       "      <td>0.0</td>\n",
       "      <td>2023.0</td>\n",
       "      <td>7</td>\n",
       "    </tr>\n",
       "    <tr>\n",
       "      <th>1</th>\n",
       "      <td>214</td>\n",
       "      <td>12</td>\n",
       "      <td>1</td>\n",
       "      <td>0</td>\n",
       "      <td>2023-01-01 01:00:00+00:00</td>\n",
       "      <td>2023-01-01</td>\n",
       "      <td>1.0</td>\n",
       "      <td>1.0</td>\n",
       "      <td>2023.0</td>\n",
       "      <td>13</td>\n",
       "    </tr>\n",
       "    <tr>\n",
       "      <th>2</th>\n",
       "      <td>114</td>\n",
       "      <td>12</td>\n",
       "      <td>2</td>\n",
       "      <td>0</td>\n",
       "      <td>2023-01-01 02:00:00+00:00</td>\n",
       "      <td>2023-01-01</td>\n",
       "      <td>1.0</td>\n",
       "      <td>2.0</td>\n",
       "      <td>2023.0</td>\n",
       "      <td>14</td>\n",
       "    </tr>\n",
       "    <tr>\n",
       "      <th>3</th>\n",
       "      <td>84</td>\n",
       "      <td>2</td>\n",
       "      <td>0</td>\n",
       "      <td>1</td>\n",
       "      <td>2023-01-01 03:00:00+00:00</td>\n",
       "      <td>2023-01-01</td>\n",
       "      <td>1.0</td>\n",
       "      <td>3.0</td>\n",
       "      <td>2023.0</td>\n",
       "      <td>3</td>\n",
       "    </tr>\n",
       "    <tr>\n",
       "      <th>4</th>\n",
       "      <td>45</td>\n",
       "      <td>7</td>\n",
       "      <td>3</td>\n",
       "      <td>0</td>\n",
       "      <td>2023-01-01 04:00:00+00:00</td>\n",
       "      <td>2023-01-01</td>\n",
       "      <td>1.0</td>\n",
       "      <td>4.0</td>\n",
       "      <td>2023.0</td>\n",
       "      <td>10</td>\n",
       "    </tr>\n",
       "  </tbody>\n",
       "</table>\n",
       "</div>"
      ],
      "text/plain": [
       "   personal  lgv  hgv_rig  hgv_art                  datetime        date  \\\n",
       "0       176    5        2        0 2023-01-01 00:00:00+00:00  2023-01-01   \n",
       "1       214   12        1        0 2023-01-01 01:00:00+00:00  2023-01-01   \n",
       "2       114   12        2        0 2023-01-01 02:00:00+00:00  2023-01-01   \n",
       "3        84    2        0        1 2023-01-01 03:00:00+00:00  2023-01-01   \n",
       "4        45    7        3        0 2023-01-01 04:00:00+00:00  2023-01-01   \n",
       "\n",
       "   month  hour    year  heavy_goods  \n",
       "0    1.0   0.0  2023.0            7  \n",
       "1    1.0   1.0  2023.0           13  \n",
       "2    1.0   2.0  2023.0           14  \n",
       "3    1.0   3.0  2023.0            3  \n",
       "4    1.0   4.0  2023.0           10  "
      ]
     },
     "execution_count": 57,
     "metadata": {},
     "output_type": "execute_result"
    }
   ],
   "source": [
    "merged_df['heavy_goods']=merged_df['lgv']+merged_df['hgv_rig']+merged_df['hgv_art']\n",
    "merged_df.head()"
   ]
  },
  {
   "cell_type": "code",
   "execution_count": 58,
   "id": "977116df",
   "metadata": {},
   "outputs": [
    {
     "data": {
      "text/html": [
       "<div>\n",
       "<style scoped>\n",
       "    .dataframe tbody tr th:only-of-type {\n",
       "        vertical-align: middle;\n",
       "    }\n",
       "\n",
       "    .dataframe tbody tr th {\n",
       "        vertical-align: top;\n",
       "    }\n",
       "\n",
       "    .dataframe thead th {\n",
       "        text-align: right;\n",
       "    }\n",
       "</style>\n",
       "<table border=\"1\" class=\"dataframe\">\n",
       "  <thead>\n",
       "    <tr style=\"text-align: right;\">\n",
       "      <th></th>\n",
       "      <th>datetime</th>\n",
       "      <th>personal</th>\n",
       "      <th>heavy_goods</th>\n",
       "    </tr>\n",
       "  </thead>\n",
       "  <tbody>\n",
       "    <tr>\n",
       "      <th>0</th>\n",
       "      <td>2023-01-01 00:00:00+00:00</td>\n",
       "      <td>176</td>\n",
       "      <td>7</td>\n",
       "    </tr>\n",
       "    <tr>\n",
       "      <th>1</th>\n",
       "      <td>2023-01-01 01:00:00+00:00</td>\n",
       "      <td>214</td>\n",
       "      <td>13</td>\n",
       "    </tr>\n",
       "    <tr>\n",
       "      <th>2</th>\n",
       "      <td>2023-01-01 02:00:00+00:00</td>\n",
       "      <td>114</td>\n",
       "      <td>14</td>\n",
       "    </tr>\n",
       "    <tr>\n",
       "      <th>3</th>\n",
       "      <td>2023-01-01 03:00:00+00:00</td>\n",
       "      <td>84</td>\n",
       "      <td>3</td>\n",
       "    </tr>\n",
       "    <tr>\n",
       "      <th>4</th>\n",
       "      <td>2023-01-01 04:00:00+00:00</td>\n",
       "      <td>45</td>\n",
       "      <td>10</td>\n",
       "    </tr>\n",
       "  </tbody>\n",
       "</table>\n",
       "</div>"
      ],
      "text/plain": [
       "                   datetime  personal  heavy_goods\n",
       "0 2023-01-01 00:00:00+00:00       176            7\n",
       "1 2023-01-01 01:00:00+00:00       214           13\n",
       "2 2023-01-01 02:00:00+00:00       114           14\n",
       "3 2023-01-01 03:00:00+00:00        84            3\n",
       "4 2023-01-01 04:00:00+00:00        45           10"
      ]
     },
     "execution_count": 58,
     "metadata": {},
     "output_type": "execute_result"
    }
   ],
   "source": [
    "merged_df.drop(columns=['lgv','hgv_rig','hgv_art','year','month','date','hour'],axis=1, inplace=True)\n",
    "merged_df=merged_df[['datetime','personal','heavy_goods']]\n",
    "merged_df.head()"
   ]
  },
  {
   "cell_type": "code",
   "execution_count": 59,
   "id": "1b5d2d5b",
   "metadata": {},
   "outputs": [
    {
     "data": {
      "text/html": [
       "<div>\n",
       "<style scoped>\n",
       "    .dataframe tbody tr th:only-of-type {\n",
       "        vertical-align: middle;\n",
       "    }\n",
       "\n",
       "    .dataframe tbody tr th {\n",
       "        vertical-align: top;\n",
       "    }\n",
       "\n",
       "    .dataframe thead th {\n",
       "        text-align: right;\n",
       "    }\n",
       "</style>\n",
       "<table border=\"1\" class=\"dataframe\">\n",
       "  <thead>\n",
       "    <tr style=\"text-align: right;\">\n",
       "      <th></th>\n",
       "      <th>datetime</th>\n",
       "      <th>personal</th>\n",
       "      <th>heavy_goods</th>\n",
       "    </tr>\n",
       "  </thead>\n",
       "  <tbody>\n",
       "    <tr>\n",
       "      <th>0</th>\n",
       "      <td>2023-01-01 00:00:00+00:00</td>\n",
       "      <td>176</td>\n",
       "      <td>7</td>\n",
       "    </tr>\n",
       "    <tr>\n",
       "      <th>1</th>\n",
       "      <td>2023-01-01 01:00:00+00:00</td>\n",
       "      <td>214</td>\n",
       "      <td>13</td>\n",
       "    </tr>\n",
       "    <tr>\n",
       "      <th>2</th>\n",
       "      <td>2023-01-01 02:00:00+00:00</td>\n",
       "      <td>114</td>\n",
       "      <td>14</td>\n",
       "    </tr>\n",
       "    <tr>\n",
       "      <th>3</th>\n",
       "      <td>2023-01-01 03:00:00+00:00</td>\n",
       "      <td>84</td>\n",
       "      <td>3</td>\n",
       "    </tr>\n",
       "    <tr>\n",
       "      <th>4</th>\n",
       "      <td>2023-01-01 04:00:00+00:00</td>\n",
       "      <td>45</td>\n",
       "      <td>10</td>\n",
       "    </tr>\n",
       "  </tbody>\n",
       "</table>\n",
       "</div>"
      ],
      "text/plain": [
       "                   datetime  personal  heavy_goods\n",
       "0 2023-01-01 00:00:00+00:00       176            7\n",
       "1 2023-01-01 01:00:00+00:00       214           13\n",
       "2 2023-01-01 02:00:00+00:00       114           14\n",
       "3 2023-01-01 03:00:00+00:00        84            3\n",
       "4 2023-01-01 04:00:00+00:00        45           10"
      ]
     },
     "execution_count": 59,
     "metadata": {},
     "output_type": "execute_result"
    }
   ],
   "source": [
    "r4=merged_df\n",
    "r4.head()"
   ]
  },
  {
   "cell_type": "code",
   "execution_count": 60,
   "id": "21a9a276",
   "metadata": {},
   "outputs": [],
   "source": [
    "r4.to_csv('./mydata/traffic/counter 4/personal_vs_hgvs.csv')"
   ]
  },
  {
   "cell_type": "code",
   "execution_count": 33,
   "id": "410c8a0c",
   "metadata": {},
   "outputs": [
    {
     "data": {
      "text/html": [
       "<div>\n",
       "<style scoped>\n",
       "    .dataframe tbody tr th:only-of-type {\n",
       "        vertical-align: middle;\n",
       "    }\n",
       "\n",
       "    .dataframe tbody tr th {\n",
       "        vertical-align: top;\n",
       "    }\n",
       "\n",
       "    .dataframe thead th {\n",
       "        text-align: right;\n",
       "    }\n",
       "</style>\n",
       "<table border=\"1\" class=\"dataframe\">\n",
       "  <thead>\n",
       "    <tr style=\"text-align: right;\">\n",
       "      <th></th>\n",
       "      <th>datetime</th>\n",
       "      <th>personal_vehicle_count</th>\n",
       "      <th>commercial_vehicle_count</th>\n",
       "    </tr>\n",
       "  </thead>\n",
       "  <tbody>\n",
       "    <tr>\n",
       "      <th>0</th>\n",
       "      <td>2023-07-01 00:00:00</td>\n",
       "      <td>121.0</td>\n",
       "      <td>7.0</td>\n",
       "    </tr>\n",
       "    <tr>\n",
       "      <th>1</th>\n",
       "      <td>2023-07-01 01:00:00</td>\n",
       "      <td>100.0</td>\n",
       "      <td>9.0</td>\n",
       "    </tr>\n",
       "    <tr>\n",
       "      <th>2</th>\n",
       "      <td>2023-07-01 02:00:00</td>\n",
       "      <td>90.0</td>\n",
       "      <td>11.0</td>\n",
       "    </tr>\n",
       "    <tr>\n",
       "      <th>3</th>\n",
       "      <td>2023-07-01 03:00:00</td>\n",
       "      <td>46.0</td>\n",
       "      <td>6.0</td>\n",
       "    </tr>\n",
       "    <tr>\n",
       "      <th>4</th>\n",
       "      <td>2023-07-01 04:00:00</td>\n",
       "      <td>33.0</td>\n",
       "      <td>11.0</td>\n",
       "    </tr>\n",
       "  </tbody>\n",
       "</table>\n",
       "</div>"
      ],
      "text/plain": [
       "             datetime  personal_vehicle_count  commercial_vehicle_count\n",
       "0 2023-07-01 00:00:00                   121.0                       7.0\n",
       "1 2023-07-01 01:00:00                   100.0                       9.0\n",
       "2 2023-07-01 02:00:00                    90.0                      11.0\n",
       "3 2023-07-01 03:00:00                    46.0                       6.0\n",
       "4 2023-07-01 04:00:00                    33.0                      11.0"
      ]
     },
     "execution_count": 33,
     "metadata": {},
     "output_type": "execute_result"
    }
   ],
   "source": [
    "road1['commercial_vehicle_count']=combined_df2_1['value'] + combined_df2_2['value'] +combined_df2_3['value']\n",
    "road1.head()"
   ]
  }
 ],
 "metadata": {
  "kernelspec": {
   "display_name": "Python 3",
   "language": "python",
   "name": "python3"
  },
  "language_info": {
   "codemirror_mode": {
    "name": "ipython",
    "version": 3
   },
   "file_extension": ".py",
   "mimetype": "text/x-python",
   "name": "python",
   "nbconvert_exporter": "python",
   "pygments_lexer": "ipython3",
   "version": "3.11.1"
  }
 },
 "nbformat": 4,
 "nbformat_minor": 5
}
