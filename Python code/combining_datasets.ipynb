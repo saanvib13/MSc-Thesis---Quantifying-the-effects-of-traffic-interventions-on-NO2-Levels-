{
 "cells": [
  {
   "cell_type": "code",
   "execution_count": 1,
   "id": "d08ef003",
   "metadata": {},
   "outputs": [],
   "source": [
    "import pandas as pd\n",
    "import numpy as np"
   ]
  },
  {
   "cell_type": "code",
   "execution_count": 1,
   "id": "8d08f14e",
   "metadata": {},
   "outputs": [
    {
     "data": {
      "application/javascript": "\n        if (window._pyforest_update_imports_cell) { window._pyforest_update_imports_cell('import pandas as pd'); }\n    ",
      "text/plain": [
       "<IPython.core.display.Javascript object>"
      ]
     },
     "metadata": {},
     "output_type": "display_data"
    },
    {
     "data": {
      "application/javascript": "\n        if (window._pyforest_update_imports_cell) { window._pyforest_update_imports_cell('import pandas as pd'); }\n    ",
      "text/plain": [
       "<IPython.core.display.Javascript object>"
      ]
     },
     "metadata": {},
     "output_type": "display_data"
    },
    {
     "data": {
      "application/javascript": "\n        if (window._pyforest_update_imports_cell) { window._pyforest_update_imports_cell('import pandas as pd'); }\n    ",
      "text/plain": [
       "<IPython.core.display.Javascript object>"
      ]
     },
     "metadata": {},
     "output_type": "display_data"
    },
    {
     "data": {
      "application/javascript": "\n        if (window._pyforest_update_imports_cell) { window._pyforest_update_imports_cell('import pandas as pd'); }\n    ",
      "text/plain": [
       "<IPython.core.display.Javascript object>"
      ]
     },
     "metadata": {},
     "output_type": "display_data"
    },
    {
     "data": {
      "application/javascript": "\n        if (window._pyforest_update_imports_cell) { window._pyforest_update_imports_cell('import pandas as pd'); }\n    ",
      "text/plain": [
       "<IPython.core.display.Javascript object>"
      ]
     },
     "metadata": {},
     "output_type": "display_data"
    },
    {
     "data": {
      "application/javascript": "\n        if (window._pyforest_update_imports_cell) { window._pyforest_update_imports_cell('import pandas as pd'); }\n    ",
      "text/plain": [
       "<IPython.core.display.Javascript object>"
      ]
     },
     "metadata": {},
     "output_type": "display_data"
    }
   ],
   "source": [
    "df1=pd.read_csv('../mydata/datasets_for_model/cleaned/LG_23_24_cleaned.csv')\n",
    "df2=pd.read_csv('../mydata/datasets_for_model/cleaned/UCC_23_24_cleaned.csv')\n",
    "df3=pd.read_csv('../mydata/datasets_for_model/cleaned/SPS_cleaned.csv')\n",
    "df4=pd.read_csv('../mydata/datasets_for_model/cleaned/OP_cleaned.csv')\n",
    "df5=pd.read_csv('../mydata/datasets_for_model/cleaned/BS_cleaned.csv')\n",
    "df6=pd.read_csv('../mydata/datasets_for_model/cleaned/GP_cleaned.csv')"
   ]
  },
  {
   "cell_type": "code",
   "execution_count": 2,
   "id": "3fa79e11",
   "metadata": {},
   "outputs": [
    {
     "data": {
      "text/html": [
       "<div>\n",
       "<style scoped>\n",
       "    .dataframe tbody tr th:only-of-type {\n",
       "        vertical-align: middle;\n",
       "    }\n",
       "\n",
       "    .dataframe tbody tr th {\n",
       "        vertical-align: top;\n",
       "    }\n",
       "\n",
       "    .dataframe thead th {\n",
       "        text-align: right;\n",
       "    }\n",
       "</style>\n",
       "<table border=\"1\" class=\"dataframe\">\n",
       "  <thead>\n",
       "    <tr style=\"text-align: right;\">\n",
       "      <th></th>\n",
       "      <th>Unnamed: 0</th>\n",
       "      <th>X.1</th>\n",
       "      <th>X</th>\n",
       "      <th>Timestamp</th>\n",
       "      <th>counter.1</th>\n",
       "      <th>counter.2</th>\n",
       "      <th>rain</th>\n",
       "      <th>temp</th>\n",
       "      <th>wetb</th>\n",
       "      <th>dewpt</th>\n",
       "      <th>...</th>\n",
       "      <th>sun</th>\n",
       "      <th>vis</th>\n",
       "      <th>clht</th>\n",
       "      <th>clamt</th>\n",
       "      <th>NO2</th>\n",
       "      <th>hour</th>\n",
       "      <th>original_Timestamp</th>\n",
       "      <th>date</th>\n",
       "      <th>school_term</th>\n",
       "      <th>weekday_iso</th>\n",
       "    </tr>\n",
       "  </thead>\n",
       "  <tbody>\n",
       "    <tr>\n",
       "      <th>10745</th>\n",
       "      <td>10746</td>\n",
       "      <td>11562</td>\n",
       "      <td>11562</td>\n",
       "      <td>31-08-2024 19:00</td>\n",
       "      <td>449</td>\n",
       "      <td>1728</td>\n",
       "      <td>0.0</td>\n",
       "      <td>14.8</td>\n",
       "      <td>13.7</td>\n",
       "      <td>12.8</td>\n",
       "      <td>...</td>\n",
       "      <td>0.0</td>\n",
       "      <td>15000</td>\n",
       "      <td>10</td>\n",
       "      <td>7</td>\n",
       "      <td>26.34</td>\n",
       "      <td>19</td>\n",
       "      <td>31-08-2024 19:00</td>\n",
       "      <td>2024-08-31</td>\n",
       "      <td>0</td>\n",
       "      <td>6</td>\n",
       "    </tr>\n",
       "    <tr>\n",
       "      <th>10746</th>\n",
       "      <td>10747</td>\n",
       "      <td>11563</td>\n",
       "      <td>11563</td>\n",
       "      <td>31-08-2024 20:00</td>\n",
       "      <td>391</td>\n",
       "      <td>1294</td>\n",
       "      <td>0.0</td>\n",
       "      <td>14.5</td>\n",
       "      <td>13.5</td>\n",
       "      <td>12.7</td>\n",
       "      <td>...</td>\n",
       "      <td>0.0</td>\n",
       "      <td>10000</td>\n",
       "      <td>8</td>\n",
       "      <td>7</td>\n",
       "      <td>43.03</td>\n",
       "      <td>20</td>\n",
       "      <td>31-08-2024 20:00</td>\n",
       "      <td>2024-08-31</td>\n",
       "      <td>0</td>\n",
       "      <td>6</td>\n",
       "    </tr>\n",
       "    <tr>\n",
       "      <th>10747</th>\n",
       "      <td>10748</td>\n",
       "      <td>11564</td>\n",
       "      <td>11564</td>\n",
       "      <td>31-08-2024 21:00</td>\n",
       "      <td>286</td>\n",
       "      <td>951</td>\n",
       "      <td>0.0</td>\n",
       "      <td>13.7</td>\n",
       "      <td>13.1</td>\n",
       "      <td>12.6</td>\n",
       "      <td>...</td>\n",
       "      <td>0.0</td>\n",
       "      <td>6000</td>\n",
       "      <td>9</td>\n",
       "      <td>7</td>\n",
       "      <td>32.19</td>\n",
       "      <td>21</td>\n",
       "      <td>31-08-2024 21:00</td>\n",
       "      <td>2024-08-31</td>\n",
       "      <td>0</td>\n",
       "      <td>6</td>\n",
       "    </tr>\n",
       "    <tr>\n",
       "      <th>10748</th>\n",
       "      <td>10749</td>\n",
       "      <td>11565</td>\n",
       "      <td>11565</td>\n",
       "      <td>31-08-2024 22:00</td>\n",
       "      <td>245</td>\n",
       "      <td>755</td>\n",
       "      <td>0.0</td>\n",
       "      <td>13.3</td>\n",
       "      <td>12.8</td>\n",
       "      <td>12.3</td>\n",
       "      <td>...</td>\n",
       "      <td>0.0</td>\n",
       "      <td>7000</td>\n",
       "      <td>33</td>\n",
       "      <td>5</td>\n",
       "      <td>39.45</td>\n",
       "      <td>22</td>\n",
       "      <td>31-08-2024 22:00</td>\n",
       "      <td>2024-08-31</td>\n",
       "      <td>0</td>\n",
       "      <td>6</td>\n",
       "    </tr>\n",
       "    <tr>\n",
       "      <th>10749</th>\n",
       "      <td>10750</td>\n",
       "      <td>11566</td>\n",
       "      <td>11566</td>\n",
       "      <td>31-08-2024 23:00</td>\n",
       "      <td>166</td>\n",
       "      <td>620</td>\n",
       "      <td>0.0</td>\n",
       "      <td>13.4</td>\n",
       "      <td>13.0</td>\n",
       "      <td>12.6</td>\n",
       "      <td>...</td>\n",
       "      <td>0.0</td>\n",
       "      <td>7000</td>\n",
       "      <td>999</td>\n",
       "      <td>3</td>\n",
       "      <td>35.82</td>\n",
       "      <td>23</td>\n",
       "      <td>NaN</td>\n",
       "      <td>2024-08-31</td>\n",
       "      <td>0</td>\n",
       "      <td>6</td>\n",
       "    </tr>\n",
       "  </tbody>\n",
       "</table>\n",
       "<p>5 rows × 27 columns</p>\n",
       "</div>"
      ],
      "text/plain": [
       "       Unnamed: 0    X.1      X         Timestamp  counter.1  counter.2  rain  \\\n",
       "10745       10746  11562  11562  31-08-2024 19:00        449       1728   0.0   \n",
       "10746       10747  11563  11563  31-08-2024 20:00        391       1294   0.0   \n",
       "10747       10748  11564  11564  31-08-2024 21:00        286        951   0.0   \n",
       "10748       10749  11565  11565  31-08-2024 22:00        245        755   0.0   \n",
       "10749       10750  11566  11566  31-08-2024 23:00        166        620   0.0   \n",
       "\n",
       "       temp  wetb  dewpt  ...  sun    vis  clht  clamt    NO2  hour  \\\n",
       "10745  14.8  13.7   12.8  ...  0.0  15000    10      7  26.34    19   \n",
       "10746  14.5  13.5   12.7  ...  0.0  10000     8      7  43.03    20   \n",
       "10747  13.7  13.1   12.6  ...  0.0   6000     9      7  32.19    21   \n",
       "10748  13.3  12.8   12.3  ...  0.0   7000    33      5  39.45    22   \n",
       "10749  13.4  13.0   12.6  ...  0.0   7000   999      3  35.82    23   \n",
       "\n",
       "       original_Timestamp        date  school_term  weekday_iso  \n",
       "10745    31-08-2024 19:00  2024-08-31            0            6  \n",
       "10746    31-08-2024 20:00  2024-08-31            0            6  \n",
       "10747    31-08-2024 21:00  2024-08-31            0            6  \n",
       "10748    31-08-2024 22:00  2024-08-31            0            6  \n",
       "10749                 NaN  2024-08-31            0            6  \n",
       "\n",
       "[5 rows x 27 columns]"
      ]
     },
     "execution_count": 2,
     "metadata": {},
     "output_type": "execute_result"
    }
   ],
   "source": [
    "# df7=pd.read_csv('../mydata/datasets_for_model/cleaned/long_format_NO2_dataset.csv')\n",
    "df1.tail()"
   ]
  },
  {
   "cell_type": "code",
   "execution_count": 3,
   "id": "945ab05f",
   "metadata": {},
   "outputs": [
    {
     "data": {
      "text/html": [
       "<div>\n",
       "<style scoped>\n",
       "    .dataframe tbody tr th:only-of-type {\n",
       "        vertical-align: middle;\n",
       "    }\n",
       "\n",
       "    .dataframe tbody tr th {\n",
       "        vertical-align: top;\n",
       "    }\n",
       "\n",
       "    .dataframe thead th {\n",
       "        text-align: right;\n",
       "    }\n",
       "</style>\n",
       "<table border=\"1\" class=\"dataframe\">\n",
       "  <thead>\n",
       "    <tr style=\"text-align: right;\">\n",
       "      <th></th>\n",
       "      <th>Unnamed: 0</th>\n",
       "      <th>X.1</th>\n",
       "      <th>X</th>\n",
       "      <th>Timestamp</th>\n",
       "      <th>counter.1</th>\n",
       "      <th>counter.2</th>\n",
       "      <th>rain</th>\n",
       "      <th>temp</th>\n",
       "      <th>wetb</th>\n",
       "      <th>dewpt</th>\n",
       "      <th>...</th>\n",
       "      <th>sun</th>\n",
       "      <th>vis</th>\n",
       "      <th>clht</th>\n",
       "      <th>clamt</th>\n",
       "      <th>NO2</th>\n",
       "      <th>hour</th>\n",
       "      <th>original_Timestamp</th>\n",
       "      <th>date</th>\n",
       "      <th>school_term</th>\n",
       "      <th>weekday_iso</th>\n",
       "    </tr>\n",
       "  </thead>\n",
       "  <tbody>\n",
       "    <tr>\n",
       "      <th>12713</th>\n",
       "      <td>12714</td>\n",
       "      <td>13530</td>\n",
       "      <td>13530</td>\n",
       "      <td>31-07-2024 19:00</td>\n",
       "      <td>518</td>\n",
       "      <td>1990</td>\n",
       "      <td>0.0</td>\n",
       "      <td>18.6</td>\n",
       "      <td>15.7</td>\n",
       "      <td>13.5</td>\n",
       "      <td>...</td>\n",
       "      <td>0.1</td>\n",
       "      <td>50000</td>\n",
       "      <td>50</td>\n",
       "      <td>7</td>\n",
       "      <td>8.78</td>\n",
       "      <td>19</td>\n",
       "      <td>31-07-2024 19:00</td>\n",
       "      <td>2024-07-31</td>\n",
       "      <td>0</td>\n",
       "      <td>3</td>\n",
       "    </tr>\n",
       "    <tr>\n",
       "      <th>12714</th>\n",
       "      <td>12715</td>\n",
       "      <td>13531</td>\n",
       "      <td>13531</td>\n",
       "      <td>31-07-2024 20:00</td>\n",
       "      <td>445</td>\n",
       "      <td>1569</td>\n",
       "      <td>0.0</td>\n",
       "      <td>18.3</td>\n",
       "      <td>16.4</td>\n",
       "      <td>15.0</td>\n",
       "      <td>...</td>\n",
       "      <td>0.0</td>\n",
       "      <td>40000</td>\n",
       "      <td>50</td>\n",
       "      <td>7</td>\n",
       "      <td>9.17</td>\n",
       "      <td>20</td>\n",
       "      <td>31-07-2024 20:00</td>\n",
       "      <td>2024-07-31</td>\n",
       "      <td>0</td>\n",
       "      <td>3</td>\n",
       "    </tr>\n",
       "    <tr>\n",
       "      <th>12715</th>\n",
       "      <td>12716</td>\n",
       "      <td>13532</td>\n",
       "      <td>13532</td>\n",
       "      <td>31-07-2024 21:00</td>\n",
       "      <td>357</td>\n",
       "      <td>1258</td>\n",
       "      <td>0.0</td>\n",
       "      <td>16.9</td>\n",
       "      <td>15.8</td>\n",
       "      <td>15.0</td>\n",
       "      <td>...</td>\n",
       "      <td>0.0</td>\n",
       "      <td>40000</td>\n",
       "      <td>50</td>\n",
       "      <td>6</td>\n",
       "      <td>9.11</td>\n",
       "      <td>21</td>\n",
       "      <td>31-07-2024 21:00</td>\n",
       "      <td>2024-07-31</td>\n",
       "      <td>0</td>\n",
       "      <td>3</td>\n",
       "    </tr>\n",
       "    <tr>\n",
       "      <th>12716</th>\n",
       "      <td>12717</td>\n",
       "      <td>13533</td>\n",
       "      <td>13533</td>\n",
       "      <td>31-07-2024 22:00</td>\n",
       "      <td>211</td>\n",
       "      <td>881</td>\n",
       "      <td>0.0</td>\n",
       "      <td>16.3</td>\n",
       "      <td>15.4</td>\n",
       "      <td>14.7</td>\n",
       "      <td>...</td>\n",
       "      <td>0.0</td>\n",
       "      <td>40000</td>\n",
       "      <td>180</td>\n",
       "      <td>7</td>\n",
       "      <td>8.78</td>\n",
       "      <td>22</td>\n",
       "      <td>31-07-2024 22:00</td>\n",
       "      <td>2024-07-31</td>\n",
       "      <td>0</td>\n",
       "      <td>3</td>\n",
       "    </tr>\n",
       "    <tr>\n",
       "      <th>12717</th>\n",
       "      <td>12718</td>\n",
       "      <td>13534</td>\n",
       "      <td>13534</td>\n",
       "      <td>31-07-2024 23:00</td>\n",
       "      <td>114</td>\n",
       "      <td>544</td>\n",
       "      <td>0.0</td>\n",
       "      <td>17.0</td>\n",
       "      <td>15.3</td>\n",
       "      <td>14.0</td>\n",
       "      <td>...</td>\n",
       "      <td>0.0</td>\n",
       "      <td>30000</td>\n",
       "      <td>150</td>\n",
       "      <td>7</td>\n",
       "      <td>8.22</td>\n",
       "      <td>23</td>\n",
       "      <td>31-07-2024 23:00</td>\n",
       "      <td>2024-07-31</td>\n",
       "      <td>0</td>\n",
       "      <td>3</td>\n",
       "    </tr>\n",
       "  </tbody>\n",
       "</table>\n",
       "<p>5 rows × 27 columns</p>\n",
       "</div>"
      ],
      "text/plain": [
       "       Unnamed: 0    X.1      X         Timestamp  counter.1  counter.2  rain  \\\n",
       "12713       12714  13530  13530  31-07-2024 19:00        518       1990   0.0   \n",
       "12714       12715  13531  13531  31-07-2024 20:00        445       1569   0.0   \n",
       "12715       12716  13532  13532  31-07-2024 21:00        357       1258   0.0   \n",
       "12716       12717  13533  13533  31-07-2024 22:00        211        881   0.0   \n",
       "12717       12718  13534  13534  31-07-2024 23:00        114        544   0.0   \n",
       "\n",
       "       temp  wetb  dewpt  ...  sun    vis  clht  clamt   NO2  hour  \\\n",
       "12713  18.6  15.7   13.5  ...  0.1  50000    50      7  8.78    19   \n",
       "12714  18.3  16.4   15.0  ...  0.0  40000    50      7  9.17    20   \n",
       "12715  16.9  15.8   15.0  ...  0.0  40000    50      6  9.11    21   \n",
       "12716  16.3  15.4   14.7  ...  0.0  40000   180      7  8.78    22   \n",
       "12717  17.0  15.3   14.0  ...  0.0  30000   150      7  8.22    23   \n",
       "\n",
       "       original_Timestamp        date  school_term  weekday_iso  \n",
       "12713    31-07-2024 19:00  2024-07-31            0            3  \n",
       "12714    31-07-2024 20:00  2024-07-31            0            3  \n",
       "12715    31-07-2024 21:00  2024-07-31            0            3  \n",
       "12716    31-07-2024 22:00  2024-07-31            0            3  \n",
       "12717    31-07-2024 23:00  2024-07-31            0            3  \n",
       "\n",
       "[5 rows x 27 columns]"
      ]
     },
     "execution_count": 3,
     "metadata": {},
     "output_type": "execute_result"
    }
   ],
   "source": [
    "df2.tail()\n"
   ]
  },
  {
   "cell_type": "code",
   "execution_count": 4,
   "id": "30b5215d",
   "metadata": {},
   "outputs": [
    {
     "data": {
      "text/html": [
       "<div>\n",
       "<style scoped>\n",
       "    .dataframe tbody tr th:only-of-type {\n",
       "        vertical-align: middle;\n",
       "    }\n",
       "\n",
       "    .dataframe tbody tr th {\n",
       "        vertical-align: top;\n",
       "    }\n",
       "\n",
       "    .dataframe thead th {\n",
       "        text-align: right;\n",
       "    }\n",
       "</style>\n",
       "<table border=\"1\" class=\"dataframe\">\n",
       "  <thead>\n",
       "    <tr style=\"text-align: right;\">\n",
       "      <th></th>\n",
       "      <th>Unnamed: 0</th>\n",
       "      <th>X.1</th>\n",
       "      <th>X</th>\n",
       "      <th>Timestamp</th>\n",
       "      <th>counter.1</th>\n",
       "      <th>counter.2</th>\n",
       "      <th>rain</th>\n",
       "      <th>temp</th>\n",
       "      <th>wetb</th>\n",
       "      <th>dewpt</th>\n",
       "      <th>...</th>\n",
       "      <th>w</th>\n",
       "      <th>sun</th>\n",
       "      <th>vis</th>\n",
       "      <th>clht</th>\n",
       "      <th>clamt</th>\n",
       "      <th>NO2</th>\n",
       "      <th>date</th>\n",
       "      <th>hour</th>\n",
       "      <th>school_term</th>\n",
       "      <th>weekday_iso</th>\n",
       "    </tr>\n",
       "  </thead>\n",
       "  <tbody>\n",
       "    <tr>\n",
       "      <th>7079</th>\n",
       "      <td>7080</td>\n",
       "      <td>7128</td>\n",
       "      <td>7128</td>\n",
       "      <td>30-06-2024 19:00</td>\n",
       "      <td>467</td>\n",
       "      <td>1443</td>\n",
       "      <td>0.0</td>\n",
       "      <td>14.4</td>\n",
       "      <td>-49.0</td>\n",
       "      <td>9.1</td>\n",
       "      <td>...</td>\n",
       "      <td>62</td>\n",
       "      <td>0.0</td>\n",
       "      <td>40000</td>\n",
       "      <td>70</td>\n",
       "      <td>7</td>\n",
       "      <td>15.670667</td>\n",
       "      <td>2024-06-30</td>\n",
       "      <td>19</td>\n",
       "      <td>1</td>\n",
       "      <td>7</td>\n",
       "    </tr>\n",
       "    <tr>\n",
       "      <th>7080</th>\n",
       "      <td>7081</td>\n",
       "      <td>7129</td>\n",
       "      <td>7129</td>\n",
       "      <td>30-06-2024 20:00</td>\n",
       "      <td>331</td>\n",
       "      <td>1099</td>\n",
       "      <td>0.0</td>\n",
       "      <td>13.2</td>\n",
       "      <td>-49.0</td>\n",
       "      <td>9.9</td>\n",
       "      <td>...</td>\n",
       "      <td>62</td>\n",
       "      <td>0.0</td>\n",
       "      <td>35000</td>\n",
       "      <td>60</td>\n",
       "      <td>7</td>\n",
       "      <td>18.303000</td>\n",
       "      <td>2024-06-30</td>\n",
       "      <td>20</td>\n",
       "      <td>1</td>\n",
       "      <td>7</td>\n",
       "    </tr>\n",
       "    <tr>\n",
       "      <th>7081</th>\n",
       "      <td>7082</td>\n",
       "      <td>7130</td>\n",
       "      <td>7130</td>\n",
       "      <td>30-06-2024 21:00</td>\n",
       "      <td>246</td>\n",
       "      <td>737</td>\n",
       "      <td>0.2</td>\n",
       "      <td>12.2</td>\n",
       "      <td>-49.0</td>\n",
       "      <td>10.5</td>\n",
       "      <td>...</td>\n",
       "      <td>62</td>\n",
       "      <td>0.0</td>\n",
       "      <td>35000</td>\n",
       "      <td>60</td>\n",
       "      <td>7</td>\n",
       "      <td>18.018667</td>\n",
       "      <td>2024-06-30</td>\n",
       "      <td>21</td>\n",
       "      <td>1</td>\n",
       "      <td>7</td>\n",
       "    </tr>\n",
       "    <tr>\n",
       "      <th>7082</th>\n",
       "      <td>7083</td>\n",
       "      <td>7131</td>\n",
       "      <td>7131</td>\n",
       "      <td>30-06-2024 22:00</td>\n",
       "      <td>152</td>\n",
       "      <td>576</td>\n",
       "      <td>0.1</td>\n",
       "      <td>11.9</td>\n",
       "      <td>-49.0</td>\n",
       "      <td>10.1</td>\n",
       "      <td>...</td>\n",
       "      <td>62</td>\n",
       "      <td>0.0</td>\n",
       "      <td>30000</td>\n",
       "      <td>12</td>\n",
       "      <td>7</td>\n",
       "      <td>17.637333</td>\n",
       "      <td>2024-06-30</td>\n",
       "      <td>22</td>\n",
       "      <td>1</td>\n",
       "      <td>7</td>\n",
       "    </tr>\n",
       "    <tr>\n",
       "      <th>7083</th>\n",
       "      <td>7084</td>\n",
       "      <td>7132</td>\n",
       "      <td>7132</td>\n",
       "      <td>30-06-2024 23:00</td>\n",
       "      <td>131</td>\n",
       "      <td>349</td>\n",
       "      <td>0.0</td>\n",
       "      <td>12.1</td>\n",
       "      <td>-49.0</td>\n",
       "      <td>10.1</td>\n",
       "      <td>...</td>\n",
       "      <td>62</td>\n",
       "      <td>0.0</td>\n",
       "      <td>30000</td>\n",
       "      <td>50</td>\n",
       "      <td>7</td>\n",
       "      <td>17.828000</td>\n",
       "      <td>2024-06-30</td>\n",
       "      <td>23</td>\n",
       "      <td>1</td>\n",
       "      <td>7</td>\n",
       "    </tr>\n",
       "  </tbody>\n",
       "</table>\n",
       "<p>5 rows × 26 columns</p>\n",
       "</div>"
      ],
      "text/plain": [
       "      Unnamed: 0   X.1     X         Timestamp  counter.1  counter.2  rain  \\\n",
       "7079        7080  7128  7128  30-06-2024 19:00        467       1443   0.0   \n",
       "7080        7081  7129  7129  30-06-2024 20:00        331       1099   0.0   \n",
       "7081        7082  7130  7130  30-06-2024 21:00        246        737   0.2   \n",
       "7082        7083  7131  7131  30-06-2024 22:00        152        576   0.1   \n",
       "7083        7084  7132  7132  30-06-2024 23:00        131        349   0.0   \n",
       "\n",
       "      temp  wetb  dewpt  ...   w  sun    vis  clht  clamt        NO2  \\\n",
       "7079  14.4 -49.0    9.1  ...  62  0.0  40000    70      7  15.670667   \n",
       "7080  13.2 -49.0    9.9  ...  62  0.0  35000    60      7  18.303000   \n",
       "7081  12.2 -49.0   10.5  ...  62  0.0  35000    60      7  18.018667   \n",
       "7082  11.9 -49.0   10.1  ...  62  0.0  30000    12      7  17.637333   \n",
       "7083  12.1 -49.0   10.1  ...  62  0.0  30000    50      7  17.828000   \n",
       "\n",
       "            date  hour  school_term  weekday_iso  \n",
       "7079  2024-06-30    19            1            7  \n",
       "7080  2024-06-30    20            1            7  \n",
       "7081  2024-06-30    21            1            7  \n",
       "7082  2024-06-30    22            1            7  \n",
       "7083  2024-06-30    23            1            7  \n",
       "\n",
       "[5 rows x 26 columns]"
      ]
     },
     "execution_count": 4,
     "metadata": {},
     "output_type": "execute_result"
    }
   ],
   "source": [
    "df3.tail()"
   ]
  },
  {
   "cell_type": "code",
   "execution_count": 5,
   "id": "105a45cf",
   "metadata": {},
   "outputs": [
    {
     "data": {
      "text/html": [
       "<div>\n",
       "<style scoped>\n",
       "    .dataframe tbody tr th:only-of-type {\n",
       "        vertical-align: middle;\n",
       "    }\n",
       "\n",
       "    .dataframe tbody tr th {\n",
       "        vertical-align: top;\n",
       "    }\n",
       "\n",
       "    .dataframe thead th {\n",
       "        text-align: right;\n",
       "    }\n",
       "</style>\n",
       "<table border=\"1\" class=\"dataframe\">\n",
       "  <thead>\n",
       "    <tr style=\"text-align: right;\">\n",
       "      <th></th>\n",
       "      <th>Unnamed: 0</th>\n",
       "      <th>X.1</th>\n",
       "      <th>X</th>\n",
       "      <th>Timestamp</th>\n",
       "      <th>counter.1</th>\n",
       "      <th>counter.2</th>\n",
       "      <th>rain</th>\n",
       "      <th>temp</th>\n",
       "      <th>wetb</th>\n",
       "      <th>dewpt</th>\n",
       "      <th>...</th>\n",
       "      <th>w</th>\n",
       "      <th>sun</th>\n",
       "      <th>vis</th>\n",
       "      <th>clht</th>\n",
       "      <th>clamt</th>\n",
       "      <th>NO2</th>\n",
       "      <th>date</th>\n",
       "      <th>hour</th>\n",
       "      <th>school_term</th>\n",
       "      <th>weekday_iso</th>\n",
       "    </tr>\n",
       "  </thead>\n",
       "  <tbody>\n",
       "    <tr>\n",
       "      <th>7607</th>\n",
       "      <td>7608</td>\n",
       "      <td>7704</td>\n",
       "      <td>7704</td>\n",
       "      <td>30-06-2024 19:00</td>\n",
       "      <td>467</td>\n",
       "      <td>1443</td>\n",
       "      <td>0.0</td>\n",
       "      <td>14.4</td>\n",
       "      <td>-49.0</td>\n",
       "      <td>9.1</td>\n",
       "      <td>...</td>\n",
       "      <td>62</td>\n",
       "      <td>0.0</td>\n",
       "      <td>40000</td>\n",
       "      <td>70</td>\n",
       "      <td>7</td>\n",
       "      <td>17.645667</td>\n",
       "      <td>2024-06-30</td>\n",
       "      <td>19</td>\n",
       "      <td>1</td>\n",
       "      <td>7</td>\n",
       "    </tr>\n",
       "    <tr>\n",
       "      <th>7608</th>\n",
       "      <td>7609</td>\n",
       "      <td>7705</td>\n",
       "      <td>7705</td>\n",
       "      <td>30-06-2024 20:00</td>\n",
       "      <td>331</td>\n",
       "      <td>1099</td>\n",
       "      <td>0.0</td>\n",
       "      <td>13.2</td>\n",
       "      <td>-49.0</td>\n",
       "      <td>9.9</td>\n",
       "      <td>...</td>\n",
       "      <td>62</td>\n",
       "      <td>0.0</td>\n",
       "      <td>35000</td>\n",
       "      <td>60</td>\n",
       "      <td>7</td>\n",
       "      <td>19.991724</td>\n",
       "      <td>2024-06-30</td>\n",
       "      <td>20</td>\n",
       "      <td>1</td>\n",
       "      <td>7</td>\n",
       "    </tr>\n",
       "    <tr>\n",
       "      <th>7609</th>\n",
       "      <td>7610</td>\n",
       "      <td>7706</td>\n",
       "      <td>7706</td>\n",
       "      <td>30-06-2024 21:00</td>\n",
       "      <td>246</td>\n",
       "      <td>737</td>\n",
       "      <td>0.2</td>\n",
       "      <td>12.2</td>\n",
       "      <td>-49.0</td>\n",
       "      <td>10.5</td>\n",
       "      <td>...</td>\n",
       "      <td>62</td>\n",
       "      <td>0.0</td>\n",
       "      <td>35000</td>\n",
       "      <td>60</td>\n",
       "      <td>7</td>\n",
       "      <td>19.596000</td>\n",
       "      <td>2024-06-30</td>\n",
       "      <td>21</td>\n",
       "      <td>1</td>\n",
       "      <td>7</td>\n",
       "    </tr>\n",
       "    <tr>\n",
       "      <th>7610</th>\n",
       "      <td>7611</td>\n",
       "      <td>7707</td>\n",
       "      <td>7707</td>\n",
       "      <td>30-06-2024 22:00</td>\n",
       "      <td>152</td>\n",
       "      <td>576</td>\n",
       "      <td>0.1</td>\n",
       "      <td>11.9</td>\n",
       "      <td>-49.0</td>\n",
       "      <td>10.1</td>\n",
       "      <td>...</td>\n",
       "      <td>62</td>\n",
       "      <td>0.0</td>\n",
       "      <td>30000</td>\n",
       "      <td>12</td>\n",
       "      <td>7</td>\n",
       "      <td>16.278333</td>\n",
       "      <td>2024-06-30</td>\n",
       "      <td>22</td>\n",
       "      <td>1</td>\n",
       "      <td>7</td>\n",
       "    </tr>\n",
       "    <tr>\n",
       "      <th>7611</th>\n",
       "      <td>7612</td>\n",
       "      <td>7708</td>\n",
       "      <td>7708</td>\n",
       "      <td>30-06-2024 23:00</td>\n",
       "      <td>131</td>\n",
       "      <td>349</td>\n",
       "      <td>0.0</td>\n",
       "      <td>12.1</td>\n",
       "      <td>-49.0</td>\n",
       "      <td>10.1</td>\n",
       "      <td>...</td>\n",
       "      <td>62</td>\n",
       "      <td>0.0</td>\n",
       "      <td>30000</td>\n",
       "      <td>50</td>\n",
       "      <td>7</td>\n",
       "      <td>17.937167</td>\n",
       "      <td>2024-06-30</td>\n",
       "      <td>23</td>\n",
       "      <td>1</td>\n",
       "      <td>7</td>\n",
       "    </tr>\n",
       "  </tbody>\n",
       "</table>\n",
       "<p>5 rows × 26 columns</p>\n",
       "</div>"
      ],
      "text/plain": [
       "      Unnamed: 0   X.1     X         Timestamp  counter.1  counter.2  rain  \\\n",
       "7607        7608  7704  7704  30-06-2024 19:00        467       1443   0.0   \n",
       "7608        7609  7705  7705  30-06-2024 20:00        331       1099   0.0   \n",
       "7609        7610  7706  7706  30-06-2024 21:00        246        737   0.2   \n",
       "7610        7611  7707  7707  30-06-2024 22:00        152        576   0.1   \n",
       "7611        7612  7708  7708  30-06-2024 23:00        131        349   0.0   \n",
       "\n",
       "      temp  wetb  dewpt  ...   w  sun    vis  clht  clamt        NO2  \\\n",
       "7607  14.4 -49.0    9.1  ...  62  0.0  40000    70      7  17.645667   \n",
       "7608  13.2 -49.0    9.9  ...  62  0.0  35000    60      7  19.991724   \n",
       "7609  12.2 -49.0   10.5  ...  62  0.0  35000    60      7  19.596000   \n",
       "7610  11.9 -49.0   10.1  ...  62  0.0  30000    12      7  16.278333   \n",
       "7611  12.1 -49.0   10.1  ...  62  0.0  30000    50      7  17.937167   \n",
       "\n",
       "            date  hour  school_term  weekday_iso  \n",
       "7607  2024-06-30    19            1            7  \n",
       "7608  2024-06-30    20            1            7  \n",
       "7609  2024-06-30    21            1            7  \n",
       "7610  2024-06-30    22            1            7  \n",
       "7611  2024-06-30    23            1            7  \n",
       "\n",
       "[5 rows x 26 columns]"
      ]
     },
     "execution_count": 5,
     "metadata": {},
     "output_type": "execute_result"
    }
   ],
   "source": [
    "df4.tail()"
   ]
  },
  {
   "cell_type": "code",
   "execution_count": 6,
   "id": "0a305c8e",
   "metadata": {},
   "outputs": [
    {
     "data": {
      "text/html": [
       "<div>\n",
       "<style scoped>\n",
       "    .dataframe tbody tr th:only-of-type {\n",
       "        vertical-align: middle;\n",
       "    }\n",
       "\n",
       "    .dataframe tbody tr th {\n",
       "        vertical-align: top;\n",
       "    }\n",
       "\n",
       "    .dataframe thead th {\n",
       "        text-align: right;\n",
       "    }\n",
       "</style>\n",
       "<table border=\"1\" class=\"dataframe\">\n",
       "  <thead>\n",
       "    <tr style=\"text-align: right;\">\n",
       "      <th></th>\n",
       "      <th>Unnamed: 0</th>\n",
       "      <th>X</th>\n",
       "      <th>Timestamp</th>\n",
       "      <th>counter.1</th>\n",
       "      <th>counter.2</th>\n",
       "      <th>rain</th>\n",
       "      <th>temp</th>\n",
       "      <th>wetb</th>\n",
       "      <th>dewpt</th>\n",
       "      <th>vappr</th>\n",
       "      <th>...</th>\n",
       "      <th>w</th>\n",
       "      <th>sun</th>\n",
       "      <th>vis</th>\n",
       "      <th>clht</th>\n",
       "      <th>clamt</th>\n",
       "      <th>NO2</th>\n",
       "      <th>date</th>\n",
       "      <th>hour</th>\n",
       "      <th>school_term</th>\n",
       "      <th>weekday_num</th>\n",
       "    </tr>\n",
       "  </thead>\n",
       "  <tbody>\n",
       "    <tr>\n",
       "      <th>7559</th>\n",
       "      <td>7560</td>\n",
       "      <td>7560</td>\n",
       "      <td>30-06-2024 19:00</td>\n",
       "      <td>467</td>\n",
       "      <td>1443.0</td>\n",
       "      <td>0.0</td>\n",
       "      <td>14.4</td>\n",
       "      <td>-49.0</td>\n",
       "      <td>9.1</td>\n",
       "      <td>11.6</td>\n",
       "      <td>...</td>\n",
       "      <td>62</td>\n",
       "      <td>0.0</td>\n",
       "      <td>40000</td>\n",
       "      <td>70</td>\n",
       "      <td>7</td>\n",
       "      <td>19.096000</td>\n",
       "      <td>2024-06-30</td>\n",
       "      <td>19</td>\n",
       "      <td>0</td>\n",
       "      <td>7</td>\n",
       "    </tr>\n",
       "    <tr>\n",
       "      <th>7560</th>\n",
       "      <td>7561</td>\n",
       "      <td>7561</td>\n",
       "      <td>30-06-2024 20:00</td>\n",
       "      <td>331</td>\n",
       "      <td>1099.0</td>\n",
       "      <td>0.0</td>\n",
       "      <td>13.2</td>\n",
       "      <td>-49.0</td>\n",
       "      <td>9.9</td>\n",
       "      <td>12.2</td>\n",
       "      <td>...</td>\n",
       "      <td>62</td>\n",
       "      <td>0.0</td>\n",
       "      <td>35000</td>\n",
       "      <td>60</td>\n",
       "      <td>7</td>\n",
       "      <td>21.293333</td>\n",
       "      <td>2024-06-30</td>\n",
       "      <td>20</td>\n",
       "      <td>0</td>\n",
       "      <td>7</td>\n",
       "    </tr>\n",
       "    <tr>\n",
       "      <th>7561</th>\n",
       "      <td>7562</td>\n",
       "      <td>7562</td>\n",
       "      <td>30-06-2024 21:00</td>\n",
       "      <td>246</td>\n",
       "      <td>737.0</td>\n",
       "      <td>0.2</td>\n",
       "      <td>12.2</td>\n",
       "      <td>-49.0</td>\n",
       "      <td>10.5</td>\n",
       "      <td>12.7</td>\n",
       "      <td>...</td>\n",
       "      <td>62</td>\n",
       "      <td>0.0</td>\n",
       "      <td>35000</td>\n",
       "      <td>60</td>\n",
       "      <td>7</td>\n",
       "      <td>19.275667</td>\n",
       "      <td>2024-06-30</td>\n",
       "      <td>21</td>\n",
       "      <td>0</td>\n",
       "      <td>7</td>\n",
       "    </tr>\n",
       "    <tr>\n",
       "      <th>7562</th>\n",
       "      <td>7563</td>\n",
       "      <td>7563</td>\n",
       "      <td>30-06-2024 22:00</td>\n",
       "      <td>152</td>\n",
       "      <td>576.0</td>\n",
       "      <td>0.1</td>\n",
       "      <td>11.9</td>\n",
       "      <td>-49.0</td>\n",
       "      <td>10.1</td>\n",
       "      <td>12.4</td>\n",
       "      <td>...</td>\n",
       "      <td>62</td>\n",
       "      <td>0.0</td>\n",
       "      <td>30000</td>\n",
       "      <td>12</td>\n",
       "      <td>7</td>\n",
       "      <td>17.576333</td>\n",
       "      <td>2024-06-30</td>\n",
       "      <td>22</td>\n",
       "      <td>0</td>\n",
       "      <td>7</td>\n",
       "    </tr>\n",
       "    <tr>\n",
       "      <th>7563</th>\n",
       "      <td>7564</td>\n",
       "      <td>7564</td>\n",
       "      <td>30-06-2024 23:00</td>\n",
       "      <td>131</td>\n",
       "      <td>349.0</td>\n",
       "      <td>0.0</td>\n",
       "      <td>12.1</td>\n",
       "      <td>-49.0</td>\n",
       "      <td>10.1</td>\n",
       "      <td>12.4</td>\n",
       "      <td>...</td>\n",
       "      <td>62</td>\n",
       "      <td>0.0</td>\n",
       "      <td>30000</td>\n",
       "      <td>50</td>\n",
       "      <td>7</td>\n",
       "      <td>18.426000</td>\n",
       "      <td>2024-06-30</td>\n",
       "      <td>23</td>\n",
       "      <td>0</td>\n",
       "      <td>7</td>\n",
       "    </tr>\n",
       "  </tbody>\n",
       "</table>\n",
       "<p>5 rows × 25 columns</p>\n",
       "</div>"
      ],
      "text/plain": [
       "      Unnamed: 0     X         Timestamp  counter.1  counter.2  rain  temp  \\\n",
       "7559        7560  7560  30-06-2024 19:00        467     1443.0   0.0  14.4   \n",
       "7560        7561  7561  30-06-2024 20:00        331     1099.0   0.0  13.2   \n",
       "7561        7562  7562  30-06-2024 21:00        246      737.0   0.2  12.2   \n",
       "7562        7563  7563  30-06-2024 22:00        152      576.0   0.1  11.9   \n",
       "7563        7564  7564  30-06-2024 23:00        131      349.0   0.0  12.1   \n",
       "\n",
       "      wetb  dewpt  vappr  ...   w  sun    vis  clht  clamt        NO2  \\\n",
       "7559 -49.0    9.1   11.6  ...  62  0.0  40000    70      7  19.096000   \n",
       "7560 -49.0    9.9   12.2  ...  62  0.0  35000    60      7  21.293333   \n",
       "7561 -49.0   10.5   12.7  ...  62  0.0  35000    60      7  19.275667   \n",
       "7562 -49.0   10.1   12.4  ...  62  0.0  30000    12      7  17.576333   \n",
       "7563 -49.0   10.1   12.4  ...  62  0.0  30000    50      7  18.426000   \n",
       "\n",
       "            date  hour  school_term  weekday_num  \n",
       "7559  2024-06-30    19            0            7  \n",
       "7560  2024-06-30    20            0            7  \n",
       "7561  2024-06-30    21            0            7  \n",
       "7562  2024-06-30    22            0            7  \n",
       "7563  2024-06-30    23            0            7  \n",
       "\n",
       "[5 rows x 25 columns]"
      ]
     },
     "execution_count": 6,
     "metadata": {},
     "output_type": "execute_result"
    }
   ],
   "source": [
    "df5.tail()"
   ]
  },
  {
   "cell_type": "code",
   "execution_count": 7,
   "id": "aa07de6c",
   "metadata": {},
   "outputs": [
    {
     "data": {
      "text/html": [
       "<div>\n",
       "<style scoped>\n",
       "    .dataframe tbody tr th:only-of-type {\n",
       "        vertical-align: middle;\n",
       "    }\n",
       "\n",
       "    .dataframe tbody tr th {\n",
       "        vertical-align: top;\n",
       "    }\n",
       "\n",
       "    .dataframe thead th {\n",
       "        text-align: right;\n",
       "    }\n",
       "</style>\n",
       "<table border=\"1\" class=\"dataframe\">\n",
       "  <thead>\n",
       "    <tr style=\"text-align: right;\">\n",
       "      <th></th>\n",
       "      <th>Unnamed: 0</th>\n",
       "      <th>X</th>\n",
       "      <th>Timestamp</th>\n",
       "      <th>counter.1</th>\n",
       "      <th>counter.2</th>\n",
       "      <th>rain</th>\n",
       "      <th>temp</th>\n",
       "      <th>wetb</th>\n",
       "      <th>dewpt</th>\n",
       "      <th>vappr</th>\n",
       "      <th>...</th>\n",
       "      <th>w</th>\n",
       "      <th>sun</th>\n",
       "      <th>vis</th>\n",
       "      <th>clht</th>\n",
       "      <th>clamt</th>\n",
       "      <th>NO2</th>\n",
       "      <th>date</th>\n",
       "      <th>hour</th>\n",
       "      <th>school_term</th>\n",
       "      <th>weekday_iso</th>\n",
       "    </tr>\n",
       "  </thead>\n",
       "  <tbody>\n",
       "    <tr>\n",
       "      <th>6215</th>\n",
       "      <td>6216</td>\n",
       "      <td>6216</td>\n",
       "      <td>30-06-2024 19:00</td>\n",
       "      <td>467</td>\n",
       "      <td>1443.0</td>\n",
       "      <td>0.0</td>\n",
       "      <td>14.4</td>\n",
       "      <td>-49.0</td>\n",
       "      <td>9.1</td>\n",
       "      <td>11.6</td>\n",
       "      <td>...</td>\n",
       "      <td>62</td>\n",
       "      <td>0.0</td>\n",
       "      <td>40000</td>\n",
       "      <td>70</td>\n",
       "      <td>7</td>\n",
       "      <td>13.420667</td>\n",
       "      <td>2024-06-30</td>\n",
       "      <td>19</td>\n",
       "      <td>1</td>\n",
       "      <td>7</td>\n",
       "    </tr>\n",
       "    <tr>\n",
       "      <th>6216</th>\n",
       "      <td>6217</td>\n",
       "      <td>6217</td>\n",
       "      <td>30-06-2024 20:00</td>\n",
       "      <td>331</td>\n",
       "      <td>1099.0</td>\n",
       "      <td>0.0</td>\n",
       "      <td>13.2</td>\n",
       "      <td>-49.0</td>\n",
       "      <td>9.9</td>\n",
       "      <td>12.2</td>\n",
       "      <td>...</td>\n",
       "      <td>62</td>\n",
       "      <td>0.0</td>\n",
       "      <td>35000</td>\n",
       "      <td>60</td>\n",
       "      <td>7</td>\n",
       "      <td>15.303667</td>\n",
       "      <td>2024-06-30</td>\n",
       "      <td>20</td>\n",
       "      <td>1</td>\n",
       "      <td>7</td>\n",
       "    </tr>\n",
       "    <tr>\n",
       "      <th>6217</th>\n",
       "      <td>6218</td>\n",
       "      <td>6218</td>\n",
       "      <td>30-06-2024 21:00</td>\n",
       "      <td>246</td>\n",
       "      <td>737.0</td>\n",
       "      <td>0.2</td>\n",
       "      <td>12.2</td>\n",
       "      <td>-49.0</td>\n",
       "      <td>10.5</td>\n",
       "      <td>12.7</td>\n",
       "      <td>...</td>\n",
       "      <td>62</td>\n",
       "      <td>0.0</td>\n",
       "      <td>35000</td>\n",
       "      <td>60</td>\n",
       "      <td>7</td>\n",
       "      <td>12.910333</td>\n",
       "      <td>2024-06-30</td>\n",
       "      <td>21</td>\n",
       "      <td>1</td>\n",
       "      <td>7</td>\n",
       "    </tr>\n",
       "    <tr>\n",
       "      <th>6218</th>\n",
       "      <td>6219</td>\n",
       "      <td>6219</td>\n",
       "      <td>30-06-2024 22:00</td>\n",
       "      <td>152</td>\n",
       "      <td>576.0</td>\n",
       "      <td>0.1</td>\n",
       "      <td>11.9</td>\n",
       "      <td>-49.0</td>\n",
       "      <td>10.1</td>\n",
       "      <td>12.4</td>\n",
       "      <td>...</td>\n",
       "      <td>62</td>\n",
       "      <td>0.0</td>\n",
       "      <td>30000</td>\n",
       "      <td>12</td>\n",
       "      <td>7</td>\n",
       "      <td>11.412000</td>\n",
       "      <td>2024-06-30</td>\n",
       "      <td>22</td>\n",
       "      <td>1</td>\n",
       "      <td>7</td>\n",
       "    </tr>\n",
       "    <tr>\n",
       "      <th>6219</th>\n",
       "      <td>6220</td>\n",
       "      <td>6220</td>\n",
       "      <td>30-06-2024 23:00</td>\n",
       "      <td>131</td>\n",
       "      <td>349.0</td>\n",
       "      <td>0.0</td>\n",
       "      <td>12.1</td>\n",
       "      <td>-49.0</td>\n",
       "      <td>10.1</td>\n",
       "      <td>12.4</td>\n",
       "      <td>...</td>\n",
       "      <td>62</td>\n",
       "      <td>0.0</td>\n",
       "      <td>30000</td>\n",
       "      <td>50</td>\n",
       "      <td>7</td>\n",
       "      <td>7.827000</td>\n",
       "      <td>2024-06-30</td>\n",
       "      <td>23</td>\n",
       "      <td>1</td>\n",
       "      <td>7</td>\n",
       "    </tr>\n",
       "  </tbody>\n",
       "</table>\n",
       "<p>5 rows × 25 columns</p>\n",
       "</div>"
      ],
      "text/plain": [
       "      Unnamed: 0     X         Timestamp  counter.1  counter.2  rain  temp  \\\n",
       "6215        6216  6216  30-06-2024 19:00        467     1443.0   0.0  14.4   \n",
       "6216        6217  6217  30-06-2024 20:00        331     1099.0   0.0  13.2   \n",
       "6217        6218  6218  30-06-2024 21:00        246      737.0   0.2  12.2   \n",
       "6218        6219  6219  30-06-2024 22:00        152      576.0   0.1  11.9   \n",
       "6219        6220  6220  30-06-2024 23:00        131      349.0   0.0  12.1   \n",
       "\n",
       "      wetb  dewpt  vappr  ...   w  sun    vis  clht  clamt        NO2  \\\n",
       "6215 -49.0    9.1   11.6  ...  62  0.0  40000    70      7  13.420667   \n",
       "6216 -49.0    9.9   12.2  ...  62  0.0  35000    60      7  15.303667   \n",
       "6217 -49.0   10.5   12.7  ...  62  0.0  35000    60      7  12.910333   \n",
       "6218 -49.0   10.1   12.4  ...  62  0.0  30000    12      7  11.412000   \n",
       "6219 -49.0   10.1   12.4  ...  62  0.0  30000    50      7   7.827000   \n",
       "\n",
       "            date  hour  school_term  weekday_iso  \n",
       "6215  2024-06-30    19            1            7  \n",
       "6216  2024-06-30    20            1            7  \n",
       "6217  2024-06-30    21            1            7  \n",
       "6218  2024-06-30    22            1            7  \n",
       "6219  2024-06-30    23            1            7  \n",
       "\n",
       "[5 rows x 25 columns]"
      ]
     },
     "execution_count": 7,
     "metadata": {},
     "output_type": "execute_result"
    }
   ],
   "source": [
    "df6.tail()"
   ]
  },
  {
   "cell_type": "code",
   "execution_count": 8,
   "id": "09b9e7b8",
   "metadata": {},
   "outputs": [
    {
     "name": "stdout",
     "output_type": "stream",
     "text": [
      "Index(['Unnamed: 0', 'X.1', 'X', 'Timestamp', 'counter.1', 'counter.2', 'rain',\n",
      "       'temp', 'wetb', 'dewpt', 'vappr', 'rhum', 'msl', 'wdsp', 'wddir', 'ww',\n",
      "       'w', 'sun', 'vis', 'clht', 'clamt', 'NO2', 'hour', 'original_Timestamp',\n",
      "       'date', 'school_term', 'weekday_iso'],\n",
      "      dtype='object')\n",
      "Index(['Unnamed: 0', 'X.1', 'X', 'Timestamp', 'counter.1', 'counter.2', 'rain',\n",
      "       'temp', 'wetb', 'dewpt', 'vappr', 'rhum', 'msl', 'wdsp', 'wddir', 'ww',\n",
      "       'w', 'sun', 'vis', 'clht', 'clamt', 'NO2', 'hour', 'original_Timestamp',\n",
      "       'date', 'school_term', 'weekday_iso'],\n",
      "      dtype='object')\n",
      "Index(['Unnamed: 0', 'X.1', 'X', 'Timestamp', 'counter.1', 'counter.2', 'rain',\n",
      "       'temp', 'wetb', 'dewpt', 'vappr', 'rhum', 'msl', 'wdsp', 'wddir', 'ww',\n",
      "       'w', 'sun', 'vis', 'clht', 'clamt', 'NO2', 'date', 'hour',\n",
      "       'school_term', 'weekday_iso'],\n",
      "      dtype='object')\n",
      "Index(['Unnamed: 0', 'X.1', 'X', 'Timestamp', 'counter.1', 'counter.2', 'rain',\n",
      "       'temp', 'wetb', 'dewpt', 'vappr', 'rhum', 'msl', 'wdsp', 'wddir', 'ww',\n",
      "       'w', 'sun', 'vis', 'clht', 'clamt', 'NO2', 'date', 'hour',\n",
      "       'school_term', 'weekday_iso'],\n",
      "      dtype='object')\n",
      "Index(['Unnamed: 0', 'X', 'Timestamp', 'counter.1', 'counter.2', 'rain',\n",
      "       'temp', 'wetb', 'dewpt', 'vappr', 'rhum', 'msl', 'wdsp', 'wddir', 'ww',\n",
      "       'w', 'sun', 'vis', 'clht', 'clamt', 'NO2', 'date', 'hour',\n",
      "       'school_term', 'weekday_num'],\n",
      "      dtype='object')\n"
     ]
    }
   ],
   "source": [
    "print(df1.columns)\n",
    "print(df2.columns)\n",
    "print(df3.columns)\n",
    "print(df4.columns)\n",
    "print(df5.columns)"
   ]
  },
  {
   "cell_type": "code",
   "execution_count": 9,
   "id": "43311716",
   "metadata": {},
   "outputs": [
    {
     "name": "stdout",
     "output_type": "stream",
     "text": [
      "Index(['Unnamed: 0', 'X', 'Timestamp', 'counter.1', 'counter.2', 'rain',\n",
      "       'temp', 'wetb', 'dewpt', 'vappr', 'rhum', 'msl', 'wdsp', 'wddir', 'ww',\n",
      "       'w', 'sun', 'vis', 'clht', 'clamt', 'NO2', 'date', 'hour',\n",
      "       'school_term', 'weekday_iso'],\n",
      "      dtype='object')\n"
     ]
    }
   ],
   "source": [
    "print(df6.columns)"
   ]
  },
  {
   "cell_type": "code",
   "execution_count": 10,
   "id": "21246f23",
   "metadata": {},
   "outputs": [],
   "source": [
    "df1.drop(columns=['counter.1','counter.2','Unnamed: 0','X','vappr','wetb','dewpt','sun','original_Timestamp','w','ww','X.1'],axis=1, inplace=True)\n",
    "df2.drop(columns=['counter.1','counter.2','Unnamed: 0','X','vappr','wetb','dewpt','sun','original_Timestamp','w','ww','X.1'],axis=1, inplace=True)\n",
    "df3.drop(columns=['counter.1','counter.2','Unnamed: 0','X','vappr','wetb','dewpt','sun','w','ww','X.1'],axis=1, inplace=True)\n",
    "df4.drop(columns=['counter.1','counter.2','Unnamed: 0','X','vappr','wetb','dewpt','sun','w','ww','X.1'],axis=1, inplace=True)\n",
    "df5.drop(columns=['counter.1','counter.2','Unnamed: 0','X','vappr','wetb','dewpt','sun','w','ww'],axis=1, inplace=True)\n",
    "df6.drop(columns=['counter.1','counter.2','Unnamed: 0','X','vappr','wetb','dewpt','sun','w','ww'],axis=1, inplace=True)\n",
    "\n",
    "df5.rename(columns={'weekday_num':'weekday_iso'}, inplace=True)\n"
   ]
  },
  {
   "cell_type": "code",
   "execution_count": 11,
   "id": "888eec7c",
   "metadata": {},
   "outputs": [
    {
     "data": {
      "application/javascript": "\n        if (window._pyforest_update_imports_cell) { window._pyforest_update_imports_cell('import pandas as pd'); }\n    ",
      "text/plain": [
       "<IPython.core.display.Javascript object>"
      ]
     },
     "metadata": {},
     "output_type": "display_data"
    },
    {
     "data": {
      "application/javascript": "\n        if (window._pyforest_update_imports_cell) { window._pyforest_update_imports_cell('import pandas as pd'); }\n    ",
      "text/plain": [
       "<IPython.core.display.Javascript object>"
      ]
     },
     "metadata": {},
     "output_type": "display_data"
    },
    {
     "data": {
      "application/javascript": "\n        if (window._pyforest_update_imports_cell) { window._pyforest_update_imports_cell('import pandas as pd'); }\n    ",
      "text/plain": [
       "<IPython.core.display.Javascript object>"
      ]
     },
     "metadata": {},
     "output_type": "display_data"
    },
    {
     "data": {
      "application/javascript": "\n        if (window._pyforest_update_imports_cell) { window._pyforest_update_imports_cell('import pandas as pd'); }\n    ",
      "text/plain": [
       "<IPython.core.display.Javascript object>"
      ]
     },
     "metadata": {},
     "output_type": "display_data"
    },
    {
     "data": {
      "application/javascript": "\n        if (window._pyforest_update_imports_cell) { window._pyforest_update_imports_cell('import pandas as pd'); }\n    ",
      "text/plain": [
       "<IPython.core.display.Javascript object>"
      ]
     },
     "metadata": {},
     "output_type": "display_data"
    },
    {
     "data": {
      "application/javascript": "\n        if (window._pyforest_update_imports_cell) { window._pyforest_update_imports_cell('import pandas as pd'); }\n    ",
      "text/plain": [
       "<IPython.core.display.Javascript object>"
      ]
     },
     "metadata": {},
     "output_type": "display_data"
    }
   ],
   "source": [
    "df1_cpa=pd.read_csv('LG/24hr_merged_final_segments.csv')\n",
    "df2_cpa=pd.read_csv('UCC/24hr_merged_final_segments.csv')\n",
    "df3_cpa=pd.read_csv('SPS/24hr_merged_final_segments.csv')\n",
    "df4_cpa=pd.read_csv('OP/24hr_merged_final_segments.csv')\n",
    "df5_cpa=pd.read_csv('BS/24hr_merged_final_segments.csv')\n",
    "df6_cpa=pd.read_csv('GP/24hr_merged_final_segments.csv')\n"
   ]
  },
  {
   "cell_type": "code",
   "execution_count": 12,
   "id": "a6bf6792",
   "metadata": {},
   "outputs": [
    {
     "data": {
      "text/html": [
       "<div>\n",
       "<style scoped>\n",
       "    .dataframe tbody tr th:only-of-type {\n",
       "        vertical-align: middle;\n",
       "    }\n",
       "\n",
       "    .dataframe tbody tr th {\n",
       "        vertical-align: top;\n",
       "    }\n",
       "\n",
       "    .dataframe thead th {\n",
       "        text-align: right;\n",
       "    }\n",
       "</style>\n",
       "<table border=\"1\" class=\"dataframe\">\n",
       "  <thead>\n",
       "    <tr style=\"text-align: right;\">\n",
       "      <th></th>\n",
       "      <th>Segment</th>\n",
       "      <th>Start</th>\n",
       "      <th>End</th>\n",
       "      <th>Mean_NO2</th>\n",
       "      <th>CI_low</th>\n",
       "      <th>CI_high</th>\n",
       "      <th>Overlap_with_prev</th>\n",
       "    </tr>\n",
       "  </thead>\n",
       "  <tbody>\n",
       "    <tr>\n",
       "      <th>50</th>\n",
       "      <td>80</td>\n",
       "      <td>2024-05-20 22:00:00+01:00</td>\n",
       "      <td>2024-07-17 00:00:00+01:00</td>\n",
       "      <td>20.239431</td>\n",
       "      <td>19.029841</td>\n",
       "      <td>21.586893</td>\n",
       "      <td>False</td>\n",
       "    </tr>\n",
       "    <tr>\n",
       "      <th>51</th>\n",
       "      <td>81</td>\n",
       "      <td>2024-07-17 00:00:00+01:00</td>\n",
       "      <td>2024-08-02 00:00:00+01:00</td>\n",
       "      <td>82.912875</td>\n",
       "      <td>71.984177</td>\n",
       "      <td>97.077000</td>\n",
       "      <td>False</td>\n",
       "    </tr>\n",
       "    <tr>\n",
       "      <th>52</th>\n",
       "      <td>83</td>\n",
       "      <td>2024-08-02 00:00:00+01:00</td>\n",
       "      <td>2024-08-02 21:00:00+01:00</td>\n",
       "      <td>16.980000</td>\n",
       "      <td>12.974952</td>\n",
       "      <td>21.841893</td>\n",
       "      <td>False</td>\n",
       "    </tr>\n",
       "    <tr>\n",
       "      <th>53</th>\n",
       "      <td>84</td>\n",
       "      <td>2024-08-02 21:00:00+01:00</td>\n",
       "      <td>2024-08-05 21:00:00+01:00</td>\n",
       "      <td>11.363333</td>\n",
       "      <td>10.427319</td>\n",
       "      <td>12.318038</td>\n",
       "      <td>False</td>\n",
       "    </tr>\n",
       "    <tr>\n",
       "      <th>54</th>\n",
       "      <td>85</td>\n",
       "      <td>2024-08-05 21:00:00+01:00</td>\n",
       "      <td>2024-08-31 23:00:00+01:00</td>\n",
       "      <td>18.558845</td>\n",
       "      <td>17.324316</td>\n",
       "      <td>20.567040</td>\n",
       "      <td>False</td>\n",
       "    </tr>\n",
       "  </tbody>\n",
       "</table>\n",
       "</div>"
      ],
      "text/plain": [
       "    Segment                      Start                        End   Mean_NO2  \\\n",
       "50       80  2024-05-20 22:00:00+01:00  2024-07-17 00:00:00+01:00  20.239431   \n",
       "51       81  2024-07-17 00:00:00+01:00  2024-08-02 00:00:00+01:00  82.912875   \n",
       "52       83  2024-08-02 00:00:00+01:00  2024-08-02 21:00:00+01:00  16.980000   \n",
       "53       84  2024-08-02 21:00:00+01:00  2024-08-05 21:00:00+01:00  11.363333   \n",
       "54       85  2024-08-05 21:00:00+01:00  2024-08-31 23:00:00+01:00  18.558845   \n",
       "\n",
       "       CI_low    CI_high Overlap_with_prev  \n",
       "50  19.029841  21.586893             False  \n",
       "51  71.984177  97.077000             False  \n",
       "52  12.974952  21.841893             False  \n",
       "53  10.427319  12.318038             False  \n",
       "54  17.324316  20.567040             False  "
      ]
     },
     "execution_count": 12,
     "metadata": {},
     "output_type": "execute_result"
    }
   ],
   "source": [
    "df1_cpa.tail()"
   ]
  },
  {
   "cell_type": "code",
   "execution_count": null,
   "id": "0b89979f",
   "metadata": {},
   "outputs": [],
   "source": []
  },
  {
   "cell_type": "code",
   "execution_count": 13,
   "id": "a8b55531",
   "metadata": {},
   "outputs": [
    {
     "data": {
      "application/javascript": "\n        if (window._pyforest_update_imports_cell) { window._pyforest_update_imports_cell('import pandas as pd'); }\n    ",
      "text/plain": [
       "<IPython.core.display.Javascript object>"
      ]
     },
     "metadata": {},
     "output_type": "display_data"
    },
    {
     "data": {
      "application/javascript": "\n        if (window._pyforest_update_imports_cell) { window._pyforest_update_imports_cell('import pandas as pd'); }\n    ",
      "text/plain": [
       "<IPython.core.display.Javascript object>"
      ]
     },
     "metadata": {},
     "output_type": "display_data"
    },
    {
     "data": {
      "application/javascript": "\n        if (window._pyforest_update_imports_cell) { window._pyforest_update_imports_cell('import pandas as pd'); }\n    ",
      "text/plain": [
       "<IPython.core.display.Javascript object>"
      ]
     },
     "metadata": {},
     "output_type": "display_data"
    },
    {
     "data": {
      "application/javascript": "\n        if (window._pyforest_update_imports_cell) { window._pyforest_update_imports_cell('import pandas as pd'); }\n    ",
      "text/plain": [
       "<IPython.core.display.Javascript object>"
      ]
     },
     "metadata": {},
     "output_type": "display_data"
    },
    {
     "data": {
      "application/javascript": "\n        if (window._pyforest_update_imports_cell) { window._pyforest_update_imports_cell('import pandas as pd'); }\n    ",
      "text/plain": [
       "<IPython.core.display.Javascript object>"
      ]
     },
     "metadata": {},
     "output_type": "display_data"
    },
    {
     "data": {
      "application/javascript": "\n        if (window._pyforest_update_imports_cell) { window._pyforest_update_imports_cell('import pandas as pd'); }\n    ",
      "text/plain": [
       "<IPython.core.display.Javascript object>"
      ]
     },
     "metadata": {},
     "output_type": "display_data"
    }
   ],
   "source": [
    "\n",
    "\n",
    "traffic=pd.read_csv('../mydata/datasets_for_model/personal_public_traff_count.csv')\n",
    "traffic2=pd.read_csv('../mydata/traffic/counter 3/personal_vs_hgvs.csv')\n",
    "traffic3=pd.read_csv('../mydata/traffic/counter 4/personal_vs_hgvs.csv')\n",
    "traffic2.rename(columns={'datetime':'Timestamp', 'personal':'car_r3','heavy_goods':'hgv_r3'}, inplace=True)\n",
    "traffic3.rename(columns={'datetime':'Timestamp', 'personal':'car_r4','heavy_goods':'hgv_r4'}, inplace=True)\n",
    "\n",
    "traffic2.drop(columns=['Unnamed: 0'], axis=1, inplace=True)\n",
    "traffic3.drop(columns=['Unnamed: 0'], axis=1, inplace=True)\n",
    "\n",
    "traffic['Timestamp']=pd.to_datetime(traffic['Timestamp'], utc=True)\n",
    "traffic['Timestamp'] = traffic['Timestamp'].dt.tz_convert('Europe/Dublin')\n",
    "\n",
    "traffic2['Timestamp']=pd.to_datetime(traffic2['Timestamp'], utc=True)\n",
    "traffic2['Timestamp'] = traffic2['Timestamp'].dt.tz_convert('Europe/Dublin')\n",
    "\n",
    "traffic3['Timestamp']=pd.to_datetime(traffic3['Timestamp'], utc=True)\n",
    "traffic3['Timestamp'] = traffic3['Timestamp'].dt.tz_convert('Europe/Dublin')"
   ]
  },
  {
   "cell_type": "code",
   "execution_count": 14,
   "id": "95635043",
   "metadata": {},
   "outputs": [
    {
     "data": {
      "application/javascript": "\n        if (window._pyforest_update_imports_cell) { window._pyforest_update_imports_cell('import pandas as pd'); }\n    ",
      "text/plain": [
       "<IPython.core.display.Javascript object>"
      ]
     },
     "metadata": {},
     "output_type": "display_data"
    },
    {
     "data": {
      "text/plain": [
       "0       2023-01-01 00:00:00+00:00\n",
       "1       2023-01-01 01:00:00+00:00\n",
       "2       2023-01-01 02:00:00+00:00\n",
       "3       2023-01-01 03:00:00+00:00\n",
       "4       2023-01-01 04:00:00+00:00\n",
       "                   ...           \n",
       "10745   2024-08-31 19:00:00+01:00\n",
       "10746   2024-08-31 20:00:00+01:00\n",
       "10747   2024-08-31 21:00:00+01:00\n",
       "10748   2024-08-31 22:00:00+01:00\n",
       "10749   2024-08-31 23:00:00+01:00\n",
       "Name: Timestamp, Length: 10750, dtype: datetime64[ns, Europe/Dublin]"
      ]
     },
     "execution_count": 14,
     "metadata": {},
     "output_type": "execute_result"
    }
   ],
   "source": [
    "pd.to_datetime(df1['Timestamp'], format='%d-%m-%Y %H:%M').dt.tz_localize('Europe/Dublin', ambiguous='NaT', nonexistent='NaT')"
   ]
  },
  {
   "cell_type": "code",
   "execution_count": 15,
   "id": "c287c8c5",
   "metadata": {},
   "outputs": [
    {
     "data": {
      "text/plain": [
       "0         0\n",
       "1         1\n",
       "2         2\n",
       "3         3\n",
       "4         4\n",
       "         ..\n",
       "14608    19\n",
       "14609    20\n",
       "14610    21\n",
       "14611    22\n",
       "14612    23\n",
       "Name: Timestamp, Length: 14613, dtype: int64"
      ]
     },
     "execution_count": 15,
     "metadata": {},
     "output_type": "execute_result"
    }
   ],
   "source": [
    "traffic3['Timestamp'].dt.hour"
   ]
  },
  {
   "cell_type": "code",
   "execution_count": 16,
   "id": "171e16a3",
   "metadata": {},
   "outputs": [],
   "source": [
    "\n",
    "# Extract hour from timestamp\n",
    "traffic['hour'] = traffic['Timestamp'].dt.hour\n",
    "\n",
    "# Function to fill NaNs with median per hour\n",
    "traffic['car_r1'] = traffic.groupby('hour')['car_r1'].transform(\n",
    "    lambda x: x.fillna(x.median())\n",
    ")\n",
    "traffic['car_r2'] = traffic.groupby('hour')['car_r2'].transform(\n",
    "    lambda x: x.fillna(x.median())\n",
    ")\n",
    "traffic['hgv_r1'] = traffic.groupby('hour')['hgv_r1'].transform(\n",
    "    lambda x: x.fillna(x.median())\n",
    ")\n",
    "\n",
    "traffic['hgv_r2'] = traffic.groupby('hour')['hgv_r2'].transform(\n",
    "    lambda x: x.fillna(x.median())\n",
    ")\n",
    "\n",
    "\n",
    "traffic2['hour'] = traffic2['Timestamp'].dt.hour\n",
    "\n",
    "# Function to fill NaNs with median per hour\n",
    "traffic2['car_r3'] = traffic2.groupby('hour')['car_r3'].transform(\n",
    "    lambda x: x.fillna(x.median())\n",
    ")\n",
    "\n",
    "traffic2['hgv_r3'] = traffic2.groupby('hour')['hgv_r3'].transform(\n",
    "    lambda x: x.fillna(x.median())\n",
    ")\n",
    "\n",
    "\n",
    "traffic3['hour'] = traffic3['Timestamp'].dt.hour\n",
    "\n",
    "# Function to fill NaNs with median per hour\n",
    "traffic3['car_r4'] = traffic3.groupby('hour')['car_r4'].transform(\n",
    "    lambda x: x.fillna(x.median())\n",
    ")\n",
    "\n",
    "traffic3['hgv_r4'] = traffic3.groupby('hour')['hgv_r4'].transform(\n",
    "    lambda x: x.fillna(x.median())\n",
    ")\n",
    "\n"
   ]
  },
  {
   "cell_type": "code",
   "execution_count": 17,
   "id": "07a74d23",
   "metadata": {},
   "outputs": [
    {
     "data": {
      "text/html": [
       "<div>\n",
       "<style scoped>\n",
       "    .dataframe tbody tr th:only-of-type {\n",
       "        vertical-align: middle;\n",
       "    }\n",
       "\n",
       "    .dataframe tbody tr th {\n",
       "        vertical-align: top;\n",
       "    }\n",
       "\n",
       "    .dataframe thead th {\n",
       "        text-align: right;\n",
       "    }\n",
       "</style>\n",
       "<table border=\"1\" class=\"dataframe\">\n",
       "  <thead>\n",
       "    <tr style=\"text-align: right;\">\n",
       "      <th></th>\n",
       "      <th>Timestamp</th>\n",
       "      <th>car_r4</th>\n",
       "      <th>hgv_r4</th>\n",
       "      <th>hour</th>\n",
       "    </tr>\n",
       "  </thead>\n",
       "  <tbody>\n",
       "  </tbody>\n",
       "</table>\n",
       "</div>"
      ],
      "text/plain": [
       "Empty DataFrame\n",
       "Columns: [Timestamp, car_r4, hgv_r4, hour]\n",
       "Index: []"
      ]
     },
     "execution_count": 17,
     "metadata": {},
     "output_type": "execute_result"
    }
   ],
   "source": [
    "traffic3[traffic3['hgv_r4'].isna()]"
   ]
  },
  {
   "cell_type": "code",
   "execution_count": 18,
   "id": "08cad42e",
   "metadata": {},
   "outputs": [
    {
     "data": {
      "text/html": [
       "<div>\n",
       "<style scoped>\n",
       "    .dataframe tbody tr th:only-of-type {\n",
       "        vertical-align: middle;\n",
       "    }\n",
       "\n",
       "    .dataframe tbody tr th {\n",
       "        vertical-align: top;\n",
       "    }\n",
       "\n",
       "    .dataframe thead th {\n",
       "        text-align: right;\n",
       "    }\n",
       "</style>\n",
       "<table border=\"1\" class=\"dataframe\">\n",
       "  <thead>\n",
       "    <tr style=\"text-align: right;\">\n",
       "      <th></th>\n",
       "      <th>Timestamp</th>\n",
       "      <th>rain</th>\n",
       "      <th>temp</th>\n",
       "      <th>rhum</th>\n",
       "      <th>msl</th>\n",
       "      <th>wdsp</th>\n",
       "      <th>wddir</th>\n",
       "      <th>vis</th>\n",
       "      <th>clht</th>\n",
       "      <th>clamt</th>\n",
       "      <th>NO2</th>\n",
       "      <th>hour</th>\n",
       "      <th>date</th>\n",
       "      <th>school_term</th>\n",
       "      <th>weekday_iso</th>\n",
       "    </tr>\n",
       "  </thead>\n",
       "  <tbody>\n",
       "    <tr>\n",
       "      <th>0</th>\n",
       "      <td>01-01-2023 00:00</td>\n",
       "      <td>0.0</td>\n",
       "      <td>5.2</td>\n",
       "      <td>95</td>\n",
       "      <td>996.5</td>\n",
       "      <td>8</td>\n",
       "      <td>220</td>\n",
       "      <td>15000</td>\n",
       "      <td>200</td>\n",
       "      <td>6</td>\n",
       "      <td>21.58</td>\n",
       "      <td>0</td>\n",
       "      <td>2023-01-01</td>\n",
       "      <td>0</td>\n",
       "      <td>7</td>\n",
       "    </tr>\n",
       "    <tr>\n",
       "      <th>1</th>\n",
       "      <td>01-01-2023 01:00</td>\n",
       "      <td>0.0</td>\n",
       "      <td>4.7</td>\n",
       "      <td>93</td>\n",
       "      <td>996.9</td>\n",
       "      <td>6</td>\n",
       "      <td>210</td>\n",
       "      <td>20000</td>\n",
       "      <td>40</td>\n",
       "      <td>5</td>\n",
       "      <td>49.08</td>\n",
       "      <td>1</td>\n",
       "      <td>2023-01-01</td>\n",
       "      <td>0</td>\n",
       "      <td>7</td>\n",
       "    </tr>\n",
       "    <tr>\n",
       "      <th>2</th>\n",
       "      <td>01-01-2023 02:00</td>\n",
       "      <td>0.1</td>\n",
       "      <td>5.4</td>\n",
       "      <td>94</td>\n",
       "      <td>996.9</td>\n",
       "      <td>5</td>\n",
       "      <td>210</td>\n",
       "      <td>20000</td>\n",
       "      <td>37</td>\n",
       "      <td>7</td>\n",
       "      <td>51.23</td>\n",
       "      <td>2</td>\n",
       "      <td>2023-01-01</td>\n",
       "      <td>0</td>\n",
       "      <td>7</td>\n",
       "    </tr>\n",
       "    <tr>\n",
       "      <th>3</th>\n",
       "      <td>01-01-2023 03:00</td>\n",
       "      <td>0.4</td>\n",
       "      <td>5.6</td>\n",
       "      <td>94</td>\n",
       "      <td>997.4</td>\n",
       "      <td>7</td>\n",
       "      <td>220</td>\n",
       "      <td>20000</td>\n",
       "      <td>26</td>\n",
       "      <td>7</td>\n",
       "      <td>51.03</td>\n",
       "      <td>3</td>\n",
       "      <td>2023-01-01</td>\n",
       "      <td>0</td>\n",
       "      <td>7</td>\n",
       "    </tr>\n",
       "    <tr>\n",
       "      <th>4</th>\n",
       "      <td>01-01-2023 04:00</td>\n",
       "      <td>0.0</td>\n",
       "      <td>4.7</td>\n",
       "      <td>97</td>\n",
       "      <td>997.1</td>\n",
       "      <td>3</td>\n",
       "      <td>160</td>\n",
       "      <td>20000</td>\n",
       "      <td>50</td>\n",
       "      <td>7</td>\n",
       "      <td>50.53</td>\n",
       "      <td>4</td>\n",
       "      <td>2023-01-01</td>\n",
       "      <td>0</td>\n",
       "      <td>7</td>\n",
       "    </tr>\n",
       "  </tbody>\n",
       "</table>\n",
       "</div>"
      ],
      "text/plain": [
       "          Timestamp  rain  temp  rhum    msl  wdsp  wddir    vis  clht  clamt  \\\n",
       "0  01-01-2023 00:00   0.0   5.2    95  996.5     8    220  15000   200      6   \n",
       "1  01-01-2023 01:00   0.0   4.7    93  996.9     6    210  20000    40      5   \n",
       "2  01-01-2023 02:00   0.1   5.4    94  996.9     5    210  20000    37      7   \n",
       "3  01-01-2023 03:00   0.4   5.6    94  997.4     7    220  20000    26      7   \n",
       "4  01-01-2023 04:00   0.0   4.7    97  997.1     3    160  20000    50      7   \n",
       "\n",
       "     NO2  hour        date  school_term  weekday_iso  \n",
       "0  21.58     0  2023-01-01            0            7  \n",
       "1  49.08     1  2023-01-01            0            7  \n",
       "2  51.23     2  2023-01-01            0            7  \n",
       "3  51.03     3  2023-01-01            0            7  \n",
       "4  50.53     4  2023-01-01            0            7  "
      ]
     },
     "execution_count": 18,
     "metadata": {},
     "output_type": "execute_result"
    }
   ],
   "source": [
    "df1.head()"
   ]
  },
  {
   "cell_type": "code",
   "execution_count": 19,
   "id": "9bdd02ef",
   "metadata": {},
   "outputs": [
    {
     "data": {
      "application/javascript": "\n        if (window._pyforest_update_imports_cell) { window._pyforest_update_imports_cell('import pandas as pd\\nimport numpy as np'); }\n    ",
      "text/plain": [
       "<IPython.core.display.Javascript object>"
      ]
     },
     "metadata": {},
     "output_type": "display_data"
    },
    {
     "data": {
      "application/javascript": "\n        if (window._pyforest_update_imports_cell) { window._pyforest_update_imports_cell('import pandas as pd\\nimport numpy as np'); }\n    ",
      "text/plain": [
       "<IPython.core.display.Javascript object>"
      ]
     },
     "metadata": {},
     "output_type": "display_data"
    },
    {
     "data": {
      "application/javascript": "\n        if (window._pyforest_update_imports_cell) { window._pyforest_update_imports_cell('import pandas as pd\\nimport numpy as np'); }\n    ",
      "text/plain": [
       "<IPython.core.display.Javascript object>"
      ]
     },
     "metadata": {},
     "output_type": "display_data"
    },
    {
     "data": {
      "application/javascript": "\n        if (window._pyforest_update_imports_cell) { window._pyforest_update_imports_cell('import pandas as pd\\nimport numpy as np'); }\n    ",
      "text/plain": [
       "<IPython.core.display.Javascript object>"
      ]
     },
     "metadata": {},
     "output_type": "display_data"
    },
    {
     "data": {
      "application/javascript": "\n        if (window._pyforest_update_imports_cell) { window._pyforest_update_imports_cell('import pandas as pd\\nimport numpy as np'); }\n    ",
      "text/plain": [
       "<IPython.core.display.Javascript object>"
      ]
     },
     "metadata": {},
     "output_type": "display_data"
    },
    {
     "data": {
      "application/javascript": "\n        if (window._pyforest_update_imports_cell) { window._pyforest_update_imports_cell('import pandas as pd\\nimport numpy as np'); }\n    ",
      "text/plain": [
       "<IPython.core.display.Javascript object>"
      ]
     },
     "metadata": {},
     "output_type": "display_data"
    },
    {
     "data": {
      "application/javascript": "\n        if (window._pyforest_update_imports_cell) { window._pyforest_update_imports_cell('import pandas as pd\\nimport numpy as np'); }\n    ",
      "text/plain": [
       "<IPython.core.display.Javascript object>"
      ]
     },
     "metadata": {},
     "output_type": "display_data"
    },
    {
     "data": {
      "application/javascript": "\n        if (window._pyforest_update_imports_cell) { window._pyforest_update_imports_cell('import pandas as pd\\nimport numpy as np'); }\n    ",
      "text/plain": [
       "<IPython.core.display.Javascript object>"
      ]
     },
     "metadata": {},
     "output_type": "display_data"
    },
    {
     "data": {
      "application/javascript": "\n        if (window._pyforest_update_imports_cell) { window._pyforest_update_imports_cell('import pandas as pd\\nimport numpy as np'); }\n    ",
      "text/plain": [
       "<IPython.core.display.Javascript object>"
      ]
     },
     "metadata": {},
     "output_type": "display_data"
    },
    {
     "data": {
      "application/javascript": "\n        if (window._pyforest_update_imports_cell) { window._pyforest_update_imports_cell('import pandas as pd\\nimport numpy as np'); }\n    ",
      "text/plain": [
       "<IPython.core.display.Javascript object>"
      ]
     },
     "metadata": {},
     "output_type": "display_data"
    },
    {
     "data": {
      "application/javascript": "\n        if (window._pyforest_update_imports_cell) { window._pyforest_update_imports_cell('import pandas as pd\\nimport numpy as np'); }\n    ",
      "text/plain": [
       "<IPython.core.display.Javascript object>"
      ]
     },
     "metadata": {},
     "output_type": "display_data"
    },
    {
     "data": {
      "application/javascript": "\n        if (window._pyforest_update_imports_cell) { window._pyforest_update_imports_cell('import pandas as pd\\nimport numpy as np'); }\n    ",
      "text/plain": [
       "<IPython.core.display.Javascript object>"
      ]
     },
     "metadata": {},
     "output_type": "display_data"
    },
    {
     "data": {
      "application/javascript": "\n        if (window._pyforest_update_imports_cell) { window._pyforest_update_imports_cell('import pandas as pd\\nimport numpy as np'); }\n    ",
      "text/plain": [
       "<IPython.core.display.Javascript object>"
      ]
     },
     "metadata": {},
     "output_type": "display_data"
    },
    {
     "data": {
      "application/javascript": "\n        if (window._pyforest_update_imports_cell) { window._pyforest_update_imports_cell('import pandas as pd\\nimport numpy as np'); }\n    ",
      "text/plain": [
       "<IPython.core.display.Javascript object>"
      ]
     },
     "metadata": {},
     "output_type": "display_data"
    },
    {
     "data": {
      "application/javascript": "\n        if (window._pyforest_update_imports_cell) { window._pyforest_update_imports_cell('import pandas as pd\\nimport numpy as np'); }\n    ",
      "text/plain": [
       "<IPython.core.display.Javascript object>"
      ]
     },
     "metadata": {},
     "output_type": "display_data"
    },
    {
     "data": {
      "application/javascript": "\n        if (window._pyforest_update_imports_cell) { window._pyforest_update_imports_cell('import pandas as pd\\nimport numpy as np'); }\n    ",
      "text/plain": [
       "<IPython.core.display.Javascript object>"
      ]
     },
     "metadata": {},
     "output_type": "display_data"
    },
    {
     "data": {
      "application/javascript": "\n        if (window._pyforest_update_imports_cell) { window._pyforest_update_imports_cell('import pandas as pd\\nimport numpy as np'); }\n    ",
      "text/plain": [
       "<IPython.core.display.Javascript object>"
      ]
     },
     "metadata": {},
     "output_type": "display_data"
    },
    {
     "data": {
      "application/javascript": "\n        if (window._pyforest_update_imports_cell) { window._pyforest_update_imports_cell('import pandas as pd\\nimport numpy as np'); }\n    ",
      "text/plain": [
       "<IPython.core.display.Javascript object>"
      ]
     },
     "metadata": {},
     "output_type": "display_data"
    },
    {
     "data": {
      "application/javascript": "\n        if (window._pyforest_update_imports_cell) { window._pyforest_update_imports_cell('import pandas as pd\\nimport numpy as np'); }\n    ",
      "text/plain": [
       "<IPython.core.display.Javascript object>"
      ]
     },
     "metadata": {},
     "output_type": "display_data"
    },
    {
     "data": {
      "application/javascript": "\n        if (window._pyforest_update_imports_cell) { window._pyforest_update_imports_cell('import pandas as pd\\nimport numpy as np'); }\n    ",
      "text/plain": [
       "<IPython.core.display.Javascript object>"
      ]
     },
     "metadata": {},
     "output_type": "display_data"
    },
    {
     "data": {
      "application/javascript": "\n        if (window._pyforest_update_imports_cell) { window._pyforest_update_imports_cell('import pandas as pd\\nimport numpy as np'); }\n    ",
      "text/plain": [
       "<IPython.core.display.Javascript object>"
      ]
     },
     "metadata": {},
     "output_type": "display_data"
    },
    {
     "data": {
      "application/javascript": "\n        if (window._pyforest_update_imports_cell) { window._pyforest_update_imports_cell('import pandas as pd\\nimport numpy as np'); }\n    ",
      "text/plain": [
       "<IPython.core.display.Javascript object>"
      ]
     },
     "metadata": {},
     "output_type": "display_data"
    },
    {
     "data": {
      "application/javascript": "\n        if (window._pyforest_update_imports_cell) { window._pyforest_update_imports_cell('import pandas as pd\\nimport numpy as np'); }\n    ",
      "text/plain": [
       "<IPython.core.display.Javascript object>"
      ]
     },
     "metadata": {},
     "output_type": "display_data"
    },
    {
     "data": {
      "application/javascript": "\n        if (window._pyforest_update_imports_cell) { window._pyforest_update_imports_cell('import pandas as pd\\nimport numpy as np'); }\n    ",
      "text/plain": [
       "<IPython.core.display.Javascript object>"
      ]
     },
     "metadata": {},
     "output_type": "display_data"
    }
   ],
   "source": [
    "df1['wddir_sin'] = np.sin(2*np.pi*df1['wddir']/360)\n",
    "df1['wddir_cos'] = np.cos(2*np.pi*df1['wddir']/360)\n",
    "\n",
    "df2['wddir_sin'] = np.sin(2*np.pi*df2['wddir']/360)\n",
    "df2['wddir_cos'] = np.cos(2*np.pi*df2['wddir']/360)\n",
    "\n",
    "df3['wddir_sin'] = np.sin(2*np.pi*df3['wddir']/360)\n",
    "df3['wddir_cos'] = np.cos(2*np.pi*df3['wddir']/360)\n",
    "\n",
    "df4['wddir_sin'] = np.sin(2*np.pi*df4['wddir']/360)\n",
    "df4['wddir_cos'] = np.cos(2*np.pi*df4['wddir']/360)\n",
    "\n",
    "df5['wddir_sin'] = np.sin(2*np.pi*df5['wddir']/360)\n",
    "df5['wddir_cos'] = np.cos(2*np.pi*df5['wddir']/360)\n",
    "\n",
    "df6['wddir_sin'] = np.sin(2*np.pi*df6['wddir']/360)\n",
    "df6['wddir_cos'] = np.cos(2*np.pi*df6['wddir']/360)\n"
   ]
  },
  {
   "cell_type": "code",
   "execution_count": 20,
   "id": "52ad52f5",
   "metadata": {},
   "outputs": [],
   "source": [
    "df1.drop(columns=['wddir'], inplace=True)\n",
    "df2.drop(columns=['wddir'], inplace=True)\n",
    "df3.drop(columns=['wddir'], inplace=True)\n",
    "df4.drop(columns=['wddir'], inplace=True)\n",
    "df5.drop(columns=['wddir'], inplace=True)\n",
    "df6.drop(columns=['wddir'], inplace=True)\n"
   ]
  },
  {
   "cell_type": "code",
   "execution_count": 21,
   "id": "b866e6b9",
   "metadata": {},
   "outputs": [
    {
     "data": {
      "application/javascript": "\n        if (window._pyforest_update_imports_cell) { window._pyforest_update_imports_cell('import pandas as pd\\nimport numpy as np'); }\n    ",
      "text/plain": [
       "<IPython.core.display.Javascript object>"
      ]
     },
     "metadata": {},
     "output_type": "display_data"
    },
    {
     "data": {
      "application/javascript": "\n        if (window._pyforest_update_imports_cell) { window._pyforest_update_imports_cell('import pandas as pd\\nimport numpy as np'); }\n    ",
      "text/plain": [
       "<IPython.core.display.Javascript object>"
      ]
     },
     "metadata": {},
     "output_type": "display_data"
    },
    {
     "data": {
      "application/javascript": "\n        if (window._pyforest_update_imports_cell) { window._pyforest_update_imports_cell('import pandas as pd\\nimport numpy as np'); }\n    ",
      "text/plain": [
       "<IPython.core.display.Javascript object>"
      ]
     },
     "metadata": {},
     "output_type": "display_data"
    },
    {
     "data": {
      "application/javascript": "\n        if (window._pyforest_update_imports_cell) { window._pyforest_update_imports_cell('import pandas as pd\\nimport numpy as np'); }\n    ",
      "text/plain": [
       "<IPython.core.display.Javascript object>"
      ]
     },
     "metadata": {},
     "output_type": "display_data"
    },
    {
     "data": {
      "application/javascript": "\n        if (window._pyforest_update_imports_cell) { window._pyforest_update_imports_cell('import pandas as pd\\nimport numpy as np'); }\n    ",
      "text/plain": [
       "<IPython.core.display.Javascript object>"
      ]
     },
     "metadata": {},
     "output_type": "display_data"
    },
    {
     "data": {
      "application/javascript": "\n        if (window._pyforest_update_imports_cell) { window._pyforest_update_imports_cell('import pandas as pd\\nimport numpy as np'); }\n    ",
      "text/plain": [
       "<IPython.core.display.Javascript object>"
      ]
     },
     "metadata": {},
     "output_type": "display_data"
    }
   ],
   "source": [
    "df1['day_of_year'] = pd.to_datetime(df1['date'], format='%Y-%m-%d').dt.dayofyear  # 1 to 365/366\n",
    "df2['day_of_year'] = pd.to_datetime(df2['date'], format='%Y-%m-%d').dt.dayofyear  # 1 to 365/366\n",
    "df3['day_of_year'] = pd.to_datetime(df3['date'], format='%Y-%m-%d').dt.dayofyear  # 1 to 365/366\n",
    "df4['day_of_year'] = pd.to_datetime(df4['date'], format='%Y-%m-%d').dt.dayofyear  # 1 to 365/366\n",
    "df5['day_of_year'] = pd.to_datetime(df5['date'], format='%Y-%m-%d').dt.dayofyear  # 1 to 365/366\n",
    "df6['day_of_year'] = pd.to_datetime(df6['date'], format='%Y-%m-%d').dt.dayofyear  # 1 to 365/366\n"
   ]
  },
  {
   "cell_type": "code",
   "execution_count": 22,
   "id": "47491963",
   "metadata": {},
   "outputs": [],
   "source": [
    "df1.drop(columns=['date'], inplace=True)\n",
    "df2.drop(columns=['date'], inplace=True)\n",
    "df3.drop(columns=['date'], inplace=True)\n",
    "df4.drop(columns=['date'], inplace=True)\n",
    "df5.drop(columns=['date'], inplace=True)\n",
    "df6.drop(columns=['date'], inplace=True)"
   ]
  },
  {
   "cell_type": "code",
   "execution_count": 23,
   "id": "87ea243f",
   "metadata": {},
   "outputs": [
    {
     "data": {
      "application/javascript": "\n        if (window._pyforest_update_imports_cell) { window._pyforest_update_imports_cell('import pandas as pd\\nimport numpy as np'); }\n    ",
      "text/plain": [
       "<IPython.core.display.Javascript object>"
      ]
     },
     "metadata": {},
     "output_type": "display_data"
    },
    {
     "data": {
      "text/plain": [
       "0       2023-01-01 00:00:00+00:00\n",
       "1       2023-01-01 01:00:00+00:00\n",
       "2       2023-01-01 02:00:00+00:00\n",
       "3       2023-01-01 03:00:00+00:00\n",
       "4       2023-01-01 04:00:00+00:00\n",
       "                   ...           \n",
       "10745   2024-08-31 19:00:00+01:00\n",
       "10746   2024-08-31 20:00:00+01:00\n",
       "10747   2024-08-31 21:00:00+01:00\n",
       "10748   2024-08-31 22:00:00+01:00\n",
       "10749   2024-08-31 23:00:00+01:00\n",
       "Name: Timestamp, Length: 10750, dtype: datetime64[ns, Europe/Dublin]"
      ]
     },
     "execution_count": 23,
     "metadata": {},
     "output_type": "execute_result"
    }
   ],
   "source": [
    "pd.to_datetime(df1['Timestamp'], format='%d-%m-%Y %H:%M').dt.tz_localize('Europe/Dublin', ambiguous='NaT', nonexistent='NaT')\n"
   ]
  },
  {
   "cell_type": "code",
   "execution_count": 24,
   "id": "c0f3d6d5",
   "metadata": {},
   "outputs": [
    {
     "data": {
      "application/javascript": "\n        if (window._pyforest_update_imports_cell) { window._pyforest_update_imports_cell('import pandas as pd\\nimport numpy as np'); }\n    ",
      "text/plain": [
       "<IPython.core.display.Javascript object>"
      ]
     },
     "metadata": {},
     "output_type": "display_data"
    },
    {
     "data": {
      "text/plain": [
       "0       2023-01-01 00:00:00+00:00\n",
       "1       2023-01-01 01:00:00+00:00\n",
       "2       2023-01-01 02:00:00+00:00\n",
       "3       2023-01-01 03:00:00+00:00\n",
       "4       2023-01-01 04:00:00+00:00\n",
       "                   ...           \n",
       "10745   2024-08-31 19:00:00+01:00\n",
       "10746   2024-08-31 20:00:00+01:00\n",
       "10747   2024-08-31 21:00:00+01:00\n",
       "10748   2024-08-31 22:00:00+01:00\n",
       "10749   2024-08-31 23:00:00+01:00\n",
       "Name: Timestamp, Length: 10750, dtype: datetime64[ns, Europe/Dublin]"
      ]
     },
     "execution_count": 24,
     "metadata": {},
     "output_type": "execute_result"
    }
   ],
   "source": [
    "df1['Timestamp'] = pd.to_datetime(df1['Timestamp'], format='%d-%m-%Y %H:%M')\n",
    "\n",
    "# Localize to Europe/Dublin (Irish timezone with DST support)\n",
    "df1['Timestamp'] = df1['Timestamp'].dt.tz_localize('Europe/Dublin', ambiguous='NaT', nonexistent='NaT')\n",
    "\n",
    "df1['Timestamp']"
   ]
  },
  {
   "cell_type": "code",
   "execution_count": 25,
   "id": "9eebb00a",
   "metadata": {},
   "outputs": [
    {
     "data": {
      "application/javascript": "\n        if (window._pyforest_update_imports_cell) { window._pyforest_update_imports_cell('import pandas as pd\\nimport numpy as np'); }\n    ",
      "text/plain": [
       "<IPython.core.display.Javascript object>"
      ]
     },
     "metadata": {},
     "output_type": "display_data"
    },
    {
     "data": {
      "text/plain": [
       "0       2023-01-01 00:00:00+00:00\n",
       "1       2023-01-01 01:00:00+00:00\n",
       "2       2023-01-01 02:00:00+00:00\n",
       "3       2023-01-01 03:00:00+00:00\n",
       "4       2023-01-01 04:00:00+00:00\n",
       "                   ...           \n",
       "12713   2024-07-31 19:00:00+01:00\n",
       "12714   2024-07-31 20:00:00+01:00\n",
       "12715   2024-07-31 21:00:00+01:00\n",
       "12716   2024-07-31 22:00:00+01:00\n",
       "12717   2024-07-31 23:00:00+01:00\n",
       "Name: Timestamp, Length: 12718, dtype: datetime64[ns, Europe/Dublin]"
      ]
     },
     "execution_count": 25,
     "metadata": {},
     "output_type": "execute_result"
    }
   ],
   "source": [
    "df2['Timestamp'] = pd.to_datetime(df2['Timestamp'], format='%d-%m-%Y %H:%M').dt.tz_localize('Europe/Dublin', ambiguous='NaT', nonexistent='NaT')\n",
    "\n",
    "df2['Timestamp']"
   ]
  },
  {
   "cell_type": "code",
   "execution_count": 26,
   "id": "20830ca4",
   "metadata": {},
   "outputs": [
    {
     "data": {
      "application/javascript": "\n        if (window._pyforest_update_imports_cell) { window._pyforest_update_imports_cell('import pandas as pd\\nimport numpy as np'); }\n    ",
      "text/plain": [
       "<IPython.core.display.Javascript object>"
      ]
     },
     "metadata": {},
     "output_type": "display_data"
    },
    {
     "data": {
      "text/plain": [
       "0      2023-08-06 18:00:00+01:00\n",
       "1      2023-08-06 19:00:00+01:00\n",
       "2      2023-08-06 20:00:00+01:00\n",
       "3      2023-08-06 21:00:00+01:00\n",
       "4      2023-08-06 22:00:00+01:00\n",
       "                  ...           \n",
       "7079   2024-06-30 19:00:00+01:00\n",
       "7080   2024-06-30 20:00:00+01:00\n",
       "7081   2024-06-30 21:00:00+01:00\n",
       "7082   2024-06-30 22:00:00+01:00\n",
       "7083   2024-06-30 23:00:00+01:00\n",
       "Name: Timestamp, Length: 7084, dtype: datetime64[ns, Europe/Dublin]"
      ]
     },
     "execution_count": 26,
     "metadata": {},
     "output_type": "execute_result"
    }
   ],
   "source": [
    "df3['Timestamp'] = pd.to_datetime(df3['Timestamp'], format='%d-%m-%Y %H:%M').dt.tz_localize('Europe/Dublin', ambiguous='NaT', nonexistent='NaT')\n",
    "\n",
    "df3['Timestamp']"
   ]
  },
  {
   "cell_type": "code",
   "execution_count": 27,
   "id": "29d475a4",
   "metadata": {},
   "outputs": [
    {
     "data": {
      "application/javascript": "\n        if (window._pyforest_update_imports_cell) { window._pyforest_update_imports_cell('import pandas as pd\\nimport numpy as np'); }\n    ",
      "text/plain": [
       "<IPython.core.display.Javascript object>"
      ]
     },
     "metadata": {},
     "output_type": "display_data"
    },
    {
     "data": {
      "text/plain": [
       "0      2023-08-06 18:00:00+01:00\n",
       "1      2023-08-06 19:00:00+01:00\n",
       "2      2023-08-06 20:00:00+01:00\n",
       "3      2023-08-06 21:00:00+01:00\n",
       "4      2023-08-06 22:00:00+01:00\n",
       "                  ...           \n",
       "7607   2024-06-30 19:00:00+01:00\n",
       "7608   2024-06-30 20:00:00+01:00\n",
       "7609   2024-06-30 21:00:00+01:00\n",
       "7610   2024-06-30 22:00:00+01:00\n",
       "7611   2024-06-30 23:00:00+01:00\n",
       "Name: Timestamp, Length: 7612, dtype: datetime64[ns, Europe/Dublin]"
      ]
     },
     "execution_count": 27,
     "metadata": {},
     "output_type": "execute_result"
    }
   ],
   "source": [
    "df4['Timestamp'] = pd.to_datetime(df4['Timestamp'], format='%d-%m-%Y %H:%M').dt.tz_localize('Europe/Dublin', ambiguous='NaT', nonexistent='NaT')\n",
    "\n",
    "df4['Timestamp']"
   ]
  },
  {
   "cell_type": "code",
   "execution_count": 28,
   "id": "713fc962",
   "metadata": {},
   "outputs": [
    {
     "data": {
      "application/javascript": "\n        if (window._pyforest_update_imports_cell) { window._pyforest_update_imports_cell('import pandas as pd\\nimport numpy as np'); }\n    ",
      "text/plain": [
       "<IPython.core.display.Javascript object>"
      ]
     },
     "metadata": {},
     "output_type": "display_data"
    },
    {
     "data": {
      "text/plain": [
       "0      2023-08-06 18:00:00+01:00\n",
       "1      2023-08-06 19:00:00+01:00\n",
       "2      2023-08-06 20:00:00+01:00\n",
       "3      2023-08-06 21:00:00+01:00\n",
       "4      2023-08-06 22:00:00+01:00\n",
       "                  ...           \n",
       "7559   2024-06-30 19:00:00+01:00\n",
       "7560   2024-06-30 20:00:00+01:00\n",
       "7561   2024-06-30 21:00:00+01:00\n",
       "7562   2024-06-30 22:00:00+01:00\n",
       "7563   2024-06-30 23:00:00+01:00\n",
       "Name: Timestamp, Length: 7564, dtype: datetime64[ns, Europe/Dublin]"
      ]
     },
     "execution_count": 28,
     "metadata": {},
     "output_type": "execute_result"
    }
   ],
   "source": [
    "df5['Timestamp'] = pd.to_datetime(df5['Timestamp'], format='%d-%m-%Y %H:%M').dt.tz_localize('Europe/Dublin', ambiguous='NaT', nonexistent='NaT')\n",
    "\n",
    "df5['Timestamp']"
   ]
  },
  {
   "cell_type": "code",
   "execution_count": 29,
   "id": "2fbb2fb9",
   "metadata": {},
   "outputs": [
    {
     "data": {
      "application/javascript": "\n        if (window._pyforest_update_imports_cell) { window._pyforest_update_imports_cell('import pandas as pd\\nimport numpy as np'); }\n    ",
      "text/plain": [
       "<IPython.core.display.Javascript object>"
      ]
     },
     "metadata": {},
     "output_type": "display_data"
    },
    {
     "data": {
      "text/plain": [
       "0      2023-08-06 18:00:00+01:00\n",
       "1      2023-08-06 19:00:00+01:00\n",
       "2      2023-08-06 20:00:00+01:00\n",
       "3      2023-08-06 21:00:00+01:00\n",
       "4      2023-08-06 22:00:00+01:00\n",
       "                  ...           \n",
       "6215   2024-06-30 19:00:00+01:00\n",
       "6216   2024-06-30 20:00:00+01:00\n",
       "6217   2024-06-30 21:00:00+01:00\n",
       "6218   2024-06-30 22:00:00+01:00\n",
       "6219   2024-06-30 23:00:00+01:00\n",
       "Name: Timestamp, Length: 6220, dtype: datetime64[ns, Europe/Dublin]"
      ]
     },
     "execution_count": 29,
     "metadata": {},
     "output_type": "execute_result"
    }
   ],
   "source": [
    "df6['Timestamp'] = pd.to_datetime(df6['Timestamp'], format='%d-%m-%Y %H:%M').dt.tz_localize('Europe/Dublin', ambiguous='NaT', nonexistent='NaT')\n",
    "\n",
    "df6['Timestamp']"
   ]
  },
  {
   "cell_type": "code",
   "execution_count": 30,
   "id": "3109d8f6",
   "metadata": {},
   "outputs": [
    {
     "data": {
      "application/javascript": "\n        if (window._pyforest_update_imports_cell) { window._pyforest_update_imports_cell('import pandas as pd\\nimport numpy as np'); }\n    ",
      "text/plain": [
       "<IPython.core.display.Javascript object>"
      ]
     },
     "metadata": {},
     "output_type": "display_data"
    }
   ],
   "source": [
    "df1['weekday_iso']=df1['weekday_iso'].astype('category')\n",
    "df1['hour']=df1['hour'].astype('category')\n",
    "df1['school_term']=df1['school_term'].astype('category')\n",
    "df1['rain_log1p']=np.log1p(df1['rain'])"
   ]
  },
  {
   "cell_type": "code",
   "execution_count": 31,
   "id": "f1850dd1",
   "metadata": {},
   "outputs": [
    {
     "data": {
      "application/javascript": "\n        if (window._pyforest_update_imports_cell) { window._pyforest_update_imports_cell('import pandas as pd\\nimport numpy as np'); }\n    ",
      "text/plain": [
       "<IPython.core.display.Javascript object>"
      ]
     },
     "metadata": {},
     "output_type": "display_data"
    }
   ],
   "source": [
    "df2['weekday_iso']=df2['weekday_iso'].astype('category')\n",
    "df2['hour']=df2['hour'].astype('category')\n",
    "df2['school_term']=df2['school_term'].astype('category')\n",
    "df2['rain_log1p']=np.log1p(df2['rain'])"
   ]
  },
  {
   "cell_type": "code",
   "execution_count": 32,
   "id": "27238ee2",
   "metadata": {},
   "outputs": [
    {
     "data": {
      "application/javascript": "\n        if (window._pyforest_update_imports_cell) { window._pyforest_update_imports_cell('import pandas as pd\\nimport numpy as np'); }\n    ",
      "text/plain": [
       "<IPython.core.display.Javascript object>"
      ]
     },
     "metadata": {},
     "output_type": "display_data"
    }
   ],
   "source": [
    "df3['weekday_iso']=df3['weekday_iso'].astype('category')\n",
    "df3['hour']=df3['hour'].astype('category')\n",
    "df3['school_term']=df3['school_term'].astype('category')\n",
    "df3['rain_log1p']=np.log1p(df3['rain'])"
   ]
  },
  {
   "cell_type": "code",
   "execution_count": 33,
   "id": "36c26dcb",
   "metadata": {},
   "outputs": [
    {
     "data": {
      "application/javascript": "\n        if (window._pyforest_update_imports_cell) { window._pyforest_update_imports_cell('import pandas as pd\\nimport numpy as np'); }\n    ",
      "text/plain": [
       "<IPython.core.display.Javascript object>"
      ]
     },
     "metadata": {},
     "output_type": "display_data"
    }
   ],
   "source": [
    "df4['weekday_iso']=df4['weekday_iso'].astype('category')\n",
    "df4['hour']=df4['hour'].astype('category')\n",
    "df4['school_term']=df4['school_term'].astype('category')\n",
    "df4['rain_log1p']=np.log1p(df4['rain'])"
   ]
  },
  {
   "cell_type": "code",
   "execution_count": 34,
   "id": "87fe9386",
   "metadata": {},
   "outputs": [
    {
     "data": {
      "application/javascript": "\n        if (window._pyforest_update_imports_cell) { window._pyforest_update_imports_cell('import pandas as pd\\nimport numpy as np'); }\n    ",
      "text/plain": [
       "<IPython.core.display.Javascript object>"
      ]
     },
     "metadata": {},
     "output_type": "display_data"
    }
   ],
   "source": [
    "df5['weekday_iso']=df5['weekday_iso'].astype('category')\n",
    "df5['hour']=df5['hour'].astype('category')\n",
    "df5['school_term']=df5['school_term'].astype('category')\n",
    "df5['rain_log1p']=np.log1p(df5['rain'])"
   ]
  },
  {
   "cell_type": "code",
   "execution_count": 35,
   "id": "fbc404b5",
   "metadata": {},
   "outputs": [
    {
     "data": {
      "application/javascript": "\n        if (window._pyforest_update_imports_cell) { window._pyforest_update_imports_cell('import pandas as pd\\nimport numpy as np'); }\n    ",
      "text/plain": [
       "<IPython.core.display.Javascript object>"
      ]
     },
     "metadata": {},
     "output_type": "display_data"
    }
   ],
   "source": [
    "df6['weekday_iso']=df6['weekday_iso'].astype('category')\n",
    "df6['hour']=df6['hour'].astype('category')\n",
    "df6['school_term']=df6['school_term'].astype('category')\n",
    "df6['rain_log1p']=np.log1p(df6['rain'])"
   ]
  },
  {
   "cell_type": "code",
   "execution_count": 36,
   "id": "21c740f4",
   "metadata": {},
   "outputs": [
    {
     "data": {
      "text/html": [
       "<div>\n",
       "<style scoped>\n",
       "    .dataframe tbody tr th:only-of-type {\n",
       "        vertical-align: middle;\n",
       "    }\n",
       "\n",
       "    .dataframe tbody tr th {\n",
       "        vertical-align: top;\n",
       "    }\n",
       "\n",
       "    .dataframe thead th {\n",
       "        text-align: right;\n",
       "    }\n",
       "</style>\n",
       "<table border=\"1\" class=\"dataframe\">\n",
       "  <thead>\n",
       "    <tr style=\"text-align: right;\">\n",
       "      <th></th>\n",
       "      <th>Unnamed: 0</th>\n",
       "      <th>Timestamp</th>\n",
       "      <th>car_r1</th>\n",
       "      <th>hgv_r1</th>\n",
       "      <th>car_r2</th>\n",
       "      <th>hgv_r2</th>\n",
       "      <th>hour</th>\n",
       "    </tr>\n",
       "  </thead>\n",
       "  <tbody>\n",
       "    <tr>\n",
       "      <th>17539</th>\n",
       "      <td>17539</td>\n",
       "      <td>2024-12-31 19:00:00+00:00</td>\n",
       "      <td>360.0</td>\n",
       "      <td>16.0</td>\n",
       "      <td>1159.0</td>\n",
       "      <td>18.0</td>\n",
       "      <td>19</td>\n",
       "    </tr>\n",
       "    <tr>\n",
       "      <th>17540</th>\n",
       "      <td>17540</td>\n",
       "      <td>2024-12-31 20:00:00+00:00</td>\n",
       "      <td>336.0</td>\n",
       "      <td>15.0</td>\n",
       "      <td>927.0</td>\n",
       "      <td>16.0</td>\n",
       "      <td>20</td>\n",
       "    </tr>\n",
       "    <tr>\n",
       "      <th>17541</th>\n",
       "      <td>17541</td>\n",
       "      <td>2024-12-31 21:00:00+00:00</td>\n",
       "      <td>223.0</td>\n",
       "      <td>12.0</td>\n",
       "      <td>648.0</td>\n",
       "      <td>14.0</td>\n",
       "      <td>21</td>\n",
       "    </tr>\n",
       "    <tr>\n",
       "      <th>17542</th>\n",
       "      <td>17542</td>\n",
       "      <td>2024-12-31 22:00:00+00:00</td>\n",
       "      <td>159.0</td>\n",
       "      <td>11.0</td>\n",
       "      <td>481.0</td>\n",
       "      <td>12.0</td>\n",
       "      <td>22</td>\n",
       "    </tr>\n",
       "    <tr>\n",
       "      <th>17543</th>\n",
       "      <td>17543</td>\n",
       "      <td>2024-12-31 23:00:00+00:00</td>\n",
       "      <td>116.0</td>\n",
       "      <td>13.0</td>\n",
       "      <td>375.0</td>\n",
       "      <td>13.0</td>\n",
       "      <td>23</td>\n",
       "    </tr>\n",
       "  </tbody>\n",
       "</table>\n",
       "</div>"
      ],
      "text/plain": [
       "       Unnamed: 0                 Timestamp  car_r1  hgv_r1  car_r2  hgv_r2  \\\n",
       "17539       17539 2024-12-31 19:00:00+00:00   360.0    16.0  1159.0    18.0   \n",
       "17540       17540 2024-12-31 20:00:00+00:00   336.0    15.0   927.0    16.0   \n",
       "17541       17541 2024-12-31 21:00:00+00:00   223.0    12.0   648.0    14.0   \n",
       "17542       17542 2024-12-31 22:00:00+00:00   159.0    11.0   481.0    12.0   \n",
       "17543       17543 2024-12-31 23:00:00+00:00   116.0    13.0   375.0    13.0   \n",
       "\n",
       "       hour  \n",
       "17539    19  \n",
       "17540    20  \n",
       "17541    21  \n",
       "17542    22  \n",
       "17543    23  "
      ]
     },
     "execution_count": 36,
     "metadata": {},
     "output_type": "execute_result"
    }
   ],
   "source": [
    "traffic.tail()"
   ]
  },
  {
   "cell_type": "code",
   "execution_count": 37,
   "id": "1572772d",
   "metadata": {},
   "outputs": [
    {
     "data": {
      "text/html": [
       "<div>\n",
       "<style scoped>\n",
       "    .dataframe tbody tr th:only-of-type {\n",
       "        vertical-align: middle;\n",
       "    }\n",
       "\n",
       "    .dataframe tbody tr th {\n",
       "        vertical-align: top;\n",
       "    }\n",
       "\n",
       "    .dataframe thead th {\n",
       "        text-align: right;\n",
       "    }\n",
       "</style>\n",
       "<table border=\"1\" class=\"dataframe\">\n",
       "  <thead>\n",
       "    <tr style=\"text-align: right;\">\n",
       "      <th></th>\n",
       "      <th>Timestamp</th>\n",
       "      <th>rain</th>\n",
       "      <th>temp</th>\n",
       "      <th>rhum</th>\n",
       "      <th>msl</th>\n",
       "      <th>wdsp</th>\n",
       "      <th>vis</th>\n",
       "      <th>clht</th>\n",
       "      <th>clamt</th>\n",
       "      <th>NO2</th>\n",
       "      <th>hour</th>\n",
       "      <th>school_term</th>\n",
       "      <th>weekday_iso</th>\n",
       "      <th>wddir_sin</th>\n",
       "      <th>wddir_cos</th>\n",
       "      <th>day_of_year</th>\n",
       "      <th>rain_log1p</th>\n",
       "    </tr>\n",
       "  </thead>\n",
       "  <tbody>\n",
       "    <tr>\n",
       "      <th>10745</th>\n",
       "      <td>2024-08-31 19:00:00+01:00</td>\n",
       "      <td>0.0</td>\n",
       "      <td>14.8</td>\n",
       "      <td>88</td>\n",
       "      <td>1019.5</td>\n",
       "      <td>12</td>\n",
       "      <td>15000</td>\n",
       "      <td>10</td>\n",
       "      <td>7</td>\n",
       "      <td>26.34</td>\n",
       "      <td>19</td>\n",
       "      <td>0</td>\n",
       "      <td>6</td>\n",
       "      <td>0.866025</td>\n",
       "      <td>-0.500000</td>\n",
       "      <td>244</td>\n",
       "      <td>0.0</td>\n",
       "    </tr>\n",
       "    <tr>\n",
       "      <th>10746</th>\n",
       "      <td>2024-08-31 20:00:00+01:00</td>\n",
       "      <td>0.0</td>\n",
       "      <td>14.5</td>\n",
       "      <td>89</td>\n",
       "      <td>1019.3</td>\n",
       "      <td>10</td>\n",
       "      <td>10000</td>\n",
       "      <td>8</td>\n",
       "      <td>7</td>\n",
       "      <td>43.03</td>\n",
       "      <td>20</td>\n",
       "      <td>0</td>\n",
       "      <td>6</td>\n",
       "      <td>0.866025</td>\n",
       "      <td>-0.500000</td>\n",
       "      <td>244</td>\n",
       "      <td>0.0</td>\n",
       "    </tr>\n",
       "    <tr>\n",
       "      <th>10747</th>\n",
       "      <td>2024-08-31 21:00:00+01:00</td>\n",
       "      <td>0.0</td>\n",
       "      <td>13.7</td>\n",
       "      <td>93</td>\n",
       "      <td>1019.0</td>\n",
       "      <td>8</td>\n",
       "      <td>6000</td>\n",
       "      <td>9</td>\n",
       "      <td>7</td>\n",
       "      <td>32.19</td>\n",
       "      <td>21</td>\n",
       "      <td>0</td>\n",
       "      <td>6</td>\n",
       "      <td>0.984808</td>\n",
       "      <td>0.173648</td>\n",
       "      <td>244</td>\n",
       "      <td>0.0</td>\n",
       "    </tr>\n",
       "    <tr>\n",
       "      <th>10748</th>\n",
       "      <td>2024-08-31 22:00:00+01:00</td>\n",
       "      <td>0.0</td>\n",
       "      <td>13.3</td>\n",
       "      <td>94</td>\n",
       "      <td>1019.0</td>\n",
       "      <td>7</td>\n",
       "      <td>7000</td>\n",
       "      <td>33</td>\n",
       "      <td>5</td>\n",
       "      <td>39.45</td>\n",
       "      <td>22</td>\n",
       "      <td>0</td>\n",
       "      <td>6</td>\n",
       "      <td>0.984808</td>\n",
       "      <td>0.173648</td>\n",
       "      <td>244</td>\n",
       "      <td>0.0</td>\n",
       "    </tr>\n",
       "    <tr>\n",
       "      <th>10749</th>\n",
       "      <td>2024-08-31 23:00:00+01:00</td>\n",
       "      <td>0.0</td>\n",
       "      <td>13.4</td>\n",
       "      <td>95</td>\n",
       "      <td>1018.5</td>\n",
       "      <td>7</td>\n",
       "      <td>7000</td>\n",
       "      <td>999</td>\n",
       "      <td>3</td>\n",
       "      <td>35.82</td>\n",
       "      <td>23</td>\n",
       "      <td>0</td>\n",
       "      <td>6</td>\n",
       "      <td>0.984808</td>\n",
       "      <td>0.173648</td>\n",
       "      <td>244</td>\n",
       "      <td>0.0</td>\n",
       "    </tr>\n",
       "  </tbody>\n",
       "</table>\n",
       "</div>"
      ],
      "text/plain": [
       "                      Timestamp  rain  temp  rhum     msl  wdsp    vis  clht  \\\n",
       "10745 2024-08-31 19:00:00+01:00   0.0  14.8    88  1019.5    12  15000    10   \n",
       "10746 2024-08-31 20:00:00+01:00   0.0  14.5    89  1019.3    10  10000     8   \n",
       "10747 2024-08-31 21:00:00+01:00   0.0  13.7    93  1019.0     8   6000     9   \n",
       "10748 2024-08-31 22:00:00+01:00   0.0  13.3    94  1019.0     7   7000    33   \n",
       "10749 2024-08-31 23:00:00+01:00   0.0  13.4    95  1018.5     7   7000   999   \n",
       "\n",
       "       clamt    NO2 hour school_term weekday_iso  wddir_sin  wddir_cos  \\\n",
       "10745      7  26.34   19           0           6   0.866025  -0.500000   \n",
       "10746      7  43.03   20           0           6   0.866025  -0.500000   \n",
       "10747      7  32.19   21           0           6   0.984808   0.173648   \n",
       "10748      5  39.45   22           0           6   0.984808   0.173648   \n",
       "10749      3  35.82   23           0           6   0.984808   0.173648   \n",
       "\n",
       "       day_of_year  rain_log1p  \n",
       "10745          244         0.0  \n",
       "10746          244         0.0  \n",
       "10747          244         0.0  \n",
       "10748          244         0.0  \n",
       "10749          244         0.0  "
      ]
     },
     "execution_count": 37,
     "metadata": {},
     "output_type": "execute_result"
    }
   ],
   "source": [
    "df1.tail()"
   ]
  },
  {
   "cell_type": "code",
   "execution_count": 38,
   "id": "e3c247f0",
   "metadata": {},
   "outputs": [
    {
     "data": {
      "application/javascript": "\n        if (window._pyforest_update_imports_cell) { window._pyforest_update_imports_cell('import pandas as pd\\nimport numpy as np'); }\n    ",
      "text/plain": [
       "<IPython.core.display.Javascript object>"
      ]
     },
     "metadata": {},
     "output_type": "display_data"
    },
    {
     "data": {
      "application/javascript": "\n        if (window._pyforest_update_imports_cell) { window._pyforest_update_imports_cell('import pandas as pd\\nimport numpy as np'); }\n    ",
      "text/plain": [
       "<IPython.core.display.Javascript object>"
      ]
     },
     "metadata": {},
     "output_type": "display_data"
    },
    {
     "data": {
      "application/javascript": "\n        if (window._pyforest_update_imports_cell) { window._pyforest_update_imports_cell('import pandas as pd\\nimport numpy as np'); }\n    ",
      "text/plain": [
       "<IPython.core.display.Javascript object>"
      ]
     },
     "metadata": {},
     "output_type": "display_data"
    },
    {
     "name": "stderr",
     "output_type": "stream",
     "text": [
      "C:\\Users\\ADMIN\\AppData\\Local\\Temp\\ipykernel_1320704\\2480900331.py:3: FutureWarning: Passing 'suffixes' which cause duplicate columns {'hour_x'} in the result is deprecated and will raise a MergeError in a future version.\n",
      "  trial=pd.merge(trial, traffic3, on='Timestamp', how='left')\n"
     ]
    },
    {
     "data": {
      "text/html": [
       "<div>\n",
       "<style scoped>\n",
       "    .dataframe tbody tr th:only-of-type {\n",
       "        vertical-align: middle;\n",
       "    }\n",
       "\n",
       "    .dataframe tbody tr th {\n",
       "        vertical-align: top;\n",
       "    }\n",
       "\n",
       "    .dataframe thead th {\n",
       "        text-align: right;\n",
       "    }\n",
       "</style>\n",
       "<table border=\"1\" class=\"dataframe\">\n",
       "  <thead>\n",
       "    <tr style=\"text-align: right;\">\n",
       "      <th></th>\n",
       "      <th>Timestamp</th>\n",
       "      <th>rain</th>\n",
       "      <th>temp</th>\n",
       "      <th>rhum</th>\n",
       "      <th>msl</th>\n",
       "      <th>wdsp</th>\n",
       "      <th>vis</th>\n",
       "      <th>clht</th>\n",
       "      <th>clamt</th>\n",
       "      <th>NO2</th>\n",
       "      <th>...</th>\n",
       "      <th>hgv_r1</th>\n",
       "      <th>car_r2</th>\n",
       "      <th>hgv_r2</th>\n",
       "      <th>hour_y</th>\n",
       "      <th>car_r3</th>\n",
       "      <th>hgv_r3</th>\n",
       "      <th>hour_x</th>\n",
       "      <th>car_r4</th>\n",
       "      <th>hgv_r4</th>\n",
       "      <th>hour_y</th>\n",
       "    </tr>\n",
       "  </thead>\n",
       "  <tbody>\n",
       "    <tr>\n",
       "      <th>10745</th>\n",
       "      <td>2024-08-31 19:00:00+01:00</td>\n",
       "      <td>0.0</td>\n",
       "      <td>14.8</td>\n",
       "      <td>88</td>\n",
       "      <td>1019.5</td>\n",
       "      <td>12</td>\n",
       "      <td>15000</td>\n",
       "      <td>10</td>\n",
       "      <td>7</td>\n",
       "      <td>26.34</td>\n",
       "      <td>...</td>\n",
       "      <td>27.0</td>\n",
       "      <td>1624.0</td>\n",
       "      <td>28.0</td>\n",
       "      <td>19</td>\n",
       "      <td>1504.0</td>\n",
       "      <td>101.0</td>\n",
       "      <td>19</td>\n",
       "      <td>978</td>\n",
       "      <td>59</td>\n",
       "      <td>19</td>\n",
       "    </tr>\n",
       "    <tr>\n",
       "      <th>10746</th>\n",
       "      <td>2024-08-31 20:00:00+01:00</td>\n",
       "      <td>0.0</td>\n",
       "      <td>14.5</td>\n",
       "      <td>89</td>\n",
       "      <td>1019.3</td>\n",
       "      <td>10</td>\n",
       "      <td>10000</td>\n",
       "      <td>8</td>\n",
       "      <td>7</td>\n",
       "      <td>43.03</td>\n",
       "      <td>...</td>\n",
       "      <td>19.0</td>\n",
       "      <td>1199.0</td>\n",
       "      <td>23.0</td>\n",
       "      <td>20</td>\n",
       "      <td>1109.0</td>\n",
       "      <td>84.0</td>\n",
       "      <td>20</td>\n",
       "      <td>859</td>\n",
       "      <td>57</td>\n",
       "      <td>20</td>\n",
       "    </tr>\n",
       "    <tr>\n",
       "      <th>10747</th>\n",
       "      <td>2024-08-31 21:00:00+01:00</td>\n",
       "      <td>0.0</td>\n",
       "      <td>13.7</td>\n",
       "      <td>93</td>\n",
       "      <td>1019.0</td>\n",
       "      <td>8</td>\n",
       "      <td>6000</td>\n",
       "      <td>9</td>\n",
       "      <td>7</td>\n",
       "      <td>32.19</td>\n",
       "      <td>...</td>\n",
       "      <td>15.0</td>\n",
       "      <td>878.0</td>\n",
       "      <td>18.0</td>\n",
       "      <td>21</td>\n",
       "      <td>836.0</td>\n",
       "      <td>48.0</td>\n",
       "      <td>21</td>\n",
       "      <td>531</td>\n",
       "      <td>45</td>\n",
       "      <td>21</td>\n",
       "    </tr>\n",
       "    <tr>\n",
       "      <th>10748</th>\n",
       "      <td>2024-08-31 22:00:00+01:00</td>\n",
       "      <td>0.0</td>\n",
       "      <td>13.3</td>\n",
       "      <td>94</td>\n",
       "      <td>1019.0</td>\n",
       "      <td>7</td>\n",
       "      <td>7000</td>\n",
       "      <td>33</td>\n",
       "      <td>5</td>\n",
       "      <td>39.45</td>\n",
       "      <td>...</td>\n",
       "      <td>16.0</td>\n",
       "      <td>701.0</td>\n",
       "      <td>22.0</td>\n",
       "      <td>22</td>\n",
       "      <td>680.0</td>\n",
       "      <td>37.0</td>\n",
       "      <td>22</td>\n",
       "      <td>361</td>\n",
       "      <td>32</td>\n",
       "      <td>22</td>\n",
       "    </tr>\n",
       "    <tr>\n",
       "      <th>10749</th>\n",
       "      <td>2024-08-31 23:00:00+01:00</td>\n",
       "      <td>0.0</td>\n",
       "      <td>13.4</td>\n",
       "      <td>95</td>\n",
       "      <td>1018.5</td>\n",
       "      <td>7</td>\n",
       "      <td>7000</td>\n",
       "      <td>999</td>\n",
       "      <td>3</td>\n",
       "      <td>35.82</td>\n",
       "      <td>...</td>\n",
       "      <td>10.0</td>\n",
       "      <td>562.0</td>\n",
       "      <td>15.0</td>\n",
       "      <td>23</td>\n",
       "      <td>503.0</td>\n",
       "      <td>32.0</td>\n",
       "      <td>23</td>\n",
       "      <td>335</td>\n",
       "      <td>20</td>\n",
       "      <td>23</td>\n",
       "    </tr>\n",
       "  </tbody>\n",
       "</table>\n",
       "<p>5 rows × 29 columns</p>\n",
       "</div>"
      ],
      "text/plain": [
       "                      Timestamp  rain  temp  rhum     msl  wdsp    vis  clht  \\\n",
       "10745 2024-08-31 19:00:00+01:00   0.0  14.8    88  1019.5    12  15000    10   \n",
       "10746 2024-08-31 20:00:00+01:00   0.0  14.5    89  1019.3    10  10000     8   \n",
       "10747 2024-08-31 21:00:00+01:00   0.0  13.7    93  1019.0     8   6000     9   \n",
       "10748 2024-08-31 22:00:00+01:00   0.0  13.3    94  1019.0     7   7000    33   \n",
       "10749 2024-08-31 23:00:00+01:00   0.0  13.4    95  1018.5     7   7000   999   \n",
       "\n",
       "       clamt    NO2  ... hgv_r1  car_r2 hgv_r2  hour_y  car_r3  hgv_r3  \\\n",
       "10745      7  26.34  ...   27.0  1624.0   28.0      19  1504.0   101.0   \n",
       "10746      7  43.03  ...   19.0  1199.0   23.0      20  1109.0    84.0   \n",
       "10747      7  32.19  ...   15.0   878.0   18.0      21   836.0    48.0   \n",
       "10748      5  39.45  ...   16.0   701.0   22.0      22   680.0    37.0   \n",
       "10749      3  35.82  ...   10.0   562.0   15.0      23   503.0    32.0   \n",
       "\n",
       "       hour_x  car_r4  hgv_r4  hour_y  \n",
       "10745      19     978      59      19  \n",
       "10746      20     859      57      20  \n",
       "10747      21     531      45      21  \n",
       "10748      22     361      32      22  \n",
       "10749      23     335      20      23  \n",
       "\n",
       "[5 rows x 29 columns]"
      ]
     },
     "execution_count": 38,
     "metadata": {},
     "output_type": "execute_result"
    }
   ],
   "source": [
    "trial=pd.merge(df1, traffic, on='Timestamp', how='left')\n",
    "trial=pd.merge(trial, traffic2, on='Timestamp', how='left')\n",
    "trial=pd.merge(trial, traffic3, on='Timestamp', how='left')\n",
    "trial.tail()"
   ]
  },
  {
   "cell_type": "code",
   "execution_count": 39,
   "id": "7675e8ef",
   "metadata": {},
   "outputs": [
    {
     "data": {
      "text/html": [
       "<div>\n",
       "<style scoped>\n",
       "    .dataframe tbody tr th:only-of-type {\n",
       "        vertical-align: middle;\n",
       "    }\n",
       "\n",
       "    .dataframe tbody tr th {\n",
       "        vertical-align: top;\n",
       "    }\n",
       "\n",
       "    .dataframe thead th {\n",
       "        text-align: right;\n",
       "    }\n",
       "</style>\n",
       "<table border=\"1\" class=\"dataframe\">\n",
       "  <thead>\n",
       "    <tr style=\"text-align: right;\">\n",
       "      <th></th>\n",
       "      <th>Timestamp</th>\n",
       "      <th>rain</th>\n",
       "      <th>temp</th>\n",
       "      <th>rhum</th>\n",
       "      <th>msl</th>\n",
       "      <th>wdsp</th>\n",
       "      <th>vis</th>\n",
       "      <th>clht</th>\n",
       "      <th>clamt</th>\n",
       "      <th>NO2</th>\n",
       "      <th>...</th>\n",
       "      <th>hgv_r1</th>\n",
       "      <th>car_r2</th>\n",
       "      <th>hgv_r2</th>\n",
       "      <th>hour_y</th>\n",
       "      <th>car_r3</th>\n",
       "      <th>hgv_r3</th>\n",
       "      <th>hour_x</th>\n",
       "      <th>car_r4</th>\n",
       "      <th>hgv_r4</th>\n",
       "      <th>hour_y</th>\n",
       "    </tr>\n",
       "  </thead>\n",
       "  <tbody>\n",
       "  </tbody>\n",
       "</table>\n",
       "<p>0 rows × 29 columns</p>\n",
       "</div>"
      ],
      "text/plain": [
       "Empty DataFrame\n",
       "Columns: [Timestamp, rain, temp, rhum, msl, wdsp, vis, clht, clamt, NO2, hour_x, school_term, weekday_iso, wddir_sin, wddir_cos, day_of_year, rain_log1p, Unnamed: 0, car_r1, hgv_r1, car_r2, hgv_r2, hour_y, car_r3, hgv_r3, hour_x, car_r4, hgv_r4, hour_y]\n",
       "Index: []\n",
       "\n",
       "[0 rows x 29 columns]"
      ]
     },
     "execution_count": 39,
     "metadata": {},
     "output_type": "execute_result"
    }
   ],
   "source": [
    "trial[trial['car_r3'].isna()]"
   ]
  },
  {
   "cell_type": "code",
   "execution_count": 40,
   "id": "e92b74ce",
   "metadata": {},
   "outputs": [
    {
     "data": {
      "application/javascript": "\n        if (window._pyforest_update_imports_cell) { window._pyforest_update_imports_cell('import pandas as pd\\nimport numpy as np'); }\n    ",
      "text/plain": [
       "<IPython.core.display.Javascript object>"
      ]
     },
     "metadata": {},
     "output_type": "display_data"
    },
    {
     "data": {
      "application/javascript": "\n        if (window._pyforest_update_imports_cell) { window._pyforest_update_imports_cell('import pandas as pd\\nimport numpy as np'); }\n    ",
      "text/plain": [
       "<IPython.core.display.Javascript object>"
      ]
     },
     "metadata": {},
     "output_type": "display_data"
    },
    {
     "data": {
      "application/javascript": "\n        if (window._pyforest_update_imports_cell) { window._pyforest_update_imports_cell('import pandas as pd\\nimport numpy as np'); }\n    ",
      "text/plain": [
       "<IPython.core.display.Javascript object>"
      ]
     },
     "metadata": {},
     "output_type": "display_data"
    },
    {
     "name": "stderr",
     "output_type": "stream",
     "text": [
      "C:\\Users\\ADMIN\\AppData\\Local\\Temp\\ipykernel_1320704\\639302902.py:3: FutureWarning: Passing 'suffixes' which cause duplicate columns {'hour_x'} in the result is deprecated and will raise a MergeError in a future version.\n",
      "  df1=pd.merge(df1, traffic3, on='Timestamp', how='left')\n"
     ]
    },
    {
     "data": {
      "application/javascript": "\n        if (window._pyforest_update_imports_cell) { window._pyforest_update_imports_cell('import pandas as pd\\nimport numpy as np'); }\n    ",
      "text/plain": [
       "<IPython.core.display.Javascript object>"
      ]
     },
     "metadata": {},
     "output_type": "display_data"
    },
    {
     "data": {
      "application/javascript": "\n        if (window._pyforest_update_imports_cell) { window._pyforest_update_imports_cell('import pandas as pd\\nimport numpy as np'); }\n    ",
      "text/plain": [
       "<IPython.core.display.Javascript object>"
      ]
     },
     "metadata": {},
     "output_type": "display_data"
    },
    {
     "data": {
      "application/javascript": "\n        if (window._pyforest_update_imports_cell) { window._pyforest_update_imports_cell('import pandas as pd\\nimport numpy as np'); }\n    ",
      "text/plain": [
       "<IPython.core.display.Javascript object>"
      ]
     },
     "metadata": {},
     "output_type": "display_data"
    },
    {
     "name": "stderr",
     "output_type": "stream",
     "text": [
      "C:\\Users\\ADMIN\\AppData\\Local\\Temp\\ipykernel_1320704\\639302902.py:7: FutureWarning: Passing 'suffixes' which cause duplicate columns {'hour_x'} in the result is deprecated and will raise a MergeError in a future version.\n",
      "  df2=pd.merge(df2, traffic3, on='Timestamp', how='left')\n"
     ]
    },
    {
     "data": {
      "application/javascript": "\n        if (window._pyforest_update_imports_cell) { window._pyforest_update_imports_cell('import pandas as pd\\nimport numpy as np'); }\n    ",
      "text/plain": [
       "<IPython.core.display.Javascript object>"
      ]
     },
     "metadata": {},
     "output_type": "display_data"
    },
    {
     "data": {
      "application/javascript": "\n        if (window._pyforest_update_imports_cell) { window._pyforest_update_imports_cell('import pandas as pd\\nimport numpy as np'); }\n    ",
      "text/plain": [
       "<IPython.core.display.Javascript object>"
      ]
     },
     "metadata": {},
     "output_type": "display_data"
    },
    {
     "data": {
      "application/javascript": "\n        if (window._pyforest_update_imports_cell) { window._pyforest_update_imports_cell('import pandas as pd\\nimport numpy as np'); }\n    ",
      "text/plain": [
       "<IPython.core.display.Javascript object>"
      ]
     },
     "metadata": {},
     "output_type": "display_data"
    },
    {
     "name": "stderr",
     "output_type": "stream",
     "text": [
      "C:\\Users\\ADMIN\\AppData\\Local\\Temp\\ipykernel_1320704\\639302902.py:11: FutureWarning: Passing 'suffixes' which cause duplicate columns {'hour_x'} in the result is deprecated and will raise a MergeError in a future version.\n",
      "  df3=pd.merge(df3, traffic3, on='Timestamp', how='left')\n"
     ]
    },
    {
     "data": {
      "application/javascript": "\n        if (window._pyforest_update_imports_cell) { window._pyforest_update_imports_cell('import pandas as pd\\nimport numpy as np'); }\n    ",
      "text/plain": [
       "<IPython.core.display.Javascript object>"
      ]
     },
     "metadata": {},
     "output_type": "display_data"
    },
    {
     "data": {
      "application/javascript": "\n        if (window._pyforest_update_imports_cell) { window._pyforest_update_imports_cell('import pandas as pd\\nimport numpy as np'); }\n    ",
      "text/plain": [
       "<IPython.core.display.Javascript object>"
      ]
     },
     "metadata": {},
     "output_type": "display_data"
    },
    {
     "data": {
      "application/javascript": "\n        if (window._pyforest_update_imports_cell) { window._pyforest_update_imports_cell('import pandas as pd\\nimport numpy as np'); }\n    ",
      "text/plain": [
       "<IPython.core.display.Javascript object>"
      ]
     },
     "metadata": {},
     "output_type": "display_data"
    },
    {
     "name": "stderr",
     "output_type": "stream",
     "text": [
      "C:\\Users\\ADMIN\\AppData\\Local\\Temp\\ipykernel_1320704\\639302902.py:15: FutureWarning: Passing 'suffixes' which cause duplicate columns {'hour_x'} in the result is deprecated and will raise a MergeError in a future version.\n",
      "  df4=pd.merge(df4, traffic3, on='Timestamp', how='left')\n"
     ]
    },
    {
     "data": {
      "application/javascript": "\n        if (window._pyforest_update_imports_cell) { window._pyforest_update_imports_cell('import pandas as pd\\nimport numpy as np'); }\n    ",
      "text/plain": [
       "<IPython.core.display.Javascript object>"
      ]
     },
     "metadata": {},
     "output_type": "display_data"
    },
    {
     "data": {
      "application/javascript": "\n        if (window._pyforest_update_imports_cell) { window._pyforest_update_imports_cell('import pandas as pd\\nimport numpy as np'); }\n    ",
      "text/plain": [
       "<IPython.core.display.Javascript object>"
      ]
     },
     "metadata": {},
     "output_type": "display_data"
    },
    {
     "data": {
      "application/javascript": "\n        if (window._pyforest_update_imports_cell) { window._pyforest_update_imports_cell('import pandas as pd\\nimport numpy as np'); }\n    ",
      "text/plain": [
       "<IPython.core.display.Javascript object>"
      ]
     },
     "metadata": {},
     "output_type": "display_data"
    },
    {
     "name": "stderr",
     "output_type": "stream",
     "text": [
      "C:\\Users\\ADMIN\\AppData\\Local\\Temp\\ipykernel_1320704\\639302902.py:19: FutureWarning: Passing 'suffixes' which cause duplicate columns {'hour_x'} in the result is deprecated and will raise a MergeError in a future version.\n",
      "  df5=pd.merge(df5, traffic3, on='Timestamp', how='left')\n"
     ]
    },
    {
     "data": {
      "application/javascript": "\n        if (window._pyforest_update_imports_cell) { window._pyforest_update_imports_cell('import pandas as pd\\nimport numpy as np'); }\n    ",
      "text/plain": [
       "<IPython.core.display.Javascript object>"
      ]
     },
     "metadata": {},
     "output_type": "display_data"
    },
    {
     "data": {
      "application/javascript": "\n        if (window._pyforest_update_imports_cell) { window._pyforest_update_imports_cell('import pandas as pd\\nimport numpy as np'); }\n    ",
      "text/plain": [
       "<IPython.core.display.Javascript object>"
      ]
     },
     "metadata": {},
     "output_type": "display_data"
    },
    {
     "data": {
      "application/javascript": "\n        if (window._pyforest_update_imports_cell) { window._pyforest_update_imports_cell('import pandas as pd\\nimport numpy as np'); }\n    ",
      "text/plain": [
       "<IPython.core.display.Javascript object>"
      ]
     },
     "metadata": {},
     "output_type": "display_data"
    },
    {
     "name": "stderr",
     "output_type": "stream",
     "text": [
      "C:\\Users\\ADMIN\\AppData\\Local\\Temp\\ipykernel_1320704\\639302902.py:23: FutureWarning: Passing 'suffixes' which cause duplicate columns {'hour_x'} in the result is deprecated and will raise a MergeError in a future version.\n",
      "  df6=pd.merge(df6, traffic3, on='Timestamp', how='left')\n"
     ]
    }
   ],
   "source": [
    "df1=pd.merge(df1, traffic, on='Timestamp', how='left')\n",
    "df1=pd.merge(df1, traffic2, on='Timestamp', how='left')\n",
    "df1=pd.merge(df1, traffic3, on='Timestamp', how='left')\n",
    "\n",
    "df2=pd.merge(df2, traffic, on='Timestamp', how='left')\n",
    "df2=pd.merge(df2, traffic2, on='Timestamp', how='left')\n",
    "df2=pd.merge(df2, traffic3, on='Timestamp', how='left')\n",
    "\n",
    "df3=pd.merge(df3, traffic, on='Timestamp', how='left')\n",
    "df3=pd.merge(df3, traffic2, on='Timestamp', how='left')\n",
    "df3=pd.merge(df3, traffic3, on='Timestamp', how='left')\n",
    "\n",
    "df4=pd.merge(df4, traffic, on='Timestamp', how='left')\n",
    "df4=pd.merge(df4, traffic2, on='Timestamp', how='left')\n",
    "df4=pd.merge(df4, traffic3, on='Timestamp', how='left')\n",
    "\n",
    "df5=pd.merge(df5, traffic, on='Timestamp', how='left')\n",
    "df5=pd.merge(df5, traffic2, on='Timestamp', how='left')\n",
    "df5=pd.merge(df5, traffic3, on='Timestamp', how='left')\n",
    "\n",
    "df6=pd.merge(df6, traffic, on='Timestamp', how='left')\n",
    "df6=pd.merge(df6, traffic2, on='Timestamp', how='left')\n",
    "df6=pd.merge(df6, traffic3, on='Timestamp', how='left')"
   ]
  },
  {
   "cell_type": "code",
   "execution_count": 41,
   "id": "629c6419",
   "metadata": {},
   "outputs": [
    {
     "data": {
      "text/html": [
       "<div>\n",
       "<style scoped>\n",
       "    .dataframe tbody tr th:only-of-type {\n",
       "        vertical-align: middle;\n",
       "    }\n",
       "\n",
       "    .dataframe tbody tr th {\n",
       "        vertical-align: top;\n",
       "    }\n",
       "\n",
       "    .dataframe thead th {\n",
       "        text-align: right;\n",
       "    }\n",
       "</style>\n",
       "<table border=\"1\" class=\"dataframe\">\n",
       "  <thead>\n",
       "    <tr style=\"text-align: right;\">\n",
       "      <th></th>\n",
       "      <th>Timestamp</th>\n",
       "      <th>rain</th>\n",
       "      <th>temp</th>\n",
       "      <th>rhum</th>\n",
       "      <th>msl</th>\n",
       "      <th>wdsp</th>\n",
       "      <th>vis</th>\n",
       "      <th>clht</th>\n",
       "      <th>clamt</th>\n",
       "      <th>NO2</th>\n",
       "      <th>...</th>\n",
       "      <th>hgv_r1</th>\n",
       "      <th>car_r2</th>\n",
       "      <th>hgv_r2</th>\n",
       "      <th>hour_y</th>\n",
       "      <th>car_r3</th>\n",
       "      <th>hgv_r3</th>\n",
       "      <th>hour_x</th>\n",
       "      <th>car_r4</th>\n",
       "      <th>hgv_r4</th>\n",
       "      <th>hour_y</th>\n",
       "    </tr>\n",
       "  </thead>\n",
       "  <tbody>\n",
       "    <tr>\n",
       "      <th>10745</th>\n",
       "      <td>2024-08-31 19:00:00+01:00</td>\n",
       "      <td>0.0</td>\n",
       "      <td>14.8</td>\n",
       "      <td>88</td>\n",
       "      <td>1019.5</td>\n",
       "      <td>12</td>\n",
       "      <td>15000</td>\n",
       "      <td>10</td>\n",
       "      <td>7</td>\n",
       "      <td>26.34</td>\n",
       "      <td>...</td>\n",
       "      <td>27.0</td>\n",
       "      <td>1624.0</td>\n",
       "      <td>28.0</td>\n",
       "      <td>19</td>\n",
       "      <td>1504.0</td>\n",
       "      <td>101.0</td>\n",
       "      <td>19</td>\n",
       "      <td>978</td>\n",
       "      <td>59</td>\n",
       "      <td>19</td>\n",
       "    </tr>\n",
       "    <tr>\n",
       "      <th>10746</th>\n",
       "      <td>2024-08-31 20:00:00+01:00</td>\n",
       "      <td>0.0</td>\n",
       "      <td>14.5</td>\n",
       "      <td>89</td>\n",
       "      <td>1019.3</td>\n",
       "      <td>10</td>\n",
       "      <td>10000</td>\n",
       "      <td>8</td>\n",
       "      <td>7</td>\n",
       "      <td>43.03</td>\n",
       "      <td>...</td>\n",
       "      <td>19.0</td>\n",
       "      <td>1199.0</td>\n",
       "      <td>23.0</td>\n",
       "      <td>20</td>\n",
       "      <td>1109.0</td>\n",
       "      <td>84.0</td>\n",
       "      <td>20</td>\n",
       "      <td>859</td>\n",
       "      <td>57</td>\n",
       "      <td>20</td>\n",
       "    </tr>\n",
       "    <tr>\n",
       "      <th>10747</th>\n",
       "      <td>2024-08-31 21:00:00+01:00</td>\n",
       "      <td>0.0</td>\n",
       "      <td>13.7</td>\n",
       "      <td>93</td>\n",
       "      <td>1019.0</td>\n",
       "      <td>8</td>\n",
       "      <td>6000</td>\n",
       "      <td>9</td>\n",
       "      <td>7</td>\n",
       "      <td>32.19</td>\n",
       "      <td>...</td>\n",
       "      <td>15.0</td>\n",
       "      <td>878.0</td>\n",
       "      <td>18.0</td>\n",
       "      <td>21</td>\n",
       "      <td>836.0</td>\n",
       "      <td>48.0</td>\n",
       "      <td>21</td>\n",
       "      <td>531</td>\n",
       "      <td>45</td>\n",
       "      <td>21</td>\n",
       "    </tr>\n",
       "    <tr>\n",
       "      <th>10748</th>\n",
       "      <td>2024-08-31 22:00:00+01:00</td>\n",
       "      <td>0.0</td>\n",
       "      <td>13.3</td>\n",
       "      <td>94</td>\n",
       "      <td>1019.0</td>\n",
       "      <td>7</td>\n",
       "      <td>7000</td>\n",
       "      <td>33</td>\n",
       "      <td>5</td>\n",
       "      <td>39.45</td>\n",
       "      <td>...</td>\n",
       "      <td>16.0</td>\n",
       "      <td>701.0</td>\n",
       "      <td>22.0</td>\n",
       "      <td>22</td>\n",
       "      <td>680.0</td>\n",
       "      <td>37.0</td>\n",
       "      <td>22</td>\n",
       "      <td>361</td>\n",
       "      <td>32</td>\n",
       "      <td>22</td>\n",
       "    </tr>\n",
       "    <tr>\n",
       "      <th>10749</th>\n",
       "      <td>2024-08-31 23:00:00+01:00</td>\n",
       "      <td>0.0</td>\n",
       "      <td>13.4</td>\n",
       "      <td>95</td>\n",
       "      <td>1018.5</td>\n",
       "      <td>7</td>\n",
       "      <td>7000</td>\n",
       "      <td>999</td>\n",
       "      <td>3</td>\n",
       "      <td>35.82</td>\n",
       "      <td>...</td>\n",
       "      <td>10.0</td>\n",
       "      <td>562.0</td>\n",
       "      <td>15.0</td>\n",
       "      <td>23</td>\n",
       "      <td>503.0</td>\n",
       "      <td>32.0</td>\n",
       "      <td>23</td>\n",
       "      <td>335</td>\n",
       "      <td>20</td>\n",
       "      <td>23</td>\n",
       "    </tr>\n",
       "  </tbody>\n",
       "</table>\n",
       "<p>5 rows × 29 columns</p>\n",
       "</div>"
      ],
      "text/plain": [
       "                      Timestamp  rain  temp  rhum     msl  wdsp    vis  clht  \\\n",
       "10745 2024-08-31 19:00:00+01:00   0.0  14.8    88  1019.5    12  15000    10   \n",
       "10746 2024-08-31 20:00:00+01:00   0.0  14.5    89  1019.3    10  10000     8   \n",
       "10747 2024-08-31 21:00:00+01:00   0.0  13.7    93  1019.0     8   6000     9   \n",
       "10748 2024-08-31 22:00:00+01:00   0.0  13.3    94  1019.0     7   7000    33   \n",
       "10749 2024-08-31 23:00:00+01:00   0.0  13.4    95  1018.5     7   7000   999   \n",
       "\n",
       "       clamt    NO2  ... hgv_r1  car_r2 hgv_r2  hour_y  car_r3  hgv_r3  \\\n",
       "10745      7  26.34  ...   27.0  1624.0   28.0      19  1504.0   101.0   \n",
       "10746      7  43.03  ...   19.0  1199.0   23.0      20  1109.0    84.0   \n",
       "10747      7  32.19  ...   15.0   878.0   18.0      21   836.0    48.0   \n",
       "10748      5  39.45  ...   16.0   701.0   22.0      22   680.0    37.0   \n",
       "10749      3  35.82  ...   10.0   562.0   15.0      23   503.0    32.0   \n",
       "\n",
       "       hour_x  car_r4  hgv_r4  hour_y  \n",
       "10745      19     978      59      19  \n",
       "10746      20     859      57      20  \n",
       "10747      21     531      45      21  \n",
       "10748      22     361      32      22  \n",
       "10749      23     335      20      23  \n",
       "\n",
       "[5 rows x 29 columns]"
      ]
     },
     "execution_count": 41,
     "metadata": {},
     "output_type": "execute_result"
    }
   ],
   "source": [
    "df1.tail()"
   ]
  },
  {
   "cell_type": "code",
   "execution_count": 42,
   "id": "a41402c9",
   "metadata": {},
   "outputs": [],
   "source": [
    "df1.drop(columns=['hour_y','hour_x'],axis=1, inplace=True)\n",
    "df2.drop(columns=['hour_y','hour_x'],axis=1, inplace=True)\n",
    "df3.drop(columns=['hour_y','hour_x'],axis=1, inplace=True)\n",
    "df4.drop(columns=['hour_y','hour_x'],axis=1, inplace=True)\n",
    "df5.drop(columns=['hour_y','hour_x'],axis=1, inplace=True)\n",
    "df6.drop(columns=['hour_y','hour_x'],axis=1, inplace=True)\n"
   ]
  },
  {
   "cell_type": "code",
   "execution_count": 43,
   "id": "27e393e5",
   "metadata": {},
   "outputs": [
    {
     "data": {
      "text/plain": [
       "Index(['Timestamp', 'rain', 'temp', 'rhum', 'msl', 'wdsp', 'vis', 'clht',\n",
       "       'clamt', 'NO2', 'school_term', 'weekday_iso', 'wddir_sin', 'wddir_cos',\n",
       "       'day_of_year', 'rain_log1p', 'Unnamed: 0', 'car_r1', 'hgv_r1', 'car_r2',\n",
       "       'hgv_r2', 'car_r3', 'hgv_r3', 'car_r4', 'hgv_r4'],\n",
       "      dtype='object')"
      ]
     },
     "execution_count": 43,
     "metadata": {},
     "output_type": "execute_result"
    }
   ],
   "source": [
    "df1.columns"
   ]
  },
  {
   "cell_type": "code",
   "execution_count": 44,
   "id": "0a58dd72",
   "metadata": {},
   "outputs": [],
   "source": [
    "df1.drop(columns=['Unnamed: 0'], axis=1, inplace=True)"
   ]
  },
  {
   "cell_type": "code",
   "execution_count": 45,
   "id": "3dbc3dd8",
   "metadata": {},
   "outputs": [],
   "source": [
    "df6.drop(columns=['Unnamed: 0'], axis=1, inplace=True)\n",
    "df2.drop(columns=['Unnamed: 0'], axis=1, inplace=True)\n",
    "df3.drop(columns=['Unnamed: 0'], axis=1, inplace=True)\n",
    "df4.drop(columns=['Unnamed: 0'], axis=1, inplace=True)\n",
    "df5.drop(columns=['Unnamed: 0'], axis=1, inplace=True)\n"
   ]
  },
  {
   "cell_type": "code",
   "execution_count": 46,
   "id": "5cf1ad11",
   "metadata": {},
   "outputs": [
    {
     "data": {
      "text/plain": [
       "10750"
      ]
     },
     "execution_count": 46,
     "metadata": {},
     "output_type": "execute_result"
    }
   ],
   "source": [
    "len(df1)\n"
   ]
  },
  {
   "cell_type": "code",
   "execution_count": 47,
   "id": "3998afca",
   "metadata": {},
   "outputs": [
    {
     "data": {
      "application/javascript": "\n        if (window._pyforest_update_imports_cell) { window._pyforest_update_imports_cell('import pandas as pd\\nimport numpy as np'); }\n    ",
      "text/plain": [
       "<IPython.core.display.Javascript object>"
      ]
     },
     "metadata": {},
     "output_type": "display_data"
    },
    {
     "data": {
      "application/javascript": "\n        if (window._pyforest_update_imports_cell) { window._pyforest_update_imports_cell('import pandas as pd\\nimport numpy as np'); }\n    ",
      "text/plain": [
       "<IPython.core.display.Javascript object>"
      ]
     },
     "metadata": {},
     "output_type": "display_data"
    },
    {
     "data": {
      "application/javascript": "\n        if (window._pyforest_update_imports_cell) { window._pyforest_update_imports_cell('import pandas as pd\\nimport numpy as np'); }\n    ",
      "text/plain": [
       "<IPython.core.display.Javascript object>"
      ]
     },
     "metadata": {},
     "output_type": "display_data"
    },
    {
     "data": {
      "application/javascript": "\n        if (window._pyforest_update_imports_cell) { window._pyforest_update_imports_cell('import pandas as pd\\nimport numpy as np'); }\n    ",
      "text/plain": [
       "<IPython.core.display.Javascript object>"
      ]
     },
     "metadata": {},
     "output_type": "display_data"
    },
    {
     "data": {
      "application/javascript": "\n        if (window._pyforest_update_imports_cell) { window._pyforest_update_imports_cell('import pandas as pd\\nimport numpy as np'); }\n    ",
      "text/plain": [
       "<IPython.core.display.Javascript object>"
      ]
     },
     "metadata": {},
     "output_type": "display_data"
    },
    {
     "data": {
      "application/javascript": "\n        if (window._pyforest_update_imports_cell) { window._pyforest_update_imports_cell('import pandas as pd\\nimport numpy as np'); }\n    ",
      "text/plain": [
       "<IPython.core.display.Javascript object>"
      ]
     },
     "metadata": {},
     "output_type": "display_data"
    }
   ],
   "source": [
    "df1['clht'] = df1['clht'].replace(999, np.nan)\n",
    "df2['clht'] = df2['clht'].replace(999, np.nan)\n",
    "df3['clht'] = df3['clht'].replace(999, np.nan)\n",
    "df4['clht'] = df4['clht'].replace(999, np.nan)\n",
    "df5['clht'] = df5['clht'].replace(999, np.nan)\n",
    "df6['clht'] = df6['clht'].replace(999, np.nan)\n"
   ]
  },
  {
   "cell_type": "code",
   "execution_count": 48,
   "id": "007590b8",
   "metadata": {},
   "outputs": [],
   "source": [
    "df1['clht'] = df1['clht'].fillna(df1['clht'].median())\n",
    "df2['clht'] = df2['clht'].fillna(df2['clht'].median())\n",
    "df3['clht'] = df3['clht'].fillna(df3['clht'].median())\n",
    "df4['clht'] = df4['clht'].fillna(df4['clht'].median())\n",
    "df5['clht'] = df5['clht'].fillna(df5['clht'].median())\n",
    "df6['clht'] = df6['clht'].fillna(df6['clht'].median())\n"
   ]
  },
  {
   "cell_type": "code",
   "execution_count": 49,
   "id": "9438c5e5",
   "metadata": {},
   "outputs": [
    {
     "data": {
      "text/html": [
       "<div>\n",
       "<style scoped>\n",
       "    .dataframe tbody tr th:only-of-type {\n",
       "        vertical-align: middle;\n",
       "    }\n",
       "\n",
       "    .dataframe tbody tr th {\n",
       "        vertical-align: top;\n",
       "    }\n",
       "\n",
       "    .dataframe thead th {\n",
       "        text-align: right;\n",
       "    }\n",
       "</style>\n",
       "<table border=\"1\" class=\"dataframe\">\n",
       "  <thead>\n",
       "    <tr style=\"text-align: right;\">\n",
       "      <th></th>\n",
       "      <th>Timestamp</th>\n",
       "      <th>rain</th>\n",
       "      <th>temp</th>\n",
       "      <th>rhum</th>\n",
       "      <th>msl</th>\n",
       "      <th>wdsp</th>\n",
       "      <th>vis</th>\n",
       "      <th>clht</th>\n",
       "      <th>clamt</th>\n",
       "      <th>NO2</th>\n",
       "      <th>...</th>\n",
       "      <th>day_of_year</th>\n",
       "      <th>rain_log1p</th>\n",
       "      <th>car_r1</th>\n",
       "      <th>hgv_r1</th>\n",
       "      <th>car_r2</th>\n",
       "      <th>hgv_r2</th>\n",
       "      <th>car_r3</th>\n",
       "      <th>hgv_r3</th>\n",
       "      <th>car_r4</th>\n",
       "      <th>hgv_r4</th>\n",
       "    </tr>\n",
       "  </thead>\n",
       "  <tbody>\n",
       "    <tr>\n",
       "      <th>10745</th>\n",
       "      <td>2024-08-31 19:00:00+01:00</td>\n",
       "      <td>0.0</td>\n",
       "      <td>14.8</td>\n",
       "      <td>88</td>\n",
       "      <td>1019.5</td>\n",
       "      <td>12</td>\n",
       "      <td>15000</td>\n",
       "      <td>10.0</td>\n",
       "      <td>7</td>\n",
       "      <td>26.34</td>\n",
       "      <td>...</td>\n",
       "      <td>244</td>\n",
       "      <td>0.0</td>\n",
       "      <td>418.0</td>\n",
       "      <td>27.0</td>\n",
       "      <td>1624.0</td>\n",
       "      <td>28.0</td>\n",
       "      <td>1504.0</td>\n",
       "      <td>101.0</td>\n",
       "      <td>978</td>\n",
       "      <td>59</td>\n",
       "    </tr>\n",
       "    <tr>\n",
       "      <th>10746</th>\n",
       "      <td>2024-08-31 20:00:00+01:00</td>\n",
       "      <td>0.0</td>\n",
       "      <td>14.5</td>\n",
       "      <td>89</td>\n",
       "      <td>1019.3</td>\n",
       "      <td>10</td>\n",
       "      <td>10000</td>\n",
       "      <td>8.0</td>\n",
       "      <td>7</td>\n",
       "      <td>43.03</td>\n",
       "      <td>...</td>\n",
       "      <td>244</td>\n",
       "      <td>0.0</td>\n",
       "      <td>369.0</td>\n",
       "      <td>19.0</td>\n",
       "      <td>1199.0</td>\n",
       "      <td>23.0</td>\n",
       "      <td>1109.0</td>\n",
       "      <td>84.0</td>\n",
       "      <td>859</td>\n",
       "      <td>57</td>\n",
       "    </tr>\n",
       "    <tr>\n",
       "      <th>10747</th>\n",
       "      <td>2024-08-31 21:00:00+01:00</td>\n",
       "      <td>0.0</td>\n",
       "      <td>13.7</td>\n",
       "      <td>93</td>\n",
       "      <td>1019.0</td>\n",
       "      <td>8</td>\n",
       "      <td>6000</td>\n",
       "      <td>9.0</td>\n",
       "      <td>7</td>\n",
       "      <td>32.19</td>\n",
       "      <td>...</td>\n",
       "      <td>244</td>\n",
       "      <td>0.0</td>\n",
       "      <td>269.0</td>\n",
       "      <td>15.0</td>\n",
       "      <td>878.0</td>\n",
       "      <td>18.0</td>\n",
       "      <td>836.0</td>\n",
       "      <td>48.0</td>\n",
       "      <td>531</td>\n",
       "      <td>45</td>\n",
       "    </tr>\n",
       "    <tr>\n",
       "      <th>10748</th>\n",
       "      <td>2024-08-31 22:00:00+01:00</td>\n",
       "      <td>0.0</td>\n",
       "      <td>13.3</td>\n",
       "      <td>94</td>\n",
       "      <td>1019.0</td>\n",
       "      <td>7</td>\n",
       "      <td>7000</td>\n",
       "      <td>33.0</td>\n",
       "      <td>5</td>\n",
       "      <td>39.45</td>\n",
       "      <td>...</td>\n",
       "      <td>244</td>\n",
       "      <td>0.0</td>\n",
       "      <td>228.0</td>\n",
       "      <td>16.0</td>\n",
       "      <td>701.0</td>\n",
       "      <td>22.0</td>\n",
       "      <td>680.0</td>\n",
       "      <td>37.0</td>\n",
       "      <td>361</td>\n",
       "      <td>32</td>\n",
       "    </tr>\n",
       "    <tr>\n",
       "      <th>10749</th>\n",
       "      <td>2024-08-31 23:00:00+01:00</td>\n",
       "      <td>0.0</td>\n",
       "      <td>13.4</td>\n",
       "      <td>95</td>\n",
       "      <td>1018.5</td>\n",
       "      <td>7</td>\n",
       "      <td>7000</td>\n",
       "      <td>20.0</td>\n",
       "      <td>3</td>\n",
       "      <td>35.82</td>\n",
       "      <td>...</td>\n",
       "      <td>244</td>\n",
       "      <td>0.0</td>\n",
       "      <td>156.0</td>\n",
       "      <td>10.0</td>\n",
       "      <td>562.0</td>\n",
       "      <td>15.0</td>\n",
       "      <td>503.0</td>\n",
       "      <td>32.0</td>\n",
       "      <td>335</td>\n",
       "      <td>20</td>\n",
       "    </tr>\n",
       "  </tbody>\n",
       "</table>\n",
       "<p>5 rows × 24 columns</p>\n",
       "</div>"
      ],
      "text/plain": [
       "                      Timestamp  rain  temp  rhum     msl  wdsp    vis  clht  \\\n",
       "10745 2024-08-31 19:00:00+01:00   0.0  14.8    88  1019.5    12  15000  10.0   \n",
       "10746 2024-08-31 20:00:00+01:00   0.0  14.5    89  1019.3    10  10000   8.0   \n",
       "10747 2024-08-31 21:00:00+01:00   0.0  13.7    93  1019.0     8   6000   9.0   \n",
       "10748 2024-08-31 22:00:00+01:00   0.0  13.3    94  1019.0     7   7000  33.0   \n",
       "10749 2024-08-31 23:00:00+01:00   0.0  13.4    95  1018.5     7   7000  20.0   \n",
       "\n",
       "       clamt    NO2  ... day_of_year rain_log1p  car_r1  hgv_r1  car_r2  \\\n",
       "10745      7  26.34  ...         244        0.0   418.0    27.0  1624.0   \n",
       "10746      7  43.03  ...         244        0.0   369.0    19.0  1199.0   \n",
       "10747      7  32.19  ...         244        0.0   269.0    15.0   878.0   \n",
       "10748      5  39.45  ...         244        0.0   228.0    16.0   701.0   \n",
       "10749      3  35.82  ...         244        0.0   156.0    10.0   562.0   \n",
       "\n",
       "       hgv_r2  car_r3  hgv_r3  car_r4  hgv_r4  \n",
       "10745    28.0  1504.0   101.0     978      59  \n",
       "10746    23.0  1109.0    84.0     859      57  \n",
       "10747    18.0   836.0    48.0     531      45  \n",
       "10748    22.0   680.0    37.0     361      32  \n",
       "10749    15.0   503.0    32.0     335      20  \n",
       "\n",
       "[5 rows x 24 columns]"
      ]
     },
     "execution_count": 49,
     "metadata": {},
     "output_type": "execute_result"
    }
   ],
   "source": [
    "df1.tail()"
   ]
  },
  {
   "cell_type": "code",
   "execution_count": 50,
   "id": "792b907b",
   "metadata": {},
   "outputs": [
    {
     "data": {
      "text/html": [
       "<div>\n",
       "<style scoped>\n",
       "    .dataframe tbody tr th:only-of-type {\n",
       "        vertical-align: middle;\n",
       "    }\n",
       "\n",
       "    .dataframe tbody tr th {\n",
       "        vertical-align: top;\n",
       "    }\n",
       "\n",
       "    .dataframe thead th {\n",
       "        text-align: right;\n",
       "    }\n",
       "</style>\n",
       "<table border=\"1\" class=\"dataframe\">\n",
       "  <thead>\n",
       "    <tr style=\"text-align: right;\">\n",
       "      <th></th>\n",
       "      <th>Timestamp</th>\n",
       "      <th>rain</th>\n",
       "      <th>temp</th>\n",
       "      <th>rhum</th>\n",
       "      <th>msl</th>\n",
       "      <th>wdsp</th>\n",
       "      <th>vis</th>\n",
       "      <th>clht</th>\n",
       "      <th>clamt</th>\n",
       "      <th>NO2</th>\n",
       "      <th>...</th>\n",
       "      <th>day_of_year</th>\n",
       "      <th>rain_log1p</th>\n",
       "      <th>car_r1</th>\n",
       "      <th>hgv_r1</th>\n",
       "      <th>car_r2</th>\n",
       "      <th>hgv_r2</th>\n",
       "      <th>car_r3</th>\n",
       "      <th>hgv_r3</th>\n",
       "      <th>car_r4</th>\n",
       "      <th>hgv_r4</th>\n",
       "    </tr>\n",
       "  </thead>\n",
       "  <tbody>\n",
       "  </tbody>\n",
       "</table>\n",
       "<p>0 rows × 24 columns</p>\n",
       "</div>"
      ],
      "text/plain": [
       "Empty DataFrame\n",
       "Columns: [Timestamp, rain, temp, rhum, msl, wdsp, vis, clht, clamt, NO2, school_term, weekday_iso, wddir_sin, wddir_cos, day_of_year, rain_log1p, car_r1, hgv_r1, car_r2, hgv_r2, car_r3, hgv_r3, car_r4, hgv_r4]\n",
       "Index: []\n",
       "\n",
       "[0 rows x 24 columns]"
      ]
     },
     "execution_count": 50,
     "metadata": {},
     "output_type": "execute_result"
    }
   ],
   "source": [
    "df4[df4['hgv_r4'].isna()]"
   ]
  },
  {
   "cell_type": "code",
   "execution_count": 51,
   "id": "77a75500",
   "metadata": {},
   "outputs": [
    {
     "data": {
      "application/javascript": "\n        if (window._pyforest_update_imports_cell) { window._pyforest_update_imports_cell('import pandas as pd\\nimport numpy as np'); }\n    ",
      "text/plain": [
       "<IPython.core.display.Javascript object>"
      ]
     },
     "metadata": {},
     "output_type": "display_data"
    },
    {
     "data": {
      "application/javascript": "\n        if (window._pyforest_update_imports_cell) { window._pyforest_update_imports_cell('import pandas as pd\\nimport numpy as np'); }\n    ",
      "text/plain": [
       "<IPython.core.display.Javascript object>"
      ]
     },
     "metadata": {},
     "output_type": "display_data"
    },
    {
     "name": "stdout",
     "output_type": "stream",
     "text": [
      "                  Timestamp  rain  temp  rhum    msl  wdsp    vis   clht  \\\n",
      "0 2023-01-01 00:00:00+00:00   0.0   5.2    95  996.5     8  15000  200.0   \n",
      "1 2023-01-01 01:00:00+00:00   0.0   4.7    93  996.9     6  20000   40.0   \n",
      "2 2023-01-01 02:00:00+00:00   0.1   5.4    94  996.9     5  20000   37.0   \n",
      "3 2023-01-01 03:00:00+00:00   0.4   5.6    94  997.4     7  20000   26.0   \n",
      "4 2023-01-01 04:00:00+00:00   0.0   4.7    97  997.1     3  20000   50.0   \n",
      "\n",
      "   clamt    NO2  ... rain_log1p car_r1  hgv_r1  car_r2  hgv_r2  car_r3  \\\n",
      "0      6  21.58  ...   0.000000  143.0     8.0   458.0     9.0   384.0   \n",
      "1      5  49.08  ...   0.000000  206.0    13.0   478.0    13.0   415.0   \n",
      "2      7  51.23  ...   0.095310  170.0    10.0   371.0    11.0   270.0   \n",
      "3      7  51.03  ...   0.336472  128.0     9.0   304.0     9.0   217.0   \n",
      "4      7  50.53  ...   0.000000   48.0     5.0   138.0     7.0   105.0   \n",
      "\n",
      "   hgv_r3  car_r4  hgv_r4  cp24_meanNO2  \n",
      "0    27.0     176       7     30.578458  \n",
      "1    26.0     214      13     30.578458  \n",
      "2    20.0     114      14     30.578458  \n",
      "3    16.0      84       3     30.578458  \n",
      "4     4.0      45      10     30.578458  \n",
      "\n",
      "[5 rows x 25 columns]\n"
     ]
    }
   ],
   "source": [
    "df1_cpa['Start'] = pd.to_datetime(df1_cpa['Start'], utc=True).dt.tz_convert('Europe/Dublin')\n",
    "df1_cpa['End'] = pd.to_datetime(df1_cpa['End'], utc=True).dt.tz_convert('Europe/Dublin')\n",
    "\n",
    "# Function to add cp24_meanNO2 feature\n",
    "def add_cp24_meanNO2(df_no2, df_cp24):\n",
    "    mean_vals = []\n",
    "    for ts in df_no2['Timestamp']:\n",
    "        seg = df_cp24[(ts >= df_cp24['Start']) & (ts < df_cp24['End'])]\n",
    "        if not seg.empty:\n",
    "            mean_vals.append(seg.iloc[0]['Mean_NO2'])\n",
    "        else:\n",
    "            mean_vals.append(None)\n",
    "    df_no2['cp24_meanNO2'] = mean_vals\n",
    "    return df_no2\n",
    "\n",
    "# Create new dataset\n",
    "df1 = add_cp24_meanNO2(df1, df1_cpa)\n",
    "\n",
    "# Now df_final has all original columns + cp24_meanNO2\n",
    "print(df1.head())\n"
   ]
  },
  {
   "cell_type": "code",
   "execution_count": 52,
   "id": "e309fb86",
   "metadata": {},
   "outputs": [
    {
     "data": {
      "application/javascript": "\n        if (window._pyforest_update_imports_cell) { window._pyforest_update_imports_cell('import pandas as pd\\nimport numpy as np'); }\n    ",
      "text/plain": [
       "<IPython.core.display.Javascript object>"
      ]
     },
     "metadata": {},
     "output_type": "display_data"
    },
    {
     "data": {
      "application/javascript": "\n        if (window._pyforest_update_imports_cell) { window._pyforest_update_imports_cell('import pandas as pd\\nimport numpy as np'); }\n    ",
      "text/plain": [
       "<IPython.core.display.Javascript object>"
      ]
     },
     "metadata": {},
     "output_type": "display_data"
    },
    {
     "name": "stdout",
     "output_type": "stream",
     "text": [
      "                  Timestamp  rain  temp  rhum    msl  wdsp    vis   clht  \\\n",
      "0 2023-01-01 00:00:00+00:00   0.0   5.2    95  996.5     8  15000  200.0   \n",
      "1 2023-01-01 01:00:00+00:00   0.0   4.7    93  996.9     6  20000   40.0   \n",
      "2 2023-01-01 02:00:00+00:00   0.1   5.4    94  996.9     5  20000   37.0   \n",
      "3 2023-01-01 03:00:00+00:00   0.4   5.6    94  997.4     7  20000   26.0   \n",
      "4 2023-01-01 04:00:00+00:00   0.0   4.7    97  997.1     3  20000   50.0   \n",
      "\n",
      "   clamt   NO2  ... rain_log1p car_r1  hgv_r1  car_r2  hgv_r2  car_r3  hgv_r3  \\\n",
      "0      6  4.65  ...   0.000000  143.0     8.0   458.0     9.0   384.0    27.0   \n",
      "1      5  6.58  ...   0.000000  206.0    13.0   478.0    13.0   415.0    26.0   \n",
      "2      7  8.18  ...   0.095310  170.0    10.0   371.0    11.0   270.0    20.0   \n",
      "3      7  9.61  ...   0.336472  128.0     9.0   304.0     9.0   217.0    16.0   \n",
      "4      7  9.03  ...   0.000000   48.0     5.0   138.0     7.0   105.0     4.0   \n",
      "\n",
      "   car_r4  hgv_r4  cp24_meanNO2  \n",
      "0     176       7     13.515952  \n",
      "1     214      13     13.515952  \n",
      "2     114      14     13.515952  \n",
      "3      84       3     13.515952  \n",
      "4      45      10     13.515952  \n",
      "\n",
      "[5 rows x 25 columns]\n"
     ]
    }
   ],
   "source": [
    "df2_cpa['Start'] = pd.to_datetime(df2_cpa['Start'], utc=True).dt.tz_convert('Europe/Dublin')\n",
    "df2_cpa['End'] = pd.to_datetime(df2_cpa['End'], utc=True).dt.tz_convert('Europe/Dublin')\n",
    "\n",
    "# Function to add cp24_meanNO2 feature\n",
    "def add_cp24_meanNO2(df_no2, df_cp24):\n",
    "    mean_vals = []\n",
    "    for ts in df_no2['Timestamp']:\n",
    "        seg = df_cp24[(ts >= df_cp24['Start']) & (ts < df_cp24['End'])]\n",
    "        if not seg.empty:\n",
    "            mean_vals.append(seg.iloc[0]['Mean_NO2'])\n",
    "        else:\n",
    "            mean_vals.append(None)\n",
    "    df_no2['cp24_meanNO2'] = mean_vals\n",
    "    return df_no2\n",
    "\n",
    "# Create new dataset\n",
    "df2 = add_cp24_meanNO2(df2, df2_cpa)\n",
    "\n",
    "# Now df_final has all original columns + cp24_meanNO2\n",
    "print(df2.head())\n"
   ]
  },
  {
   "cell_type": "code",
   "execution_count": 53,
   "id": "bdad32d8",
   "metadata": {},
   "outputs": [
    {
     "data": {
      "application/javascript": "\n        if (window._pyforest_update_imports_cell) { window._pyforest_update_imports_cell('import pandas as pd\\nimport numpy as np'); }\n    ",
      "text/plain": [
       "<IPython.core.display.Javascript object>"
      ]
     },
     "metadata": {},
     "output_type": "display_data"
    },
    {
     "data": {
      "application/javascript": "\n        if (window._pyforest_update_imports_cell) { window._pyforest_update_imports_cell('import pandas as pd\\nimport numpy as np'); }\n    ",
      "text/plain": [
       "<IPython.core.display.Javascript object>"
      ]
     },
     "metadata": {},
     "output_type": "display_data"
    },
    {
     "name": "stdout",
     "output_type": "stream",
     "text": [
      "                  Timestamp  rain  temp  rhum     msl  wdsp    vis  clht  \\\n",
      "0 2023-08-06 18:00:00+01:00   0.0  17.7    55  1022.7    13  40000  20.0   \n",
      "1 2023-08-06 19:00:00+01:00   0.0  17.4    53  1023.1    12  40000  20.0   \n",
      "2 2023-08-06 20:00:00+01:00   0.0  15.8    62  1023.4    10  40000  40.0   \n",
      "3 2023-08-06 21:00:00+01:00   0.0  14.8    62  1023.7    10  40000  20.0   \n",
      "4 2023-08-06 22:00:00+01:00   0.0  13.5    71  1024.1     4  40000  20.0   \n",
      "\n",
      "   clamt        NO2  ... rain_log1p car_r1  hgv_r1  car_r2  hgv_r2  car_r3  \\\n",
      "0      3   4.546333  ...        0.0  410.0    44.0  1353.0    46.0  1561.0   \n",
      "1      3   7.494000  ...        0.0  404.0    28.0  1254.0    33.0  1321.0   \n",
      "2      6  15.218667  ...        0.0  294.0    19.0   954.0    22.0   975.0   \n",
      "3      3  16.156333  ...        0.0  245.0    11.0   710.0    14.0   704.0   \n",
      "4      1  15.990667  ...        0.0  189.0     8.0   623.0    10.0   639.0   \n",
      "\n",
      "   hgv_r3  car_r4  hgv_r4  cp24_meanNO2  \n",
      "0   109.0     994      55      17.49648  \n",
      "1    85.0     905      45      17.49648  \n",
      "2    83.0     686      41      17.49648  \n",
      "3    46.0     504      33      17.49648  \n",
      "4    42.0     392      34      17.49648  \n",
      "\n",
      "[5 rows x 25 columns]\n"
     ]
    }
   ],
   "source": [
    "df3_cpa['Start'] = pd.to_datetime(df3_cpa['Start'], utc=True).dt.tz_convert('Europe/Dublin')\n",
    "df3_cpa['End'] = pd.to_datetime(df3_cpa['End'], utc=True).dt.tz_convert('Europe/Dublin')\n",
    "\n",
    "# Function to add cp24_meanNO2 feature\n",
    "def add_cp24_meanNO2(df_no2, df_cp24):\n",
    "    mean_vals = []\n",
    "    for ts in df_no2['Timestamp']:\n",
    "        seg = df_cp24[(ts >=df_cp24['Start']) & (ts < df_cp24['End'])]\n",
    "        if not seg.empty:\n",
    "            mean_vals.append(seg.iloc[0]['Mean_NO2'])\n",
    "        else:\n",
    "            mean_vals.append(None)\n",
    "    df_no2['cp24_meanNO2'] = mean_vals\n",
    "    return df_no2\n",
    "\n",
    "# Create new dataset\n",
    "df3 = add_cp24_meanNO2(df3, df3_cpa)\n",
    "\n",
    "# Now df_final has all original columns + cp24_meanNO2\n",
    "print(df3.head())\n"
   ]
  },
  {
   "cell_type": "code",
   "execution_count": 54,
   "id": "7abdad12",
   "metadata": {},
   "outputs": [
    {
     "data": {
      "application/javascript": "\n        if (window._pyforest_update_imports_cell) { window._pyforest_update_imports_cell('import pandas as pd\\nimport numpy as np'); }\n    ",
      "text/plain": [
       "<IPython.core.display.Javascript object>"
      ]
     },
     "metadata": {},
     "output_type": "display_data"
    },
    {
     "data": {
      "application/javascript": "\n        if (window._pyforest_update_imports_cell) { window._pyforest_update_imports_cell('import pandas as pd\\nimport numpy as np'); }\n    ",
      "text/plain": [
       "<IPython.core.display.Javascript object>"
      ]
     },
     "metadata": {},
     "output_type": "display_data"
    },
    {
     "name": "stdout",
     "output_type": "stream",
     "text": [
      "                  Timestamp  rain  temp  rhum     msl  wdsp    vis  clht  \\\n",
      "0 2023-08-06 18:00:00+01:00   0.0  17.7    55  1022.7    13  40000  20.0   \n",
      "1 2023-08-06 19:00:00+01:00   0.0  17.4    53  1023.1    12  40000  20.0   \n",
      "2 2023-08-06 20:00:00+01:00   0.0  15.8    62  1023.4    10  40000  40.0   \n",
      "3 2023-08-06 21:00:00+01:00   0.0  14.8    62  1023.7    10  40000  20.0   \n",
      "4 2023-08-06 22:00:00+01:00   0.0  13.5    71  1024.1     4  40000  20.0   \n",
      "\n",
      "   clamt        NO2  ... rain_log1p car_r1  hgv_r1  car_r2  hgv_r2  car_r3  \\\n",
      "0      3   4.498000  ...        0.0  410.0    44.0  1353.0    46.0  1561.0   \n",
      "1      3   8.257000  ...        0.0  404.0    28.0  1254.0    33.0  1321.0   \n",
      "2      6  18.923333  ...        0.0  294.0    19.0   954.0    22.0   975.0   \n",
      "3      3  20.053333  ...        0.0  245.0    11.0   710.0    14.0   704.0   \n",
      "4      1  19.938000  ...        0.0  189.0     8.0   623.0    10.0   639.0   \n",
      "\n",
      "   hgv_r3  car_r4  hgv_r4  cp24_meanNO2  \n",
      "0   109.0     994      55     12.350705  \n",
      "1    85.0     905      45     12.350705  \n",
      "2    83.0     686      41     12.350705  \n",
      "3    46.0     504      33     12.350705  \n",
      "4    42.0     392      34     12.350705  \n",
      "\n",
      "[5 rows x 25 columns]\n"
     ]
    }
   ],
   "source": [
    "df4_cpa['Start'] = pd.to_datetime(df4_cpa['Start'], utc=True).dt.tz_convert('Europe/Dublin')\n",
    "df4_cpa['End'] = pd.to_datetime(df4_cpa['End'], utc=True).dt.tz_convert('Europe/Dublin')\n",
    "\n",
    "# Function to add cp24_meanNO2 feature\n",
    "def add_cp24_meanNO2(df_no2, df_cp24):\n",
    "    mean_vals = []\n",
    "    for ts in df_no2['Timestamp']:\n",
    "        seg = df_cp24[(ts >= df_cp24['Start']) & (ts < df_cp24['End'])]\n",
    "        if not seg.empty:\n",
    "            mean_vals.append(seg.iloc[0]['Mean_NO2'])\n",
    "        else:\n",
    "            mean_vals.append(None)\n",
    "    df_no2['cp24_meanNO2'] = mean_vals\n",
    "    return df_no2\n",
    "\n",
    "# Create new dataset\n",
    "df4 = add_cp24_meanNO2(df4, df4_cpa)\n",
    "\n",
    "# Now df_final has all original columns + cp24_meanNO2\n",
    "print(df4.head())\n"
   ]
  },
  {
   "cell_type": "code",
   "execution_count": 55,
   "id": "b34594d6",
   "metadata": {},
   "outputs": [
    {
     "data": {
      "application/javascript": "\n        if (window._pyforest_update_imports_cell) { window._pyforest_update_imports_cell('import pandas as pd\\nimport numpy as np'); }\n    ",
      "text/plain": [
       "<IPython.core.display.Javascript object>"
      ]
     },
     "metadata": {},
     "output_type": "display_data"
    },
    {
     "data": {
      "application/javascript": "\n        if (window._pyforest_update_imports_cell) { window._pyforest_update_imports_cell('import pandas as pd\\nimport numpy as np'); }\n    ",
      "text/plain": [
       "<IPython.core.display.Javascript object>"
      ]
     },
     "metadata": {},
     "output_type": "display_data"
    },
    {
     "name": "stdout",
     "output_type": "stream",
     "text": [
      "                  Timestamp  rain  temp  rhum     msl  wdsp    vis  clht  \\\n",
      "0 2023-08-06 18:00:00+01:00   0.0  17.7    55  1022.7    13  40000  20.0   \n",
      "1 2023-08-06 19:00:00+01:00   0.0  17.4    53  1023.1    12  40000  20.0   \n",
      "2 2023-08-06 20:00:00+01:00   0.0  15.8    62  1023.4    10  40000  40.0   \n",
      "3 2023-08-06 21:00:00+01:00   0.0  14.8    62  1023.7    10  40000  20.0   \n",
      "4 2023-08-06 22:00:00+01:00   0.0  13.5    71  1024.1     4  40000  20.0   \n",
      "\n",
      "   clamt        NO2  ... rain_log1p car_r1  hgv_r1  car_r2  hgv_r2  car_r3  \\\n",
      "0      3  12.141364  ...        0.0  410.0    44.0  1353.0    46.0  1561.0   \n",
      "1      3  13.974667  ...        0.0  404.0    28.0  1254.0    33.0  1321.0   \n",
      "2      6  17.419000  ...        0.0  294.0    19.0   954.0    22.0   975.0   \n",
      "3      3  17.146000  ...        0.0  245.0    11.0   710.0    14.0   704.0   \n",
      "4      1  17.698667  ...        0.0  189.0     8.0   623.0    10.0   639.0   \n",
      "\n",
      "   hgv_r3  car_r4  hgv_r4  cp24_meanNO2  \n",
      "0   109.0     994      55     11.671496  \n",
      "1    85.0     905      45     11.671496  \n",
      "2    83.0     686      41     11.671496  \n",
      "3    46.0     504      33     11.671496  \n",
      "4    42.0     392      34     11.671496  \n",
      "\n",
      "[5 rows x 25 columns]\n"
     ]
    }
   ],
   "source": [
    "df5_cpa['Start'] = pd.to_datetime(df5_cpa['Start'], utc=True).dt.tz_convert('Europe/Dublin')\n",
    "df5_cpa['End'] = pd.to_datetime(df5_cpa['End'], utc=True).dt.tz_convert('Europe/Dublin')\n",
    "\n",
    "# Function to add cp24_meanNO2 feature\n",
    "def add_cp24_meanNO2(df_no2, df_cp24):\n",
    "    mean_vals = []\n",
    "    for ts in df_no2['Timestamp']:\n",
    "        seg = df_cp24[(ts >= df_cp24['Start']) & (ts < df_cp24['End'])]\n",
    "        if not seg.empty:\n",
    "            mean_vals.append(seg.iloc[0]['Mean_NO2'])\n",
    "        else:\n",
    "            mean_vals.append(None)\n",
    "    df_no2['cp24_meanNO2'] = mean_vals\n",
    "    return df_no2\n",
    "\n",
    "# Create new dataset\n",
    "df5 = add_cp24_meanNO2(df5, df5_cpa)\n",
    "\n",
    "# Now df_final has all original columns + cp24_meanNO2\n",
    "print(df5.head())\n"
   ]
  },
  {
   "cell_type": "code",
   "execution_count": 56,
   "id": "0c61df09",
   "metadata": {},
   "outputs": [
    {
     "data": {
      "application/javascript": "\n        if (window._pyforest_update_imports_cell) { window._pyforest_update_imports_cell('import pandas as pd\\nimport numpy as np'); }\n    ",
      "text/plain": [
       "<IPython.core.display.Javascript object>"
      ]
     },
     "metadata": {},
     "output_type": "display_data"
    },
    {
     "data": {
      "application/javascript": "\n        if (window._pyforest_update_imports_cell) { window._pyforest_update_imports_cell('import pandas as pd\\nimport numpy as np'); }\n    ",
      "text/plain": [
       "<IPython.core.display.Javascript object>"
      ]
     },
     "metadata": {},
     "output_type": "display_data"
    },
    {
     "name": "stdout",
     "output_type": "stream",
     "text": [
      "                  Timestamp  rain  temp  rhum     msl  wdsp    vis  clht  \\\n",
      "0 2023-08-06 18:00:00+01:00   0.0  17.7    55  1022.7    13  40000  20.0   \n",
      "1 2023-08-06 19:00:00+01:00   0.0  17.4    53  1023.1    12  40000  20.0   \n",
      "2 2023-08-06 20:00:00+01:00   0.0  15.8    62  1023.4    10  40000  40.0   \n",
      "3 2023-08-06 21:00:00+01:00   0.0  14.8    62  1023.7    10  40000  20.0   \n",
      "4 2023-08-06 22:00:00+01:00   0.0  13.5    71  1024.1     4  40000  20.0   \n",
      "\n",
      "   clamt        NO2  ... rain_log1p car_r1  hgv_r1  car_r2  hgv_r2  car_r3  \\\n",
      "0      3   7.895667  ...        0.0  410.0    44.0  1353.0    46.0  1561.0   \n",
      "1      3  11.952759  ...        0.0  404.0    28.0  1254.0    33.0  1321.0   \n",
      "2      6  17.425000  ...        0.0  294.0    19.0   954.0    22.0   975.0   \n",
      "3      3  18.405333  ...        0.0  245.0    11.0   710.0    14.0   704.0   \n",
      "4      1  17.899000  ...        0.0  189.0     8.0   623.0    10.0   639.0   \n",
      "\n",
      "   hgv_r3  car_r4  hgv_r4  cp24_meanNO2  \n",
      "0   109.0     994      55     11.131326  \n",
      "1    85.0     905      45     11.131326  \n",
      "2    83.0     686      41     11.131326  \n",
      "3    46.0     504      33     11.131326  \n",
      "4    42.0     392      34     11.131326  \n",
      "\n",
      "[5 rows x 25 columns]\n"
     ]
    }
   ],
   "source": [
    "df6_cpa['Start'] = pd.to_datetime(df6_cpa['Start'], utc=True).dt.tz_convert('Europe/Dublin')\n",
    "df6_cpa['End'] = pd.to_datetime(df6_cpa['End'], utc=True).dt.tz_convert('Europe/Dublin')\n",
    "\n",
    "# Function to add cp24_meanNO2 feature\n",
    "def add_cp24_meanNO2(df_no2, df_cp24):\n",
    "    mean_vals = []\n",
    "    for ts in df_no2['Timestamp']:\n",
    "        seg = df_cp24[(ts >= df_cp24['Start']) & (ts < df_cp24['End'])]\n",
    "        if not seg.empty:\n",
    "            mean_vals.append(seg.iloc[0]['Mean_NO2'])\n",
    "        else:\n",
    "            mean_vals.append(None)\n",
    "    df_no2['cp24_meanNO2'] = mean_vals\n",
    "    return df_no2\n",
    "\n",
    "# Create new dataset\n",
    "df6 = add_cp24_meanNO2(df6, df6_cpa)\n",
    "\n",
    "# Now df_final has all original columns + cp24_meanNO2\n",
    "print(df6.head())\n"
   ]
  },
  {
   "cell_type": "code",
   "execution_count": 51,
   "id": "99cb896c",
   "metadata": {},
   "outputs": [],
   "source": [
    "df1['station']='LG'\n",
    "df2['station']='UCC'\n",
    "df3['station']='SPS'\n",
    "df4['station']='OP'\n",
    "df5['station']='BS'\n",
    "df6['station']='GP'\n"
   ]
  },
  {
   "cell_type": "code",
   "execution_count": 58,
   "id": "deebfb24",
   "metadata": {},
   "outputs": [
    {
     "data": {
      "application/javascript": "\n        if (window._pyforest_update_imports_cell) { window._pyforest_update_imports_cell('import pandas as pd\\nimport numpy as np\\nfrom sklearn.model_selection import StratifiedKFold'); }\n    ",
      "text/plain": [
       "<IPython.core.display.Javascript object>"
      ]
     },
     "metadata": {},
     "output_type": "display_data"
    },
    {
     "data": {
      "text/html": [
       "<div>\n",
       "<style scoped>\n",
       "    .dataframe tbody tr th:only-of-type {\n",
       "        vertical-align: middle;\n",
       "    }\n",
       "\n",
       "    .dataframe tbody tr th {\n",
       "        vertical-align: top;\n",
       "    }\n",
       "\n",
       "    .dataframe thead th {\n",
       "        text-align: right;\n",
       "    }\n",
       "</style>\n",
       "<table border=\"1\" class=\"dataframe\">\n",
       "  <thead>\n",
       "    <tr style=\"text-align: right;\">\n",
       "      <th></th>\n",
       "      <th>Timestamp</th>\n",
       "      <th>rain</th>\n",
       "      <th>temp</th>\n",
       "      <th>rhum</th>\n",
       "      <th>msl</th>\n",
       "      <th>wdsp</th>\n",
       "      <th>vis</th>\n",
       "      <th>clht</th>\n",
       "      <th>clamt</th>\n",
       "      <th>NO2</th>\n",
       "      <th>...</th>\n",
       "      <th>car_r1</th>\n",
       "      <th>hgv_r1</th>\n",
       "      <th>car_r2</th>\n",
       "      <th>hgv_r2</th>\n",
       "      <th>car_r3</th>\n",
       "      <th>hgv_r3</th>\n",
       "      <th>car_r4</th>\n",
       "      <th>hgv_r4</th>\n",
       "      <th>cp24_meanNO2</th>\n",
       "      <th>station</th>\n",
       "    </tr>\n",
       "  </thead>\n",
       "  <tbody>\n",
       "    <tr>\n",
       "      <th>0</th>\n",
       "      <td>2023-01-01 00:00:00+00:00</td>\n",
       "      <td>0.0</td>\n",
       "      <td>5.2</td>\n",
       "      <td>95</td>\n",
       "      <td>996.5</td>\n",
       "      <td>8</td>\n",
       "      <td>15000</td>\n",
       "      <td>200.0</td>\n",
       "      <td>6</td>\n",
       "      <td>21.58</td>\n",
       "      <td>...</td>\n",
       "      <td>143.0</td>\n",
       "      <td>8.0</td>\n",
       "      <td>458.0</td>\n",
       "      <td>9.0</td>\n",
       "      <td>384.0</td>\n",
       "      <td>27.0</td>\n",
       "      <td>176</td>\n",
       "      <td>7</td>\n",
       "      <td>30.578458</td>\n",
       "      <td>LG</td>\n",
       "    </tr>\n",
       "    <tr>\n",
       "      <th>1</th>\n",
       "      <td>2023-01-01 01:00:00+00:00</td>\n",
       "      <td>0.0</td>\n",
       "      <td>4.7</td>\n",
       "      <td>93</td>\n",
       "      <td>996.9</td>\n",
       "      <td>6</td>\n",
       "      <td>20000</td>\n",
       "      <td>40.0</td>\n",
       "      <td>5</td>\n",
       "      <td>49.08</td>\n",
       "      <td>...</td>\n",
       "      <td>206.0</td>\n",
       "      <td>13.0</td>\n",
       "      <td>478.0</td>\n",
       "      <td>13.0</td>\n",
       "      <td>415.0</td>\n",
       "      <td>26.0</td>\n",
       "      <td>214</td>\n",
       "      <td>13</td>\n",
       "      <td>30.578458</td>\n",
       "      <td>LG</td>\n",
       "    </tr>\n",
       "    <tr>\n",
       "      <th>2</th>\n",
       "      <td>2023-01-01 02:00:00+00:00</td>\n",
       "      <td>0.1</td>\n",
       "      <td>5.4</td>\n",
       "      <td>94</td>\n",
       "      <td>996.9</td>\n",
       "      <td>5</td>\n",
       "      <td>20000</td>\n",
       "      <td>37.0</td>\n",
       "      <td>7</td>\n",
       "      <td>51.23</td>\n",
       "      <td>...</td>\n",
       "      <td>170.0</td>\n",
       "      <td>10.0</td>\n",
       "      <td>371.0</td>\n",
       "      <td>11.0</td>\n",
       "      <td>270.0</td>\n",
       "      <td>20.0</td>\n",
       "      <td>114</td>\n",
       "      <td>14</td>\n",
       "      <td>30.578458</td>\n",
       "      <td>LG</td>\n",
       "    </tr>\n",
       "    <tr>\n",
       "      <th>3</th>\n",
       "      <td>2023-01-01 03:00:00+00:00</td>\n",
       "      <td>0.4</td>\n",
       "      <td>5.6</td>\n",
       "      <td>94</td>\n",
       "      <td>997.4</td>\n",
       "      <td>7</td>\n",
       "      <td>20000</td>\n",
       "      <td>26.0</td>\n",
       "      <td>7</td>\n",
       "      <td>51.03</td>\n",
       "      <td>...</td>\n",
       "      <td>128.0</td>\n",
       "      <td>9.0</td>\n",
       "      <td>304.0</td>\n",
       "      <td>9.0</td>\n",
       "      <td>217.0</td>\n",
       "      <td>16.0</td>\n",
       "      <td>84</td>\n",
       "      <td>3</td>\n",
       "      <td>30.578458</td>\n",
       "      <td>LG</td>\n",
       "    </tr>\n",
       "    <tr>\n",
       "      <th>4</th>\n",
       "      <td>2023-01-01 04:00:00+00:00</td>\n",
       "      <td>0.0</td>\n",
       "      <td>4.7</td>\n",
       "      <td>97</td>\n",
       "      <td>997.1</td>\n",
       "      <td>3</td>\n",
       "      <td>20000</td>\n",
       "      <td>50.0</td>\n",
       "      <td>7</td>\n",
       "      <td>50.53</td>\n",
       "      <td>...</td>\n",
       "      <td>48.0</td>\n",
       "      <td>5.0</td>\n",
       "      <td>138.0</td>\n",
       "      <td>7.0</td>\n",
       "      <td>105.0</td>\n",
       "      <td>4.0</td>\n",
       "      <td>45</td>\n",
       "      <td>10</td>\n",
       "      <td>30.578458</td>\n",
       "      <td>LG</td>\n",
       "    </tr>\n",
       "  </tbody>\n",
       "</table>\n",
       "<p>5 rows × 26 columns</p>\n",
       "</div>"
      ],
      "text/plain": [
       "                  Timestamp  rain  temp  rhum    msl  wdsp    vis   clht  \\\n",
       "0 2023-01-01 00:00:00+00:00   0.0   5.2    95  996.5     8  15000  200.0   \n",
       "1 2023-01-01 01:00:00+00:00   0.0   4.7    93  996.9     6  20000   40.0   \n",
       "2 2023-01-01 02:00:00+00:00   0.1   5.4    94  996.9     5  20000   37.0   \n",
       "3 2023-01-01 03:00:00+00:00   0.4   5.6    94  997.4     7  20000   26.0   \n",
       "4 2023-01-01 04:00:00+00:00   0.0   4.7    97  997.1     3  20000   50.0   \n",
       "\n",
       "   clamt    NO2  ... car_r1 hgv_r1  car_r2  hgv_r2  car_r3  hgv_r3  car_r4  \\\n",
       "0      6  21.58  ...  143.0    8.0   458.0     9.0   384.0    27.0     176   \n",
       "1      5  49.08  ...  206.0   13.0   478.0    13.0   415.0    26.0     214   \n",
       "2      7  51.23  ...  170.0   10.0   371.0    11.0   270.0    20.0     114   \n",
       "3      7  51.03  ...  128.0    9.0   304.0     9.0   217.0    16.0      84   \n",
       "4      7  50.53  ...   48.0    5.0   138.0     7.0   105.0     4.0      45   \n",
       "\n",
       "   hgv_r4  cp24_meanNO2  station  \n",
       "0       7     30.578458       LG  \n",
       "1      13     30.578458       LG  \n",
       "2      14     30.578458       LG  \n",
       "3       3     30.578458       LG  \n",
       "4      10     30.578458       LG  \n",
       "\n",
       "[5 rows x 26 columns]"
      ]
     },
     "execution_count": 58,
     "metadata": {},
     "output_type": "execute_result"
    }
   ],
   "source": [
    "df_combined = pd.concat([df1, df2, df3, df4, df5, df6], axis=0, ignore_index=True)\n",
    "df_combined.head()"
   ]
  },
  {
   "cell_type": "code",
   "execution_count": 59,
   "id": "43b3049a",
   "metadata": {},
   "outputs": [
    {
     "data": {
      "text/html": [
       "<div>\n",
       "<style scoped>\n",
       "    .dataframe tbody tr th:only-of-type {\n",
       "        vertical-align: middle;\n",
       "    }\n",
       "\n",
       "    .dataframe tbody tr th {\n",
       "        vertical-align: top;\n",
       "    }\n",
       "\n",
       "    .dataframe thead th {\n",
       "        text-align: right;\n",
       "    }\n",
       "</style>\n",
       "<table border=\"1\" class=\"dataframe\">\n",
       "  <thead>\n",
       "    <tr style=\"text-align: right;\">\n",
       "      <th></th>\n",
       "      <th>Timestamp</th>\n",
       "      <th>rain</th>\n",
       "      <th>temp</th>\n",
       "      <th>rhum</th>\n",
       "      <th>msl</th>\n",
       "      <th>wdsp</th>\n",
       "      <th>vis</th>\n",
       "      <th>clht</th>\n",
       "      <th>clamt</th>\n",
       "      <th>NO2</th>\n",
       "      <th>...</th>\n",
       "      <th>car_r1</th>\n",
       "      <th>hgv_r1</th>\n",
       "      <th>car_r2</th>\n",
       "      <th>hgv_r2</th>\n",
       "      <th>car_r3</th>\n",
       "      <th>hgv_r3</th>\n",
       "      <th>car_r4</th>\n",
       "      <th>hgv_r4</th>\n",
       "      <th>cp24_meanNO2</th>\n",
       "      <th>station</th>\n",
       "    </tr>\n",
       "  </thead>\n",
       "  <tbody>\n",
       "    <tr>\n",
       "      <th>51943</th>\n",
       "      <td>2024-06-30 19:00:00+01:00</td>\n",
       "      <td>0.0</td>\n",
       "      <td>14.4</td>\n",
       "      <td>71</td>\n",
       "      <td>1018.9</td>\n",
       "      <td>10</td>\n",
       "      <td>40000</td>\n",
       "      <td>70.0</td>\n",
       "      <td>7</td>\n",
       "      <td>13.420667</td>\n",
       "      <td>...</td>\n",
       "      <td>433.0</td>\n",
       "      <td>31.0</td>\n",
       "      <td>1329.0</td>\n",
       "      <td>42.0</td>\n",
       "      <td>1335.0</td>\n",
       "      <td>111.0</td>\n",
       "      <td>909</td>\n",
       "      <td>79</td>\n",
       "      <td>8.099116</td>\n",
       "      <td>GP</td>\n",
       "    </tr>\n",
       "    <tr>\n",
       "      <th>51944</th>\n",
       "      <td>2024-06-30 20:00:00+01:00</td>\n",
       "      <td>0.0</td>\n",
       "      <td>13.2</td>\n",
       "      <td>80</td>\n",
       "      <td>1019.4</td>\n",
       "      <td>10</td>\n",
       "      <td>35000</td>\n",
       "      <td>60.0</td>\n",
       "      <td>7</td>\n",
       "      <td>15.303667</td>\n",
       "      <td>...</td>\n",
       "      <td>311.0</td>\n",
       "      <td>16.0</td>\n",
       "      <td>1016.0</td>\n",
       "      <td>18.0</td>\n",
       "      <td>986.0</td>\n",
       "      <td>74.0</td>\n",
       "      <td>769</td>\n",
       "      <td>51</td>\n",
       "      <td>8.099116</td>\n",
       "      <td>GP</td>\n",
       "    </tr>\n",
       "    <tr>\n",
       "      <th>51945</th>\n",
       "      <td>2024-06-30 21:00:00+01:00</td>\n",
       "      <td>0.2</td>\n",
       "      <td>12.2</td>\n",
       "      <td>89</td>\n",
       "      <td>1019.5</td>\n",
       "      <td>8</td>\n",
       "      <td>35000</td>\n",
       "      <td>60.0</td>\n",
       "      <td>7</td>\n",
       "      <td>12.910333</td>\n",
       "      <td>...</td>\n",
       "      <td>235.0</td>\n",
       "      <td>10.0</td>\n",
       "      <td>684.0</td>\n",
       "      <td>13.0</td>\n",
       "      <td>654.0</td>\n",
       "      <td>43.0</td>\n",
       "      <td>440</td>\n",
       "      <td>31</td>\n",
       "      <td>8.099116</td>\n",
       "      <td>GP</td>\n",
       "    </tr>\n",
       "    <tr>\n",
       "      <th>51946</th>\n",
       "      <td>2024-06-30 22:00:00+01:00</td>\n",
       "      <td>0.1</td>\n",
       "      <td>11.9</td>\n",
       "      <td>89</td>\n",
       "      <td>1020.3</td>\n",
       "      <td>8</td>\n",
       "      <td>30000</td>\n",
       "      <td>12.0</td>\n",
       "      <td>7</td>\n",
       "      <td>11.412000</td>\n",
       "      <td>...</td>\n",
       "      <td>149.0</td>\n",
       "      <td>2.0</td>\n",
       "      <td>529.0</td>\n",
       "      <td>8.0</td>\n",
       "      <td>417.0</td>\n",
       "      <td>29.0</td>\n",
       "      <td>342</td>\n",
       "      <td>33</td>\n",
       "      <td>8.099116</td>\n",
       "      <td>GP</td>\n",
       "    </tr>\n",
       "    <tr>\n",
       "      <th>51947</th>\n",
       "      <td>2024-06-30 23:00:00+01:00</td>\n",
       "      <td>0.0</td>\n",
       "      <td>12.1</td>\n",
       "      <td>88</td>\n",
       "      <td>1020.6</td>\n",
       "      <td>5</td>\n",
       "      <td>30000</td>\n",
       "      <td>50.0</td>\n",
       "      <td>7</td>\n",
       "      <td>7.827000</td>\n",
       "      <td>...</td>\n",
       "      <td>117.0</td>\n",
       "      <td>13.0</td>\n",
       "      <td>302.0</td>\n",
       "      <td>16.0</td>\n",
       "      <td>259.0</td>\n",
       "      <td>18.0</td>\n",
       "      <td>190</td>\n",
       "      <td>19</td>\n",
       "      <td>NaN</td>\n",
       "      <td>GP</td>\n",
       "    </tr>\n",
       "  </tbody>\n",
       "</table>\n",
       "<p>5 rows × 26 columns</p>\n",
       "</div>"
      ],
      "text/plain": [
       "                      Timestamp  rain  temp  rhum     msl  wdsp    vis  clht  \\\n",
       "51943 2024-06-30 19:00:00+01:00   0.0  14.4    71  1018.9    10  40000  70.0   \n",
       "51944 2024-06-30 20:00:00+01:00   0.0  13.2    80  1019.4    10  35000  60.0   \n",
       "51945 2024-06-30 21:00:00+01:00   0.2  12.2    89  1019.5     8  35000  60.0   \n",
       "51946 2024-06-30 22:00:00+01:00   0.1  11.9    89  1020.3     8  30000  12.0   \n",
       "51947 2024-06-30 23:00:00+01:00   0.0  12.1    88  1020.6     5  30000  50.0   \n",
       "\n",
       "       clamt        NO2  ... car_r1 hgv_r1  car_r2  hgv_r2  car_r3  hgv_r3  \\\n",
       "51943      7  13.420667  ...  433.0   31.0  1329.0    42.0  1335.0   111.0   \n",
       "51944      7  15.303667  ...  311.0   16.0  1016.0    18.0   986.0    74.0   \n",
       "51945      7  12.910333  ...  235.0   10.0   684.0    13.0   654.0    43.0   \n",
       "51946      7  11.412000  ...  149.0    2.0   529.0     8.0   417.0    29.0   \n",
       "51947      7   7.827000  ...  117.0   13.0   302.0    16.0   259.0    18.0   \n",
       "\n",
       "       car_r4  hgv_r4  cp24_meanNO2  station  \n",
       "51943     909      79      8.099116       GP  \n",
       "51944     769      51      8.099116       GP  \n",
       "51945     440      31      8.099116       GP  \n",
       "51946     342      33      8.099116       GP  \n",
       "51947     190      19           NaN       GP  \n",
       "\n",
       "[5 rows x 26 columns]"
      ]
     },
     "execution_count": 59,
     "metadata": {},
     "output_type": "execute_result"
    }
   ],
   "source": [
    "df_combined.tail()"
   ]
  },
  {
   "cell_type": "code",
   "execution_count": 59,
   "id": "4e6758a1",
   "metadata": {},
   "outputs": [
    {
     "data": {
      "text/plain": [
       "51948"
      ]
     },
     "execution_count": 59,
     "metadata": {},
     "output_type": "execute_result"
    }
   ],
   "source": [
    "len(df_combined)"
   ]
  },
  {
   "cell_type": "code",
   "execution_count": 60,
   "id": "8e633e4b",
   "metadata": {},
   "outputs": [],
   "source": [
    "df_combined.to_csv(\"../mydata/data_lstm/complete_dataset.csv\")"
   ]
  },
  {
   "cell_type": "code",
   "execution_count": 52,
   "id": "4611e23e",
   "metadata": {},
   "outputs": [],
   "source": [
    "from sklearn.model_selection import train_test_split\n",
    "X = df1.drop(columns=['NO2','rain'])  # your features\n",
    "y = df1['NO2']\n",
    "X1_train, X1_test, y1_train, y1_test = train_test_split(X, y, test_size=0.1, random_state=42)\n",
    "\n",
    "X = df2.drop(columns=['NO2','rain'])  # your features\n",
    "y = df2['NO2']\n",
    "X2_train, X2_test, y2_train, y2_test = train_test_split(X, y, test_size=0.1, random_state=42)\n",
    "\n",
    "X = df3.drop(columns=['NO2','rain'])  # your features\n",
    "y = df3['NO2']\n",
    "X3_train, X3_test, y3_train, y3_test = train_test_split(X, y, test_size=0.1, random_state=42)\n",
    "\n",
    "X = df4.drop(columns=['NO2','rain'])  # your features\n",
    "y = df4['NO2']\n",
    "X4_train, X4_test, y4_train, y4_test = train_test_split(X, y, test_size=0.1, random_state=42)\n",
    "\n",
    "X = df5.drop(columns=['NO2','rain'])  # your features\n",
    "y = df5['NO2']\n",
    "X5_train, X5_test, y5_train, y5_test = train_test_split(X, y, test_size=0.1, random_state=42)\n",
    "\n",
    "X = df6.drop(columns=['NO2','rain'])  # your features\n",
    "y = df6['NO2']\n",
    "X6_train, X6_test, y6_train, y6_test = train_test_split(X, y, test_size=0.1, random_state=42)\n",
    "\n"
   ]
  },
  {
   "cell_type": "code",
   "execution_count": 53,
   "id": "3245d18f",
   "metadata": {},
   "outputs": [
    {
     "data": {
      "text/html": [
       "<div>\n",
       "<style scoped>\n",
       "    .dataframe tbody tr th:only-of-type {\n",
       "        vertical-align: middle;\n",
       "    }\n",
       "\n",
       "    .dataframe tbody tr th {\n",
       "        vertical-align: top;\n",
       "    }\n",
       "\n",
       "    .dataframe thead th {\n",
       "        text-align: right;\n",
       "    }\n",
       "</style>\n",
       "<table border=\"1\" class=\"dataframe\">\n",
       "  <thead>\n",
       "    <tr style=\"text-align: right;\">\n",
       "      <th></th>\n",
       "      <th>Timestamp</th>\n",
       "      <th>temp</th>\n",
       "      <th>rhum</th>\n",
       "      <th>msl</th>\n",
       "      <th>wdsp</th>\n",
       "      <th>vis</th>\n",
       "      <th>clht</th>\n",
       "      <th>clamt</th>\n",
       "      <th>school_term</th>\n",
       "      <th>weekday_iso</th>\n",
       "      <th>...</th>\n",
       "      <th>rain_log1p</th>\n",
       "      <th>car_r1</th>\n",
       "      <th>hgv_r1</th>\n",
       "      <th>car_r2</th>\n",
       "      <th>hgv_r2</th>\n",
       "      <th>car_r3</th>\n",
       "      <th>hgv_r3</th>\n",
       "      <th>car_r4</th>\n",
       "      <th>hgv_r4</th>\n",
       "      <th>station</th>\n",
       "    </tr>\n",
       "  </thead>\n",
       "  <tbody>\n",
       "  </tbody>\n",
       "</table>\n",
       "<p>0 rows × 23 columns</p>\n",
       "</div>"
      ],
      "text/plain": [
       "Empty DataFrame\n",
       "Columns: [Timestamp, temp, rhum, msl, wdsp, vis, clht, clamt, school_term, weekday_iso, wddir_sin, wddir_cos, day_of_year, rain_log1p, car_r1, hgv_r1, car_r2, hgv_r2, car_r3, hgv_r3, car_r4, hgv_r4, station]\n",
       "Index: []\n",
       "\n",
       "[0 rows x 23 columns]"
      ]
     },
     "execution_count": 53,
     "metadata": {},
     "output_type": "execute_result"
    }
   ],
   "source": [
    "X1_train[X1_train['car_r3'].isna()]"
   ]
  },
  {
   "cell_type": "code",
   "execution_count": 54,
   "id": "65e485ca",
   "metadata": {},
   "outputs": [
    {
     "data": {
      "text/html": [
       "<div>\n",
       "<style scoped>\n",
       "    .dataframe tbody tr th:only-of-type {\n",
       "        vertical-align: middle;\n",
       "    }\n",
       "\n",
       "    .dataframe tbody tr th {\n",
       "        vertical-align: top;\n",
       "    }\n",
       "\n",
       "    .dataframe thead th {\n",
       "        text-align: right;\n",
       "    }\n",
       "</style>\n",
       "<table border=\"1\" class=\"dataframe\">\n",
       "  <thead>\n",
       "    <tr style=\"text-align: right;\">\n",
       "      <th></th>\n",
       "      <th>Timestamp</th>\n",
       "      <th>temp</th>\n",
       "      <th>rhum</th>\n",
       "      <th>msl</th>\n",
       "      <th>wdsp</th>\n",
       "      <th>vis</th>\n",
       "      <th>clht</th>\n",
       "      <th>clamt</th>\n",
       "      <th>school_term</th>\n",
       "      <th>weekday_iso</th>\n",
       "      <th>...</th>\n",
       "      <th>rain_log1p</th>\n",
       "      <th>car_r1</th>\n",
       "      <th>hgv_r1</th>\n",
       "      <th>car_r2</th>\n",
       "      <th>hgv_r2</th>\n",
       "      <th>car_r3</th>\n",
       "      <th>hgv_r3</th>\n",
       "      <th>car_r4</th>\n",
       "      <th>hgv_r4</th>\n",
       "      <th>station</th>\n",
       "    </tr>\n",
       "  </thead>\n",
       "  <tbody>\n",
       "    <tr>\n",
       "      <th>4768</th>\n",
       "      <td>2023-09-06 17:00:00+01:00</td>\n",
       "      <td>20.2</td>\n",
       "      <td>77</td>\n",
       "      <td>1016.9</td>\n",
       "      <td>9</td>\n",
       "      <td>40000</td>\n",
       "      <td>90.0</td>\n",
       "      <td>5</td>\n",
       "      <td>1</td>\n",
       "      <td>3</td>\n",
       "      <td>...</td>\n",
       "      <td>0.000000</td>\n",
       "      <td>777.0</td>\n",
       "      <td>38.0</td>\n",
       "      <td>2464.0</td>\n",
       "      <td>62.0</td>\n",
       "      <td>2392.0</td>\n",
       "      <td>371.0</td>\n",
       "      <td>1947</td>\n",
       "      <td>290</td>\n",
       "      <td>LG</td>\n",
       "    </tr>\n",
       "    <tr>\n",
       "      <th>217</th>\n",
       "      <td>2023-01-12 01:00:00+00:00</td>\n",
       "      <td>10.8</td>\n",
       "      <td>96</td>\n",
       "      <td>1000.8</td>\n",
       "      <td>21</td>\n",
       "      <td>20000</td>\n",
       "      <td>8.0</td>\n",
       "      <td>7</td>\n",
       "      <td>1</td>\n",
       "      <td>4</td>\n",
       "      <td>...</td>\n",
       "      <td>1.064711</td>\n",
       "      <td>24.0</td>\n",
       "      <td>1.0</td>\n",
       "      <td>209.0</td>\n",
       "      <td>25.0</td>\n",
       "      <td>230.0</td>\n",
       "      <td>49.0</td>\n",
       "      <td>42</td>\n",
       "      <td>15</td>\n",
       "      <td>LG</td>\n",
       "    </tr>\n",
       "    <tr>\n",
       "      <th>3316</th>\n",
       "      <td>2023-05-28 05:00:00+01:00</td>\n",
       "      <td>11.4</td>\n",
       "      <td>90</td>\n",
       "      <td>1025.9</td>\n",
       "      <td>10</td>\n",
       "      <td>35000</td>\n",
       "      <td>20.0</td>\n",
       "      <td>3</td>\n",
       "      <td>1</td>\n",
       "      <td>7</td>\n",
       "      <td>...</td>\n",
       "      <td>0.000000</td>\n",
       "      <td>24.0</td>\n",
       "      <td>1.0</td>\n",
       "      <td>139.0</td>\n",
       "      <td>8.0</td>\n",
       "      <td>102.0</td>\n",
       "      <td>18.0</td>\n",
       "      <td>78</td>\n",
       "      <td>12</td>\n",
       "      <td>LG</td>\n",
       "    </tr>\n",
       "    <tr>\n",
       "      <th>6946</th>\n",
       "      <td>2024-01-10 11:00:00+00:00</td>\n",
       "      <td>1.2</td>\n",
       "      <td>79</td>\n",
       "      <td>1034.0</td>\n",
       "      <td>10</td>\n",
       "      <td>40000</td>\n",
       "      <td>20.0</td>\n",
       "      <td>1</td>\n",
       "      <td>1</td>\n",
       "      <td>3</td>\n",
       "      <td>...</td>\n",
       "      <td>0.000000</td>\n",
       "      <td>476.0</td>\n",
       "      <td>75.0</td>\n",
       "      <td>1477.0</td>\n",
       "      <td>154.0</td>\n",
       "      <td>1357.0</td>\n",
       "      <td>486.0</td>\n",
       "      <td>899</td>\n",
       "      <td>303</td>\n",
       "      <td>LG</td>\n",
       "    </tr>\n",
       "    <tr>\n",
       "      <th>108</th>\n",
       "      <td>2023-01-05 12:00:00+00:00</td>\n",
       "      <td>10.7</td>\n",
       "      <td>96</td>\n",
       "      <td>1011.0</td>\n",
       "      <td>21</td>\n",
       "      <td>10000</td>\n",
       "      <td>6.0</td>\n",
       "      <td>7</td>\n",
       "      <td>1</td>\n",
       "      <td>4</td>\n",
       "      <td>...</td>\n",
       "      <td>0.095310</td>\n",
       "      <td>505.0</td>\n",
       "      <td>56.0</td>\n",
       "      <td>1516.0</td>\n",
       "      <td>124.0</td>\n",
       "      <td>1432.0</td>\n",
       "      <td>412.0</td>\n",
       "      <td>940</td>\n",
       "      <td>226</td>\n",
       "      <td>LG</td>\n",
       "    </tr>\n",
       "  </tbody>\n",
       "</table>\n",
       "<p>5 rows × 23 columns</p>\n",
       "</div>"
      ],
      "text/plain": [
       "                     Timestamp  temp  rhum     msl  wdsp    vis  clht  clamt  \\\n",
       "4768 2023-09-06 17:00:00+01:00  20.2    77  1016.9     9  40000  90.0      5   \n",
       "217  2023-01-12 01:00:00+00:00  10.8    96  1000.8    21  20000   8.0      7   \n",
       "3316 2023-05-28 05:00:00+01:00  11.4    90  1025.9    10  35000  20.0      3   \n",
       "6946 2024-01-10 11:00:00+00:00   1.2    79  1034.0    10  40000  20.0      1   \n",
       "108  2023-01-05 12:00:00+00:00  10.7    96  1011.0    21  10000   6.0      7   \n",
       "\n",
       "     school_term weekday_iso  ...  rain_log1p  car_r1  hgv_r1  car_r2  hgv_r2  \\\n",
       "4768           1           3  ...    0.000000   777.0    38.0  2464.0    62.0   \n",
       "217            1           4  ...    1.064711    24.0     1.0   209.0    25.0   \n",
       "3316           1           7  ...    0.000000    24.0     1.0   139.0     8.0   \n",
       "6946           1           3  ...    0.000000   476.0    75.0  1477.0   154.0   \n",
       "108            1           4  ...    0.095310   505.0    56.0  1516.0   124.0   \n",
       "\n",
       "      car_r3  hgv_r3  car_r4  hgv_r4  station  \n",
       "4768  2392.0   371.0    1947     290       LG  \n",
       "217    230.0    49.0      42      15       LG  \n",
       "3316   102.0    18.0      78      12       LG  \n",
       "6946  1357.0   486.0     899     303       LG  \n",
       "108   1432.0   412.0     940     226       LG  \n",
       "\n",
       "[5 rows x 23 columns]"
      ]
     },
     "execution_count": 54,
     "metadata": {},
     "output_type": "execute_result"
    }
   ],
   "source": [
    "X1_train.head()"
   ]
  },
  {
   "cell_type": "code",
   "execution_count": 55,
   "id": "896c34b5",
   "metadata": {},
   "outputs": [
    {
     "data": {
      "text/html": [
       "<div>\n",
       "<style scoped>\n",
       "    .dataframe tbody tr th:only-of-type {\n",
       "        vertical-align: middle;\n",
       "    }\n",
       "\n",
       "    .dataframe tbody tr th {\n",
       "        vertical-align: top;\n",
       "    }\n",
       "\n",
       "    .dataframe thead th {\n",
       "        text-align: right;\n",
       "    }\n",
       "</style>\n",
       "<table border=\"1\" class=\"dataframe\">\n",
       "  <thead>\n",
       "    <tr style=\"text-align: right;\">\n",
       "      <th></th>\n",
       "      <th>Timestamp</th>\n",
       "      <th>temp</th>\n",
       "      <th>rhum</th>\n",
       "      <th>msl</th>\n",
       "      <th>wdsp</th>\n",
       "      <th>vis</th>\n",
       "      <th>clht</th>\n",
       "      <th>clamt</th>\n",
       "      <th>school_term</th>\n",
       "      <th>weekday_iso</th>\n",
       "      <th>...</th>\n",
       "      <th>rain_log1p</th>\n",
       "      <th>car_r1</th>\n",
       "      <th>hgv_r1</th>\n",
       "      <th>car_r2</th>\n",
       "      <th>hgv_r2</th>\n",
       "      <th>car_r3</th>\n",
       "      <th>hgv_r3</th>\n",
       "      <th>car_r4</th>\n",
       "      <th>hgv_r4</th>\n",
       "      <th>station</th>\n",
       "    </tr>\n",
       "  </thead>\n",
       "  <tbody>\n",
       "  </tbody>\n",
       "</table>\n",
       "<p>0 rows × 23 columns</p>\n",
       "</div>"
      ],
      "text/plain": [
       "Empty DataFrame\n",
       "Columns: [Timestamp, temp, rhum, msl, wdsp, vis, clht, clamt, school_term, weekday_iso, wddir_sin, wddir_cos, day_of_year, rain_log1p, car_r1, hgv_r1, car_r2, hgv_r2, car_r3, hgv_r3, car_r4, hgv_r4, station]\n",
       "Index: []\n",
       "\n",
       "[0 rows x 23 columns]"
      ]
     },
     "execution_count": 55,
     "metadata": {},
     "output_type": "execute_result"
    }
   ],
   "source": [
    "X1_train[X1_train['car_r3'].isna()]"
   ]
  },
  {
   "cell_type": "code",
   "execution_count": 56,
   "id": "6687e600",
   "metadata": {},
   "outputs": [],
   "source": [
    "import pandas as pd\n",
    "from sklearn.preprocessing import StandardScaler\n",
    "from sklearn.decomposition import PCA\n",
    "\n",
    "# Suppose df is your dataframe\n",
    "car_cols = [\"car_r1\", \"car_r2\",\"car_r3\",\"car_r4\"]  # add car_r3, car_r4 later\n",
    "hgv_cols = [\"hgv_r1\", \"hgv_r2\",\"hgv_r3\", \"hgv_r4\"]  # add hgv_r3, hgv_r4 later\n",
    "\n",
    "scaler_car = StandardScaler().fit(X1_train[car_cols])\n",
    "train_car_scaled = scaler_car.transform(X1_train[car_cols])\n",
    "test_car_scaled  = scaler_car.transform(X1_test[car_cols])\n",
    "\n",
    "pca_car = PCA(n_components=1).fit(train_car_scaled)\n",
    "X1_train[\"PC1_cars\"] = pca_car.transform(train_car_scaled)\n",
    "X1_test[\"PC1_cars\"]  = pca_car.transform(test_car_scaled)\n",
    "\n",
    "# ✅ ---- PCA for HGV ----\n",
    "scaler_hgv = StandardScaler().fit(X1_train[hgv_cols])\n",
    "train_hgv_scaled = scaler_hgv.transform(X1_train[hgv_cols])\n",
    "test_hgv_scaled  = scaler_hgv.transform(X1_test[hgv_cols])\n",
    "\n",
    "pca_hgv = PCA(n_components=1).fit(train_hgv_scaled)\n",
    "X1_train[\"PC1_hgv\"] = pca_hgv.transform(train_hgv_scaled)\n",
    "X1_test[\"PC1_hgv\"]  = pca_hgv.transform(test_hgv_scaled)"
   ]
  },
  {
   "cell_type": "code",
   "execution_count": 57,
   "id": "aafcc5bb",
   "metadata": {},
   "outputs": [],
   "source": [
    "scaler_car = StandardScaler().fit(X2_train[car_cols])\n",
    "train_car_scaled = scaler_car.transform(X2_train[car_cols])\n",
    "test_car_scaled  = scaler_car.transform(X2_test[car_cols])\n",
    "\n",
    "pca_car = PCA(n_components=1).fit(train_car_scaled)\n",
    "X2_train[\"PC1_cars\"] = pca_car.transform(train_car_scaled)\n",
    "X2_test[\"PC1_cars\"]  = pca_car.transform(test_car_scaled)\n",
    "\n",
    "# ✅ ---- PCA for HGV ----\n",
    "scaler_hgv = StandardScaler().fit(X2_train[hgv_cols])\n",
    "train_hgv_scaled = scaler_hgv.transform(X2_train[hgv_cols])\n",
    "test_hgv_scaled  = scaler_hgv.transform(X2_test[hgv_cols])\n",
    "\n",
    "pca_hgv = PCA(n_components=1).fit(train_hgv_scaled)\n",
    "X2_train[\"PC1_hgv\"] = pca_hgv.transform(train_hgv_scaled)\n",
    "X2_test[\"PC1_hgv\"]  = pca_hgv.transform(test_hgv_scaled)"
   ]
  },
  {
   "cell_type": "code",
   "execution_count": 58,
   "id": "ac25f995",
   "metadata": {},
   "outputs": [],
   "source": [
    "scaler_car = StandardScaler().fit(X3_train[car_cols])\n",
    "train_car_scaled = scaler_car.transform(X3_train[car_cols])\n",
    "test_car_scaled  = scaler_car.transform(X3_test[car_cols])\n",
    "\n",
    "pca_car = PCA(n_components=1).fit(train_car_scaled)\n",
    "X3_train[\"PC1_cars\"] = pca_car.transform(train_car_scaled)\n",
    "X3_test[\"PC1_cars\"]  = pca_car.transform(test_car_scaled)\n",
    "\n",
    "# ✅ ---- PCA for HGV ----\n",
    "scaler_hgv = StandardScaler().fit(X3_train[hgv_cols])\n",
    "train_hgv_scaled = scaler_hgv.transform(X3_train[hgv_cols])\n",
    "test_hgv_scaled  = scaler_hgv.transform(X3_test[hgv_cols])\n",
    "\n",
    "pca_hgv = PCA(n_components=1).fit(train_hgv_scaled)\n",
    "X3_train[\"PC1_hgv\"] = pca_hgv.transform(train_hgv_scaled)\n",
    "X3_test[\"PC1_hgv\"]  = pca_hgv.transform(test_hgv_scaled)"
   ]
  },
  {
   "cell_type": "code",
   "execution_count": 59,
   "id": "7c96624c",
   "metadata": {},
   "outputs": [],
   "source": [
    "scaler_car = StandardScaler().fit(X4_train[car_cols])\n",
    "train_car_scaled = scaler_car.transform(X4_train[car_cols])\n",
    "test_car_scaled  = scaler_car.transform(X4_test[car_cols])\n",
    "\n",
    "pca_car = PCA(n_components=1).fit(train_car_scaled)\n",
    "X4_train[\"PC1_cars\"] = pca_car.transform(train_car_scaled)\n",
    "X4_test[\"PC1_cars\"]  = pca_car.transform(test_car_scaled)\n",
    "\n",
    "# ✅ ---- PCA for HGV ----\n",
    "scaler_hgv = StandardScaler().fit(X4_train[hgv_cols])\n",
    "train_hgv_scaled = scaler_hgv.transform(X4_train[hgv_cols])\n",
    "test_hgv_scaled  = scaler_hgv.transform(X4_test[hgv_cols])\n",
    "\n",
    "pca_hgv = PCA(n_components=1).fit(train_hgv_scaled)\n",
    "X4_train[\"PC1_hgv\"] = pca_hgv.transform(train_hgv_scaled)\n",
    "X4_test[\"PC1_hgv\"]  = pca_hgv.transform(test_hgv_scaled)"
   ]
  },
  {
   "cell_type": "code",
   "execution_count": 60,
   "id": "5a859b5e",
   "metadata": {},
   "outputs": [],
   "source": [
    "scaler_car = StandardScaler().fit(X5_train[car_cols])\n",
    "train_car_scaled = scaler_car.transform(X5_train[car_cols])\n",
    "test_car_scaled  = scaler_car.transform(X5_test[car_cols])\n",
    "\n",
    "pca_car = PCA(n_components=1).fit(train_car_scaled)\n",
    "X5_train[\"PC1_cars\"] = pca_car.transform(train_car_scaled)\n",
    "X5_test[\"PC1_cars\"]  = pca_car.transform(test_car_scaled)\n",
    "\n",
    "# ✅ ---- PCA for HGV ----\n",
    "scaler_hgv = StandardScaler().fit(X5_train[hgv_cols])\n",
    "train_hgv_scaled = scaler_hgv.transform(X5_train[hgv_cols])\n",
    "test_hgv_scaled  = scaler_hgv.transform(X5_test[hgv_cols])\n",
    "\n",
    "pca_hgv = PCA(n_components=1).fit(train_hgv_scaled)\n",
    "X5_train[\"PC1_hgv\"] = pca_hgv.transform(train_hgv_scaled)\n",
    "X5_test[\"PC1_hgv\"]  = pca_hgv.transform(test_hgv_scaled)"
   ]
  },
  {
   "cell_type": "code",
   "execution_count": 61,
   "id": "ad06096f",
   "metadata": {},
   "outputs": [],
   "source": [
    "scaler_car = StandardScaler().fit(X6_train[car_cols])\n",
    "train_car_scaled = scaler_car.transform(X6_train[car_cols])\n",
    "test_car_scaled  = scaler_car.transform(X6_test[car_cols])\n",
    "\n",
    "pca_car = PCA(n_components=1).fit(train_car_scaled)\n",
    "X6_train[\"PC1_cars\"] = pca_car.transform(train_car_scaled)\n",
    "X6_test[\"PC1_cars\"]  = pca_car.transform(test_car_scaled)\n",
    "\n",
    "# ✅ ---- PCA for HGV ----\n",
    "scaler_hgv = StandardScaler().fit(X6_train[hgv_cols])\n",
    "train_hgv_scaled = scaler_hgv.transform(X6_train[hgv_cols])\n",
    "test_hgv_scaled  = scaler_hgv.transform(X6_test[hgv_cols])\n",
    "\n",
    "pca_hgv = PCA(n_components=1).fit(train_hgv_scaled)\n",
    "X6_train[\"PC1_hgv\"] = pca_hgv.transform(train_hgv_scaled)\n",
    "X6_test[\"PC1_hgv\"]  = pca_hgv.transform(test_hgv_scaled)"
   ]
  },
  {
   "cell_type": "code",
   "execution_count": 62,
   "id": "fa9fcedb",
   "metadata": {},
   "outputs": [],
   "source": [
    "X1_train['station']='LG'\n",
    "X1_test['station']='LG'\n",
    "\n",
    "X2_train['station']='UCC'\n",
    "X2_test['station']='UCC'\n",
    "\n",
    "X3_train['station']='SPS'\n",
    "X3_test['station']='SPS'\n",
    "\n",
    "X4_train['station']='OP'\n",
    "X4_test['station']='OP'\n",
    "\n",
    "X5_train['station']='BS'\n",
    "X5_test['station']='BS'\n",
    "\n",
    "X6_train['station']='GP'\n",
    "X6_test['station']='GP'"
   ]
  },
  {
   "cell_type": "code",
   "execution_count": 63,
   "id": "37e776a9",
   "metadata": {},
   "outputs": [],
   "source": [
    "X1_train.drop(columns=['car_r1', 'hgv_r1', 'car_r2', 'hgv_r2', 'car_r3', 'hgv_r3', 'car_r4', 'hgv_r4'], axis=1, inplace=True)\n",
    "X2_train.drop(columns=['car_r1', 'hgv_r1', 'car_r2', 'hgv_r2', 'car_r3', 'hgv_r3', 'car_r4', 'hgv_r4'], axis=1, inplace=True)\n",
    "X3_train.drop(columns=['car_r1', 'hgv_r1', 'car_r2', 'hgv_r2', 'car_r3', 'hgv_r3', 'car_r4', 'hgv_r4'], axis=1, inplace=True)\n",
    "X4_train.drop(columns=['car_r1', 'hgv_r1', 'car_r2', 'hgv_r2', 'car_r3', 'hgv_r3', 'car_r4', 'hgv_r4'], axis=1, inplace=True)\n",
    "X5_train.drop(columns=['car_r1', 'hgv_r1', 'car_r2', 'hgv_r2', 'car_r3', 'hgv_r3', 'car_r4', 'hgv_r4'], axis=1, inplace=True)\n",
    "X6_train.drop(columns=['car_r1', 'hgv_r1', 'car_r2', 'hgv_r2', 'car_r3', 'hgv_r3', 'car_r4', 'hgv_r4'], axis=1, inplace=True)\n"
   ]
  },
  {
   "cell_type": "code",
   "execution_count": 64,
   "id": "47a5da71",
   "metadata": {},
   "outputs": [
    {
     "name": "stdout",
     "output_type": "stream",
     "text": [
      "Index(['Timestamp', 'temp', 'rhum', 'msl', 'wdsp', 'vis', 'clht', 'clamt',\n",
      "       'school_term', 'weekday_iso', 'wddir_sin', 'wddir_cos', 'day_of_year',\n",
      "       'rain_log1p', 'station', 'PC1_cars', 'PC1_hgv'],\n",
      "      dtype='object')\n",
      "Index(['Timestamp', 'temp', 'rhum', 'msl', 'wdsp', 'vis', 'clht', 'clamt',\n",
      "       'school_term', 'weekday_iso', 'wddir_sin', 'wddir_cos', 'day_of_year',\n",
      "       'rain_log1p', 'station', 'PC1_cars', 'PC1_hgv'],\n",
      "      dtype='object')\n",
      "Index(['Timestamp', 'temp', 'rhum', 'msl', 'wdsp', 'vis', 'clht', 'clamt',\n",
      "       'school_term', 'weekday_iso', 'wddir_sin', 'wddir_cos', 'day_of_year',\n",
      "       'rain_log1p', 'station', 'PC1_cars', 'PC1_hgv'],\n",
      "      dtype='object')\n"
     ]
    }
   ],
   "source": [
    "print(X1_train.columns)\n",
    "print(X2_train.columns)\n",
    "print(X3_train.columns)\n"
   ]
  },
  {
   "cell_type": "code",
   "execution_count": 65,
   "id": "24d67f90",
   "metadata": {},
   "outputs": [
    {
     "name": "stdout",
     "output_type": "stream",
     "text": [
      "Index(['Timestamp', 'temp', 'rhum', 'msl', 'wdsp', 'vis', 'clht', 'clamt',\n",
      "       'school_term', 'weekday_iso', 'wddir_sin', 'wddir_cos', 'day_of_year',\n",
      "       'rain_log1p', 'station', 'PC1_cars', 'PC1_hgv'],\n",
      "      dtype='object')\n",
      "Index(['Timestamp', 'temp', 'rhum', 'msl', 'wdsp', 'vis', 'clht', 'clamt',\n",
      "       'school_term', 'weekday_iso', 'wddir_sin', 'wddir_cos', 'day_of_year',\n",
      "       'rain_log1p', 'station', 'PC1_cars', 'PC1_hgv'],\n",
      "      dtype='object')\n",
      "Index(['Timestamp', 'temp', 'rhum', 'msl', 'wdsp', 'vis', 'clht', 'clamt',\n",
      "       'school_term', 'weekday_iso', 'wddir_sin', 'wddir_cos', 'day_of_year',\n",
      "       'rain_log1p', 'station', 'PC1_cars', 'PC1_hgv'],\n",
      "      dtype='object')\n"
     ]
    }
   ],
   "source": [
    "print(X4_train.columns)\n",
    "print(X5_train.columns)\n",
    "print(X6_train.columns)\n"
   ]
  },
  {
   "cell_type": "code",
   "execution_count": 79,
   "id": "5134006f",
   "metadata": {},
   "outputs": [],
   "source": [
    "X_train_combined = pd.concat([X1_train, X2_train, X3_train, X4_train, X5_train, X6_train], axis=0, ignore_index=True)\n",
    "X_test_combined = pd.concat([X1_test, X2_test, X3_test, X4_test, X5_test, X6_test], axis=0, ignore_index=True)\n",
    "\n",
    "y_train_combined = pd.concat([y1_train, y2_train, y3_train, y4_train, y5_train, y6_train], axis=0, ignore_index=True)\n",
    "y_test_combined = pd.concat([y1_test, y2_test, y3_test, y4_test, y5_test, y6_test], axis=0, ignore_index=True)"
   ]
  },
  {
   "cell_type": "code",
   "execution_count": 80,
   "id": "47b64031",
   "metadata": {},
   "outputs": [
    {
     "data": {
      "text/html": [
       "<div>\n",
       "<style scoped>\n",
       "    .dataframe tbody tr th:only-of-type {\n",
       "        vertical-align: middle;\n",
       "    }\n",
       "\n",
       "    .dataframe tbody tr th {\n",
       "        vertical-align: top;\n",
       "    }\n",
       "\n",
       "    .dataframe thead th {\n",
       "        text-align: right;\n",
       "    }\n",
       "</style>\n",
       "<table border=\"1\" class=\"dataframe\">\n",
       "  <thead>\n",
       "    <tr style=\"text-align: right;\">\n",
       "      <th></th>\n",
       "      <th>Timestamp</th>\n",
       "      <th>temp</th>\n",
       "      <th>rhum</th>\n",
       "      <th>msl</th>\n",
       "      <th>wdsp</th>\n",
       "      <th>vis</th>\n",
       "      <th>clht</th>\n",
       "      <th>clamt</th>\n",
       "      <th>school_term</th>\n",
       "      <th>weekday_iso</th>\n",
       "      <th>wddir_sin</th>\n",
       "      <th>wddir_cos</th>\n",
       "      <th>day_of_year</th>\n",
       "      <th>rain_log1p</th>\n",
       "      <th>cp24_meanNO2</th>\n",
       "      <th>PC1_cars</th>\n",
       "      <th>PC1_hgv</th>\n",
       "      <th>station</th>\n",
       "    </tr>\n",
       "  </thead>\n",
       "  <tbody>\n",
       "    <tr>\n",
       "      <th>46746</th>\n",
       "      <td>2024-03-12 23:00:00+00:00</td>\n",
       "      <td>10.2</td>\n",
       "      <td>99</td>\n",
       "      <td>1005.2</td>\n",
       "      <td>19</td>\n",
       "      <td>6000</td>\n",
       "      <td>3.0</td>\n",
       "      <td>7</td>\n",
       "      <td>1</td>\n",
       "      <td>2</td>\n",
       "      <td>-0.500000</td>\n",
       "      <td>-0.866025</td>\n",
       "      <td>72</td>\n",
       "      <td>0.0</td>\n",
       "      <td>9.741306</td>\n",
       "      <td>-2.179937</td>\n",
       "      <td>-1.834571</td>\n",
       "      <td>GP</td>\n",
       "    </tr>\n",
       "    <tr>\n",
       "      <th>46747</th>\n",
       "      <td>2024-05-19 03:00:00+01:00</td>\n",
       "      <td>11.7</td>\n",
       "      <td>94</td>\n",
       "      <td>1017.5</td>\n",
       "      <td>11</td>\n",
       "      <td>20000</td>\n",
       "      <td>36.0</td>\n",
       "      <td>7</td>\n",
       "      <td>1</td>\n",
       "      <td>7</td>\n",
       "      <td>-0.500000</td>\n",
       "      <td>0.866025</td>\n",
       "      <td>140</td>\n",
       "      <td>0.0</td>\n",
       "      <td>8.326770</td>\n",
       "      <td>-2.378826</td>\n",
       "      <td>-1.965919</td>\n",
       "      <td>GP</td>\n",
       "    </tr>\n",
       "    <tr>\n",
       "      <th>46748</th>\n",
       "      <td>2024-05-20 14:00:00+01:00</td>\n",
       "      <td>20.2</td>\n",
       "      <td>59</td>\n",
       "      <td>1013.7</td>\n",
       "      <td>7</td>\n",
       "      <td>40000</td>\n",
       "      <td>20.0</td>\n",
       "      <td>2</td>\n",
       "      <td>1</td>\n",
       "      <td>1</td>\n",
       "      <td>0.766044</td>\n",
       "      <td>-0.642788</td>\n",
       "      <td>141</td>\n",
       "      <td>0.0</td>\n",
       "      <td>15.480163</td>\n",
       "      <td>1.649726</td>\n",
       "      <td>2.431641</td>\n",
       "      <td>GP</td>\n",
       "    </tr>\n",
       "    <tr>\n",
       "      <th>46749</th>\n",
       "      <td>2024-05-27 10:00:00+01:00</td>\n",
       "      <td>10.6</td>\n",
       "      <td>86</td>\n",
       "      <td>1012.7</td>\n",
       "      <td>6</td>\n",
       "      <td>30000</td>\n",
       "      <td>60.0</td>\n",
       "      <td>7</td>\n",
       "      <td>1</td>\n",
       "      <td>1</td>\n",
       "      <td>-0.342020</td>\n",
       "      <td>-0.939693</td>\n",
       "      <td>148</td>\n",
       "      <td>0.0</td>\n",
       "      <td>9.400031</td>\n",
       "      <td>0.779190</td>\n",
       "      <td>3.489327</td>\n",
       "      <td>GP</td>\n",
       "    </tr>\n",
       "    <tr>\n",
       "      <th>46750</th>\n",
       "      <td>2023-09-11 14:00:00+01:00</td>\n",
       "      <td>18.4</td>\n",
       "      <td>82</td>\n",
       "      <td>1012.6</td>\n",
       "      <td>8</td>\n",
       "      <td>35000</td>\n",
       "      <td>40.0</td>\n",
       "      <td>6</td>\n",
       "      <td>1</td>\n",
       "      <td>1</td>\n",
       "      <td>-0.642788</td>\n",
       "      <td>-0.766044</td>\n",
       "      <td>254</td>\n",
       "      <td>0.0</td>\n",
       "      <td>11.226978</td>\n",
       "      <td>1.455422</td>\n",
       "      <td>2.201058</td>\n",
       "      <td>GP</td>\n",
       "    </tr>\n",
       "  </tbody>\n",
       "</table>\n",
       "</div>"
      ],
      "text/plain": [
       "                      Timestamp  temp  rhum     msl  wdsp    vis  clht  clamt  \\\n",
       "46746 2024-03-12 23:00:00+00:00  10.2    99  1005.2    19   6000   3.0      7   \n",
       "46747 2024-05-19 03:00:00+01:00  11.7    94  1017.5    11  20000  36.0      7   \n",
       "46748 2024-05-20 14:00:00+01:00  20.2    59  1013.7     7  40000  20.0      2   \n",
       "46749 2024-05-27 10:00:00+01:00  10.6    86  1012.7     6  30000  60.0      7   \n",
       "46750 2023-09-11 14:00:00+01:00  18.4    82  1012.6     8  35000  40.0      6   \n",
       "\n",
       "      school_term weekday_iso  wddir_sin  wddir_cos  day_of_year  rain_log1p  \\\n",
       "46746           1           2  -0.500000  -0.866025           72         0.0   \n",
       "46747           1           7  -0.500000   0.866025          140         0.0   \n",
       "46748           1           1   0.766044  -0.642788          141         0.0   \n",
       "46749           1           1  -0.342020  -0.939693          148         0.0   \n",
       "46750           1           1  -0.642788  -0.766044          254         0.0   \n",
       "\n",
       "       cp24_meanNO2  PC1_cars   PC1_hgv station  \n",
       "46746      9.741306 -2.179937 -1.834571      GP  \n",
       "46747      8.326770 -2.378826 -1.965919      GP  \n",
       "46748     15.480163  1.649726  2.431641      GP  \n",
       "46749      9.400031  0.779190  3.489327      GP  \n",
       "46750     11.226978  1.455422  2.201058      GP  "
      ]
     },
     "execution_count": 80,
     "metadata": {},
     "output_type": "execute_result"
    }
   ],
   "source": [
    "X_train_combined.tail()"
   ]
  },
  {
   "cell_type": "code",
   "execution_count": 81,
   "id": "d4ad7b35",
   "metadata": {},
   "outputs": [
    {
     "data": {
      "text/plain": [
       "array([11.9       ,  6.49      ,  1.44      , ..., 14.69266667,\n",
       "        9.818     ,  6.51433333])"
      ]
     },
     "execution_count": 81,
     "metadata": {},
     "output_type": "execute_result"
    }
   ],
   "source": [
    "y_train_combined.values"
   ]
  },
  {
   "cell_type": "code",
   "execution_count": 82,
   "id": "18008af0",
   "metadata": {},
   "outputs": [
    {
     "data": {
      "text/plain": [
       "Index(['Timestamp', 'rain', 'temp', 'rhum', 'msl', 'wdsp', 'vis', 'clht',\n",
       "       'clamt', 'NO2', 'school_term', 'weekday_iso', 'wddir_sin', 'wddir_cos',\n",
       "       'day_of_year', 'rain_log1p', 'car_r1', 'hgv_r1', 'car_r2', 'hgv_r2',\n",
       "       'car_r3', 'hgv_r3', 'car_r4', 'hgv_r4', 'cp24_meanNO2'],\n",
       "      dtype='object')"
      ]
     },
     "execution_count": 82,
     "metadata": {},
     "output_type": "execute_result"
    }
   ],
   "source": [
    "df_combined.columns"
   ]
  },
  {
   "cell_type": "code",
   "execution_count": 66,
   "id": "be22a981",
   "metadata": {},
   "outputs": [
    {
     "data": {
      "text/plain": [
       "Index(['Timestamp', 'rain', 'temp', 'rhum', 'msl', 'wdsp', 'vis', 'clht',\n",
       "       'clamt', 'NO2', 'school_term', 'weekday_iso', 'wddir_sin', 'wddir_cos',\n",
       "       'day_of_year', 'rain_log1p', 'car_r1', 'hgv_r1', 'car_r2', 'hgv_r2',\n",
       "       'car_r3', 'hgv_r3', 'car_r4', 'hgv_r4', 'station'],\n",
       "      dtype='object')"
      ]
     },
     "execution_count": 66,
     "metadata": {},
     "output_type": "execute_result"
    }
   ],
   "source": [
    "df3.columns"
   ]
  },
  {
   "cell_type": "code",
   "execution_count": 67,
   "id": "53997146",
   "metadata": {},
   "outputs": [
    {
     "name": "stdout",
     "output_type": "stream",
     "text": [
      "car_r1        0.155245\n",
      "hgv_r1        0.037466\n",
      "car_r2        0.159026\n",
      "hgv_r2        0.006609\n",
      "car_r3        0.159774\n",
      "hgv_r3        0.047983\n",
      "car_r4        0.137289\n",
      "hgv_r4        0.082387\n",
      "rain_log1p    0.114094\n",
      "temp         -0.336682\n",
      "rhum          0.241790\n",
      "msl          -0.154241\n",
      "wdsp         -0.203321\n",
      "vis          -0.161359\n",
      "clamt        -0.000777\n",
      "clht          0.056717\n",
      "Name: NO2, dtype: float64\n"
     ]
    }
   ],
   "source": [
    "df_corr = df3[['car_r1', 'hgv_r1', 'car_r2', 'hgv_r2',\n",
    "       'car_r3', 'hgv_r3', 'car_r4', 'hgv_r4','rain_log1p','temp','rhum','msl','wdsp','vis','clamt','clht']].copy()\n",
    "df_corr['NO2'] = df3['NO2']\n",
    "\n",
    "# Compute correlations with NO2\n",
    "correlations = df_corr.corr()['NO2'].drop('NO2')  # Drop self-correlation\n",
    "print(correlations)"
   ]
  },
  {
   "cell_type": "code",
   "execution_count": 68,
   "id": "f184c19c",
   "metadata": {},
   "outputs": [
    {
     "data": {
      "text/plain": [
       "<AxesSubplot: >"
      ]
     },
     "execution_count": 68,
     "metadata": {},
     "output_type": "execute_result"
    },
    {
     "data": {
      "image/png": "[encoded data removed]",
      "text/plain": [
       "<Figure size 640x480 with 2 Axes>"
      ]
     },
     "metadata": {},
     "output_type": "display_data"
    }
   ],
   "source": [
    "import seaborn as sns\n",
    "sns.heatmap(df_corr.corr())"
   ]
  },
  {
   "cell_type": "code",
   "execution_count": 114,
   "id": "97a11c23",
   "metadata": {},
   "outputs": [
    {
     "name": "stdout",
     "output_type": "stream",
     "text": [
      "PC1_cars      0.153471\n",
      "PC1_hgv       0.043845\n",
      "rain_log1p    0.112874\n",
      "temp         -0.336980\n",
      "rhum          0.244293\n",
      "msl          -0.157911\n",
      "wdsp         -0.202841\n",
      "vis          -0.163124\n",
      "clamt        -0.001391\n",
      "clht          0.053534\n",
      "Name: NO2, dtype: float64\n"
     ]
    }
   ],
   "source": [
    "# Combine X and y\n",
    "df_corr = X3_train[['PC1_cars','PC1_hgv','rain_log1p','temp','rhum','msl','wdsp','vis','clamt','clht']].copy()\n",
    "df_corr['NO2'] = y3_train.values\n",
    "\n",
    "# Compute correlations with NO2\n",
    "correlations = df_corr.corr()['NO2'].drop('NO2')  # Drop self-correlation\n",
    "print(correlations)"
   ]
  },
  {
   "cell_type": "code",
   "execution_count": 115,
   "id": "12fd3e74",
   "metadata": {},
   "outputs": [
    {
     "data": {
      "text/plain": [
       "<AxesSubplot: >"
      ]
     },
     "execution_count": 115,
     "metadata": {},
     "output_type": "execute_result"
    },
    {
     "data": {
      "image/png": "[encoded data removed]",
      "text/plain": [
       "<Figure size 640x480 with 2 Axes>"
      ]
     },
     "metadata": {},
     "output_type": "display_data"
    }
   ],
   "source": [
    "sns.heatmap(df_corr.corr())"
   ]
  },
  {
   "cell_type": "code",
   "execution_count": 117,
   "id": "27e4c017",
   "metadata": {},
   "outputs": [
    {
     "data": {
      "image/png": "[encoded data removed]",
      "text/plain": [
       "<Figure size 400x600 with 2 Axes>"
      ]
     },
     "metadata": {},
     "output_type": "display_data"
    }
   ],
   "source": [
    "import seaborn as sns\n",
    "import matplotlib.pyplot as plt\n",
    "\n",
    "# Compute correlation matrix\n",
    "corr = df_corr.corr()\n",
    "\n",
    "# Select only the NO2 row and drop the self-correlation\n",
    "no2_corr = corr[['NO2']].drop('NO2')\n",
    "\n",
    "# Plot as heatmap\n",
    "plt.figure(figsize=(4,6))\n",
    "sns.heatmap(no2_corr, annot=True, cmap='coolwarm', center=0)\n",
    "plt.title(\"Correlation of Features with NO₂ (St Patrick's Street)\")\n",
    "plt.show()"
   ]
  },
  {
   "cell_type": "code",
   "execution_count": 86,
   "id": "363d5b33",
   "metadata": {},
   "outputs": [],
   "source": [
    "X_train_combined['station']=X_train_combined['station'].astype('category')\n",
    "X_test_combined['station']=X_test_combined['station'].astype('category')\n"
   ]
  },
  {
   "cell_type": "code",
   "execution_count": 87,
   "id": "cde02a7c",
   "metadata": {},
   "outputs": [],
   "source": [
    "X_train_combined['hour']=X_train_combined['Timestamp'].dt.hour\n",
    "X_test_combined['hour']=X_test_combined['Timestamp'].dt.hour\n"
   ]
  },
  {
   "cell_type": "code",
   "execution_count": 89,
   "id": "45ad7fd2",
   "metadata": {},
   "outputs": [
    {
     "data": {
      "text/plain": [
       "0        LG\n",
       "1        LG\n",
       "2        LG\n",
       "3        LG\n",
       "4        LG\n",
       "         ..\n",
       "46746    GP\n",
       "46747    GP\n",
       "46748    GP\n",
       "46749    GP\n",
       "46750    GP\n",
       "Name: station, Length: 46751, dtype: category\n",
       "Categories (6, object): ['BS', 'GP', 'LG', 'OP', 'SPS', 'UCC']"
      ]
     },
     "execution_count": 89,
     "metadata": {},
     "output_type": "execute_result"
    }
   ],
   "source": [
    "X_train_combined['station']"
   ]
  },
  {
   "cell_type": "code",
   "execution_count": 90,
   "id": "73ff495f",
   "metadata": {},
   "outputs": [],
   "source": [
    "from sklearn.preprocessing import LabelEncoder\n",
    "\n",
    "# Assuming your column is a pandas Series named 'station'\n",
    "label_encoder = LabelEncoder()\n",
    "station_encoded = label_encoder.fit_transform(X_train_combined['station'])\n",
    "\n",
    "# If you want to store it back in the DataFrame:\n",
    "X_train_combined['station_encoded'] = station_encoded"
   ]
  },
  {
   "cell_type": "code",
   "execution_count": null,
   "id": "c6e041cf",
   "metadata": {},
   "outputs": [],
   "source": []
  },
  {
   "cell_type": "code",
   "execution_count": 91,
   "id": "f28a3ea0",
   "metadata": {},
   "outputs": [
    {
     "name": "stdout",
     "output_type": "stream",
     "text": [
      "            Feature  Importance\n",
      "15  station_encoded    0.326884\n",
      "12         PC1_cars    0.118428\n",
      "0              temp    0.106316\n",
      "10      day_of_year    0.092123\n",
      "3              wdsp    0.090197\n",
      "8         wddir_sin    0.049310\n",
      "14             hour    0.041337\n",
      "13          PC1_hgv    0.037409\n",
      "2               msl    0.036356\n",
      "9         wddir_cos    0.029206\n",
      "1              rhum    0.021435\n",
      "5              clht    0.015983\n",
      "4               vis    0.015042\n",
      "6             clamt    0.010470\n",
      "11       rain_log1p    0.005084\n",
      "7       school_term    0.004420\n"
     ]
    },
    {
     "data": {
      "image/png": "[encoded data removed]",
      "text/plain": [
       "<Figure size 1200x1000 with 1 Axes>"
      ]
     },
     "metadata": {},
     "output_type": "display_data"
    }
   ],
   "source": [
    "import pandas as pd\n",
    "from sklearn.ensemble import RandomForestRegressor\n",
    "import matplotlib.pyplot as plt\n",
    "\n",
    "features =X_train_combined.drop(columns=['weekday_iso','Timestamp','station','cp24_meanNO2'])\n",
    "target = y_train_combined.values\n",
    "\n",
    "# Train Random Forest Regressor\n",
    "rf_model = RandomForestRegressor()\n",
    "rf_model.fit(features, target)\n",
    "\n",
    "# Extract feature importance\n",
    "feature_importance = rf_model.feature_importances_\n",
    "\n",
    "# Create a DataFrame to store feature importance scores\n",
    "feature_importance_df = pd.DataFrame({'Feature': features.columns, 'Importance': feature_importance})\n",
    "\n",
    "# Sort features by importance score in descending order\n",
    "feature_importance_df = feature_importance_df.sort_values(by='Importance', ascending=False)\n",
    "print(feature_importance_df)\n",
    "street_name='St. Patrick\\'s Street'\n",
    "# Plot feature importance\n",
    "plt.figure(figsize=(12, 10))\n",
    "plt.barh(feature_importance_df['Feature'], feature_importance_df['Importance'])\n",
    "plt.xlabel('Feature Importance')\n",
    "plt.ylabel('Feature')\n",
    "plt.title(f'Feature Importance for NO2 Forecasting: {street_name}')\n",
    "plt.show()"
   ]
  },
  {
   "cell_type": "code",
   "execution_count": 95,
   "id": "686451c9",
   "metadata": {},
   "outputs": [],
   "source": [
    "X_train_combined = X_train_combined.dropna(subset=['cp24_meanNO2'])\n",
    "y_train_combined = y_train_combined.loc[X_train_combined.index]  "
   ]
  },
  {
   "cell_type": "code",
   "execution_count": 111,
   "id": "fb5f8c2b",
   "metadata": {},
   "outputs": [
    {
     "data": {
      "text/plain": [
       "Index(['Timestamp', 'temp', 'rhum', 'msl', 'wdsp', 'vis', 'clht', 'clamt',\n",
       "       'school_term', 'weekday_iso', 'wddir_sin', 'wddir_cos', 'day_of_year',\n",
       "       'rain_log1p', 'cp24_meanNO2', 'PC1_cars', 'PC1_hgv', 'station', 'hour',\n",
       "       'station_encoded'],\n",
       "      dtype='object')"
      ]
     },
     "execution_count": 111,
     "metadata": {},
     "output_type": "execute_result"
    }
   ],
   "source": [
    "X_train_combined.columns"
   ]
  },
  {
   "cell_type": "code",
   "execution_count": 96,
   "id": "e1e7d868",
   "metadata": {},
   "outputs": [
    {
     "name": "stdout",
     "output_type": "stream",
     "text": [
      "Index(['Timestamp', 'temp', 'rhum', 'msl', 'wdsp', 'vis', 'clht', 'clamt',\n",
      "       'school_term', 'wddir_sin', 'wddir_cos', 'day_of_year', 'rain_log1p',\n",
      "       'cp24_meanNO2', 'PC1_cars', 'PC1_hgv', 'hour', 'station_encoded',\n",
      "       'station_BS', 'station_GP', 'station_LG', 'station_OP', 'station_SPS',\n",
      "       'station_UCC', 'weekday_iso_1', 'weekday_iso_2', 'weekday_iso_3',\n",
      "       'weekday_iso_4', 'weekday_iso_5', 'weekday_iso_6', 'weekday_iso_7'],\n",
      "      dtype='object')\n"
     ]
    }
   ],
   "source": [
    "X_train_new= pd.get_dummies(X_train_combined, columns=['station'])\n",
    "X_train_new= pd.get_dummies(X_train_new, columns=['weekday_iso'])\n",
    "\n",
    "# Display the encoded dataframe\n",
    "print(X_train_new.columns)\n"
   ]
  },
  {
   "cell_type": "code",
   "execution_count": 97,
   "id": "a12c46ee",
   "metadata": {},
   "outputs": [
    {
     "data": {
      "text/html": [
       "<div>\n",
       "<style scoped>\n",
       "    .dataframe tbody tr th:only-of-type {\n",
       "        vertical-align: middle;\n",
       "    }\n",
       "\n",
       "    .dataframe tbody tr th {\n",
       "        vertical-align: top;\n",
       "    }\n",
       "\n",
       "    .dataframe thead th {\n",
       "        text-align: right;\n",
       "    }\n",
       "</style>\n",
       "<table border=\"1\" class=\"dataframe\">\n",
       "  <thead>\n",
       "    <tr style=\"text-align: right;\">\n",
       "      <th></th>\n",
       "      <th>Timestamp</th>\n",
       "      <th>temp</th>\n",
       "      <th>rhum</th>\n",
       "      <th>msl</th>\n",
       "      <th>wdsp</th>\n",
       "      <th>vis</th>\n",
       "      <th>clht</th>\n",
       "      <th>clamt</th>\n",
       "      <th>school_term</th>\n",
       "      <th>wddir_sin</th>\n",
       "      <th>...</th>\n",
       "      <th>station_OP</th>\n",
       "      <th>station_SPS</th>\n",
       "      <th>station_UCC</th>\n",
       "      <th>weekday_iso_1</th>\n",
       "      <th>weekday_iso_2</th>\n",
       "      <th>weekday_iso_3</th>\n",
       "      <th>weekday_iso_4</th>\n",
       "      <th>weekday_iso_5</th>\n",
       "      <th>weekday_iso_6</th>\n",
       "      <th>weekday_iso_7</th>\n",
       "    </tr>\n",
       "  </thead>\n",
       "  <tbody>\n",
       "  </tbody>\n",
       "</table>\n",
       "<p>0 rows × 31 columns</p>\n",
       "</div>"
      ],
      "text/plain": [
       "Empty DataFrame\n",
       "Columns: [Timestamp, temp, rhum, msl, wdsp, vis, clht, clamt, school_term, wddir_sin, wddir_cos, day_of_year, rain_log1p, cp24_meanNO2, PC1_cars, PC1_hgv, hour, station_encoded, station_BS, station_GP, station_LG, station_OP, station_SPS, station_UCC, weekday_iso_1, weekday_iso_2, weekday_iso_3, weekday_iso_4, weekday_iso_5, weekday_iso_6, weekday_iso_7]\n",
       "Index: []\n",
       "\n",
       "[0 rows x 31 columns]"
      ]
     },
     "execution_count": 97,
     "metadata": {},
     "output_type": "execute_result"
    }
   ],
   "source": [
    "X_train_new[X_train_combined['cp24_meanNO2'].isna()]"
   ]
  },
  {
   "cell_type": "code",
   "execution_count": 113,
   "id": "fc3abfd7",
   "metadata": {},
   "outputs": [
    {
     "data": {
      "text/plain": [
       "Index(['Timestamp', 'temp', 'rhum', 'msl', 'wdsp', 'vis', 'clht', 'clamt',\n",
       "       'school_term', 'wddir_sin', 'wddir_cos', 'day_of_year', 'rain_log1p',\n",
       "       'cp24_meanNO2', 'PC1_cars', 'PC1_hgv', 'hour', 'station_BS',\n",
       "       'station_GP', 'station_LG', 'station_OP', 'station_SPS', 'station_UCC',\n",
       "       'weekday_iso_1', 'weekday_iso_2', 'weekday_iso_3', 'weekday_iso_4',\n",
       "       'weekday_iso_5', 'weekday_iso_6', 'weekday_iso_7'],\n",
       "      dtype='object')"
      ]
     },
     "execution_count": 113,
     "metadata": {},
     "output_type": "execute_result"
    }
   ],
   "source": [
    "X_train_new.columns"
   ]
  },
  {
   "cell_type": "code",
   "execution_count": 114,
   "id": "727fb34a",
   "metadata": {},
   "outputs": [
    {
     "name": "stderr",
     "output_type": "stream",
     "text": [
      "c:\\Python\\Python311\\Lib\\site-packages\\sklearn\\base.py:409: UserWarning: X does not have valid feature names, but IsolationForest was fitted with feature names\n",
      "  warnings.warn(\n"
     ]
    },
    {
     "name": "stdout",
     "output_type": "stream",
     "text": [
      "Mean Absolute Error (MAE) - Isolation Forest: 2.79\n",
      "Root Mean Squared Error (RMSE) - Isolation Forest: 4.60\n",
      "R-squared (R2) - Isolation Forest: 0.85\n"
     ]
    }
   ],
   "source": [
    "#1.Using ISOLATION FOREST for anamoly detection during model training \n",
    "from sklearn.model_selection import train_test_split\n",
    "from sklearn.ensemble import RandomForestRegressor, IsolationForest\n",
    "from sklearn.metrics import mean_absolute_error, mean_squared_error, r2_score\n",
    "from math import sqrt\n",
    "\n",
    "# Features (X) and Target (y) for Isolation Forest\n",
    "X_IF = X_train_new.drop(columns=['Timestamp'])  # Features excluding the target variable\n",
    "y_IF = y_train_combined.values  # Target variable\n",
    "\n",
    "# Initialize and fit Isolation Forest for outlier detection\n",
    "outlier_detector_IF = IsolationForest(contamination=0.01, random_state=42)  # Adjust contamination parameter as needed\n",
    "outlier_detector_IF.fit(X_IF)  # Approximately 1% of the data points are expected to be outliers\n",
    "\n",
    "# Filter anomalies from the training data for Isolation Forest\n",
    "is_normal_IF = outlier_detector_IF.predict(X_IF) == 1\n",
    "X_filtered_IF = X_IF[is_normal_IF]\n",
    "y_filtered_IF = y_IF[is_normal_IF]\n",
    "\n",
    "# Split the filtered data into training and testing sets for Isolation Forest (80:20 ratio)\n",
    "X_train_IF, X_test_IF, y_train_IF, y_test_IF = train_test_split(X_filtered_IF, y_filtered_IF, test_size=0.2, random_state=42)\n",
    "\n",
    "# Build the Random Forest model for Isolation Forest\n",
    "rf_model_IF = RandomForestRegressor(n_estimators=400, random_state=42)  # You can adjust hyperparameters\n",
    "\n",
    "# Fit the model on the training data for Isolation Forest\n",
    "rf_model_IF.fit(X_train_IF, y_train_IF)\n",
    "\n",
    "# Make predictions on the test set for Isolation Forest\n",
    "y_pred_IF = rf_model_IF.predict(X_test_IF)\n",
    "\n",
    "# Evaluate the model for Isolation Forest\n",
    "mae_IF = mean_absolute_error(y_test_IF, y_pred_IF)\n",
    "rmse_IF = sqrt(mean_squared_error(y_test_IF, y_pred_IF))\n",
    "r_squared_IF = r2_score(y_test_IF, y_pred_IF)\n",
    "\n",
    "# Display the evaluation metrics for Isolation Forest\n",
    "print(f'Mean Absolute Error (MAE) - Isolation Forest: {mae_IF:.2f}')\n",
    "print(f'Root Mean Squared Error (RMSE) - Isolation Forest: {rmse_IF:.2f}')\n",
    "print(f'R-squared (R2) - Isolation Forest: {r_squared_IF:.2f}')\n"
   ]
  },
  {
   "cell_type": "code",
   "execution_count": 115,
   "id": "476768d6",
   "metadata": {},
   "outputs": [
    {
     "name": "stdout",
     "output_type": "stream",
     "text": [
      "Final Model (contamination=0.01)\n",
      "MAE: 2.81 | RMSE: 4.62 | R²: 0.84\n"
     ]
    }
   ],
   "source": [
    "import pandas as pd\n",
    "import numpy as np\n",
    "from sklearn.preprocessing import StandardScaler\n",
    "from sklearn.ensemble import IsolationForest, RandomForestRegressor\n",
    "from sklearn.metrics import mean_absolute_error, mean_squared_error, r2_score\n",
    "from sklearn.model_selection import train_test_split\n",
    "from math import sqrt\n",
    "import matplotlib.pyplot as plt\n",
    "\n",
    "# ---------- PREPARE DATA ----------\n",
    "df = X_train_new.copy()\n",
    "\n",
    "\n",
    "# Features and target\n",
    "X = df.drop(columns=['Timestamp'])\n",
    "y = y_train_combined.values\n",
    "\n",
    "# Scale features for Isolation Forest\n",
    "scaler = StandardScaler()\n",
    "X_scaled = scaler.fit_transform(X)\n",
    "\n",
    "# ---------- ISOLATION FOREST OUTLIER REMOVAL ----------\n",
    "contamination = 0.01  # best contamination\n",
    "iso = IsolationForest(contamination=contamination, random_state=42)\n",
    "iso.fit(X_scaled)\n",
    "\n",
    "is_normal = iso.predict(X_scaled) == 1\n",
    "X_filtered, y_filtered = X[is_normal], y[is_normal]\n",
    "\n",
    "# ---------- TRAIN/TEST SPLIT ----------\n",
    "X_train, X_test, y_train, y_test = train_test_split(\n",
    "    X_filtered, y_filtered, test_size=0.2, random_state=42\n",
    ")\n",
    "\n",
    "# ---------- FINAL RANDOM FOREST WITH BEST PARAMS ----------\n",
    "best_model = RandomForestRegressor(\n",
    "    max_depth=20,\n",
    "    min_samples_leaf=1,\n",
    "    min_samples_split=2,\n",
    "    n_estimators=400,\n",
    "    random_state=42\n",
    ")\n",
    "\n",
    "best_model.fit(X_train, y_train)\n",
    "\n",
    "# ---------- EVALUATE ----------\n",
    "y_pred = best_model.predict(X_test)\n",
    "\n",
    "mae = mean_absolute_error(y_test, y_pred)\n",
    "rmse = sqrt(mean_squared_error(y_test, y_pred))\n",
    "r2 = r2_score(y_test, y_pred)\n",
    "\n",
    "print(f\"Final Model (contamination={contamination})\")\n",
    "print(f\"MAE: {mae:.2f} | RMSE: {rmse:.2f} | R²: {r2:.2f}\")\n",
    "\n",
    "\n"
   ]
  },
  {
   "cell_type": "code",
   "execution_count": 116,
   "id": "462aa56e",
   "metadata": {},
   "outputs": [
    {
     "data": {
      "image/png": "[encoded data removed]",
      "text/plain": [
       "<Figure size 1000x600 with 1 Axes>"
      ]
     },
     "metadata": {},
     "output_type": "display_data"
    }
   ],
   "source": [
    "import matplotlib.pyplot as plt\n",
    "\n",
    "# Plot scatter plot of actual vs predicted NO2 values for the Isolation Forest model on the test set\n",
    "plt.figure(figsize=(10, 6))\n",
    "plt.scatter(y_test, y_pred, color='blue', alpha=0.5)\n",
    "\n",
    "# Add a diagonal line for reference\n",
    "plt.plot([y_test.min(), y_test.max()], \n",
    "         [y_test.min(), y_test.max()], \n",
    "         color='red', linestyle='--')\n",
    "\n",
    "# Set labels and title\n",
    "plt.xlabel('Actual NO2 Concentration')\n",
    "plt.ylabel('Predicted NO2 Concentration')\n",
    "plt.title('Actual vs Predicted NO2 Concentration (Isolation Forest Model - Test Dataset)')\n",
    "\n",
    "# Add grid lines on the background\n",
    "plt.grid(True)\n",
    "\n",
    "# Display the plot\n",
    "plt.tight_layout()\n",
    "plt.show()"
   ]
  },
  {
   "cell_type": "code",
   "execution_count": 117,
   "id": "e19f3811",
   "metadata": {},
   "outputs": [
    {
     "data": {
      "text/plain": [
       "[4, 2, 7, 3, 6, 5, 1]\n",
       "Categories (7, int64): [1, 2, 3, 4, 5, 6, 7]"
      ]
     },
     "execution_count": 117,
     "metadata": {},
     "output_type": "execute_result"
    }
   ],
   "source": [
    "X_test_combined['weekday_iso'].unique()"
   ]
  },
  {
   "cell_type": "code",
   "execution_count": 118,
   "id": "ebcb2643",
   "metadata": {},
   "outputs": [
    {
     "data": {
      "text/html": [
       "<div>\n",
       "<style scoped>\n",
       "    .dataframe tbody tr th:only-of-type {\n",
       "        vertical-align: middle;\n",
       "    }\n",
       "\n",
       "    .dataframe tbody tr th {\n",
       "        vertical-align: top;\n",
       "    }\n",
       "\n",
       "    .dataframe thead th {\n",
       "        text-align: right;\n",
       "    }\n",
       "</style>\n",
       "<table border=\"1\" class=\"dataframe\">\n",
       "  <thead>\n",
       "    <tr style=\"text-align: right;\">\n",
       "      <th></th>\n",
       "      <th>Timestamp</th>\n",
       "      <th>temp</th>\n",
       "      <th>rhum</th>\n",
       "      <th>msl</th>\n",
       "      <th>wdsp</th>\n",
       "      <th>vis</th>\n",
       "      <th>clht</th>\n",
       "      <th>clamt</th>\n",
       "      <th>school_term</th>\n",
       "      <th>weekday_iso</th>\n",
       "      <th>...</th>\n",
       "      <th>hgv_r2</th>\n",
       "      <th>car_r3</th>\n",
       "      <th>hgv_r3</th>\n",
       "      <th>car_r4</th>\n",
       "      <th>hgv_r4</th>\n",
       "      <th>cp24_meanNO2</th>\n",
       "      <th>PC1_cars</th>\n",
       "      <th>PC1_hgv</th>\n",
       "      <th>station</th>\n",
       "      <th>hour</th>\n",
       "    </tr>\n",
       "  </thead>\n",
       "  <tbody>\n",
       "  </tbody>\n",
       "</table>\n",
       "<p>0 rows × 27 columns</p>\n",
       "</div>"
      ],
      "text/plain": [
       "Empty DataFrame\n",
       "Columns: [Timestamp, temp, rhum, msl, wdsp, vis, clht, clamt, school_term, weekday_iso, wddir_sin, wddir_cos, day_of_year, rain_log1p, car_r1, hgv_r1, car_r2, hgv_r2, car_r3, hgv_r3, car_r4, hgv_r4, cp24_meanNO2, PC1_cars, PC1_hgv, station, hour]\n",
       "Index: []\n",
       "\n",
       "[0 rows x 27 columns]"
      ]
     },
     "execution_count": 118,
     "metadata": {},
     "output_type": "execute_result"
    }
   ],
   "source": [
    "X_test_combined[X_test_combined['cp24_meanNO2'].isna()]"
   ]
  },
  {
   "cell_type": "code",
   "execution_count": 119,
   "id": "81bbbadc",
   "metadata": {},
   "outputs": [],
   "source": [
    "X_test_combined = X_test_combined.dropna(subset=['cp24_meanNO2'])\n",
    "y_test_combined = y_test_combined.loc[X_test_combined.index]  "
   ]
  },
  {
   "cell_type": "code",
   "execution_count": 120,
   "id": "fb258782",
   "metadata": {},
   "outputs": [
    {
     "name": "stdout",
     "output_type": "stream",
     "text": [
      "Index(['Timestamp', 'temp', 'rhum', 'msl', 'wdsp', 'vis', 'clht', 'clamt',\n",
      "       'school_term', 'wddir_sin', 'wddir_cos', 'day_of_year', 'rain_log1p',\n",
      "       'car_r1', 'hgv_r1', 'car_r2', 'hgv_r2', 'car_r3', 'hgv_r3', 'car_r4',\n",
      "       'hgv_r4', 'cp24_meanNO2', 'PC1_cars', 'PC1_hgv', 'hour',\n",
      "       'weekday_iso_1', 'weekday_iso_2', 'weekday_iso_3', 'weekday_iso_4',\n",
      "       'weekday_iso_5', 'weekday_iso_6', 'weekday_iso_7', 'station_BS',\n",
      "       'station_GP', 'station_LG', 'station_OP', 'station_SPS', 'station_UCC'],\n",
      "      dtype='object')\n"
     ]
    },
    {
     "data": {
      "text/html": [
       "<div>\n",
       "<style scoped>\n",
       "    .dataframe tbody tr th:only-of-type {\n",
       "        vertical-align: middle;\n",
       "    }\n",
       "\n",
       "    .dataframe tbody tr th {\n",
       "        vertical-align: top;\n",
       "    }\n",
       "\n",
       "    .dataframe thead th {\n",
       "        text-align: right;\n",
       "    }\n",
       "</style>\n",
       "<table border=\"1\" class=\"dataframe\">\n",
       "  <thead>\n",
       "    <tr style=\"text-align: right;\">\n",
       "      <th></th>\n",
       "      <th>Timestamp</th>\n",
       "      <th>temp</th>\n",
       "      <th>rhum</th>\n",
       "      <th>msl</th>\n",
       "      <th>wdsp</th>\n",
       "      <th>vis</th>\n",
       "      <th>clht</th>\n",
       "      <th>clamt</th>\n",
       "      <th>school_term</th>\n",
       "      <th>wddir_sin</th>\n",
       "      <th>...</th>\n",
       "      <th>weekday_iso_4</th>\n",
       "      <th>weekday_iso_5</th>\n",
       "      <th>weekday_iso_6</th>\n",
       "      <th>weekday_iso_7</th>\n",
       "      <th>station_BS</th>\n",
       "      <th>station_GP</th>\n",
       "      <th>station_LG</th>\n",
       "      <th>station_OP</th>\n",
       "      <th>station_SPS</th>\n",
       "      <th>station_UCC</th>\n",
       "    </tr>\n",
       "  </thead>\n",
       "  <tbody>\n",
       "    <tr>\n",
       "      <th>0</th>\n",
       "      <td>2023-02-02 20:00:00+00:00</td>\n",
       "      <td>9.1</td>\n",
       "      <td>93</td>\n",
       "      <td>1028.5</td>\n",
       "      <td>11</td>\n",
       "      <td>25000</td>\n",
       "      <td>8.0</td>\n",
       "      <td>7</td>\n",
       "      <td>1</td>\n",
       "      <td>-0.866025</td>\n",
       "      <td>...</td>\n",
       "      <td>1</td>\n",
       "      <td>0</td>\n",
       "      <td>0</td>\n",
       "      <td>0</td>\n",
       "      <td>0</td>\n",
       "      <td>0</td>\n",
       "      <td>1</td>\n",
       "      <td>0</td>\n",
       "      <td>0</td>\n",
       "      <td>0</td>\n",
       "    </tr>\n",
       "    <tr>\n",
       "      <th>1</th>\n",
       "      <td>2024-08-20 23:00:00+01:00</td>\n",
       "      <td>11.3</td>\n",
       "      <td>89</td>\n",
       "      <td>1017.9</td>\n",
       "      <td>8</td>\n",
       "      <td>30000</td>\n",
       "      <td>20.0</td>\n",
       "      <td>1</td>\n",
       "      <td>0</td>\n",
       "      <td>-0.939693</td>\n",
       "      <td>...</td>\n",
       "      <td>0</td>\n",
       "      <td>0</td>\n",
       "      <td>0</td>\n",
       "      <td>0</td>\n",
       "      <td>0</td>\n",
       "      <td>0</td>\n",
       "      <td>1</td>\n",
       "      <td>0</td>\n",
       "      <td>0</td>\n",
       "      <td>0</td>\n",
       "    </tr>\n",
       "    <tr>\n",
       "      <th>2</th>\n",
       "      <td>2023-04-09 08:00:00+01:00</td>\n",
       "      <td>9.3</td>\n",
       "      <td>95</td>\n",
       "      <td>1012.8</td>\n",
       "      <td>17</td>\n",
       "      <td>9000</td>\n",
       "      <td>7.0</td>\n",
       "      <td>8</td>\n",
       "      <td>0</td>\n",
       "      <td>0.642788</td>\n",
       "      <td>...</td>\n",
       "      <td>0</td>\n",
       "      <td>0</td>\n",
       "      <td>0</td>\n",
       "      <td>1</td>\n",
       "      <td>0</td>\n",
       "      <td>0</td>\n",
       "      <td>1</td>\n",
       "      <td>0</td>\n",
       "      <td>0</td>\n",
       "      <td>0</td>\n",
       "    </tr>\n",
       "    <tr>\n",
       "      <th>3</th>\n",
       "      <td>2023-10-04 13:00:00+01:00</td>\n",
       "      <td>15.5</td>\n",
       "      <td>76</td>\n",
       "      <td>1023.7</td>\n",
       "      <td>14</td>\n",
       "      <td>35000</td>\n",
       "      <td>20.0</td>\n",
       "      <td>7</td>\n",
       "      <td>1</td>\n",
       "      <td>-0.642788</td>\n",
       "      <td>...</td>\n",
       "      <td>0</td>\n",
       "      <td>0</td>\n",
       "      <td>0</td>\n",
       "      <td>0</td>\n",
       "      <td>0</td>\n",
       "      <td>0</td>\n",
       "      <td>1</td>\n",
       "      <td>0</td>\n",
       "      <td>0</td>\n",
       "      <td>0</td>\n",
       "    </tr>\n",
       "    <tr>\n",
       "      <th>4</th>\n",
       "      <td>2023-09-09 01:00:00+01:00</td>\n",
       "      <td>16.1</td>\n",
       "      <td>99</td>\n",
       "      <td>1017.1</td>\n",
       "      <td>3</td>\n",
       "      <td>300</td>\n",
       "      <td>1.0</td>\n",
       "      <td>7</td>\n",
       "      <td>1</td>\n",
       "      <td>-0.342020</td>\n",
       "      <td>...</td>\n",
       "      <td>0</td>\n",
       "      <td>0</td>\n",
       "      <td>1</td>\n",
       "      <td>0</td>\n",
       "      <td>0</td>\n",
       "      <td>0</td>\n",
       "      <td>1</td>\n",
       "      <td>0</td>\n",
       "      <td>0</td>\n",
       "      <td>0</td>\n",
       "    </tr>\n",
       "  </tbody>\n",
       "</table>\n",
       "<p>5 rows × 38 columns</p>\n",
       "</div>"
      ],
      "text/plain": [
       "                  Timestamp  temp  rhum     msl  wdsp    vis  clht  clamt  \\\n",
       "0 2023-02-02 20:00:00+00:00   9.1    93  1028.5    11  25000   8.0      7   \n",
       "1 2024-08-20 23:00:00+01:00  11.3    89  1017.9     8  30000  20.0      1   \n",
       "2 2023-04-09 08:00:00+01:00   9.3    95  1012.8    17   9000   7.0      8   \n",
       "3 2023-10-04 13:00:00+01:00  15.5    76  1023.7    14  35000  20.0      7   \n",
       "4 2023-09-09 01:00:00+01:00  16.1    99  1017.1     3    300   1.0      7   \n",
       "\n",
       "  school_term  wddir_sin  ...  weekday_iso_4  weekday_iso_5  weekday_iso_6  \\\n",
       "0           1  -0.866025  ...              1              0              0   \n",
       "1           0  -0.939693  ...              0              0              0   \n",
       "2           0   0.642788  ...              0              0              0   \n",
       "3           1  -0.642788  ...              0              0              0   \n",
       "4           1  -0.342020  ...              0              0              1   \n",
       "\n",
       "   weekday_iso_7  station_BS  station_GP  station_LG  station_OP  station_SPS  \\\n",
       "0              0           0           0           1           0            0   \n",
       "1              0           0           0           1           0            0   \n",
       "2              1           0           0           1           0            0   \n",
       "3              0           0           0           1           0            0   \n",
       "4              0           0           0           1           0            0   \n",
       "\n",
       "   station_UCC  \n",
       "0            0  \n",
       "1            0  \n",
       "2            0  \n",
       "3            0  \n",
       "4            0  \n",
       "\n",
       "[5 rows x 38 columns]"
      ]
     },
     "execution_count": 120,
     "metadata": {},
     "output_type": "execute_result"
    }
   ],
   "source": [
    "X_test_new= pd.get_dummies(X_test_combined, columns=['weekday_iso'])\n",
    "X_test_new= pd.get_dummies(X_test_new, columns=['station'])\n",
    "\n",
    "\n",
    "# Display the encoded dataframe\n",
    "print(X_test_new.columns)\n",
    "X_test_new.head()"
   ]
  },
  {
   "cell_type": "code",
   "execution_count": 121,
   "id": "e026e7e8",
   "metadata": {},
   "outputs": [
    {
     "data": {
      "text/plain": [
       "Index(['Timestamp', 'temp', 'rhum', 'msl', 'wdsp', 'vis', 'clht', 'clamt',\n",
       "       'school_term', 'wddir_sin', 'wddir_cos', 'day_of_year', 'rain_log1p',\n",
       "       'cp24_meanNO2', 'PC1_cars', 'PC1_hgv', 'hour', 'station_BS',\n",
       "       'station_GP', 'station_LG', 'station_OP', 'station_SPS', 'station_UCC',\n",
       "       'weekday_iso_1', 'weekday_iso_2', 'weekday_iso_3', 'weekday_iso_4',\n",
       "       'weekday_iso_5', 'weekday_iso_6', 'weekday_iso_7'],\n",
       "      dtype='object')"
      ]
     },
     "execution_count": 121,
     "metadata": {},
     "output_type": "execute_result"
    }
   ],
   "source": [
    "X_train_new.columns"
   ]
  },
  {
   "cell_type": "code",
   "execution_count": 125,
   "id": "94827861",
   "metadata": {},
   "outputs": [
    {
     "data": {
      "text/plain": [
       "Index(['Timestamp', 'temp', 'rhum', 'msl', 'wdsp', 'vis', 'clht', 'clamt',\n",
       "       'school_term', 'wddir_sin', 'wddir_cos', 'day_of_year', 'rain_log1p',\n",
       "       'cp24_meanNO2', 'PC1_cars', 'PC1_hgv', 'hour', 'weekday_iso_1',\n",
       "       'weekday_iso_2', 'weekday_iso_3', 'weekday_iso_4', 'weekday_iso_5',\n",
       "       'weekday_iso_6', 'weekday_iso_7', 'station_BS', 'station_GP',\n",
       "       'station_LG', 'station_OP', 'station_SPS', 'station_UCC'],\n",
       "      dtype='object')"
      ]
     },
     "execution_count": 125,
     "metadata": {},
     "output_type": "execute_result"
    }
   ],
   "source": [
    "X_test_new.drop(columns=['car_r1', 'hgv_r1', 'car_r2', 'hgv_r2', 'car_r3', 'hgv_r3', 'car_r4', 'hgv_r4'], axis=1, inplace=True)\n",
    "X_test_new.columns"
   ]
  },
  {
   "cell_type": "code",
   "execution_count": 126,
   "id": "b24c941d",
   "metadata": {},
   "outputs": [
    {
     "ename": "KeyError",
     "evalue": "\"['station_encoded'] not found in axis\"",
     "output_type": "error",
     "traceback": [
      "\u001b[1;31m---------------------------------------------------------------------------\u001b[0m",
      "\u001b[1;31mKeyError\u001b[0m                                  Traceback (most recent call last)",
      "Cell \u001b[1;32mIn[126], line 1\u001b[0m\n\u001b[1;32m----> 1\u001b[0m \u001b[43mX_train_new\u001b[49m\u001b[38;5;241;43m.\u001b[39;49m\u001b[43mdrop\u001b[49m\u001b[43m(\u001b[49m\u001b[43mcolumns\u001b[49m\u001b[38;5;241;43m=\u001b[39;49m\u001b[43m[\u001b[49m\u001b[38;5;124;43m'\u001b[39;49m\u001b[38;5;124;43mstation_encoded\u001b[39;49m\u001b[38;5;124;43m'\u001b[39;49m\u001b[43m]\u001b[49m\u001b[43m,\u001b[49m\u001b[43m \u001b[49m\u001b[43maxis\u001b[49m\u001b[38;5;241;43m=\u001b[39;49m\u001b[38;5;241;43m1\u001b[39;49m\u001b[43m,\u001b[49m\u001b[43m \u001b[49m\u001b[43minplace\u001b[49m\u001b[38;5;241;43m=\u001b[39;49m\u001b[38;5;28;43;01mTrue\u001b[39;49;00m\u001b[43m)\u001b[49m\n\u001b[0;32m      2\u001b[0m X_train_new\u001b[38;5;241m.\u001b[39mcolumns\n",
      "File \u001b[1;32mc:\\Python\\Python311\\Lib\\site-packages\\pandas\\util\\_decorators.py:331\u001b[0m, in \u001b[0;36mdeprecate_nonkeyword_arguments.<locals>.decorate.<locals>.wrapper\u001b[1;34m(*args, **kwargs)\u001b[0m\n\u001b[0;32m    325\u001b[0m \u001b[38;5;28;01mif\u001b[39;00m \u001b[38;5;28mlen\u001b[39m(args) \u001b[38;5;241m>\u001b[39m num_allow_args:\n\u001b[0;32m    326\u001b[0m     warnings\u001b[38;5;241m.\u001b[39mwarn(\n\u001b[0;32m    327\u001b[0m         msg\u001b[38;5;241m.\u001b[39mformat(arguments\u001b[38;5;241m=\u001b[39m_format_argument_list(allow_args)),\n\u001b[0;32m    328\u001b[0m         \u001b[38;5;167;01mFutureWarning\u001b[39;00m,\n\u001b[0;32m    329\u001b[0m         stacklevel\u001b[38;5;241m=\u001b[39mfind_stack_level(),\n\u001b[0;32m    330\u001b[0m     )\n\u001b[1;32m--> 331\u001b[0m \u001b[38;5;28;01mreturn\u001b[39;00m \u001b[43mfunc\u001b[49m\u001b[43m(\u001b[49m\u001b[38;5;241;43m*\u001b[39;49m\u001b[43margs\u001b[49m\u001b[43m,\u001b[49m\u001b[43m \u001b[49m\u001b[38;5;241;43m*\u001b[39;49m\u001b[38;5;241;43m*\u001b[39;49m\u001b[43mkwargs\u001b[49m\u001b[43m)\u001b[49m\n",
      "File \u001b[1;32mc:\\Python\\Python311\\Lib\\site-packages\\pandas\\core\\frame.py:5399\u001b[0m, in \u001b[0;36mDataFrame.drop\u001b[1;34m(self, labels, axis, index, columns, level, inplace, errors)\u001b[0m\n\u001b[0;32m   5251\u001b[0m \u001b[38;5;129m@deprecate_nonkeyword_arguments\u001b[39m(version\u001b[38;5;241m=\u001b[39m\u001b[38;5;28;01mNone\u001b[39;00m, allowed_args\u001b[38;5;241m=\u001b[39m[\u001b[38;5;124m\"\u001b[39m\u001b[38;5;124mself\u001b[39m\u001b[38;5;124m\"\u001b[39m, \u001b[38;5;124m\"\u001b[39m\u001b[38;5;124mlabels\u001b[39m\u001b[38;5;124m\"\u001b[39m])\n\u001b[0;32m   5252\u001b[0m \u001b[38;5;28;01mdef\u001b[39;00m \u001b[38;5;21mdrop\u001b[39m(  \u001b[38;5;66;03m# type: ignore[override]\u001b[39;00m\n\u001b[0;32m   5253\u001b[0m     \u001b[38;5;28mself\u001b[39m,\n\u001b[1;32m   (...)\u001b[0m\n\u001b[0;32m   5260\u001b[0m     errors: IgnoreRaise \u001b[38;5;241m=\u001b[39m \u001b[38;5;124m\"\u001b[39m\u001b[38;5;124mraise\u001b[39m\u001b[38;5;124m\"\u001b[39m,\n\u001b[0;32m   5261\u001b[0m ) \u001b[38;5;241m-\u001b[39m\u001b[38;5;241m>\u001b[39m DataFrame \u001b[38;5;241m|\u001b[39m \u001b[38;5;28;01mNone\u001b[39;00m:\n\u001b[0;32m   5262\u001b[0m \u001b[38;5;250m    \u001b[39m\u001b[38;5;124;03m\"\"\"\u001b[39;00m\n\u001b[0;32m   5263\u001b[0m \u001b[38;5;124;03m    Drop specified labels from rows or columns.\u001b[39;00m\n\u001b[0;32m   5264\u001b[0m \n\u001b[1;32m   (...)\u001b[0m\n\u001b[0;32m   5397\u001b[0m \u001b[38;5;124;03m            weight  1.0     0.8\u001b[39;00m\n\u001b[0;32m   5398\u001b[0m \u001b[38;5;124;03m    \"\"\"\u001b[39;00m\n\u001b[1;32m-> 5399\u001b[0m     \u001b[38;5;28;01mreturn\u001b[39;00m \u001b[38;5;28;43msuper\u001b[39;49m\u001b[43m(\u001b[49m\u001b[43m)\u001b[49m\u001b[38;5;241;43m.\u001b[39;49m\u001b[43mdrop\u001b[49m\u001b[43m(\u001b[49m\n\u001b[0;32m   5400\u001b[0m \u001b[43m        \u001b[49m\u001b[43mlabels\u001b[49m\u001b[38;5;241;43m=\u001b[39;49m\u001b[43mlabels\u001b[49m\u001b[43m,\u001b[49m\n\u001b[0;32m   5401\u001b[0m \u001b[43m        \u001b[49m\u001b[43maxis\u001b[49m\u001b[38;5;241;43m=\u001b[39;49m\u001b[43maxis\u001b[49m\u001b[43m,\u001b[49m\n\u001b[0;32m   5402\u001b[0m \u001b[43m        \u001b[49m\u001b[43mindex\u001b[49m\u001b[38;5;241;43m=\u001b[39;49m\u001b[43mindex\u001b[49m\u001b[43m,\u001b[49m\n\u001b[0;32m   5403\u001b[0m \u001b[43m        \u001b[49m\u001b[43mcolumns\u001b[49m\u001b[38;5;241;43m=\u001b[39;49m\u001b[43mcolumns\u001b[49m\u001b[43m,\u001b[49m\n\u001b[0;32m   5404\u001b[0m \u001b[43m        \u001b[49m\u001b[43mlevel\u001b[49m\u001b[38;5;241;43m=\u001b[39;49m\u001b[43mlevel\u001b[49m\u001b[43m,\u001b[49m\n\u001b[0;32m   5405\u001b[0m \u001b[43m        \u001b[49m\u001b[43minplace\u001b[49m\u001b[38;5;241;43m=\u001b[39;49m\u001b[43minplace\u001b[49m\u001b[43m,\u001b[49m\n\u001b[0;32m   5406\u001b[0m \u001b[43m        \u001b[49m\u001b[43merrors\u001b[49m\u001b[38;5;241;43m=\u001b[39;49m\u001b[43merrors\u001b[49m\u001b[43m,\u001b[49m\n\u001b[0;32m   5407\u001b[0m \u001b[43m    \u001b[49m\u001b[43m)\u001b[49m\n",
      "File \u001b[1;32mc:\\Python\\Python311\\Lib\\site-packages\\pandas\\util\\_decorators.py:331\u001b[0m, in \u001b[0;36mdeprecate_nonkeyword_arguments.<locals>.decorate.<locals>.wrapper\u001b[1;34m(*args, **kwargs)\u001b[0m\n\u001b[0;32m    325\u001b[0m \u001b[38;5;28;01mif\u001b[39;00m \u001b[38;5;28mlen\u001b[39m(args) \u001b[38;5;241m>\u001b[39m num_allow_args:\n\u001b[0;32m    326\u001b[0m     warnings\u001b[38;5;241m.\u001b[39mwarn(\n\u001b[0;32m    327\u001b[0m         msg\u001b[38;5;241m.\u001b[39mformat(arguments\u001b[38;5;241m=\u001b[39m_format_argument_list(allow_args)),\n\u001b[0;32m    328\u001b[0m         \u001b[38;5;167;01mFutureWarning\u001b[39;00m,\n\u001b[0;32m    329\u001b[0m         stacklevel\u001b[38;5;241m=\u001b[39mfind_stack_level(),\n\u001b[0;32m    330\u001b[0m     )\n\u001b[1;32m--> 331\u001b[0m \u001b[38;5;28;01mreturn\u001b[39;00m \u001b[43mfunc\u001b[49m\u001b[43m(\u001b[49m\u001b[38;5;241;43m*\u001b[39;49m\u001b[43margs\u001b[49m\u001b[43m,\u001b[49m\u001b[43m \u001b[49m\u001b[38;5;241;43m*\u001b[39;49m\u001b[38;5;241;43m*\u001b[39;49m\u001b[43mkwargs\u001b[49m\u001b[43m)\u001b[49m\n",
      "File \u001b[1;32mc:\\Python\\Python311\\Lib\\site-packages\\pandas\\core\\generic.py:4505\u001b[0m, in \u001b[0;36mNDFrame.drop\u001b[1;34m(self, labels, axis, index, columns, level, inplace, errors)\u001b[0m\n\u001b[0;32m   4503\u001b[0m \u001b[38;5;28;01mfor\u001b[39;00m axis, labels \u001b[38;5;129;01min\u001b[39;00m axes\u001b[38;5;241m.\u001b[39mitems():\n\u001b[0;32m   4504\u001b[0m     \u001b[38;5;28;01mif\u001b[39;00m labels \u001b[38;5;129;01mis\u001b[39;00m \u001b[38;5;129;01mnot\u001b[39;00m \u001b[38;5;28;01mNone\u001b[39;00m:\n\u001b[1;32m-> 4505\u001b[0m         obj \u001b[38;5;241m=\u001b[39m \u001b[43mobj\u001b[49m\u001b[38;5;241;43m.\u001b[39;49m\u001b[43m_drop_axis\u001b[49m\u001b[43m(\u001b[49m\u001b[43mlabels\u001b[49m\u001b[43m,\u001b[49m\u001b[43m \u001b[49m\u001b[43maxis\u001b[49m\u001b[43m,\u001b[49m\u001b[43m \u001b[49m\u001b[43mlevel\u001b[49m\u001b[38;5;241;43m=\u001b[39;49m\u001b[43mlevel\u001b[49m\u001b[43m,\u001b[49m\u001b[43m \u001b[49m\u001b[43merrors\u001b[49m\u001b[38;5;241;43m=\u001b[39;49m\u001b[43merrors\u001b[49m\u001b[43m)\u001b[49m\n\u001b[0;32m   4507\u001b[0m \u001b[38;5;28;01mif\u001b[39;00m inplace:\n\u001b[0;32m   4508\u001b[0m     \u001b[38;5;28mself\u001b[39m\u001b[38;5;241m.\u001b[39m_update_inplace(obj)\n",
      "File \u001b[1;32mc:\\Python\\Python311\\Lib\\site-packages\\pandas\\core\\generic.py:4546\u001b[0m, in \u001b[0;36mNDFrame._drop_axis\u001b[1;34m(self, labels, axis, level, errors, only_slice)\u001b[0m\n\u001b[0;32m   4544\u001b[0m         new_axis \u001b[38;5;241m=\u001b[39m axis\u001b[38;5;241m.\u001b[39mdrop(labels, level\u001b[38;5;241m=\u001b[39mlevel, errors\u001b[38;5;241m=\u001b[39merrors)\n\u001b[0;32m   4545\u001b[0m     \u001b[38;5;28;01melse\u001b[39;00m:\n\u001b[1;32m-> 4546\u001b[0m         new_axis \u001b[38;5;241m=\u001b[39m \u001b[43maxis\u001b[49m\u001b[38;5;241;43m.\u001b[39;49m\u001b[43mdrop\u001b[49m\u001b[43m(\u001b[49m\u001b[43mlabels\u001b[49m\u001b[43m,\u001b[49m\u001b[43m \u001b[49m\u001b[43merrors\u001b[49m\u001b[38;5;241;43m=\u001b[39;49m\u001b[43merrors\u001b[49m\u001b[43m)\u001b[49m\n\u001b[0;32m   4547\u001b[0m     indexer \u001b[38;5;241m=\u001b[39m axis\u001b[38;5;241m.\u001b[39mget_indexer(new_axis)\n\u001b[0;32m   4549\u001b[0m \u001b[38;5;66;03m# Case for non-unique axis\u001b[39;00m\n\u001b[0;32m   4550\u001b[0m \u001b[38;5;28;01melse\u001b[39;00m:\n",
      "File \u001b[1;32mc:\\Python\\Python311\\Lib\\site-packages\\pandas\\core\\indexes\\base.py:6934\u001b[0m, in \u001b[0;36mIndex.drop\u001b[1;34m(self, labels, errors)\u001b[0m\n\u001b[0;32m   6932\u001b[0m \u001b[38;5;28;01mif\u001b[39;00m mask\u001b[38;5;241m.\u001b[39many():\n\u001b[0;32m   6933\u001b[0m     \u001b[38;5;28;01mif\u001b[39;00m errors \u001b[38;5;241m!=\u001b[39m \u001b[38;5;124m\"\u001b[39m\u001b[38;5;124mignore\u001b[39m\u001b[38;5;124m\"\u001b[39m:\n\u001b[1;32m-> 6934\u001b[0m         \u001b[38;5;28;01mraise\u001b[39;00m \u001b[38;5;167;01mKeyError\u001b[39;00m(\u001b[38;5;124mf\u001b[39m\u001b[38;5;124m\"\u001b[39m\u001b[38;5;132;01m{\u001b[39;00m\u001b[38;5;28mlist\u001b[39m(labels[mask])\u001b[38;5;132;01m}\u001b[39;00m\u001b[38;5;124m not found in axis\u001b[39m\u001b[38;5;124m\"\u001b[39m)\n\u001b[0;32m   6935\u001b[0m     indexer \u001b[38;5;241m=\u001b[39m indexer[\u001b[38;5;241m~\u001b[39mmask]\n\u001b[0;32m   6936\u001b[0m \u001b[38;5;28;01mreturn\u001b[39;00m \u001b[38;5;28mself\u001b[39m\u001b[38;5;241m.\u001b[39mdelete(indexer)\n",
      "\u001b[1;31mKeyError\u001b[0m: \"['station_encoded'] not found in axis\""
     ]
    }
   ],
   "source": [
    "X_train_new.drop(columns=['station_encoded'], axis=1, inplace=True)\n",
    "X_train_new.columns"
   ]
  },
  {
   "cell_type": "code",
   "execution_count": 127,
   "id": "a412436e",
   "metadata": {},
   "outputs": [],
   "source": [
    "X_test_new=X_test_new[['Timestamp', 'temp', 'rhum', 'msl', 'wdsp', 'vis', 'clht', 'clamt',\n",
    "       'school_term', 'wddir_sin', 'wddir_cos', 'day_of_year', 'rain_log1p',\n",
    "       'cp24_meanNO2', 'PC1_cars', 'PC1_hgv', 'hour', 'station_BS',\n",
    "       'station_GP', 'station_LG', 'station_OP', 'station_SPS', 'station_UCC',\n",
    "       'weekday_iso_1', 'weekday_iso_2', 'weekday_iso_3', 'weekday_iso_4',\n",
    "       'weekday_iso_5', 'weekday_iso_6', 'weekday_iso_7']]"
   ]
  },
  {
   "cell_type": "code",
   "execution_count": 128,
   "id": "0a10d607",
   "metadata": {},
   "outputs": [
    {
     "data": {
      "text/plain": [
       "Index(['Timestamp', 'temp', 'rhum', 'msl', 'wdsp', 'vis', 'clht', 'clamt',\n",
       "       'school_term', 'wddir_sin', 'wddir_cos', 'day_of_year', 'rain_log1p',\n",
       "       'cp24_meanNO2', 'PC1_cars', 'PC1_hgv', 'hour', 'station_BS',\n",
       "       'station_GP', 'station_LG', 'station_OP', 'station_SPS', 'station_UCC',\n",
       "       'weekday_iso_1', 'weekday_iso_2', 'weekday_iso_3', 'weekday_iso_4',\n",
       "       'weekday_iso_5', 'weekday_iso_6', 'weekday_iso_7'],\n",
       "      dtype='object')"
      ]
     },
     "execution_count": 128,
     "metadata": {},
     "output_type": "execute_result"
    }
   ],
   "source": [
    "X_test_new.columns"
   ]
  },
  {
   "cell_type": "code",
   "execution_count": 129,
   "id": "fde14fba",
   "metadata": {},
   "outputs": [],
   "source": [
    "# Select relevant features for prediction\n",
    "X_forecast_May_API = X_test_new.drop(columns=['Timestamp'])\n",
    "\n",
    "# Predict NO2 values using the trained model\n",
    "y_forecast_May_API = rf_model_IF.predict(X_forecast_May_API)\n",
    "\n"
   ]
  },
  {
   "cell_type": "code",
   "execution_count": 130,
   "id": "ee3f3856",
   "metadata": {},
   "outputs": [
    {
     "data": {
      "text/plain": [
       "(array([34.6757    , 13.62182945, 17.13116917, ...,  6.75669408,\n",
       "        14.67783061, 10.88384766]),\n",
       " array([37.75      ,  7.84      , 19.01      , ...,  5.31533333,\n",
       "        17.15566667, 11.64266667]))"
      ]
     },
     "execution_count": 130,
     "metadata": {},
     "output_type": "execute_result"
    }
   ],
   "source": [
    "y_forecast_May_API, y_test_combined.values"
   ]
  },
  {
   "cell_type": "code",
   "execution_count": 131,
   "id": "2aa4cfed",
   "metadata": {},
   "outputs": [
    {
     "name": "stdout",
     "output_type": "stream",
     "text": [
      "MAE: 2.8021452192091423\n",
      "RMSE: 4.7041602912716245\n",
      "R²: 0.8468907471988782\n"
     ]
    }
   ],
   "source": [
    "\n",
    "from sklearn.metrics import mean_absolute_error, mean_squared_error\n",
    "\n",
    "mae = mean_absolute_error(y_test_combined, y_forecast_May_API)\n",
    "rmse = mean_squared_error(y_test_combined, y_forecast_May_API, squared=False)  \n",
    "\n",
    "r2 = r2_score(y_test_combined, y_forecast_May_API)\n",
    "\n",
    "print(\"MAE:\", mae)\n",
    "print(\"RMSE:\", rmse)\n",
    "print(\"R²:\", r2)"
   ]
  },
  {
   "cell_type": "code",
   "execution_count": 81,
   "id": "7f942614",
   "metadata": {},
   "outputs": [],
   "source": [
    "import pandas as pd\n",
    "from sklearn.preprocessing import StandardScaler\n",
    "from sklearn.decomposition import PCA\n",
    "\n",
    "# Suppose df is your dataframe\n",
    "car_cols = [\"car_r1\", \"car_r2\",\"car_r3\",\"car_r4\"]  # add car_r3, car_r4 later\n",
    "hgv_cols = [\"hgv_r1\", \"hgv_r2\",\"hgv_r3\", \"hgv_r4\"]  # add hgv_r3, hgv_r4 later\n",
    "\n",
    "scaler_car = StandardScaler().fit(df6[car_cols])\n",
    "train_car_scaled = scaler_car.transform(df6[car_cols])\n",
    "test_car_scaled  = scaler_car.transform(df6[car_cols])\n",
    "\n",
    "pca_car = PCA(n_components=1).fit(train_car_scaled)\n",
    "df6[\"PC1_cars\"] = pca_car.transform(train_car_scaled)\n",
    "df6[\"PC1_cars\"]  = pca_car.transform(test_car_scaled)\n",
    "\n",
    "# ✅ ---- PCA for HGV ----\n",
    "scaler_hgv = StandardScaler().fit(df6[hgv_cols])\n",
    "train_hgv_scaled = scaler_hgv.transform(df6[hgv_cols])\n",
    "test_hgv_scaled  = scaler_hgv.transform(df6[hgv_cols])\n",
    "\n",
    "pca_hgv = PCA(n_components=1).fit(train_hgv_scaled)\n",
    "df6[\"PC1_hgv\"] = pca_hgv.transform(train_hgv_scaled)\n",
    "df6[\"PC1_hgv\"]  = pca_hgv.transform(test_hgv_scaled)"
   ]
  },
  {
   "cell_type": "code",
   "execution_count": 82,
   "id": "bdae69e7",
   "metadata": {},
   "outputs": [
    {
     "data": {
      "text/plain": [
       "Index(['Timestamp', 'rain', 'temp', 'rhum', 'msl', 'wdsp', 'vis', 'clht',\n",
       "       'clamt', 'NO2', 'school_term', 'weekday_iso', 'wddir_sin', 'wddir_cos',\n",
       "       'day_of_year', 'rain_log1p', 'car_r1', 'hgv_r1', 'car_r2', 'hgv_r2',\n",
       "       'car_r3', 'hgv_r3', 'car_r4', 'hgv_r4', 'cp24_meanNO2', 'PC1_cars',\n",
       "       'PC1_hgv'],\n",
       "      dtype='object')"
      ]
     },
     "execution_count": 82,
     "metadata": {},
     "output_type": "execute_result"
    }
   ],
   "source": [
    "df6.columns"
   ]
  },
  {
   "cell_type": "code",
   "execution_count": 83,
   "id": "0714eb41",
   "metadata": {},
   "outputs": [
    {
     "name": "stdout",
     "output_type": "stream",
     "text": [
      "        Feature  Importance\n",
      "8     wddir_sin    0.207899\n",
      "12     PC1_cars    0.166322\n",
      "3          wdsp    0.128847\n",
      "0          temp    0.098311\n",
      "13      PC1_hgv    0.076168\n",
      "10  day_of_year    0.061642\n",
      "2           msl    0.056925\n",
      "1          rhum    0.050421\n",
      "9     wddir_cos    0.043970\n",
      "5          clht    0.033312\n",
      "4           vis    0.027982\n",
      "6         clamt    0.025147\n",
      "11   rain_log1p    0.018565\n",
      "7   school_term    0.004489\n"
     ]
    },
    {
     "data": {
      "image/png": "[encoded data removed]",
      "text/plain": [
       "<Figure size 1200x1000 with 1 Axes>"
      ]
     },
     "metadata": {},
     "output_type": "display_data"
    }
   ],
   "source": [
    "import pandas as pd\n",
    "from sklearn.ensemble import RandomForestRegressor\n",
    "import matplotlib.pyplot as plt\n",
    "\n",
    "features =df6.drop(columns=['weekday_iso','Timestamp','car_r1', 'hgv_r1', 'car_r2', 'hgv_r2',\n",
    "       'car_r3', 'hgv_r3', 'car_r4', 'hgv_r4', 'cp24_meanNO2','NO2','rain'])\n",
    "target = df6['NO2']\n",
    "\n",
    "# Train Random Forest Regressor\n",
    "rf_model = RandomForestRegressor()\n",
    "rf_model.fit(features, target)\n",
    "\n",
    "# Extract feature importance\n",
    "feature_importance = rf_model.feature_importances_\n",
    "\n",
    "# Create a DataFrame to store feature importance scores\n",
    "feature_importance_df = pd.DataFrame({'Feature': features.columns, 'Importance': feature_importance})\n",
    "\n",
    "# Sort features by importance score in descending order\n",
    "feature_importance_df = feature_importance_df.sort_values(by='Importance', ascending=False)\n",
    "print(feature_importance_df)\n",
    "street_name='GRAND PARADE RD'\n",
    "# Plot feature importance\n",
    "plt.figure(figsize=(12, 10))\n",
    "plt.barh(feature_importance_df['Feature'], feature_importance_df['Importance'])\n",
    "plt.xlabel('Feature Importance')\n",
    "plt.ylabel('Feature')\n",
    "plt.title(f'Feature Importance for NO2 Forecasting: {street_name}')\n",
    "plt.show()"
   ]
  },
  {
   "cell_type": "code",
   "execution_count": null,
   "id": "25d71b05",
   "metadata": {},
   "outputs": [],
   "source": []
  }
 ],
 "metadata": {
  "kernelspec": {
   "display_name": "Python 3",
   "language": "python",
   "name": "python3"
  },
  "language_info": {
   "codemirror_mode": {
    "name": "ipython",
    "version": 3
   },
   "file_extension": ".py",
   "mimetype": "text/x-python",
   "name": "python",
   "nbconvert_exporter": "python",
   "pygments_lexer": "ipython3",
   "version": "3.11.1"
  }
 },
 "nbformat": 4,
 "nbformat_minor": 5
}
